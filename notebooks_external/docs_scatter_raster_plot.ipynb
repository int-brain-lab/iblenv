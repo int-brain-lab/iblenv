{
 "cells": [
  {
   "cell_type": "markdown",
   "metadata": {},
   "source": [
    "\n",
    "# Plot raster across session\n",
    "Example of how to plot scatter plot of spike depths vs spike times with colour and size of scatter\n",
    "points scaled by spike amplitude\n"
   ]
  },
  {
   "cell_type": "code",
   "execution_count": null,
   "metadata": {
    "execution": {
     "iopub.execute_input": "2022-02-20T10:12:04.928966Z",
     "iopub.status.busy": "2022-02-20T10:12:04.927960Z",
     "iopub.status.idle": "2022-02-20T10:14:18.349732Z",
     "shell.execute_reply": "2022-02-20T10:14:18.348733Z"
    }
   },
   "outputs": [],
   "source": [
    "import numpy as np\n",
    "from one.api import ONE\n",
    "\n",
    "from brainbox.ephys_plots import scatter_raster_plot\n",
    "from brainbox.plot_base import plot_scatter\n",
    "\n",
    "one = ONE(base_url='https://openalyx.internationalbrainlab.org', silent=True)\n",
    "\n",
    "eid = '4ecb5d24-f5cc-402c-be28-9d0f7cb14b3a'\n",
    "probe = 'probe00'\n",
    "\n",
    "spikes = one.load_object(eid, obj='spikes', collection=f'alf/{probe}')\n",
    "metrics = one.load_dataset(eid, dataset='clusters.metrics.pqt', collection=f'alf/{probe}')\n",
    "\n",
    "# Find the clusters that have been labelled as good and their corresponding spike indices\n",
    "good_clusters = np.where(metrics.label == 1)\n",
    "spike_idx = np.where(np.isin(spikes['clusters'], good_clusters))[0]\n",
    "\n",
    "# Also filter for nans in amplitude and depth\n",
    "kp_idx = spike_idx[np.where(~np.isnan(spikes['depths'][spike_idx])\n",
    "                            & ~np.isnan(spikes['amps'][spike_idx]))[0]]\n",
    "\n",
    "# Get ScatterPlot object\n",
    "data = scatter_raster_plot(spikes['amps'][kp_idx], spikes['depths'][kp_idx],\n",
    "                           spikes['times'][kp_idx])\n",
    "\n",
    "# Add v lines 10s after start and 10s before end or recording\n",
    "x1 = np.min(spikes['times'][kp_idx] + 100)\n",
    "x2 = np.max(spikes['times'][kp_idx] - 100)\n",
    "data.add_lines(pos=x1, orientation='v', style='dashed', width=3, color='k')\n",
    "data.add_lines(pos=x2, orientation='v', style='dashed', width=3, color='k')\n",
    "\n",
    "\n",
    "plot_dict = data.convert2dict()\n",
    "\n",
    "fig, ax = plot_scatter(plot_dict)"
   ]
  }
 ],
 "metadata": {
  "docs_executed": "executed",
  "kernelspec": {
   "display_name": "Python 3",
   "language": "python",
   "name": "python3"
  },
  "language_info": {
   "codemirror_mode": {
    "name": "ipython",
    "version": 3
   },
   "file_extension": ".py",
   "mimetype": "text/x-python",
   "name": "python",
   "nbconvert_exporter": "python",
   "pygments_lexer": "ipython3",
   "version": "3.9.7"
  }
 },
 "nbformat": 4,
 "nbformat_minor": 0
}
