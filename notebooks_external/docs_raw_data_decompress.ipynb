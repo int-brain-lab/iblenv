{
 "cells": [
  {
   "cell_type": "markdown",
   "metadata": {},
   "source": [
    "\n",
    "# Download and decompress raw ephys data\n",
    "\n",
    "This code demonstrates how to decompress raw ephys (binary) data - This is necessary for some\n",
    "client codes (such as Matlab spike sorting KS2 algorithm) to run\n",
    "\n",
    "(example taken for nidq.cbin file, but also applicable for lf.cbin and ap.cbin files)\n"
   ]
  },
  {
   "cell_type": "code",
   "execution_count": null,
   "metadata": {
    "execution": {
     "iopub.execute_input": "2022-02-02T16:00:20.637693Z",
     "iopub.status.busy": "2022-02-02T16:00:20.637693Z",
     "iopub.status.idle": "2022-02-02T16:00:27.138247Z",
     "shell.execute_reply": "2022-02-02T16:00:27.138247Z"
    }
   },
   "outputs": [],
   "source": [
    "# Author: Olivier, Gaelle, Mayo\n",
    "from pprint import pprint\n",
    "\n",
    "from ibllib.io import spikeglx\n",
    "from one.api import ONE\n",
    "\n",
    "one = ONE(base_url='https://openalyx.internationalbrainlab.org', silent=True)\n",
    "# Download a dataset of interest\n",
    "eid = one.search(subject='KS023', date_range='2019-12-10')[0]\n",
    "\n",
    "# Optionally list the raw ephys data for this session\n",
    "pprint([x for x in one.list_datasets(eid) if 'ephysData' in x])\n",
    "\n",
    "files = one.load_object(eid, 'ephysData_g0_t0',\n",
    "                        attribute='nidq', collection='raw_ephys_data', download_only=True)\n",
    "\n",
    "# Get file path of interest\n",
    "efile = next(x for x in files if str(x).endswith('.cbin'))\n",
    "\n",
    "# Read the files and get the data\n",
    "# Enough to do analysis\n",
    "sr = spikeglx.Reader(efile)\n",
    "\n",
    "# Decompress the data\n",
    "# Used by client code, e.g. Matlab for spike sorting\n",
    "# Give new path output name\n",
    "sr.decompress_file(keep_original=True, overwrite=True)  # Keep the original file and overwrite any\n",
    "# previously decompressed file\n",
    "\n",
    "# For ap/lf data from a given probe\n",
    "# probe_label = 'probe00'\n",
    "# files = one.load_object(eid, 'ephysData_g0_t0', download_only=True,\n",
    "#                         attribute='nidq', collection=f'raw_ephys_data/{probe_label}')"
   ]
  }
 ],
 "metadata": {
  "docs_executed": "executed",
  "kernelspec": {
   "display_name": "Python 3",
   "language": "python",
   "name": "python3"
  },
  "language_info": {
   "codemirror_mode": {
    "name": "ipython",
    "version": 3
   },
   "file_extension": ".py",
   "mimetype": "text/x-python",
   "name": "python",
   "nbconvert_exporter": "python",
   "pygments_lexer": "ipython3",
   "version": "3.9.7"
  }
 },
 "nbformat": 4,
 "nbformat_minor": 0
}
