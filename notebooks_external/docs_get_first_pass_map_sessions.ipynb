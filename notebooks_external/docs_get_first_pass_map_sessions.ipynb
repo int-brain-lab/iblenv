{
 "cells": [
  {
   "cell_type": "markdown",
   "metadata": {},
   "source": [
    "\n",
    "# Get first pass map sessions\n",
    "Use ONE to get information about sessions included in first pass map\n"
   ]
  },
  {
   "cell_type": "code",
   "execution_count": null,
   "metadata": {
    "execution": {
     "iopub.execute_input": "2022-01-20T10:00:50.142123Z",
     "iopub.status.busy": "2022-01-20T10:00:50.141124Z",
     "iopub.status.idle": "2022-01-20T10:00:52.002122Z",
     "shell.execute_reply": "2022-01-20T10:00:52.004124Z"
    }
   },
   "outputs": [],
   "source": [
    "from one.api import ONE\n",
    "one = ONE(base_url='https://openalyx.internationalbrainlab.org', silent=True)\n",
    "\n",
    "first_pass_map_sessions = one.search(project='ibl_neuropixel_brainwide_01')"
   ]
  }
 ],
 "metadata": {
  "docs_executed": "executed",
  "kernelspec": {
   "display_name": "Python 3",
   "language": "python",
   "name": "python3"
  },
  "language_info": {
   "codemirror_mode": {
    "name": "ipython",
    "version": 3
   },
   "file_extension": ".py",
   "mimetype": "text/x-python",
   "name": "python",
   "nbconvert_exporter": "python",
   "pygments_lexer": "ipython3",
   "version": "3.9.7"
  }
 },
 "nbformat": 4,
 "nbformat_minor": 0
}
