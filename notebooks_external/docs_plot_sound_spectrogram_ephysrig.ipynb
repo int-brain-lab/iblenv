{
 "cells": [
  {
   "cell_type": "markdown",
   "metadata": {},
   "source": [
    "\n",
    "# Plot audio spectrogtam\n",
    "For a given session eid (ephys session), plot spectrogram of sound recorded via the microphone.\n",
    "Example of using soundfile to read in .flac file extensions\n"
   ]
  },
  {
   "cell_type": "code",
   "execution_count": null,
   "metadata": {
    "execution": {
     "iopub.execute_input": "2022-01-20T10:01:02.637486Z",
     "iopub.status.busy": "2022-01-20T10:01:02.636440Z",
     "iopub.status.idle": "2022-01-20T10:05:11.163527Z",
     "shell.execute_reply": "2022-01-20T10:05:11.164555Z"
    }
   },
   "outputs": [],
   "source": [
    "# Author: Gaelle Chapuis\n",
    "\n",
    "from ibllib.io.extractors.training_audio import welchogram\n",
    "import soundfile as sf\n",
    "import numpy as np\n",
    "import matplotlib.pyplot as plt\n",
    "from one.api import ONE\n",
    "\n",
    "eid = '4ecb5d24-f5cc-402c-be28-9d0f7cb14b3a'  # TEST EXAMPLE\n",
    "one = ONE(base_url='https://openalyx.internationalbrainlab.org', silent=True)\n",
    "# -- Get raw data\n",
    "filename = one.load_dataset(eid, '_iblrig_micData.raw.flac', download_only=True)\n",
    "with open(filename, 'rb') as f:\n",
    "    wav, fs = sf.read(f)\n",
    "\n",
    "# -- Compute spectrogram over first 2 minutes\n",
    "t_idx = 120 * fs\n",
    "tscale, fscale, W, detect = welchogram(fs, wav[:t_idx])\n",
    "\n",
    "# -- Put data into single variable\n",
    "TF = {}\n",
    "\n",
    "TF['power'] = W.astype(np.single)\n",
    "TF['frequencies'] = fscale[None, :].astype(np.single)\n",
    "TF['onset_times'] = detect\n",
    "TF['times_mic'] = tscale[:, None].astype(np.single)\n",
    "\n",
    "# # -- Plot spectrogram\n",
    "tlims = TF['times_mic'][[0, -1]].flatten()\n",
    "flims = TF['frequencies'][0, [0, -1]].flatten()\n",
    "fig = plt.figure(figsize=[16, 7])\n",
    "ax = plt.axes()\n",
    "im = ax.imshow(20 * np.log10(TF['power'].T), aspect='auto', cmap=plt.get_cmap('magma'),\n",
    "               extent=np.concatenate((tlims, flims)),\n",
    "               origin='lower')\n",
    "ax.set_xlabel(r'Time (s)')\n",
    "ax.set_ylabel(r'Frequency (Hz)')\n",
    "plt.colorbar(im)\n",
    "plt.show()"
   ]
  }
 ],
 "metadata": {
  "docs_executed": "executed",
  "kernelspec": {
   "display_name": "Python 3",
   "language": "python",
   "name": "python3"
  },
  "language_info": {
   "codemirror_mode": {
    "name": "ipython",
    "version": 3
   },
   "file_extension": ".py",
   "mimetype": "text/x-python",
   "name": "python",
   "nbconvert_exporter": "python",
   "pygments_lexer": "ipython3",
   "version": "3.9.7"
  }
 },
 "nbformat": 4,
 "nbformat_minor": 0
}
