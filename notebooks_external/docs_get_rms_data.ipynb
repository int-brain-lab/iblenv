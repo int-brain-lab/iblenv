{
 "cells": [
  {
   "cell_type": "markdown",
   "metadata": {},
   "source": [
    "\n",
    "# Download and plot RMS of raw data\n",
    "\n",
    "Downloads rms data for a given session and probe and plots a heatmap of rms in AP and LFP band\n",
    "on the channels along probe for duration of ephys recording.\n"
   ]
  },
  {
   "cell_type": "code",
   "execution_count": null,
   "metadata": {
    "execution": {
     "iopub.execute_input": "2022-02-02T15:59:38.898564Z",
     "iopub.status.busy": "2022-02-02T15:59:38.898564Z",
     "iopub.status.idle": "2022-02-02T15:59:41.619938Z",
     "shell.execute_reply": "2022-02-02T15:59:41.619938Z"
    }
   },
   "outputs": [],
   "source": [
    "# import modules\n",
    "from one.api import ONE\n",
    "import matplotlib.pyplot as plt\n",
    "import numpy as np\n",
    "\n",
    "# instantiate ONE\n",
    "one = ONE(base_url='https://openalyx.internationalbrainlab.org', silent=True)\n",
    "\n",
    "# Specify subject, date and probe we are interested in\n",
    "subject = 'CSHL049'\n",
    "date = '2020-01-08'\n",
    "sess_no = 1\n",
    "probe_label = 'probe00'\n",
    "eid = one.search(subject=subject, date=date, number=sess_no)[0]\n",
    "\n",
    "# Download the data\n",
    "# channels.rawInd: Index of good recording channels along probe\n",
    "# channels.localCoordinates: Position of each recording channel along probe\n",
    "channels = one.load_object(eid, 'channels', collection=f'alf/{probe_label}')\n",
    "\n",
    "# Get range for y-axis\n",
    "depth_range = [np.min(channels.localCoordinates[:, 1]),\n",
    "               np.max(channels.localCoordinates[:, 1])]\n",
    "\n",
    "# RMS data associated with AP band of data\n",
    "rms_ap = one.load_object(eid, 'ephysTimeRmsAP', collection=f'raw_ephys_data/{probe_label}')\n",
    "rms_ap_data = rms_ap['rms'][:, channels.rawInd] * 1e6  # convert to uV\n",
    "\n",
    "# Median subtract to clean up the data\n",
    "median = np.mean(np.apply_along_axis(lambda x: np.median(x), 1, rms_ap_data))\n",
    "# Add back the median so that the actual values in uV remain correct\n",
    "rms_ap_data_median = np.apply_along_axis(lambda x: x - np.median(x), 1, rms_ap_data) + median\n",
    "\n",
    "# Get levels for colour bar and x-axis\n",
    "ap_levels = np.quantile(rms_ap_data_median, [0.1, 0.9])\n",
    "ap_time_range = [rms_ap['timestamps'][0], rms_ap['timestamps'][-1]]\n",
    "\n",
    "# RMS data associated with LFP band of data\n",
    "rms_lf = one.load_object(eid, 'ephysTimeRmsLF', collection=f'raw_ephys_data/{probe_label}')\n",
    "rms_lf_data = rms_lf['rms'][:, channels.rawInd] * 1e6  # convert to uV\n",
    "# Median subtract to clean up the data\n",
    "median = np.mean(np.apply_along_axis(lambda x: np.median(x), 1, rms_lf_data))\n",
    "rms_lf_data_median = np.apply_along_axis(lambda x: x - np.median(x), 1, rms_lf_data) + median\n",
    "\n",
    "lf_levels = np.quantile(rms_lf_data_median, [0.1, 0.9])\n",
    "lf_time_range = [rms_lf['timestamps'][0], rms_lf['timestamps'][-1]]\n",
    "\n",
    "# Create figure\n",
    "fig, ax = plt.subplots(2, 1, figsize=(6, 8))\n",
    "# Plot the AP rms data\n",
    "ax0 = ax[0]\n",
    "rms_ap_plot = ax0.imshow(rms_ap_data_median.T, extent=np.r_[ap_time_range, depth_range],\n",
    "                         cmap='plasma', vmin=ap_levels[0], vmax=ap_levels[1], origin='lower')\n",
    "cbar_ap = fig.colorbar(rms_ap_plot, ax=ax0)\n",
    "cbar_ap.set_label('AP RMS (uV)')\n",
    "ax0.set_xlabel('Time (s)')\n",
    "ax0.set_ylabel('Depth along probe (um)')\n",
    "ax0.set_title('RMS of AP band')\n",
    "\n",
    "# Plot the LFP rms data\n",
    "ax1 = ax[1]\n",
    "rms_lf_plot = ax1.imshow(rms_lf_data_median.T, extent=np.r_[lf_time_range, depth_range],\n",
    "                         cmap='inferno', vmin=lf_levels[0], vmax=lf_levels[1], origin='lower')\n",
    "cbar_lf = fig.colorbar(rms_lf_plot, ax=ax1)\n",
    "cbar_lf.set_label('LFP RMS (uV)')\n",
    "ax1.set_xlabel('Time (s)')\n",
    "ax1.set_ylabel('Depth along probe (um)')\n",
    "ax1.set_title('RMS of LFP band')\n",
    "\n",
    "# Make sure it plots\n",
    "plt.show()"
   ]
  }
 ],
 "metadata": {
  "docs_executed": "executed",
  "kernelspec": {
   "display_name": "Python 3",
   "language": "python",
   "name": "python3"
  },
  "language_info": {
   "codemirror_mode": {
    "name": "ipython",
    "version": 3
   },
   "file_extension": ".py",
   "mimetype": "text/x-python",
   "name": "python",
   "nbconvert_exporter": "python",
   "pygments_lexer": "ipython3",
   "version": "3.9.7"
  }
 },
 "nbformat": 4,
 "nbformat_minor": 0
}
