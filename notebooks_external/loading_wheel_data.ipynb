{
 "cells": [
  {
   "cell_type": "markdown",
   "id": "72bb4faa",
   "metadata": {},
   "source": [
    "# Loading Wheel Data"
   ]
  },
  {
   "cell_type": "code",
   "execution_count": null,
   "id": "41f0fec2",
   "metadata": {
    "execution": {
     "iopub.execute_input": "2025-03-10T19:23:39.851980Z",
     "iopub.status.busy": "2025-03-10T19:23:39.851552Z",
     "iopub.status.idle": "2025-03-10T19:23:39.855000Z",
     "shell.execute_reply": "2025-03-10T19:23:39.854581Z"
    },
    "nbsphinx": "hidden"
   },
   "outputs": [],
   "source": [
    "# Turn off logging and disable tqdm this is a hidden cell on docs page\n",
    "import logging\n",
    "import os\n",
    "\n",
    "logger = logging.getLogger('ibllib')\n",
    "logger.setLevel(logging.CRITICAL)\n",
    "\n",
    "os.environ[\"TQDM_DISABLE\"] = \"1\""
   ]
  },
  {
   "cell_type": "markdown",
   "id": "5996744e",
   "metadata": {},
   "source": [
    "Wheel data recorded during task"
   ]
  },
  {
   "cell_type": "markdown",
   "id": "4bafefa8",
   "metadata": {},
   "source": [
    "## Relevant Alf objects\n",
    "* wheel\n",
    "* wheelMoves"
   ]
  },
  {
   "cell_type": "markdown",
   "id": "5c04be5e",
   "metadata": {},
   "source": [
    "## Loading"
   ]
  },
  {
   "cell_type": "code",
   "execution_count": null,
   "id": "7e8100a7",
   "metadata": {
    "execution": {
     "iopub.execute_input": "2025-03-10T19:23:39.856859Z",
     "iopub.status.busy": "2025-03-10T19:23:39.856507Z",
     "iopub.status.idle": "2025-03-10T19:23:44.136865Z",
     "shell.execute_reply": "2025-03-10T19:23:44.136368Z"
    }
   },
   "outputs": [],
   "source": [
    "from one.api import ONE\n",
    "one = ONE()\n",
    "eid = '4ecb5d24-f5cc-402c-be28-9d0f7cb14b3a'\n",
    "\n",
    "wheel = one.load_object(eid, 'wheel', collection='alf')\n",
    "wheelMoves = one.load_object(eid, 'wheelMoves', collection='alf')"
   ]
  },
  {
   "cell_type": "markdown",
   "id": "08106755",
   "metadata": {},
   "source": [
    "## More details\n",
    "* [Description of wheel datasets](https://docs.google.com/document/d/1OqIqqakPakHXRAwceYLwFY9gOrm8_P62XIfCTnHwstg/edit#heading=h.hnjqyfnroyya)\n",
    "* [Working with wheel data](./docs_wheel_moves.html)"
   ]
  },
  {
   "cell_type": "markdown",
   "id": "357a860b",
   "metadata": {},
   "source": [
    "## Useful modules and functions\n",
    "* [brainbox.behavior.wheel](../_autosummary/brainbox.behavior.wheel.html)\n",
    "* [brainbox.io.one.load_wheel_reaction_times](../_autosummary/brainbox.io.one.html#brainbox.io.one.load_wheel_reaction_times)\n",
    "* [ibllib.qc.task_metrics](../_autosummary/ibllib.qc.task_metrics.html)"
   ]
  },
  {
   "cell_type": "markdown",
   "id": "86a02336",
   "metadata": {},
   "source": [
    "## Exploring wheel data"
   ]
  },
  {
   "cell_type": "markdown",
   "id": "5a947733bf0b16f0",
   "metadata": {
    "collapsed": false
   },
   "source": [
    "### Example 3: Find linearly interpolated wheel position"
   ]
  },
  {
   "cell_type": "code",
   "execution_count": null,
   "id": "7bf6131b343ffe21",
   "metadata": {
    "execution": {
     "iopub.execute_input": "2025-03-10T19:23:44.139212Z",
     "iopub.status.busy": "2025-03-10T19:23:44.138779Z",
     "iopub.status.idle": "2025-03-10T19:23:44.884667Z",
     "shell.execute_reply": "2025-03-10T19:23:44.884092Z"
    },
    "pycharm": {
     "name": "#%%\n"
    }
   },
   "outputs": [],
   "source": [
    "from brainbox.behavior.wheel import interpolate_position\n",
    "Fs = 1000\n",
    "wh_pos_lin, wh_ts_lin = interpolate_position(wheel['timestamps'], wheel['position'], freq=Fs)"
   ]
  },
  {
   "cell_type": "markdown",
   "id": "5a4b3e83",
   "metadata": {},
   "source": [
    "### Example 2: Extract wheel velocity"
   ]
  },
  {
   "cell_type": "code",
   "execution_count": null,
   "id": "7a487944",
   "metadata": {
    "execution": {
     "iopub.execute_input": "2025-03-10T19:23:44.886771Z",
     "iopub.status.busy": "2025-03-10T19:23:44.886445Z",
     "iopub.status.idle": "2025-03-10T19:23:45.037655Z",
     "shell.execute_reply": "2025-03-10T19:23:45.037139Z"
    }
   },
   "outputs": [],
   "source": [
    "from brainbox.behavior.wheel import velocity_filtered\n",
    "\n",
    "wh_velocity, wh_acc = velocity_filtered(wh_pos_lin, Fs)\n"
   ]
  },
  {
   "cell_type": "markdown",
   "id": "9765d47c",
   "metadata": {},
   "source": [
    "## Other relevant examples\n",
    "* [Working with wheel data](./docs_wheel_moves.html)"
   ]
  }
 ],
 "metadata": {
  "docs_executed": "executed",
  "kernelspec": {
   "display_name": "Python [conda env:iblenv] *",
   "language": "python",
   "name": "conda-env-iblenv-py"
  },
  "language_info": {
   "codemirror_mode": {
    "name": "ipython",
    "version": 3
   },
   "file_extension": ".py",
   "mimetype": "text/x-python",
   "name": "python",
   "nbconvert_exporter": "python",
   "pygments_lexer": "ipython3",
   "version": "3.12.9"
  }
 },
 "nbformat": 4,
 "nbformat_minor": 5
}
