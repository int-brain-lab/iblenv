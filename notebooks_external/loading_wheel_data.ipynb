{
 "cells": [
  {
   "cell_type": "markdown",
   "id": "72bb4faa",
   "metadata": {},
   "source": [
    "# Loading Wheel Data"
   ]
  },
  {
   "cell_type": "code",
   "execution_count": null,
   "id": "41f0fec2",
   "metadata": {
    "execution": {
     "iopub.execute_input": "2023-01-11T10:12:29.865448Z",
     "iopub.status.busy": "2023-01-11T10:12:29.865080Z",
     "iopub.status.idle": "2023-01-11T10:12:29.872019Z",
     "shell.execute_reply": "2023-01-11T10:12:29.871481Z"
    },
    "nbsphinx": "hidden"
   },
   "outputs": [],
   "source": [
    "# Turn off logging, this is a hidden cell on docs page\n",
    "import logging\n",
    "logger = logging.getLogger('ibllib')\n",
    "logger.setLevel(logging.CRITICAL)"
   ]
  },
  {
   "cell_type": "markdown",
   "id": "5996744e",
   "metadata": {},
   "source": [
    "Wheel data recorded during task"
   ]
  },
  {
   "cell_type": "markdown",
   "id": "4bafefa8",
   "metadata": {},
   "source": [
    "## Relevant Alf objects\n",
    "* wheel\n",
    "* wheelMoves"
   ]
  },
  {
   "cell_type": "markdown",
   "id": "5c04be5e",
   "metadata": {},
   "source": [
    "## Loading"
   ]
  },
  {
   "cell_type": "code",
   "execution_count": null,
   "id": "7e8100a7",
   "metadata": {
    "execution": {
     "iopub.execute_input": "2023-01-11T10:12:29.874798Z",
     "iopub.status.busy": "2023-01-11T10:12:29.874598Z",
     "iopub.status.idle": "2023-01-11T10:12:35.476596Z",
     "shell.execute_reply": "2023-01-11T10:12:35.475901Z"
    }
   },
   "outputs": [],
   "source": [
    "from one.api import ONE\n",
    "one = ONE()\n",
    "eid = '4ecb5d24-f5cc-402c-be28-9d0f7cb14b3a'\n",
    "\n",
    "wheel = one.load_object(eid, 'wheel', collection='alf')\n",
    "wheelMoves = one.load_object(eid, 'wheelMoves', collection='alf')"
   ]
  },
  {
   "cell_type": "markdown",
   "id": "08106755",
   "metadata": {},
   "source": [
    "## More details\n",
    "* [Description of wheel datasets](https://docs.google.com/document/d/1OqIqqakPakHXRAwceYLwFY9gOrm8_P62XIfCTnHwstg/edit#heading=h.hnjqyfnroyya)"
   ]
  },
  {
   "cell_type": "markdown",
   "id": "357a860b",
   "metadata": {},
   "source": [
    "## Useful modules\n",
    "* [brainbox.behavior.wheel](https://int-brain-lab.github.io/iblenv/_autosummary/brainbox.behavior.wheel.html)\n",
    "* [brainbox.io.one.load_wheel_reaction_times](https://int-brain-lab.github.io/iblenv/_autosummary/brainbox.io.one.html#brainbox.io.one.load_wheel_reaction_times)\n",
    "* [ibllib.qc.task_metrics](https://int-brain-lab.github.io/iblenv/_autosummary/ibllib.qc.task_metrics.html)"
   ]
  },
  {
   "cell_type": "markdown",
   "id": "86a02336",
   "metadata": {},
   "source": [
    "## Exploring wheel data"
   ]
  },
  {
   "cell_type": "markdown",
   "id": "5a4b3e83",
   "metadata": {},
   "source": [
    "### Example 1: Extract wheel velocity"
   ]
  },
  {
   "cell_type": "code",
   "execution_count": null,
   "id": "7a487944",
   "metadata": {
    "execution": {
     "iopub.execute_input": "2023-01-11T10:12:35.479671Z",
     "iopub.status.busy": "2023-01-11T10:12:35.479351Z",
     "iopub.status.idle": "2023-01-11T10:12:36.198394Z",
     "shell.execute_reply": "2023-01-11T10:12:36.197842Z"
    }
   },
   "outputs": [],
   "source": [
    "from brainbox.behavior.wheel import velocity\n",
    "\n",
    "wh_velocity = velocity(wheel['timestamps'], wheel['position'])"
   ]
  },
  {
   "cell_type": "markdown",
   "id": "cb128868",
   "metadata": {},
   "source": [
    "### Example 2: Find linearly interpolated wheel position"
   ]
  },
  {
   "cell_type": "code",
   "execution_count": null,
   "id": "a7492bfc",
   "metadata": {
    "execution": {
     "iopub.execute_input": "2023-01-11T10:12:36.201752Z",
     "iopub.status.busy": "2023-01-11T10:12:36.201032Z",
     "iopub.status.idle": "2023-01-11T10:12:36.262735Z",
     "shell.execute_reply": "2023-01-11T10:12:36.261929Z"
    }
   },
   "outputs": [],
   "source": [
    "from brainbox.behavior.wheel import interpolate_position\n",
    "\n",
    "wh_pos_lin, wh_ts_lin = interpolate_position(wheel['timestamps'], wheel['position'])"
   ]
  },
  {
   "cell_type": "markdown",
   "id": "9765d47c",
   "metadata": {},
   "source": [
    "## Other relevant examples\n",
    "* [Working with wheel data](https://int-brain-lab.github.io/iblenv/notebooks_external/docs_wheel_moves.html)"
   ]
  }
 ],
 "metadata": {
  "docs_executed": "executed",
  "kernelspec": {
   "display_name": "Python [conda env:iblenv] *",
   "language": "python",
   "name": "conda-env-iblenv-py"
  },
  "language_info": {
   "codemirror_mode": {
    "name": "ipython",
    "version": 3
   },
   "file_extension": ".py",
   "mimetype": "text/x-python",
   "name": "python",
   "nbconvert_exporter": "python",
   "pygments_lexer": "ipython3",
   "version": "3.9.16"
  }
 },
 "nbformat": 4,
 "nbformat_minor": 5
}
