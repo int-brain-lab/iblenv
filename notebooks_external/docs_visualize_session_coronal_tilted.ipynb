{
 "cells": [
  {
   "cell_type": "markdown",
   "metadata": {},
   "source": [
    "\n",
    "# Coronal Plot\n",
    "Plot a coronal slice (best fit) that contains a given probe track.\n",
    "As input, use an eID and probe label.\n",
    "environment installation guide https://github.com/int-brain-lab/iblenv\n"
   ]
  },
  {
   "cell_type": "code",
   "execution_count": null,
   "metadata": {
    "execution": {
     "iopub.execute_input": "2022-02-16T14:48:21.187506Z",
     "iopub.status.busy": "2022-02-16T14:48:21.187506Z",
     "iopub.status.idle": "2022-02-16T14:48:26.672203Z",
     "shell.execute_reply": "2022-02-16T14:48:26.672203Z"
    }
   },
   "outputs": [],
   "source": [
    "# Author: Olivier Winter\n",
    "\n",
    "import numpy as np\n",
    "from one.api import ONE\n",
    "\n",
    "import ibllib.atlas as atlas\n",
    "import brainbox.io.one as bbone\n",
    "\n",
    "# === Parameters section (edit) ===\n",
    "eid = 'c7bd79c9-c47e-4ea5-aea3-74dda991b48e'\n",
    "probe_label = 'probe01'\n",
    "# === Code (do not edit) ===\n",
    "ba = atlas.AllenAtlas(25)\n",
    "one = ONE(base_url='https://openalyx.internationalbrainlab.org')\n",
    "traj = one.alyx.rest('trajectories', 'list', session=eid,\n",
    "                     provenance='Ephys aligned histology track', probe=probe_label)[0]\n",
    "channels = bbone.load_channel_locations(eid=eid, one=one, probe=probe_label)\n",
    "\n",
    "picks = one.alyx.rest('insertions', 'read', id=traj['probe_insertion'])['json']\n",
    "picks = np.array(picks['xyz_picks']) / 1e6\n",
    "ins = atlas.Insertion.from_dict(traj)\n",
    "\n",
    "cax = ba.plot_tilted_slice(xyz=picks, axis=1, volume='image')\n",
    "cax.plot(picks[:, 0] * 1e6, picks[:, 2] * 1e6)\n",
    "cax.plot(channels[probe_label]['x'] * 1e6, channels[probe_label]['z'] * 1e6, 'g*')"
   ]
  }
 ],
 "metadata": {
  "docs_executed": "executed",
  "kernelspec": {
   "display_name": "Python 3",
   "language": "python",
   "name": "python3"
  },
  "language_info": {
   "codemirror_mode": {
    "name": "ipython",
    "version": 3
   },
   "file_extension": ".py",
   "mimetype": "text/x-python",
   "name": "python",
   "nbconvert_exporter": "python",
   "pygments_lexer": "ipython3",
   "version": "3.9.7"
  }
 },
 "nbformat": 4,
 "nbformat_minor": 0
}
