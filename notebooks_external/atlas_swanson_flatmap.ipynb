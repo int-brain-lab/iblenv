{
 "cells": [
  {
   "cell_type": "markdown",
   "metadata": {},
   "source": [
    "# Plotting brain region values on the Swanson flat map"
   ]
  },
  {
   "cell_type": "markdown",
   "metadata": {},
   "source": [
    "The Swanson flatmap is a 2D representation of the mouse brain to facilitate comparative analysis of brain data.\n",
    "We extended the mouse atlas presented by [Hahn et al.](https://onlinelibrary.wiley.com/doi/full/10.1002/cne.24966?casa_token=kRb4fuUae6wAAAAA%3AHoiNx1MNVgZNUXT-MZN_mU6LAjKBiz5OE5cFj2Aj-GUE9l-oBllFUaM11XwCtEbpJyxKrwaMRnXC7MjY)\n",
    "to interface programmatically with the Allen Atlas regions."
   ]
  },
  {
   "cell_type": "markdown",
   "metadata": {},
   "source": [
    "## The swanson flatmap"
   ]
  },
  {
   "cell_type": "code",
   "execution_count": null,
   "metadata": {
    "execution": {
     "iopub.execute_input": "2022-05-07T06:41:24.258192Z",
     "iopub.status.busy": "2022-05-07T06:41:24.255217Z",
     "iopub.status.idle": "2022-05-07T06:41:34.105783Z",
     "shell.execute_reply": "2022-05-07T06:41:34.105783Z"
    },
    "pycharm": {
     "name": "#%%\n"
    }
   },
   "outputs": [],
   "source": [
    "import numpy as np\n",
    "from ibllib.atlas.flatmaps import plot_swanson\n",
    "from ibllib.atlas import BrainRegions\n",
    "br = BrainRegions()\n",
    "\n",
    "plot_swanson(br=br)\n"
   ]
  },
  {
   "cell_type": "markdown",
   "metadata": {
    "pycharm": {
     "name": "#%% md\n"
    }
   },
   "source": [
    "## Plotting values on the swanson flatmap\n",
    "\n",
    "### Simple example with acronyms\n",
    "The flatmap is used when each of the region is assigned a scalar value, displayed on a color scale."
   ]
  },
  {
   "cell_type": "code",
   "execution_count": null,
   "metadata": {
    "execution": {
     "iopub.execute_input": "2022-05-07T06:41:34.121777Z",
     "iopub.status.busy": "2022-05-07T06:41:34.119878Z",
     "iopub.status.idle": "2022-05-07T06:41:39.049426Z",
     "shell.execute_reply": "2022-05-07T06:41:39.048350Z"
    },
    "pycharm": {
     "name": "#%%\n"
    }
   },
   "outputs": [],
   "source": [
    "# prepare array of acronyms\n",
    "acronyms = ['ACAd1', 'ACAv1', 'AId1', 'AIp1', 'AIv1', 'AUDd1', 'AUDp1', 'AUDpo1', 'AUDv1',\n",
    "            'SSp-m1', 'SSp-n1', 'SSp-tr1', 'SSp-ul1', 'SSp-un1', 'SSs1',\n",
    "            'VISC1', 'VISa1', 'VISal1', 'VISam1', 'VISl1', 'VISli1', 'VISp1', 'VISp2/3', 'VISpl1', 'VISpm1',\n",
    "            'SSp-n2/3', 'SSp-tr2/3', 'SSp-ul2/3', 'SSp-un2/3', 'SSs2/3',\n",
    "            'VISC2/3', 'VISa2/3', 'VISal2/3', 'VISam2/3', 'VISl2/3', 'VISli2/3', 'VISp2/3', 'VISpl1', 'VISpl2/3']\n",
    "# assign a scalar to each acronym\n",
    "values = np.arange(len(acronyms))\n",
    "\n",
    "# and display on a single hemishphere, using a blue colormap\n",
    "plot_swanson(acronyms, values, cmap='Blues', br=br)"
   ]
  },
  {
   "cell_type": "markdown",
   "metadata": {
    "pycharm": {
     "name": "#%% md\n"
    }
   },
   "source": [
    "### Lateralized display\n",
    "A more advanced example is when each hemisphere is assigned a different value."
   ]
  },
  {
   "cell_type": "code",
   "execution_count": null,
   "metadata": {
    "execution": {
     "iopub.execute_input": "2022-05-07T06:41:39.236297Z",
     "iopub.status.busy": "2022-05-07T06:41:39.154299Z",
     "iopub.status.idle": "2022-05-07T06:41:51.239316Z",
     "shell.execute_reply": "2022-05-07T06:41:51.238269Z"
    },
    "pycharm": {
     "name": "#%%\n"
    }
   },
   "outputs": [],
   "source": [
    "# In our atlas convention, differentiating between hemishperes is done using negative indices\n",
    "regions_rl = np.r_[br.acronym2id(acronyms), -br.acronym2id(acronyms)]\n",
    "# assign random values for the sake of this example\n",
    "values_rl = np.random.randn(regions_rl.size)\n",
    "# display with an explicit dual hemisphere setup\n",
    "plot_swanson(regions_rl, values_rl, hemisphere='both', cmap='magma', br=br)\n"
   ]
  }
 ],
 "metadata": {
  "docs_executed": "executed",
  "kernelspec": {
   "display_name": "Python 3 (ipykernel)",
   "language": "python",
   "name": "python3"
  },
  "language_info": {
   "codemirror_mode": {
    "name": "ipython",
    "version": 3
   },
   "file_extension": ".py",
   "mimetype": "text/x-python",
   "name": "python",
   "nbconvert_exporter": "python",
   "pygments_lexer": "ipython3",
   "version": "3.9.7"
  }
 },
 "nbformat": 4,
 "nbformat_minor": 1
}
