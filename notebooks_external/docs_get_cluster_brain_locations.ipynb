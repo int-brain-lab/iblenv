{
 "cells": [
  {
   "cell_type": "markdown",
   "metadata": {},
   "source": [
    "\n",
    "# Finding brain regions of clusters\n",
    "\n",
    "Finds the brain region that each cluster has been assigned to and creates a plot of the number of\n",
    "clusters per unique brain region for the probe. If the ephys aligned trajectory is\n",
    "available, the channels will be obtained from this trajectory, otherwise the non-aligned histology\n",
    "track is used. If neither are available, channels have not been allocated and a warning is given in\n",
    "the terminal. In this case no plot is generated.\n"
   ]
  },
  {
   "cell_type": "code",
   "execution_count": null,
   "metadata": {
    "execution": {
     "iopub.execute_input": "2022-02-16T14:40:43.331659Z",
     "iopub.status.busy": "2022-02-16T14:40:43.331659Z",
     "iopub.status.idle": "2022-02-16T14:40:45.570276Z",
     "shell.execute_reply": "2022-02-16T14:40:45.570276Z"
    }
   },
   "outputs": [],
   "source": [
    "from one.api import ONE\n",
    "import numpy as np\n",
    "import matplotlib.pyplot as plt\n",
    "from ibllib.atlas import BrainRegions\n",
    "\n",
    "one = ONE(base_url='https://openalyx.internationalbrainlab.org', silent=True)\n",
    "\n",
    "# Specify subject, date and probe we are interested in\n",
    "subject = 'CSHL049'\n",
    "date = '2020-01-08'\n",
    "sess_no = 1\n",
    "probe_label = 'probe00'\n",
    "eid = one.search(subject=subject, date=date, number=sess_no)[0]\n",
    "\n",
    "cluster_chans = one.load_dataset(eid, 'clusters.channels.npy', collection=f'alf/{probe_label}')\n",
    "\n",
    "\n",
    "aligned_traj = one.alyx.rest('trajectories', 'list', subject=subject, session=eid,\n",
    "                             probe=probe_label, provenance='Ephys aligned histology track')\n",
    "\n",
    "if len(aligned_traj) > 0:\n",
    "    print('Getting channels for provenance ' + aligned_traj[0]['provenance'])\n",
    "\n",
    "    channels = one.alyx.rest('channels', 'list', trajectory_estimate=aligned_traj[0]['id'])\n",
    "\n",
    "    chans = {'atlas_id': np.array([ch['brain_region'] for ch in channels]),\n",
    "             'x': np.array([ch['x'] for ch in channels]) / 1e6,\n",
    "             'y': np.array([ch['y'] for ch in channels]) / 1e6,\n",
    "             'z': np.array([ch['z'] for ch in channels]) / 1e6,\n",
    "             'axial_um': np.array([ch['axial'] for ch in channels]),\n",
    "             'lateral_um': np.array([ch['lateral'] for ch in channels])}\n",
    "\n",
    "else:\n",
    "    histology_traj = one.alyx.rest('trajectories', 'list', subject=subject, session=eid,\n",
    "                                   probe=probe_label, provenance='Histology track')\n",
    "    if len(histology_traj) > 0:\n",
    "        print('Getting channels for provenance ' + histology_traj[0]['provenance'])\n",
    "\n",
    "        channels = one.alyx.rest('channels', 'list', trajectory_estimate=histology_traj[0]['id'])\n",
    "\n",
    "        chans = {'atlas_id': np.array([ch['brain_region'] for ch in channels]),\n",
    "                 'x': np.array([ch['x'] for ch in channels]) / 1e6,\n",
    "                 'y': np.array([ch['y'] for ch in channels]) / 1e6,\n",
    "                 'z': np.array([ch['z'] for ch in channels]) / 1e6,\n",
    "                 'axial_um': np.array([ch['axial'] for ch in channels]),\n",
    "                 'lateral_um': np.array([ch['lateral'] for ch in channels])}\n",
    "\n",
    "    else:\n",
    "        print(f'No histology or ephys aligned trajectory for session: {eid} and '\n",
    "              f'probe: {probe_label}, no channels available')\n",
    "        chans = None\n",
    "\n",
    "\n",
    "if chans is not None:\n",
    "    r = BrainRegions()\n",
    "    chans['acronym'] = r.get(ids=chans['atlas_id']).acronym\n",
    "    chans['rgb'] = r.get(ids=chans['atlas_id']).rgb\n",
    "    cluster_brain_region = chans['acronym'][cluster_chans]\n",
    "    cluster_colour = chans['rgb'][cluster_chans]\n",
    "    cluster_xyz = np.c_[chans['x'], chans['y'], chans['z']][cluster_chans]\n",
    "    regions, idx, n_clust = np.unique(cluster_brain_region, return_counts=True, return_index=True)\n",
    "\n",
    "    region_cols = cluster_colour[idx, :]\n",
    "    fig, ax = plt.subplots()\n",
    "    ax.bar(x=np.arange(len(regions)), height=n_clust, tick_label=regions, color=region_cols / 255)\n",
    "    ax.set_xlabel('Brain region acronym')\n",
    "    ax.set_ylabel('No. of clusters')\n",
    "    plt.show()"
   ]
  }
 ],
 "metadata": {
  "docs_executed": "executed",
  "kernelspec": {
   "display_name": "Python 3",
   "language": "python",
   "name": "python3"
  },
  "language_info": {
   "codemirror_mode": {
    "name": "ipython",
    "version": 3
   },
   "file_extension": ".py",
   "mimetype": "text/x-python",
   "name": "python",
   "nbconvert_exporter": "python",
   "pygments_lexer": "ipython3",
   "version": "3.9.7"
  }
 },
 "nbformat": 4,
 "nbformat_minor": 0
}
