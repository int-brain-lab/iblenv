{
 "cells": [
  {
   "cell_type": "markdown",
   "metadata": {
    "collapsed": true,
    "pycharm": {
     "name": "#%% md\n"
    }
   },
   "source": [
    "# ONE Quick Start\n",
    "This tutorial will get you started searching and loading IBL data using Open Neurophysiology\n",
    "Environment (ONE).\n",
    "\n",
    "First we need to install ONE. If you don't already have IBL libraries, the easiest way is to run\n",
    " `pip install ONE-api`.\n",
    "\n",
    "Now we need to import the ONE library and open a connection to the IBL public data server. To do\n",
    "so, we create an ONE object, and ask it to connect to the IBL public server.\n",
    "\n",
    "<div class=\"alert alert-info\">\n",
    "Info.\n",
    "\n",
    "IBL internal users may use their Alyx credentials to access all IBL data.\n",
    "[Click here](https://int-brain-lab.github.io/ONE/one_installation.html#connecting-to-specific-database-relevant-for-ibl-users) for details.\n",
    "</div>"
   ]
  },
  {
   "cell_type": "code",
   "execution_count": null,
   "metadata": {
    "execution": {
     "iopub.execute_input": "2022-02-20T10:15:42.966057Z",
     "iopub.status.busy": "2022-02-20T10:15:42.966057Z",
     "iopub.status.idle": "2022-02-20T10:15:44.516763Z",
     "shell.execute_reply": "2022-02-20T10:15:44.516763Z"
    },
    "pycharm": {
     "name": "#%%\n"
    }
   },
   "outputs": [],
   "source": [
    "from one.api import ONE\n",
    "one = ONE(base_url='https://openalyx.internationalbrainlab.org', password='international', silent=True)"
   ]
  },
  {
   "cell_type": "markdown",
   "metadata": {
    "collapsed": false
   },
   "source": [
    "Now we are going to search for an experiment to analyze. First let's find out what we can search by:"
   ]
  },
  {
   "cell_type": "code",
   "execution_count": null,
   "metadata": {
    "execution": {
     "iopub.execute_input": "2022-02-20T10:15:44.539444Z",
     "iopub.status.busy": "2022-02-20T10:15:44.537834Z",
     "iopub.status.idle": "2022-02-20T10:15:44.566597Z",
     "shell.execute_reply": "2022-02-20T10:15:44.566597Z"
    },
    "pycharm": {
     "name": "#%%\n"
    }
   },
   "outputs": [],
   "source": [
    "print(one.search_terms())"
   ]
  },
  {
   "cell_type": "markdown",
   "metadata": {
    "collapsed": false
   },
   "source": [
    "Let's search for sessions recorded in September 2020, which contain a dataset 'probes.description',\n",
    "meaning that electrophysiology was recorded. By adding the argument `details=True`, we get two\n",
    "outputs - the experiment IDs uniquely identifying these sessions, and some information about the\n",
    "experiments."
   ]
  },
  {
   "cell_type": "code",
   "execution_count": null,
   "metadata": {
    "execution": {
     "iopub.execute_input": "2022-02-20T10:15:44.626346Z",
     "iopub.status.busy": "2022-02-20T10:15:44.617907Z",
     "iopub.status.idle": "2022-02-20T10:15:44.648837Z",
     "shell.execute_reply": "2022-02-20T10:15:44.648837Z"
    },
    "pycharm": {
     "name": "#%%\n"
    }
   },
   "outputs": [],
   "source": [
    "eids, info = one.search(date_range=['2020-09-01', '2021-09-30'], dataset='probes.description', details=True)\n",
    "\n",
    "from pprint import pprint\n",
    "pprint(eids)\n",
    "pprint(info)"
   ]
  },
  {
   "cell_type": "markdown",
   "metadata": {
    "collapsed": false
   },
   "source": [
    "So there were two experiments matching the criteria in the public database. Now let's load the\n",
    "probe information for the first experiment. `one.load_dataset` returns a single named dataset"
   ]
  },
  {
   "cell_type": "code",
   "execution_count": null,
   "metadata": {
    "execution": {
     "iopub.execute_input": "2022-02-20T10:15:44.712803Z",
     "iopub.status.busy": "2022-02-20T10:15:44.711785Z",
     "iopub.status.idle": "2022-02-20T10:15:45.432230Z",
     "shell.execute_reply": "2022-02-20T10:15:45.432230Z"
    },
    "pycharm": {
     "name": "#%%\n"
    }
   },
   "outputs": [],
   "source": [
    "eid = eids[0]  # Select the first experiment\n",
    "probe_insertions = one.load_dataset(eid, 'probes.description')\n",
    "\n",
    "print(f'N probes = {len(probe_insertions)}')\n",
    "pprint(probe_insertions[0])"
   ]
  },
  {
   "cell_type": "markdown",
   "metadata": {
    "collapsed": false
   },
   "source": [
    "Now let's see all the datasets associated with the first of these experiments. The command `one.list_datasets`\n",
    "returns the full path of all datasets, including the collection name and the extension. The\n",
    "'alf' collection contains the preprocessed data we usually want to work with, and the data for\n",
    "each probe are in labeled subdirectories:"
   ]
  },
  {
   "cell_type": "code",
   "execution_count": null,
   "metadata": {
    "execution": {
     "iopub.execute_input": "2022-02-20T10:15:45.461390Z",
     "iopub.status.busy": "2022-02-20T10:15:45.444271Z",
     "iopub.status.idle": "2022-02-20T10:15:45.500486Z",
     "shell.execute_reply": "2022-02-20T10:15:45.500486Z"
    },
    "pycharm": {
     "name": "#%%\n"
    }
   },
   "outputs": [],
   "source": [
    "probe_label = probe_insertions[0]['label']\n",
    "one.list_datasets(eid, collection=f'alf/{probe_label}')"
   ]
  },
  {
   "cell_type": "markdown",
   "metadata": {
    "collapsed": false
   },
   "source": [
    "Here we'll load the electrophysiology information. There are two ways to do this.\n",
    "`one.load_dataset` or `one.load_object`, which returns all the datasets with the same name part,\n",
    "as an object. Let's use the second method to load the spike times, depths, and amplitudes for\n",
    "probe00:"
   ]
  },
  {
   "cell_type": "code",
   "execution_count": null,
   "metadata": {
    "execution": {
     "iopub.execute_input": "2022-02-20T10:15:45.557888Z",
     "iopub.status.busy": "2022-02-20T10:15:45.554895Z",
     "iopub.status.idle": "2022-02-20T10:16:47.414408Z",
     "shell.execute_reply": "2022-02-20T10:16:47.414408Z"
    },
    "pycharm": {
     "name": "#%%\n"
    }
   },
   "outputs": [],
   "source": [
    "spikes = one.load_object(eids[0], 'spikes',\n",
    "                         collection='alf/probe00', attribute=['times', 'depths', 'amps'])\n",
    "spikes"
   ]
  },
  {
   "cell_type": "markdown",
   "metadata": {
    "collapsed": false
   },
   "source": [
    "We can import a module from brainbox that plots the raster across time\n",
    "<div class=\"alert alert-info\">\n",
    "Note.\n",
    "\n",
    "Requires [ibllib](https://github.com/int-brain-lab/ibllib#readme) to be installed.\n",
    "</div>"
   ]
  },
  {
   "cell_type": "code",
   "execution_count": null,
   "metadata": {
    "execution": {
     "iopub.execute_input": "2022-02-20T10:16:47.414408Z",
     "iopub.status.busy": "2022-02-20T10:16:47.414408Z",
     "iopub.status.idle": "2022-02-20T10:16:57.535808Z",
     "shell.execute_reply": "2022-02-20T10:16:57.535808Z"
    },
    "pycharm": {
     "name": "#%%\n"
    }
   },
   "outputs": [],
   "source": [
    "from brainbox.plot import driftmap\n",
    "driftmap(spikes.times, spikes.depths, t_bin=0.1, d_bin=5);"
   ]
  },
  {
   "cell_type": "markdown",
   "metadata": {
    "collapsed": false
   },
   "source": [
    "And that's the end of the quick start tutorial! For more information on any of these commands you\n",
    "can use the standard help function:"
   ]
  },
  {
   "cell_type": "code",
   "execution_count": null,
   "metadata": {
    "execution": {
     "iopub.execute_input": "2022-02-20T10:16:57.548170Z",
     "iopub.status.busy": "2022-02-20T10:16:57.548170Z",
     "iopub.status.idle": "2022-02-20T10:16:57.569825Z",
     "shell.execute_reply": "2022-02-20T10:16:57.569825Z"
    },
    "pycharm": {
     "name": "#%%\n"
    }
   },
   "outputs": [],
   "source": [
    "help(one.list_datasets)"
   ]
  },
  {
   "cell_type": "markdown",
   "metadata": {
    "collapsed": false
   },
   "source": [
    "For detailed tutorials, guides and examples, [click here for the full ONE API documentation\n",
    "Website](https://int-brain-lab.github.io/ONE/)."
   ]
  }
 ],
 "metadata": {
  "docs_executed": "executed",
  "kernelspec": {
   "display_name": "Python 3",
   "language": "python",
   "name": "python3"
  },
  "language_info": {
   "codemirror_mode": {
    "name": "ipython",
    "version": 3
   },
   "file_extension": ".py",
   "mimetype": "text/x-python",
   "name": "python",
   "nbconvert_exporter": "python",
   "pygments_lexer": "ipython3",
   "version": "3.9.7"
  }
 },
 "nbformat": 4,
 "nbformat_minor": 0
}
