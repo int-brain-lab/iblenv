{
 "cells": [
  {
   "cell_type": "markdown",
   "metadata": {
    "collapsed": true,
    "pycharm": {
     "name": "#%% md\n"
    }
   },
   "source": [
    "# ONE Quick Start\n",
    "This tutorial will get you started searching and loading IBL data using Open Neurophysiology\n",
    "Environment (ONE).\n",
    "\n",
    "First we need to install ONE. If you don't already have IBL libraries, the easiest way is to run\n",
    " `pip install ONE-api`.\n",
    "\n",
    "Now we need to import the ONE library and open a connection to the IBL public data server. To do\n",
    "so, we create an ONE object, and ask it to connect to the IBL public server.\n",
    "\n",
    "<div class=\"alert alert-info\">\n",
    "Info.\n",
    "\n",
    "IBL internal users may use their Alyx credentials to access all IBL data.\n",
    "[Click here](https://int-brain-lab.github.io/ONE/one_installation.html#connecting-to-specific-database-relevant-for-ibl-users) for details.\n",
    "</div>"
   ]
  },
  {
   "cell_type": "code",
   "execution_count": null,
   "metadata": {
    "execution": {
     "iopub.execute_input": "2023-10-24T14:00:09.225064Z",
     "iopub.status.busy": "2023-10-24T14:00:09.224840Z",
     "iopub.status.idle": "2023-10-24T14:00:10.647429Z",
     "shell.execute_reply": "2023-10-24T14:00:10.646733Z"
    },
    "pycharm": {
     "name": "#%%\n"
    }
   },
   "outputs": [],
   "source": [
    "from one.api import ONE\n",
    "ONE.setup(base_url='https://openalyx.internationalbrainlab.org', silent=True)\n",
    "one = ONE(password='international')"
   ]
  },
  {
   "cell_type": "markdown",
   "metadata": {
    "pycharm": {
     "name": "#%% md\n"
    }
   },
   "source": [
    "Now we are going to search for an experiment to analyze. First let's find out what we can search by:"
   ]
  },
  {
   "cell_type": "code",
   "execution_count": null,
   "metadata": {
    "execution": {
     "iopub.execute_input": "2023-10-24T14:00:10.651232Z",
     "iopub.status.busy": "2023-10-24T14:00:10.650580Z",
     "iopub.status.idle": "2023-10-24T14:00:10.655348Z",
     "shell.execute_reply": "2023-10-24T14:00:10.654731Z"
    },
    "pycharm": {
     "name": "#%%\n"
    }
   },
   "outputs": [],
   "source": [
    "print(one.search_terms())"
   ]
  },
  {
   "cell_type": "markdown",
   "metadata": {
    "pycharm": {
     "name": "#%% md\n"
    }
   },
   "source": [
    "Let's search for sessions recorded in August 2020, which contain a dataset 'probes.description',\n",
    "meaning that electrophysiology was recorded. By adding the argument `details=True`, we get two\n",
    "outputs - the experiment IDs uniquely identifying these sessions, and some information about the\n",
    "experiments."
   ]
  },
  {
   "cell_type": "code",
   "execution_count": null,
   "metadata": {
    "execution": {
     "iopub.execute_input": "2023-10-24T14:00:10.658091Z",
     "iopub.status.busy": "2023-10-24T14:00:10.657645Z",
     "iopub.status.idle": "2023-10-24T14:00:10.685929Z",
     "shell.execute_reply": "2023-10-24T14:00:10.685266Z"
    },
    "pycharm": {
     "name": "#%%\n"
    }
   },
   "outputs": [],
   "source": [
    "eids, info = one.search(date_range=['2020-08-01', '2020-08-31'], dataset='probes.description', details=True)\n",
    "\n",
    "from pprint import pprint\n",
    "pprint(eids)\n",
    "pprint(info)"
   ]
  },
  {
   "cell_type": "markdown",
   "metadata": {
    "pycharm": {
     "name": "#%% md\n"
    }
   },
   "source": [
    "So there were four experiments matching the criteria in the public database. Now let's load the\n",
    "probe information for the first experiment. `one.load_dataset` returns a single named dataset"
   ]
  },
  {
   "cell_type": "code",
   "execution_count": null,
   "metadata": {
    "execution": {
     "iopub.execute_input": "2023-10-24T14:00:10.688764Z",
     "iopub.status.busy": "2023-10-24T14:00:10.688336Z",
     "iopub.status.idle": "2023-10-24T14:00:16.509672Z",
     "shell.execute_reply": "2023-10-24T14:00:16.509067Z"
    },
    "pycharm": {
     "name": "#%%\n"
    }
   },
   "outputs": [],
   "source": [
    "eid = eids[0]  # Select the first experiment\n",
    "probe_insertions = one.load_dataset(eid, 'probes.description')\n",
    "\n",
    "print(f'N probes = {len(probe_insertions)}')\n",
    "pprint(probe_insertions[0])"
   ]
  },
  {
   "cell_type": "markdown",
   "metadata": {},
   "source": [
    "Now let’s see all the datasets associated with the first of these experiments. The command one.list_datasets returns the full path of all datasets, including the collection name and the extension. The ‘alf’ collection contains the preprocessed data we usually want to work with, and the data for each probe are in labeled subdirectories. We use the wildcard * because the data can be saved in different subdirectories for different spike sorters."
   ]
  },
  {
   "cell_type": "code",
   "execution_count": null,
   "metadata": {
    "execution": {
     "iopub.execute_input": "2023-10-24T14:00:16.512776Z",
     "iopub.status.busy": "2023-10-24T14:00:16.512226Z",
     "iopub.status.idle": "2023-10-24T14:00:16.522674Z",
     "shell.execute_reply": "2023-10-24T14:00:16.522058Z"
    }
   },
   "outputs": [],
   "source": [
    "probe_label = probe_insertions[0]['label']\n",
    "one.list_datasets(eid, collection=f'alf/{probe_label}*')"
   ]
  },
  {
   "cell_type": "markdown",
   "metadata": {
    "pycharm": {
     "name": "#%% md\n"
    }
   },
   "source": [
    "We might be interested in the data of this session that is not specific to the probe recording, e.g. the behavioural data or video data. We can find that if we list datasets in the alf collection without specifying the probe."
   ]
  },
  {
   "cell_type": "code",
   "execution_count": null,
   "metadata": {
    "execution": {
     "iopub.execute_input": "2023-10-24T14:00:16.526434Z",
     "iopub.status.busy": "2023-10-24T14:00:16.525197Z",
     "iopub.status.idle": "2023-10-24T14:00:16.534552Z",
     "shell.execute_reply": "2023-10-24T14:00:16.533966Z"
    },
    "pycharm": {
     "is_executing": true,
     "name": "#%%\n"
    }
   },
   "outputs": [],
   "source": [
    "one.list_datasets(eid, collection='alf')"
   ]
  },
  {
   "cell_type": "markdown",
   "metadata": {
    "pycharm": {
     "name": "#%% md\n"
    }
   },
   "source": [
    "Let's load the preprocessed data associated with the left camera. There are two ways to do this.\n",
    "`one.load_dataset` or `one.load_object`, which returns all the datasets with the same name part,\n",
    "as an object. Let's use the second method to load all left camera data in the alf folder."
   ]
  },
  {
   "cell_type": "code",
   "execution_count": null,
   "metadata": {
    "execution": {
     "iopub.execute_input": "2023-10-24T14:00:16.537406Z",
     "iopub.status.busy": "2023-10-24T14:00:16.537039Z",
     "iopub.status.idle": "2023-10-24T14:00:19.530465Z",
     "shell.execute_reply": "2023-10-24T14:00:19.529880Z"
    },
    "pycharm": {
     "name": "#%%\n"
    }
   },
   "outputs": [],
   "source": [
    "cam = one.load_object(eids[0], 'leftCamera', collection='alf')\n",
    "cam.keys()"
   ]
  },
  {
   "cell_type": "markdown",
   "metadata": {
    "pycharm": {
     "name": "#%% md\n"
    }
   },
   "source": [
    "To load only specific data associated with this object, we can use the attribute keyword. Let's load the times and the DLC traces."
   ]
  },
  {
   "cell_type": "code",
   "execution_count": null,
   "metadata": {
    "execution": {
     "iopub.execute_input": "2023-10-24T14:00:19.534015Z",
     "iopub.status.busy": "2023-10-24T14:00:19.533769Z",
     "iopub.status.idle": "2023-10-24T14:00:19.873027Z",
     "shell.execute_reply": "2023-10-24T14:00:19.872369Z"
    },
    "pycharm": {
     "name": "#%%\n"
    }
   },
   "outputs": [],
   "source": [
    "cam = one.load_object(eids[0], 'leftCamera', collection='alf', attribute=['times', 'dlc'])\n",
    "cam.keys()"
   ]
  },
  {
   "cell_type": "markdown",
   "metadata": {
    "pycharm": {
     "name": "#%% md\n"
    }
   },
   "source": [
    "And that's the end of the quick start tutorial! For more information on any of these commands you\n",
    "can use the standard help function:"
   ]
  },
  {
   "cell_type": "code",
   "execution_count": null,
   "metadata": {
    "execution": {
     "iopub.execute_input": "2023-10-24T14:00:19.876065Z",
     "iopub.status.busy": "2023-10-24T14:00:19.875826Z",
     "iopub.status.idle": "2023-10-24T14:00:19.879599Z",
     "shell.execute_reply": "2023-10-24T14:00:19.879092Z"
    },
    "pycharm": {
     "name": "#%%\n"
    }
   },
   "outputs": [],
   "source": [
    "help(one.list_datasets)"
   ]
  },
  {
   "cell_type": "markdown",
   "metadata": {
    "pycharm": {
     "name": "#%% md\n"
    }
   },
   "source": [
    "For detailed tutorials, guides and examples, [click here for the full ONE API documentation\n",
    "Website](https://int-brain-lab.github.io/ONE/)."
   ]
  }
 ],
 "metadata": {
  "docs_executed": "executed",
  "kernelspec": {
   "display_name": "Python 3 (ipykernel)",
   "language": "python",
   "name": "python3"
  },
  "language_info": {
   "codemirror_mode": {
    "name": "ipython",
    "version": 3
   },
   "file_extension": ".py",
   "mimetype": "text/x-python",
   "name": "python",
   "nbconvert_exporter": "python",
   "pygments_lexer": "ipython3",
   "version": "3.9.18"
  }
 },
 "nbformat": 4,
 "nbformat_minor": 1
}
