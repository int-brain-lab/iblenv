{
 "cells": [
  {
   "cell_type": "markdown",
   "metadata": {
    "collapsed": true,
    "pycharm": {
     "name": "#%% md\n"
    }
   },
   "source": [
    "# ONE Quick Start\n",
    "This tutorial will get you started searching and loading IBL data using Open Neurophysiology\n",
    "Environment (ONE).\n",
    "\n",
    "First we need to install ONE. If you don't already have IBL libraries, the easiest way is to run\n",
    " `pip install ONE-api`.\n",
    "\n",
    "Now we need to import the ONE library and open a connection to the IBL public data server. To do\n",
    "so, we create an ONE object, and ask it to connect to the IBL public server.\n",
    "\n",
    "<div class=\"alert alert-info\">\n",
    "Info.\n",
    "\n",
    "IBL internal users may use their Alyx credentials to access all IBL data.\n",
    "[Click here](https://int-brain-lab.github.io/ONE/one_installation.html#connecting-to-specific-database-relevant-for-ibl-users) for details.\n",
    "</div>"
   ]
  },
  {
   "cell_type": "code",
   "execution_count": null,
   "metadata": {
    "execution": {
     "iopub.execute_input": "2023-01-05T13:04:42.254622Z",
     "iopub.status.busy": "2023-01-05T13:04:42.254135Z",
     "iopub.status.idle": "2023-01-05T13:04:43.786895Z",
     "shell.execute_reply": "2023-01-05T13:04:43.785922Z"
    },
    "pycharm": {
     "name": "#%%\n"
    }
   },
   "outputs": [],
   "source": [
    "from one.api import ONE\n",
    "one = ONE(base_url='https://openalyx.internationalbrainlab.org', password='international', silent=True)"
   ]
  },
  {
   "cell_type": "markdown",
   "metadata": {
    "pycharm": {
     "name": "#%% md\n"
    }
   },
   "source": [
    "Now we are going to search for an experiment to analyze. First let's find out what we can search by:"
   ]
  },
  {
   "cell_type": "code",
   "execution_count": null,
   "metadata": {
    "execution": {
     "iopub.execute_input": "2023-01-05T13:04:43.792152Z",
     "iopub.status.busy": "2023-01-05T13:04:43.791508Z",
     "iopub.status.idle": "2023-01-05T13:04:43.796201Z",
     "shell.execute_reply": "2023-01-05T13:04:43.795405Z"
    },
    "pycharm": {
     "name": "#%%\n"
    }
   },
   "outputs": [],
   "source": [
    "print(one.search_terms())"
   ]
  },
  {
   "cell_type": "markdown",
   "metadata": {
    "pycharm": {
     "name": "#%% md\n"
    }
   },
   "source": [
    "Let's search for sessions recorded in August 2020, which contain a dataset 'probes.description',\n",
    "meaning that electrophysiology was recorded. By adding the argument `details=True`, we get two\n",
    "outputs - the experiment IDs uniquely identifying these sessions, and some information about the\n",
    "experiments."
   ]
  },
  {
   "cell_type": "code",
   "execution_count": null,
   "metadata": {
    "execution": {
     "iopub.execute_input": "2023-01-05T13:04:43.801180Z",
     "iopub.status.busy": "2023-01-05T13:04:43.800756Z",
     "iopub.status.idle": "2023-01-05T13:04:43.903290Z",
     "shell.execute_reply": "2023-01-05T13:04:43.902028Z"
    },
    "pycharm": {
     "name": "#%%\n"
    }
   },
   "outputs": [],
   "source": [
    "eids, info = one.search(date_range=['2020-08-01', '2020-08-31'], dataset='probes.description', details=True)\n",
    "\n",
    "from pprint import pprint\n",
    "pprint(eids)\n",
    "pprint(info)"
   ]
  },
  {
   "cell_type": "markdown",
   "metadata": {
    "pycharm": {
     "name": "#%% md\n"
    }
   },
   "source": [
    "So there were four experiments matching the criteria in the public database. Now let's load the\n",
    "probe information for the first experiment. `one.load_dataset` returns a single named dataset"
   ]
  },
  {
   "cell_type": "code",
   "execution_count": null,
   "metadata": {
    "execution": {
     "iopub.execute_input": "2023-01-05T13:04:43.908750Z",
     "iopub.status.busy": "2023-01-05T13:04:43.908469Z",
     "iopub.status.idle": "2023-01-05T13:04:44.869471Z",
     "shell.execute_reply": "2023-01-05T13:04:44.868717Z"
    },
    "pycharm": {
     "name": "#%%\n"
    }
   },
   "outputs": [],
   "source": [
    "eid = eids[0]  # Select the first experiment\n",
    "probe_insertions = one.load_dataset(eid, 'probes.description')\n",
    "\n",
    "print(f'N probes = {len(probe_insertions)}')\n",
    "pprint(probe_insertions[0])"
   ]
  },
  {
   "cell_type": "markdown",
   "metadata": {},
   "source": [
    "Now let’s see all the datasets associated with the first of these experiments. The command one.list_datasets returns the full path of all datasets, including the collection name and the extension. The ‘alf’ collection contains the preprocessed data we usually want to work with, and the data for each probe are in labeled subdirectories. We use the wildcard * because the data can be saved in different subdirectories for different spike sorters."
   ]
  },
  {
   "cell_type": "code",
   "execution_count": null,
   "metadata": {
    "execution": {
     "iopub.execute_input": "2023-01-05T13:04:44.873649Z",
     "iopub.status.busy": "2023-01-05T13:04:44.872929Z",
     "iopub.status.idle": "2023-01-05T13:04:44.884953Z",
     "shell.execute_reply": "2023-01-05T13:04:44.884301Z"
    }
   },
   "outputs": [],
   "source": [
    "probe_label = probe_insertions[0]['label']\n",
    "one.list_datasets(eid, collection=f'alf/{probe_label}*')"
   ]
  },
  {
   "cell_type": "markdown",
   "metadata": {
    "pycharm": {
     "name": "#%% md\n"
    }
   },
   "source": [
    "We might be interested in the data of this session that is not specific to the probe recording, e.g. the behavioural data or video data. We can find that if we list datasets in the alf collection without specifying the probe."
   ]
  },
  {
   "cell_type": "code",
   "execution_count": null,
   "metadata": {
    "execution": {
     "iopub.execute_input": "2023-01-05T13:04:44.888716Z",
     "iopub.status.busy": "2023-01-05T13:04:44.888156Z",
     "iopub.status.idle": "2023-01-05T13:04:44.900362Z",
     "shell.execute_reply": "2023-01-05T13:04:44.899422Z"
    },
    "pycharm": {
     "is_executing": true,
     "name": "#%%\n"
    }
   },
   "outputs": [],
   "source": [
    "one.list_datasets(eid, collection='alf')"
   ]
  },
  {
   "cell_type": "markdown",
   "metadata": {
    "pycharm": {
     "name": "#%% md\n"
    }
   },
   "source": [
    "Let's load the preprocessed data associated with the left camera. There are two ways to do this.\n",
    "`one.load_dataset` or `one.load_object`, which returns all the datasets with the same name part,\n",
    "as an object. Let's use the second method to load all left camera data in the alf folder."
   ]
  },
  {
   "cell_type": "code",
   "execution_count": null,
   "metadata": {
    "execution": {
     "iopub.execute_input": "2023-01-05T13:04:44.904303Z",
     "iopub.status.busy": "2023-01-05T13:04:44.903798Z",
     "iopub.status.idle": "2023-01-05T13:04:47.181955Z",
     "shell.execute_reply": "2023-01-05T13:04:47.181187Z"
    },
    "pycharm": {
     "name": "#%%\n"
    }
   },
   "outputs": [],
   "source": [
    "cam = one.load_object(eids[0], 'leftCamera', collection='alf')\n",
    "cam.keys()"
   ]
  },
  {
   "cell_type": "markdown",
   "metadata": {
    "pycharm": {
     "name": "#%% md\n"
    }
   },
   "source": [
    "To load only specific data associated with this object, we can use the attribute keyword. Let's load the times and the DLC traces."
   ]
  },
  {
   "cell_type": "code",
   "execution_count": null,
   "metadata": {
    "execution": {
     "iopub.execute_input": "2023-01-05T13:04:47.186295Z",
     "iopub.status.busy": "2023-01-05T13:04:47.185311Z",
     "iopub.status.idle": "2023-01-05T13:04:47.622271Z",
     "shell.execute_reply": "2023-01-05T13:04:47.621419Z"
    },
    "pycharm": {
     "name": "#%%\n"
    }
   },
   "outputs": [],
   "source": [
    "cam = one.load_object(eids[0], 'leftCamera', collection='alf', attribute=['times', 'dlc'])\n",
    "cam.keys()"
   ]
  },
  {
   "cell_type": "markdown",
   "metadata": {
    "pycharm": {
     "name": "#%% md\n"
    }
   },
   "source": [
    "And that's the end of the quick start tutorial! For more information on any of these commands you\n",
    "can use the standard help function:"
   ]
  },
  {
   "cell_type": "code",
   "execution_count": null,
   "metadata": {
    "execution": {
     "iopub.execute_input": "2023-01-05T13:04:47.626233Z",
     "iopub.status.busy": "2023-01-05T13:04:47.625565Z",
     "iopub.status.idle": "2023-01-05T13:04:47.632913Z",
     "shell.execute_reply": "2023-01-05T13:04:47.632193Z"
    },
    "pycharm": {
     "name": "#%%\n"
    }
   },
   "outputs": [],
   "source": [
    "help(one.list_datasets)"
   ]
  },
  {
   "cell_type": "markdown",
   "metadata": {
    "pycharm": {
     "name": "#%% md\n"
    }
   },
   "source": [
    "For detailed tutorials, guides and examples, [click here for the full ONE API documentation\n",
    "Website](https://int-brain-lab.github.io/ONE/)."
   ]
  }
 ],
 "metadata": {
  "docs_executed": "executed",
  "kernelspec": {
   "display_name": "Python 3 (ipykernel)",
   "language": "python",
   "name": "python3"
  },
  "language_info": {
   "codemirror_mode": {
    "name": "ipython",
    "version": 3
   },
   "file_extension": ".py",
   "mimetype": "text/x-python",
   "name": "python",
   "nbconvert_exporter": "python",
   "pygments_lexer": "ipython3",
   "version": "3.9.16"
  }
 },
 "nbformat": 4,
 "nbformat_minor": 1
}
