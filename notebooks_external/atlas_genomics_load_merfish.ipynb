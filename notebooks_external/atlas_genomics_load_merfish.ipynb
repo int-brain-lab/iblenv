{
 "cells": [
  {
   "cell_type": "code",
   "execution_count": null,
   "id": "initial_id",
   "metadata": {
    "execution": {
     "iopub.execute_input": "2024-09-23T17:47:06.345571Z",
     "iopub.status.busy": "2024-09-23T17:47:06.345363Z",
     "iopub.status.idle": "2024-09-23T17:47:14.983177Z",
     "shell.execute_reply": "2024-09-23T17:47:14.982543Z"
    }
   },
   "outputs": [],
   "source": [
    "import matplotlib.pyplot as plt\n",
    "import numpy as np\n",
    "\n",
    "from iblutil.numerical import ismember\n",
    "from iblatlas.atlas import AllenAtlas\n",
    "from iblatlas.genomics import merfish\n",
    "\n",
    "df_cells, df_classes, df_subclasses, df_supertypes, df_clusters, df_genes, df_neurotransmitters = merfish.load()"
   ]
  },
  {
   "cell_type": "code",
   "execution_count": null,
   "id": "31bf5c6cf503a00b",
   "metadata": {
    "ExecuteTime": {
     "end_time": "2024-02-08T13:47:57.111659506Z",
     "start_time": "2024-02-08T13:47:21.682627747Z"
    },
    "execution": {
     "iopub.execute_input": "2024-09-23T17:47:14.985855Z",
     "iopub.status.busy": "2024-09-23T17:47:14.985516Z",
     "iopub.status.idle": "2024-09-23T17:47:28.468342Z",
     "shell.execute_reply": "2024-09-23T17:47:28.467637Z"
    }
   },
   "outputs": [],
   "source": [
    "ba = AllenAtlas()\n",
    "_, rids = ismember(df_cells['Allen_id'], ba.regions.id)\n",
    "xyz = df_cells.loc[:, ['x', 'y', 'z']].values\n",
    "\n",
    "def plot_section(section, ix, iy):\n",
    "    i = df_cells['brain_section_label'] == section  # 085\n",
    "    rgb_classes = merfish.int2rgb(df_classes.loc[df_cells.loc[i, 'class'], 'class_rgba'])\n",
    "    fig, axs = plt.subplots(1, 2, sharex=True, sharey=True, figsize=(12, 5))\n",
    "    axs[0].scatter(xyz[i, ix], xyz[i, iy], c=ba.regions.rgba[rids[i], :].astype(np.double) / 255, s=1)\n",
    "    axs[1].scatter(xyz[i, ix], xyz[i, iy], c=rgb_classes, s=1)\n",
    "    axs[0].set_aspect('equal', 'box')\n",
    "    axs[1].set_aspect('equal', 'box')\n",
    "    fig.tight_layout()\n",
    "    return fig, axs\n",
    "\n",
    "fig, axs = plot_section(section=\"Zhuang-ABCA-1.085\", ix=0, iy=2)"
   ]
  }
 ],
 "metadata": {
  "docs_executed": "executed",
  "kernelspec": {
   "display_name": "Python 3",
   "language": "python",
   "name": "python3"
  },
  "language_info": {
   "codemirror_mode": {
    "name": "ipython",
    "version": 3
   },
   "file_extension": ".py",
   "mimetype": "text/x-python",
   "name": "python",
   "nbconvert_exporter": "python",
   "pygments_lexer": "ipython3",
   "version": "3.9.20"
  }
 },
 "nbformat": 4,
 "nbformat_minor": 5
}
