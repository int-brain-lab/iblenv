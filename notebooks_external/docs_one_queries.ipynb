{
 "cells": [
  {
   "cell_type": "markdown",
   "metadata": {},
   "source": [
    "\n",
    "# List of useful one queries\n"
   ]
  },
  {
   "cell_type": "code",
   "execution_count": null,
   "metadata": {
    "execution": {
     "iopub.execute_input": "2022-02-02T15:59:08.000102Z",
     "iopub.status.busy": "2022-02-02T15:59:08.000102Z",
     "iopub.status.idle": "2022-02-02T15:59:09.141018Z",
     "shell.execute_reply": "2022-02-02T15:59:09.141018Z"
    }
   },
   "outputs": [],
   "source": [
    "from one.api import ONE\n",
    "one = ONE(base_url='https://openalyx.internationalbrainlab.org', silent=True)"
   ]
  },
  {
   "cell_type": "markdown",
   "metadata": {},
   "source": [
    "Query session for several subjects\n",
    "\n"
   ]
  },
  {
   "cell_type": "code",
   "execution_count": null,
   "metadata": {
    "execution": {
     "iopub.execute_input": "2022-02-02T15:59:09.141018Z",
     "iopub.status.busy": "2022-02-02T15:59:09.141018Z",
     "iopub.status.idle": "2022-02-02T15:59:09.156890Z",
     "shell.execute_reply": "2022-02-02T15:59:09.156890Z"
    }
   },
   "outputs": [],
   "source": [
    "subjects = ['DY_003', 'DY_006']\n",
    "ses = one.alyx.rest('sessions', 'list', django=f\"subject__nickname__in,{subjects}\")"
   ]
  },
  {
   "cell_type": "markdown",
   "metadata": {},
   "source": [
    "Query sessions that have histology available\n",
    "\n"
   ]
  },
  {
   "cell_type": "code",
   "execution_count": null,
   "metadata": {
    "execution": {
     "iopub.execute_input": "2022-02-02T15:59:09.156890Z",
     "iopub.status.busy": "2022-02-02T15:59:09.156890Z",
     "iopub.status.idle": "2022-02-02T15:59:09.188204Z",
     "shell.execute_reply": "2022-02-02T15:59:09.188204Z"
    }
   },
   "outputs": [],
   "source": [
    "ses = one.alyx.rest('sessions', 'list', histology=True)\n",
    "# the generic way\n",
    "ses = one.alyx.rest('sessions', 'list',\n",
    "                    django=\"subject__actions_sessions__procedures__name,Histology\")"
   ]
  },
  {
   "cell_type": "markdown",
   "metadata": {},
   "source": [
    "Query sessions that do not have matlab in the project name\n",
    "\n"
   ]
  },
  {
   "cell_type": "code",
   "execution_count": null,
   "metadata": {
    "execution": {
     "iopub.execute_input": "2022-02-02T15:59:09.188204Z",
     "iopub.status.busy": "2022-02-02T15:59:09.188204Z",
     "iopub.status.idle": "2022-02-02T15:59:09.203899Z",
     "shell.execute_reply": "2022-02-02T15:59:09.203899Z"
    }
   },
   "outputs": [],
   "source": [
    "ses = one.alyx.rest('sessions', 'list', django='~project__name__icontains,matlab')"
   ]
  },
  {
   "cell_type": "markdown",
   "metadata": {},
   "source": [
    "Query sessions that do not contain a given dataset type\n",
    "\n"
   ]
  },
  {
   "cell_type": "code",
   "execution_count": null,
   "metadata": {
    "execution": {
     "iopub.execute_input": "2022-02-02T15:59:09.203899Z",
     "iopub.status.busy": "2022-02-02T15:59:09.203899Z",
     "iopub.status.idle": "2022-02-02T15:59:09.219415Z",
     "shell.execute_reply": "2022-02-02T15:59:09.219415Z"
    }
   },
   "outputs": [],
   "source": [
    "ses = one.alyx.rest('sessions', 'list',\n",
    "                    django='~data_dataset_session_related__dataset_type__name__icontains,wheel')"
   ]
  },
  {
   "cell_type": "markdown",
   "metadata": {},
   "source": [
    "Query all sessions not labelled as CRITICAL\n",
    "\n"
   ]
  },
  {
   "cell_type": "code",
   "execution_count": null,
   "metadata": {
    "execution": {
     "iopub.execute_input": "2022-02-02T15:59:09.225423Z",
     "iopub.status.busy": "2022-02-02T15:59:09.225423Z",
     "iopub.status.idle": "2022-02-02T15:59:09.241403Z",
     "shell.execute_reply": "2022-02-02T15:59:09.241403Z"
    }
   },
   "outputs": [],
   "source": [
    "ses = one.alyx.rest('sessions', 'list', django='qc__lt,50')"
   ]
  },
  {
   "cell_type": "markdown",
   "metadata": {},
   "source": [
    "Query probe insertions for a given task protocol\n",
    "\n"
   ]
  },
  {
   "cell_type": "code",
   "execution_count": null,
   "metadata": {
    "execution": {
     "iopub.execute_input": "2022-02-02T15:59:09.241403Z",
     "iopub.status.busy": "2022-02-02T15:59:09.241403Z",
     "iopub.status.idle": "2022-02-02T15:59:09.272652Z",
     "shell.execute_reply": "2022-02-02T15:59:09.272652Z"
    }
   },
   "outputs": [],
   "source": [
    "ins = one.alyx.rest('insertions', 'list', django='session__task_protocol__icontains,choiceworld')"
   ]
  },
  {
   "cell_type": "markdown",
   "metadata": {},
   "source": [
    "Query trajectories with channels in given brain region\n",
    "\n"
   ]
  },
  {
   "cell_type": "code",
   "execution_count": null,
   "metadata": {
    "execution": {
     "iopub.execute_input": "2022-02-02T15:59:09.272652Z",
     "iopub.status.busy": "2022-02-02T15:59:09.272652Z",
     "iopub.status.idle": "2022-02-02T15:59:09.288277Z",
     "shell.execute_reply": "2022-02-02T15:59:09.288277Z"
    }
   },
   "outputs": [],
   "source": [
    "trajs = one.alyx.rest('trajectories', 'list', django='channels__brain_region__name__icontains,'\n",
    "                                                     'Entorhinal area medial part dorsal zone '\n",
    "                                                     'layer 2')"
   ]
  },
  {
   "cell_type": "markdown",
   "metadata": {},
   "source": [
    "Query spikesorting tasks that have errored in angelaki lab\n",
    "\n"
   ]
  },
  {
   "cell_type": "code",
   "execution_count": null,
   "metadata": {
    "execution": {
     "iopub.execute_input": "2022-02-02T15:59:09.288277Z",
     "iopub.status.busy": "2022-02-02T15:59:09.288277Z",
     "iopub.status.idle": "2022-02-02T15:59:09.303903Z",
     "shell.execute_reply": "2022-02-02T15:59:09.303903Z"
    }
   },
   "outputs": [],
   "source": [
    "errored = one.alyx.rest('tasks', 'list', status='Errored', lab='angelakilab',\n",
    "                        name='SpikeSorting')"
   ]
  },
  {
   "cell_type": "markdown",
   "metadata": {},
   "source": [
    "Query ephys sessions that have errored tasks\n",
    "\n"
   ]
  },
  {
   "cell_type": "code",
   "execution_count": null,
   "metadata": {
    "execution": {
     "iopub.execute_input": "2022-02-02T15:59:09.303903Z",
     "iopub.status.busy": "2022-02-02T15:59:09.303903Z",
     "iopub.status.idle": "2022-02-02T15:59:09.319530Z",
     "shell.execute_reply": "2022-02-02T15:59:09.319530Z"
    }
   },
   "outputs": [],
   "source": [
    "ses = one.alyx.rest('sessions', 'list', task_protocol='ephys', django='tasks__status,40')"
   ]
  },
  {
   "cell_type": "markdown",
   "metadata": {},
   "source": [
    "Query insertions that have alignment resolved\n",
    "\n"
   ]
  },
  {
   "cell_type": "code",
   "execution_count": null,
   "metadata": {
    "execution": {
     "iopub.execute_input": "2022-02-02T15:59:09.325536Z",
     "iopub.status.busy": "2022-02-02T15:59:09.325536Z",
     "iopub.status.idle": "2022-02-02T15:59:09.341517Z",
     "shell.execute_reply": "2022-02-02T15:59:09.341517Z"
    }
   },
   "outputs": [],
   "source": [
    "ins = one.alyx.rest('insertions', 'list', django='json__extended_qc__alignment_resolved,True')"
   ]
  },
  {
   "cell_type": "markdown",
   "metadata": {},
   "source": [
    "Get names of users who have aligned specified insertion\n",
    "\n"
   ]
  },
  {
   "cell_type": "code",
   "execution_count": null,
   "metadata": {
    "execution": {
     "iopub.execute_input": "2022-02-02T15:59:09.341517Z",
     "iopub.status.busy": "2022-02-02T15:59:09.341517Z",
     "iopub.status.idle": "2022-02-02T15:59:09.357175Z",
     "shell.execute_reply": "2022-02-02T15:59:09.357175Z"
    }
   },
   "outputs": [],
   "source": [
    "names = one.alyx.rest('trajectories', 'list', provenance='Ephys aligned histology track',\n",
    "                      probe_insertion='b749446c-18e3-4987-820a-50649ab0f826')[0]['json'].keys()"
   ]
  },
  {
   "cell_type": "markdown",
   "metadata": {},
   "source": [
    "List all sessions which any video QC set\n",
    "\n"
   ]
  },
  {
   "cell_type": "code",
   "execution_count": null,
   "metadata": {
    "execution": {
     "iopub.execute_input": "2022-02-02T15:59:09.357175Z",
     "iopub.status.busy": "2022-02-02T15:59:09.357175Z",
     "iopub.status.idle": "2022-02-02T15:59:09.372766Z",
     "shell.execute_reply": "2022-02-02T15:59:09.372766Z"
    }
   },
   "outputs": [],
   "source": [
    "keys = ('videoLeft', 'videoRight', 'videoBody')\n",
    "ses = one.alyx.rest('sessions', 'list', django=f'extended_qc__has_any_keys,{keys}')"
   ]
  },
  {
   "cell_type": "markdown",
   "metadata": {},
   "source": [
    "List all weighings for a given date\n",
    "\n"
   ]
  },
  {
   "cell_type": "code",
   "execution_count": null,
   "metadata": {
    "execution": {
     "iopub.execute_input": "2022-02-02T15:59:09.372766Z",
     "iopub.status.busy": "2022-02-02T15:59:09.372766Z",
     "iopub.status.idle": "2022-02-02T15:59:09.388395Z",
     "shell.execute_reply": "2022-02-02T15:59:09.388395Z"
    }
   },
   "outputs": [],
   "source": [
    "date = '2021-02-05'\n",
    "weighings = one.alyx.rest('weighings', 'list', django=f'date_time__date,{date}')"
   ]
  }
 ],
 "metadata": {
  "docs_executed": "executed",
  "kernelspec": {
   "display_name": "Python 3",
   "language": "python",
   "name": "python3"
  },
  "language_info": {
   "codemirror_mode": {
    "name": "ipython",
    "version": 3
   },
   "file_extension": ".py",
   "mimetype": "text/x-python",
   "name": "python",
   "nbconvert_exporter": "python",
   "pygments_lexer": "ipython3",
   "version": "3.9.7"
  }
 },
 "nbformat": 4,
 "nbformat_minor": 0
}
