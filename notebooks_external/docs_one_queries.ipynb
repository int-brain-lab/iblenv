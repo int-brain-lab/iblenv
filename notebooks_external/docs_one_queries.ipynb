{
 "cells": [
  {
   "cell_type": "markdown",
   "metadata": {},
   "source": [
    "\n",
    "# List of useful one queries\n"
   ]
  },
  {
   "cell_type": "code",
   "execution_count": null,
   "metadata": {
    "execution": {
     "iopub.execute_input": "2022-02-16T14:38:41.658443Z",
     "iopub.status.busy": "2022-02-16T14:38:41.658443Z",
     "iopub.status.idle": "2022-02-16T14:38:42.549014Z",
     "shell.execute_reply": "2022-02-16T14:38:42.549014Z"
    }
   },
   "outputs": [],
   "source": [
    "from one.api import ONE\n",
    "one = ONE(base_url='https://openalyx.internationalbrainlab.org', silent=True)"
   ]
  },
  {
   "cell_type": "markdown",
   "metadata": {},
   "source": [
    "Query session for several subjects\n",
    "\n"
   ]
  },
  {
   "cell_type": "code",
   "execution_count": null,
   "metadata": {
    "execution": {
     "iopub.execute_input": "2022-02-16T14:38:42.564691Z",
     "iopub.status.busy": "2022-02-16T14:38:42.564691Z",
     "iopub.status.idle": "2022-02-16T14:38:42.596078Z",
     "shell.execute_reply": "2022-02-16T14:38:42.596078Z"
    }
   },
   "outputs": [],
   "source": [
    "subjects = ['DY_003', 'DY_006']\n",
    "ses = one.alyx.rest('sessions', 'list', django=f\"subject__nickname__in,{subjects}\")"
   ]
  },
  {
   "cell_type": "markdown",
   "metadata": {},
   "source": [
    "Query sessions that have histology available\n",
    "\n"
   ]
  },
  {
   "cell_type": "code",
   "execution_count": null,
   "metadata": {
    "execution": {
     "iopub.execute_input": "2022-02-16T14:38:42.596078Z",
     "iopub.status.busy": "2022-02-16T14:38:42.596078Z",
     "iopub.status.idle": "2022-02-16T14:38:42.611705Z",
     "shell.execute_reply": "2022-02-16T14:38:42.611705Z"
    }
   },
   "outputs": [],
   "source": [
    "ses = one.alyx.rest('sessions', 'list', histology=True)\n",
    "# the generic way\n",
    "ses = one.alyx.rest('sessions', 'list',\n",
    "                    django=\"subject__actions_sessions__procedures__name,Histology\")"
   ]
  },
  {
   "cell_type": "markdown",
   "metadata": {},
   "source": [
    "Query sessions that do not have matlab in the project name\n",
    "\n"
   ]
  },
  {
   "cell_type": "code",
   "execution_count": null,
   "metadata": {
    "execution": {
     "iopub.execute_input": "2022-02-16T14:38:42.611705Z",
     "iopub.status.busy": "2022-02-16T14:38:42.611705Z",
     "iopub.status.idle": "2022-02-16T14:38:42.627352Z",
     "shell.execute_reply": "2022-02-16T14:38:42.627352Z"
    }
   },
   "outputs": [],
   "source": [
    "ses = one.alyx.rest('sessions', 'list', django='~project__name__icontains,matlab')"
   ]
  },
  {
   "cell_type": "markdown",
   "metadata": {},
   "source": [
    "Query sessions that do not contain a given dataset type\n",
    "\n"
   ]
  },
  {
   "cell_type": "code",
   "execution_count": null,
   "metadata": {
    "execution": {
     "iopub.execute_input": "2022-02-16T14:38:42.627352Z",
     "iopub.status.busy": "2022-02-16T14:38:42.627352Z",
     "iopub.status.idle": "2022-02-16T14:38:42.658761Z",
     "shell.execute_reply": "2022-02-16T14:38:42.658761Z"
    }
   },
   "outputs": [],
   "source": [
    "ses = one.alyx.rest('sessions', 'list',\n",
    "                    django='~data_dataset_session_related__dataset_type__name__icontains,wheel')"
   ]
  },
  {
   "cell_type": "markdown",
   "metadata": {},
   "source": [
    "Query all sessions not labelled as CRITICAL\n",
    "\n"
   ]
  },
  {
   "cell_type": "code",
   "execution_count": null,
   "metadata": {
    "execution": {
     "iopub.execute_input": "2022-02-16T14:38:42.658761Z",
     "iopub.status.busy": "2022-02-16T14:38:42.658761Z",
     "iopub.status.idle": "2022-02-16T14:38:42.674285Z",
     "shell.execute_reply": "2022-02-16T14:38:42.674285Z"
    }
   },
   "outputs": [],
   "source": [
    "ses = one.alyx.rest('sessions', 'list', django='qc__lt,50')"
   ]
  },
  {
   "cell_type": "markdown",
   "metadata": {},
   "source": [
    "Query probe insertions for a given task protocol\n",
    "\n"
   ]
  },
  {
   "cell_type": "code",
   "execution_count": null,
   "metadata": {
    "execution": {
     "iopub.execute_input": "2022-02-16T14:38:42.674285Z",
     "iopub.status.busy": "2022-02-16T14:38:42.674285Z",
     "iopub.status.idle": "2022-02-16T14:38:42.705617Z",
     "shell.execute_reply": "2022-02-16T14:38:42.705617Z"
    }
   },
   "outputs": [],
   "source": [
    "ins = one.alyx.rest('insertions', 'list', django='session__task_protocol__icontains,choiceworld')"
   ]
  },
  {
   "cell_type": "markdown",
   "metadata": {},
   "source": [
    "Query trajectories with channels in given brain region\n",
    "\n"
   ]
  },
  {
   "cell_type": "code",
   "execution_count": null,
   "metadata": {
    "execution": {
     "iopub.execute_input": "2022-02-16T14:38:42.705617Z",
     "iopub.status.busy": "2022-02-16T14:38:42.705617Z",
     "iopub.status.idle": "2022-02-16T14:38:42.721222Z",
     "shell.execute_reply": "2022-02-16T14:38:42.721222Z"
    }
   },
   "outputs": [],
   "source": [
    "trajs = one.alyx.rest('trajectories', 'list', django='channels__brain_region__name__icontains,'\n",
    "                                                     'Entorhinal area medial part dorsal zone '\n",
    "                                                     'layer 2')"
   ]
  },
  {
   "cell_type": "markdown",
   "metadata": {},
   "source": [
    "Query spikesorting tasks that have errored in angelaki lab\n",
    "\n"
   ]
  },
  {
   "cell_type": "code",
   "execution_count": null,
   "metadata": {
    "execution": {
     "iopub.execute_input": "2022-02-16T14:38:42.721222Z",
     "iopub.status.busy": "2022-02-16T14:38:42.721222Z",
     "iopub.status.idle": "2022-02-16T14:38:42.736840Z",
     "shell.execute_reply": "2022-02-16T14:38:42.736840Z"
    }
   },
   "outputs": [],
   "source": [
    "errored = one.alyx.rest('tasks', 'list', status='Errored', lab='angelakilab',\n",
    "                        name='SpikeSorting')"
   ]
  },
  {
   "cell_type": "markdown",
   "metadata": {},
   "source": [
    "Query ephys sessions that have errored tasks\n",
    "\n"
   ]
  },
  {
   "cell_type": "code",
   "execution_count": null,
   "metadata": {
    "execution": {
     "iopub.execute_input": "2022-02-16T14:38:42.736840Z",
     "iopub.status.busy": "2022-02-16T14:38:42.736840Z",
     "iopub.status.idle": "2022-02-16T14:38:42.752469Z",
     "shell.execute_reply": "2022-02-16T14:38:42.752469Z"
    }
   },
   "outputs": [],
   "source": [
    "ses = one.alyx.rest('sessions', 'list', task_protocol='ephys', django='tasks__status,40')"
   ]
  },
  {
   "cell_type": "markdown",
   "metadata": {},
   "source": [
    "Query insertions that have alignment resolved\n",
    "\n"
   ]
  },
  {
   "cell_type": "code",
   "execution_count": null,
   "metadata": {
    "execution": {
     "iopub.execute_input": "2022-02-16T14:38:42.752469Z",
     "iopub.status.busy": "2022-02-16T14:38:42.752469Z",
     "iopub.status.idle": "2022-02-16T14:38:42.768026Z",
     "shell.execute_reply": "2022-02-16T14:38:42.768026Z"
    }
   },
   "outputs": [],
   "source": [
    "ins = one.alyx.rest('insertions', 'list', django='json__extended_qc__alignment_resolved,True')"
   ]
  },
  {
   "cell_type": "markdown",
   "metadata": {},
   "source": [
    "Get names of users who have aligned specified insertion\n",
    "\n"
   ]
  },
  {
   "cell_type": "code",
   "execution_count": null,
   "metadata": {
    "execution": {
     "iopub.execute_input": "2022-02-16T14:38:42.768026Z",
     "iopub.status.busy": "2022-02-16T14:38:42.768026Z",
     "iopub.status.idle": "2022-02-16T14:38:42.783716Z",
     "shell.execute_reply": "2022-02-16T14:38:42.783716Z"
    }
   },
   "outputs": [],
   "source": [
    "names = one.alyx.rest('trajectories', 'list', provenance='Ephys aligned histology track',\n",
    "                      probe_insertion='b749446c-18e3-4987-820a-50649ab0f826')[0]['json'].keys()"
   ]
  },
  {
   "cell_type": "markdown",
   "metadata": {},
   "source": [
    "List all sessions which any video QC set\n",
    "\n"
   ]
  },
  {
   "cell_type": "code",
   "execution_count": null,
   "metadata": {
    "execution": {
     "iopub.execute_input": "2022-02-16T14:38:42.783716Z",
     "iopub.status.busy": "2022-02-16T14:38:42.783716Z",
     "iopub.status.idle": "2022-02-16T14:38:42.799341Z",
     "shell.execute_reply": "2022-02-16T14:38:42.799341Z"
    }
   },
   "outputs": [],
   "source": [
    "keys = ('videoLeft', 'videoRight', 'videoBody')\n",
    "ses = one.alyx.rest('sessions', 'list', django=f'extended_qc__has_any_keys,{keys}')"
   ]
  },
  {
   "cell_type": "markdown",
   "metadata": {},
   "source": [
    "List all weighings for a given date\n",
    "\n"
   ]
  },
  {
   "cell_type": "code",
   "execution_count": null,
   "metadata": {
    "execution": {
     "iopub.execute_input": "2022-02-16T14:38:42.799341Z",
     "iopub.status.busy": "2022-02-16T14:38:42.799341Z",
     "iopub.status.idle": "2022-02-16T14:38:42.814899Z",
     "shell.execute_reply": "2022-02-16T14:38:42.814899Z"
    }
   },
   "outputs": [],
   "source": [
    "date = '2021-02-05'\n",
    "weighings = one.alyx.rest('weighings', 'list', django=f'date_time__date,{date}')"
   ]
  }
 ],
 "metadata": {
  "docs_executed": "executed",
  "kernelspec": {
   "display_name": "Python 3",
   "language": "python",
   "name": "python3"
  },
  "language_info": {
   "codemirror_mode": {
    "name": "ipython",
    "version": 3
   },
   "file_extension": ".py",
   "mimetype": "text/x-python",
   "name": "python",
   "nbconvert_exporter": "python",
   "pygments_lexer": "ipython3",
   "version": "3.9.7"
  }
 },
 "nbformat": 4,
 "nbformat_minor": 0
}
