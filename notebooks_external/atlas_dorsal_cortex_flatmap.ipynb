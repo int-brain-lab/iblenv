{
 "cells": [
  {
   "cell_type": "markdown",
   "id": "fdc19afd",
   "metadata": {},
   "source": [
    "# Plotting brain region values on cortical flatmap"
   ]
  },
  {
   "cell_type": "markdown",
   "id": "328a2d74",
   "metadata": {},
   "source": [
    "This example walks through various ways to overlay brain region values on a cortical flatmap"
   ]
  },
  {
   "cell_type": "markdown",
   "id": "bd3eecf6",
   "metadata": {},
   "source": [
    "## The dorsal cortex flatmap"
   ]
  },
  {
   "cell_type": "markdown",
   "id": "8354c14e",
   "metadata": {},
   "source": [
    "The **dorsal_cortex** flatmap comprises a flattened volume of cortex up to depth 2000 um"
   ]
  },
  {
   "cell_type": "code",
   "execution_count": null,
   "id": "33fa3ec7",
   "metadata": {
    "execution": {
     "iopub.execute_input": "2023-01-11T16:40:06.398987Z",
     "iopub.status.busy": "2023-01-11T16:40:06.398603Z",
     "iopub.status.idle": "2023-01-11T16:40:11.537398Z",
     "shell.execute_reply": "2023-01-11T16:40:11.536769Z"
    }
   },
   "outputs": [],
   "source": [
    "from ibllib.atlas import FlatMap\n",
    "\n",
    "res = 25\n",
    "flmap = FlatMap(flatmap='dorsal_cortex', res_um=res)\n",
    "\n",
    "# Plot flatmap at depth = 0 \n",
    "flmap.plot_flatmap(int(0 / res))"
   ]
  },
  {
   "cell_type": "code",
   "execution_count": null,
   "id": "dfdd67e8",
   "metadata": {
    "execution": {
     "iopub.execute_input": "2023-01-11T16:40:11.540259Z",
     "iopub.status.busy": "2023-01-11T16:40:11.540032Z",
     "iopub.status.idle": "2023-01-11T16:40:11.755805Z",
     "shell.execute_reply": "2023-01-11T16:40:11.755282Z"
    }
   },
   "outputs": [],
   "source": [
    "# Plot flatmap at depth = 800 um\n",
    "flmap.plot_flatmap(int(800 / res))"
   ]
  },
  {
   "cell_type": "markdown",
   "id": "6e4a49d8",
   "metadata": {},
   "source": [
    "## Data preparation"
   ]
  },
  {
   "cell_type": "markdown",
   "id": "919372e5",
   "metadata": {},
   "source": [
    "In order to plot brain regions values on the flatmap an array of acronyms and an array of values corresponding to each acronym must be provided. A detailed overview of how to prepare your data can be found [here](https://int-brain-lab.github.io/iblenv/notebooks_external/atlas_plotting_scalar_on_slice.html#Data-preparation)"
   ]
  },
  {
   "cell_type": "code",
   "execution_count": null,
   "id": "0de1b18b",
   "metadata": {
    "execution": {
     "iopub.execute_input": "2023-01-11T16:40:11.758987Z",
     "iopub.status.busy": "2023-01-11T16:40:11.758362Z",
     "iopub.status.idle": "2023-01-11T16:40:11.763064Z",
     "shell.execute_reply": "2023-01-11T16:40:11.762436Z"
    }
   },
   "outputs": [],
   "source": [
    "import numpy as np\n",
    "# prepare array of acronyms\n",
    "acronyms = np.array(['ACAd1', 'ACAv1', 'AId1', 'AIp1', 'AIv1', 'AUDd1', 'AUDp1','AUDpo1', 'AUDv1', \n",
    "                     'SSp-m1', 'SSp-n1', 'SSp-tr1', 'SSp-ul1','SSp-un1', 'SSs1', \n",
    "                     'VISC1', 'VISa1', 'VISal1', 'VISam1', 'VISl1', 'VISli1', 'VISp1', 'VISp2/3', 'VISpl1', 'VISpm1', \n",
    "                     'SSp-n2/3', 'SSp-tr2/3', 'SSp-ul2/3', 'SSp-un2/3', 'SSs2/3',\n",
    "                     'VISC2/3', 'VISa2/3', 'VISal2/3', 'VISam2/3', 'VISl2/3','VISli2/3', 'VISp2/3', 'VISpl1', 'VISpl2/3'])\n",
    "# assign data to each acronym\n",
    "values = np.arange(acronyms.size)"
   ]
  },
  {
   "cell_type": "code",
   "execution_count": null,
   "id": "b9eb9b3a",
   "metadata": {
    "execution": {
     "iopub.execute_input": "2023-01-11T16:40:11.765554Z",
     "iopub.status.busy": "2023-01-11T16:40:11.765340Z",
     "iopub.status.idle": "2023-01-11T16:40:11.798867Z",
     "shell.execute_reply": "2023-01-11T16:40:11.798227Z"
    }
   },
   "outputs": [],
   "source": [
    "from ibllib.atlas.regions import BrainRegions\n",
    "br = BrainRegions()\n",
    "# prepare array of acronyms with beryl mapping\n",
    "acronyms_beryl = np.unique(br.acronym2acronym(acronyms, mapping='Beryl'))\n",
    "values_beryl = np.arange(acronyms_beryl.size)"
   ]
  },
  {
   "cell_type": "code",
   "execution_count": null,
   "id": "251385a1",
   "metadata": {
    "execution": {
     "iopub.execute_input": "2023-01-11T16:40:11.802351Z",
     "iopub.status.busy": "2023-01-11T16:40:11.802000Z",
     "iopub.status.idle": "2023-01-11T16:40:11.807050Z",
     "shell.execute_reply": "2023-01-11T16:40:11.806469Z"
    }
   },
   "outputs": [],
   "source": [
    "# prepare different values for left and right hemipshere for Beryl acronyms\n",
    "values_beryl_lh = np.random.randint(0, 10, acronyms_beryl.size)\n",
    "values_beryl_rh = np.random.randint(0, 10, acronyms_beryl.size)\n",
    "values_beryl_lr = np.c_[values_beryl_lh, values_beryl_rh]"
   ]
  },
  {
   "cell_type": "markdown",
   "id": "6ad92aca",
   "metadata": {},
   "source": [
    "## Examples"
   ]
  },
  {
   "cell_type": "code",
   "execution_count": null,
   "id": "e26dcf4c",
   "metadata": {
    "execution": {
     "iopub.execute_input": "2023-01-11T16:40:11.810291Z",
     "iopub.status.busy": "2023-01-11T16:40:11.809840Z",
     "iopub.status.idle": "2023-01-11T16:40:12.391351Z",
     "shell.execute_reply": "2023-01-11T16:40:12.390709Z"
    }
   },
   "outputs": [],
   "source": [
    "from ibllib.atlas.plots import plot_scalar_on_flatmap\n",
    "\n",
    "# Plot region values on the left hemisphere at depth=0um overlaid on boundary image using Allen mapping\n",
    "fig, ax = plot_scalar_on_flatmap(acronyms, values, depth=0, mapping='Allen', hemisphere='left', background='boundary',\n",
    "                                cmap='viridis', flmap_atlas=flmap)"
   ]
  },
  {
   "cell_type": "code",
   "execution_count": null,
   "id": "de4a63a0",
   "metadata": {
    "execution": {
     "iopub.execute_input": "2023-01-11T16:40:12.394645Z",
     "iopub.status.busy": "2023-01-11T16:40:12.394291Z",
     "iopub.status.idle": "2023-01-11T16:40:12.730271Z",
     "shell.execute_reply": "2023-01-11T16:40:12.729642Z"
    }
   },
   "outputs": [],
   "source": [
    "# Plot region values on the right hemisphere at depth=200um overlaid on boundary image using Allen mapping and show cbar\n",
    "fig, ax, cbar = plot_scalar_on_flatmap(acronyms, values, depth=200, mapping='Allen', hemisphere='right', background='boundary',\n",
    "                                cmap='Reds', flmap_atlas=flmap, show_cbar=True)"
   ]
  },
  {
   "cell_type": "code",
   "execution_count": null,
   "id": "da848f40",
   "metadata": {
    "execution": {
     "iopub.execute_input": "2023-01-11T16:40:12.733483Z",
     "iopub.status.busy": "2023-01-11T16:40:12.733017Z",
     "iopub.status.idle": "2023-01-11T16:40:13.038659Z",
     "shell.execute_reply": "2023-01-11T16:40:13.038022Z"
    }
   },
   "outputs": [],
   "source": [
    "# Plot single column region values on the both hemisphere at depth=800um overlaid dwi Allen image using Beryl mapping\n",
    "fig, ax = plot_scalar_on_flatmap(acronyms_beryl, values_beryl, depth=800, mapping='Beryl', hemisphere='both', \n",
    "                                 background='image', cmap='plasma', flmap_atlas=flmap)"
   ]
  },
  {
   "cell_type": "code",
   "execution_count": null,
   "id": "322f3a04",
   "metadata": {
    "execution": {
     "iopub.execute_input": "2023-01-11T16:40:13.041440Z",
     "iopub.status.busy": "2023-01-11T16:40:13.041206Z",
     "iopub.status.idle": "2023-01-11T16:40:13.411929Z",
     "shell.execute_reply": "2023-01-11T16:40:13.411385Z"
    }
   },
   "outputs": [],
   "source": [
    "# Plot two column region values on the both hemispheres at depth=0um on boundary image using Allen mapping\n",
    "fig, ax, cbar = plot_scalar_on_flatmap(acronyms_beryl, values_beryl_lr, depth=0, mapping='Beryl', hemisphere='both', \n",
    "                                      background='boundary', cmap='Blues', flmap_atlas=flmap, show_cbar=True)"
   ]
  }
 ],
 "metadata": {
  "docs_executed": "executed",
  "kernelspec": {
   "display_name": "Python [conda env:iblenv] *",
   "language": "python",
   "name": "conda-env-iblenv-py"
  },
  "language_info": {
   "codemirror_mode": {
    "name": "ipython",
    "version": 3
   },
   "file_extension": ".py",
   "mimetype": "text/x-python",
   "name": "python",
   "nbconvert_exporter": "python",
   "pygments_lexer": "ipython3",
   "version": "3.9.16"
  }
 },
 "nbformat": 4,
 "nbformat_minor": 5
}
