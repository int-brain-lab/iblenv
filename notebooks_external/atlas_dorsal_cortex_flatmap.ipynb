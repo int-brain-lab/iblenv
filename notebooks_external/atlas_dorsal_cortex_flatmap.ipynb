{
 "cells": [
  {
   "cell_type": "code",
   "execution_count": null,
   "id": "5711974f8dd963cd",
   "metadata": {
    "execution": {
     "iopub.execute_input": "2025-09-02T20:11:28.248121Z",
     "iopub.status.busy": "2025-09-02T20:11:28.247924Z",
     "iopub.status.idle": "2025-09-02T20:11:28.251710Z",
     "shell.execute_reply": "2025-09-02T20:11:28.251113Z"
    },
    "nbsphinx": "hidden"
   },
   "outputs": [],
   "source": [
    "# Turn off logging and disable tqdm this is a hidden cell on docs page\n",
    "import logging\n",
    "import os\n",
    "\n",
    "logger = logging.getLogger('ibllib')\n",
    "logger.setLevel(logging.CRITICAL)\n",
    "\n",
    "os.environ[\"TQDM_DISABLE\"] = \"1\""
   ]
  },
  {
   "cell_type": "markdown",
   "id": "fdc19afd",
   "metadata": {},
   "source": [
    "# Plotting brain region values on cortical flatmap"
   ]
  },
  {
   "cell_type": "markdown",
   "id": "328a2d74",
   "metadata": {},
   "source": [
    "This example walks through various ways to overlay brain region values on a cortical flatmap"
   ]
  },
  {
   "cell_type": "markdown",
   "id": "bd3eecf6",
   "metadata": {},
   "source": [
    "## The dorsal cortex flatmap"
   ]
  },
  {
   "cell_type": "markdown",
   "id": "8354c14e",
   "metadata": {},
   "source": [
    "The **dorsal_cortex** flatmap comprises a flattened volume of cortex up to depth 2000 um"
   ]
  },
  {
   "cell_type": "code",
   "execution_count": null,
   "id": "33fa3ec7",
   "metadata": {
    "execution": {
     "iopub.execute_input": "2025-09-02T20:11:28.253496Z",
     "iopub.status.busy": "2025-09-02T20:11:28.253314Z",
     "iopub.status.idle": "2025-09-02T20:11:31.868105Z",
     "shell.execute_reply": "2025-09-02T20:11:31.867483Z"
    }
   },
   "outputs": [],
   "source": [
    "from iblatlas.flatmaps import FlatMap\n",
    "\n",
    "res = 25\n",
    "flmap = FlatMap(flatmap='dorsal_cortex', res_um=res)\n",
    "\n",
    "# Plot flatmap at depth = 0 \n",
    "flmap.plot_flatmap(int(0 / res))"
   ]
  },
  {
   "cell_type": "code",
   "execution_count": null,
   "id": "dfdd67e8",
   "metadata": {
    "execution": {
     "iopub.execute_input": "2025-09-02T20:11:31.869978Z",
     "iopub.status.busy": "2025-09-02T20:11:31.869798Z",
     "iopub.status.idle": "2025-09-02T20:11:32.018420Z",
     "shell.execute_reply": "2025-09-02T20:11:32.017541Z"
    }
   },
   "outputs": [],
   "source": [
    "# Plot flatmap at depth = 800 um\n",
    "flmap.plot_flatmap(int(800 / res))"
   ]
  },
  {
   "cell_type": "markdown",
   "id": "6e4a49d8",
   "metadata": {},
   "source": [
    "## Data preparation"
   ]
  },
  {
   "cell_type": "markdown",
   "id": "919372e5",
   "metadata": {},
   "source": [
    "In order to plot brain regions values on the flatmap an array of acronyms and an array of values corresponding to each acronym must be provided. A detailed overview of how to prepare your data can be found [here](https://int-brain-lab.github.io/iblenv/notebooks_external/atlas_plotting_scalar_on_slice.html#Data-preparation)"
   ]
  },
  {
   "cell_type": "code",
   "execution_count": null,
   "id": "0de1b18b",
   "metadata": {
    "execution": {
     "iopub.execute_input": "2025-09-02T20:11:32.020324Z",
     "iopub.status.busy": "2025-09-02T20:11:32.020147Z",
     "iopub.status.idle": "2025-09-02T20:11:32.023910Z",
     "shell.execute_reply": "2025-09-02T20:11:32.023296Z"
    }
   },
   "outputs": [],
   "source": [
    "import numpy as np\n",
    "# prepare array of acronyms\n",
    "acronyms = np.array(['ACAd1', 'ACAv1', 'AId1', 'AIp1', 'AIv1', 'AUDd1', 'AUDp1','AUDpo1', 'AUDv1', \n",
    "                     'SSp-m1', 'SSp-n1', 'SSp-tr1', 'SSp-ul1','SSp-un1', 'SSs1', \n",
    "                     'VISC1', 'VISa1', 'VISal1', 'VISam1', 'VISl1', 'VISli1', 'VISp1', 'VISp2/3', 'VISpl1', 'VISpm1', \n",
    "                     'SSp-n2/3', 'SSp-tr2/3', 'SSp-ul2/3', 'SSp-un2/3', 'SSs2/3',\n",
    "                     'VISC2/3', 'VISa2/3', 'VISal2/3', 'VISam2/3', 'VISl2/3','VISli2/3', 'VISp2/3', 'VISpl1', 'VISpl2/3'])\n",
    "# assign data to each acronym\n",
    "values = np.arange(acronyms.size)"
   ]
  },
  {
   "cell_type": "code",
   "execution_count": null,
   "id": "b9eb9b3a",
   "metadata": {
    "execution": {
     "iopub.execute_input": "2025-09-02T20:11:32.025658Z",
     "iopub.status.busy": "2025-09-02T20:11:32.025486Z",
     "iopub.status.idle": "2025-09-02T20:11:32.051982Z",
     "shell.execute_reply": "2025-09-02T20:11:32.051483Z"
    }
   },
   "outputs": [],
   "source": [
    "from iblatlas.regions import BrainRegions\n",
    "br = BrainRegions()\n",
    "# prepare array of acronyms with beryl mapping\n",
    "acronyms_beryl = np.unique(br.acronym2acronym(acronyms, mapping='Beryl'))\n",
    "values_beryl = np.arange(acronyms_beryl.size)"
   ]
  },
  {
   "cell_type": "code",
   "execution_count": null,
   "id": "251385a1",
   "metadata": {
    "execution": {
     "iopub.execute_input": "2025-09-02T20:11:32.053714Z",
     "iopub.status.busy": "2025-09-02T20:11:32.053530Z",
     "iopub.status.idle": "2025-09-02T20:11:32.056282Z",
     "shell.execute_reply": "2025-09-02T20:11:32.055837Z"
    }
   },
   "outputs": [],
   "source": [
    "# prepare different values for left and right hemipshere for Beryl acronyms\n",
    "values_beryl_lh = np.random.randint(0, 10, acronyms_beryl.size)\n",
    "values_beryl_rh = np.random.randint(0, 10, acronyms_beryl.size)\n",
    "values_beryl_lr = np.c_[values_beryl_lh, values_beryl_rh]"
   ]
  },
  {
   "cell_type": "markdown",
   "id": "6ad92aca",
   "metadata": {},
   "source": [
    "## Examples"
   ]
  },
  {
   "cell_type": "code",
   "execution_count": null,
   "id": "e26dcf4c",
   "metadata": {
    "execution": {
     "iopub.execute_input": "2025-09-02T20:11:32.057908Z",
     "iopub.status.busy": "2025-09-02T20:11:32.057738Z",
     "iopub.status.idle": "2025-09-02T20:11:32.589513Z",
     "shell.execute_reply": "2025-09-02T20:11:32.588944Z"
    }
   },
   "outputs": [],
   "source": [
    "from iblatlas.plots import plot_scalar_on_flatmap\n",
    "\n",
    "# Plot region values on the left hemisphere at depth=0um overlaid on boundary image using Allen mapping\n",
    "fig, ax = plot_scalar_on_flatmap(acronyms, values, depth=0, mapping='Allen', hemisphere='left', background='boundary',\n",
    "                                cmap='viridis', flmap_atlas=flmap)"
   ]
  },
  {
   "cell_type": "code",
   "execution_count": null,
   "id": "de4a63a0",
   "metadata": {
    "execution": {
     "iopub.execute_input": "2025-09-02T20:11:32.591289Z",
     "iopub.status.busy": "2025-09-02T20:11:32.591113Z",
     "iopub.status.idle": "2025-09-02T20:11:32.874744Z",
     "shell.execute_reply": "2025-09-02T20:11:32.874132Z"
    }
   },
   "outputs": [],
   "source": [
    "# Plot region values on the right hemisphere at depth=200um overlaid on boundary image using Allen mapping and show cbar\n",
    "fig, ax, cbar = plot_scalar_on_flatmap(acronyms, values, depth=200, mapping='Allen', hemisphere='right', background='boundary',\n",
    "                                cmap='Reds', flmap_atlas=flmap, show_cbar=True)"
   ]
  },
  {
   "cell_type": "code",
   "execution_count": null,
   "id": "da848f40",
   "metadata": {
    "execution": {
     "iopub.execute_input": "2025-09-02T20:11:32.876656Z",
     "iopub.status.busy": "2025-09-02T20:11:32.876368Z",
     "iopub.status.idle": "2025-09-02T20:11:33.156811Z",
     "shell.execute_reply": "2025-09-02T20:11:33.156230Z"
    }
   },
   "outputs": [],
   "source": [
    "# Plot single column region values on the both hemisphere at depth=800um overlaid dwi Allen image using Beryl mapping\n",
    "fig, ax = plot_scalar_on_flatmap(acronyms_beryl, values_beryl, depth=800, mapping='Beryl', hemisphere='both', \n",
    "                                 background='image', cmap='plasma', flmap_atlas=flmap)"
   ]
  },
  {
   "cell_type": "code",
   "execution_count": null,
   "id": "322f3a04",
   "metadata": {
    "execution": {
     "iopub.execute_input": "2025-09-02T20:11:33.158653Z",
     "iopub.status.busy": "2025-09-02T20:11:33.158438Z",
     "iopub.status.idle": "2025-09-02T20:11:33.468105Z",
     "shell.execute_reply": "2025-09-02T20:11:33.467546Z"
    }
   },
   "outputs": [],
   "source": [
    "# Plot two column region values on the both hemispheres at depth=0um on boundary image using Allen mapping\n",
    "fig, ax, cbar = plot_scalar_on_flatmap(acronyms_beryl, values_beryl_lr, depth=0, mapping='Beryl', hemisphere='both', \n",
    "                                      background='boundary', cmap='Blues', flmap_atlas=flmap, show_cbar=True)"
   ]
  }
 ],
 "metadata": {
  "docs_executed": "executed",
  "kernelspec": {
   "display_name": "Python [conda env:iblenv] *",
   "language": "python",
   "name": "conda-env-iblenv-py"
  },
  "language_info": {
   "codemirror_mode": {
    "name": "ipython",
    "version": 3
   },
   "file_extension": ".py",
   "mimetype": "text/x-python",
   "name": "python",
   "nbconvert_exporter": "python",
   "pygments_lexer": "ipython3",
   "version": "3.12.11"
  }
 },
 "nbformat": 4,
 "nbformat_minor": 5
}
