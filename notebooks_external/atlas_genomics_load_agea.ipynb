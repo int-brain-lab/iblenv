{
 "cells": [
  {
   "cell_type": "markdown",
   "id": "48e25dbdfb3b180c",
   "metadata": {
    "collapsed": false,
    "jupyter": {
     "outputs_hidden": false
    }
   },
   "source": [
    "# Loading the gene expression atlas\n",
    "\n",
    "This will download a formatted version of the agea gene expression matrix and load the following variables:\n",
    "\n",
    "- `df_genes`: is a dataframe containing the genes names (size 4345)\n",
    "- `gene_expression_volumes`: is a 4D array of gene expression volumes, shape (ngenes, ML, DV, AP) = (4345, 58, 41, 67)\n",
    "- `atlas_agea`: is a `iblatlas.atlas.BrainAtlas` object with a geometry and anatomical labels matching the geometry of the AGEA volumes."
   ]
  },
  {
   "cell_type": "code",
   "execution_count": null,
   "id": "bb2f59faef37c1b3",
   "metadata": {
    "editable": true,
    "ibl_execute": false,
    "slideshow": {
     "slide_type": ""
    },
    "tags": []
   },
   "outputs": [],
   "source": [
    "import matplotlib.pyplot as plt\n",
    "from iblatlas.genomics import agea\n",
    "\n",
    "df_genes, gene_expression_volumes, atlas_agea = agea.load()"
   ]
  },
  {
   "cell_type": "markdown",
   "id": "62db803f3b14fc9",
   "metadata": {
    "collapsed": false,
    "editable": true,
    "jupyter": {
     "outputs_hidden": false
    },
    "slideshow": {
     "slide_type": ""
    },
    "tags": []
   },
   "source": [
    "To demonstrate how to using the atlas object, we will display registered coronal and a sagittal slices from the first gene.\n",
    "\n",
    "The top row is the diffusion MRI Allen template, the middle row corresponds to the brain regions annotations and the bottom row corresponds to the first gene expression volume."
   ]
  },
  {
   "cell_type": "code",
   "execution_count": null,
   "id": "e5b06d6b647373b4",
   "metadata": {
    "editable": true,
    "ibl_execute": false,
    "slideshow": {
     "slide_type": ""
    },
    "tags": []
   },
   "outputs": [],
   "source": [
    "igenes = (0,)\n",
    "fig, axs = plt.subplots(3, 2, sharex=True, sharey=True)\n",
    "atlas_agea.plot_cslice(0, ax=axs[0, 0])\n",
    "atlas_agea.plot_cslice(0, ax=axs[1, 0], volume='annotation')\n",
    "atlas_agea.plot_cslice(0, ax=axs[2, 0], volume=gene_expression_volumes[igenes[0]], cmap='viridis')\n",
    "atlas_agea.plot_sslice(0, ax=axs[0, 1])\n",
    "atlas_agea.plot_sslice(0, ax=axs[1, 1], volume='annotation')\n",
    "atlas_agea.plot_sslice(0, ax=axs[2, 1], volume=gene_expression_volumes[igenes[0]], cmap='viridis')\n",
    "fig.tight_layout()"
   ]
  }
 ],
 "metadata": {
  "docs_executed": "executed",
  "ibl_execute": false,
  "kernelspec": {
   "display_name": "Python 3 (ipykernel)",
   "language": "python",
   "name": "python3"
  },
  "language_info": {
   "codemirror_mode": {
    "name": "ipython",
    "version": 3
   },
   "file_extension": ".py",
   "mimetype": "text/x-python",
   "name": "python",
   "nbconvert_exporter": "python",
   "pygments_lexer": "ipython3",
   "version": "3.11.6"
  }
 },
 "nbformat": 4,
 "nbformat_minor": 5
}
