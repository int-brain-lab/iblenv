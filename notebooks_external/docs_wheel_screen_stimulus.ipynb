{
 "cells": [
  {
   "cell_type": "markdown",
   "id": "63c72402",
   "metadata": {},
   "source": [
    "# Computing the stimulus position using the wheel"
   ]
  },
  {
   "cell_type": "markdown",
   "id": "cd4144b5",
   "metadata": {},
   "source": [
    "In the IBL task a visual stimulus (Gabor patch of size 7°<sup>2</sup>) appears on the left (-35°) or right (+35°) of a screen and the mouse must use a wheel to bring the stimulus to the centre of the screen (0°). If the mouse moves the wheel in the correct direction, the trial is deemed correct and the mouse receives a reward. If however, the mouse moves the wheel 35° in the wrong direction and the stimulus goes off the screen, this is an error trial and the mouse receives a white noise error tone. The screen was positioned 8 cm in front of the animal and centralized relative to the position of eyes to cover ~102 visual degree azimuth. In the case that the mouse moves the stimulus 35° in the wrong direction, the stimulus, therefore is visible for 20° and the rest is off the screen.\n",
    "\n",
    "For some analyses it may be useful to know the position of the visual stimulus on the screen during a trial. While there is no direct read out of the location of the stimulus on the screen, as the stimulus is coupled to the wheel, we can infer the position using the wheel position. \n",
    "\n",
    "Below we walk you through an example of how to compute the continuous stimulus position on the screen for a given trial.\n",
    "\n",
    "For this anaylsis we need access to information about the wheel radius (3.1 cm) and the wheel gain (visual degrees moved on screen per mm of wheel movement). The wheel gain changes throughout the training period (see our [behavior paper](https://doi.org/10.7554/eLife.63711\n",
    ") for more information) but for the majority of sessions is set at 4°/mm."
   ]
  },
  {
   "cell_type": "code",
   "execution_count": null,
   "id": "2ae5f990",
   "metadata": {
    "execution": {
     "iopub.execute_input": "2025-09-02T15:24:41.319620Z",
     "iopub.status.busy": "2025-09-02T15:24:41.319422Z",
     "iopub.status.idle": "2025-09-02T15:24:41.323146Z",
     "shell.execute_reply": "2025-09-02T15:24:41.322554Z"
    },
    "nbsphinx": "hidden"
   },
   "outputs": [],
   "source": [
    "# Turn off logging and disable tqdm this is a hidden cell on docs page\n",
    "import logging\n",
    "import os\n",
    "\n",
    "logger = logging.getLogger('ibllib')\n",
    "logger.setLevel(logging.CRITICAL)\n",
    "\n",
    "os.environ[\"TQDM_DISABLE\"] = \"1\""
   ]
  },
  {
   "cell_type": "markdown",
   "id": "4014587e",
   "metadata": {},
   "source": [
    "## Step 1: Load data"
   ]
  },
  {
   "cell_type": "markdown",
   "id": "402f50ce",
   "metadata": {},
   "source": [
    "For this analysis we will need to load in the trials and wheel data for a chosen session"
   ]
  },
  {
   "cell_type": "code",
   "execution_count": null,
   "id": "8b92f69b",
   "metadata": {
    "ExecuteTime": {
     "end_time": "2024-04-24T08:31:09.018526Z",
     "start_time": "2024-04-24T08:31:07.846690Z"
    },
    "execution": {
     "iopub.execute_input": "2025-09-02T15:24:41.324839Z",
     "iopub.status.busy": "2025-09-02T15:24:41.324676Z",
     "iopub.status.idle": "2025-09-02T15:24:46.260635Z",
     "shell.execute_reply": "2025-09-02T15:24:46.259951Z"
    }
   },
   "outputs": [],
   "source": [
    "from one.api import ONE\n",
    "one = ONE(base_url='https://openalyx.internationalbrainlab.org')\n",
    "\n",
    "eid = 'f88d4dd4-ccd7-400e-9035-fa00be3bcfa8'\n",
    "trials = one.load_object(eid, 'trials')\n",
    "wheel = one.load_object(eid, 'wheel')"
   ]
  },
  {
   "cell_type": "markdown",
   "id": "2b7aa84b",
   "metadata": {},
   "source": [
    "## Step 2: Compute evenly sampled wheel data"
   ]
  },
  {
   "cell_type": "markdown",
   "id": "bfecd27e",
   "metadata": {},
   "source": [
    "The wheel data returned is not evenly sampled, we can sample the data at 1000 Hz using the following function"
   ]
  },
  {
   "cell_type": "code",
   "execution_count": null,
   "id": "b2c7b03d",
   "metadata": {
    "ExecuteTime": {
     "end_time": "2024-04-24T08:31:09.079343Z",
     "start_time": "2024-04-24T08:31:09.022391Z"
    },
    "execution": {
     "iopub.execute_input": "2025-09-02T15:24:46.262971Z",
     "iopub.status.busy": "2025-09-02T15:24:46.262691Z",
     "iopub.status.idle": "2025-09-02T15:24:47.251143Z",
     "shell.execute_reply": "2025-09-02T15:24:47.250449Z"
    }
   },
   "outputs": [],
   "source": [
    "import brainbox.behavior.wheel as wh\n",
    "wheel_pos, wheel_times = wh.interpolate_position(wheel.timestamps, wheel.position, freq=1000)"
   ]
  },
  {
   "cell_type": "markdown",
   "id": "c054fc52",
   "metadata": {},
   "source": [
    "## Step 3: Extract wheel data for a given trial"
   ]
  },
  {
   "cell_type": "markdown",
   "id": "e4c4b1fd",
   "metadata": {},
   "source": [
    "We now want to find the wheel data in the interval for a given trial"
   ]
  },
  {
   "cell_type": "code",
   "execution_count": null,
   "id": "600a7b6c",
   "metadata": {
    "ExecuteTime": {
     "end_time": "2024-04-24T08:31:09.085925Z",
     "start_time": "2024-04-24T08:31:09.084116Z"
    },
    "execution": {
     "iopub.execute_input": "2025-09-02T15:24:47.253525Z",
     "iopub.status.busy": "2025-09-02T15:24:47.253170Z",
     "iopub.status.idle": "2025-09-02T15:24:47.256947Z",
     "shell.execute_reply": "2025-09-02T15:24:47.256324Z"
    }
   },
   "outputs": [],
   "source": [
    "import numpy as np\n",
    "# Choose trial no. 110 (right contrast = 1) ; or 150 (left)\n",
    "tr_idx = 110\n",
    "# Get interval of trial, gives two values, start of trial and end of trial\n",
    "interval = trials['intervals'][tr_idx]\n",
    "# Find the index of the wheel timestamps that contain this interval\n",
    "wheel_idx = np.searchsorted(wheel_times, interval)\n",
    "# Limit our wheel data to these indexes\n",
    "wh_pos = wheel_pos[wheel_idx[0]:wheel_idx[1]]\n",
    "wh_times = wheel_times[wheel_idx[0]:wheel_idx[1]]"
   ]
  },
  {
   "cell_type": "markdown",
   "id": "56a8f59c",
   "metadata": {},
   "source": [
    "## Step 4: Compute the position in mm"
   ]
  },
  {
   "cell_type": "markdown",
   "id": "57b5b487",
   "metadata": {},
   "source": [
    "The values for the wheel position are given in radians. Since the wheel gain is defined in visual degrees per mm we need to convert the wheel position to mm. We can use the radius of the wheel for this."
   ]
  },
  {
   "cell_type": "code",
   "execution_count": null,
   "id": "785cb8ba",
   "metadata": {
    "ExecuteTime": {
     "end_time": "2024-04-24T08:31:09.092109Z",
     "start_time": "2024-04-24T08:31:09.090155Z"
    },
    "execution": {
     "iopub.execute_input": "2025-09-02T15:24:47.258650Z",
     "iopub.status.busy": "2025-09-02T15:24:47.258459Z",
     "iopub.status.idle": "2025-09-02T15:24:47.261512Z",
     "shell.execute_reply": "2025-09-02T15:24:47.260947Z"
    }
   },
   "outputs": [],
   "source": [
    "# radius of wheel in mm\n",
    "WHEEL_RADIUS = 3.1 * 10 \n",
    "# compute circumference of wheel\n",
    "wh_circ = 2 * np.pi * WHEEL_RADIUS\n",
    "# compute the mm turned be wheel degree\n",
    "mm_per_wh_deg = wh_circ / 360\n",
    "# convert wh_pos from radians to degrees\n",
    "wh_pos = wh_pos * 180 / np.pi\n",
    "# convert wh_pos from degrees to mm\n",
    "wh_pos = wh_pos * mm_per_wh_deg"
   ]
  },
  {
   "cell_type": "markdown",
   "id": "d1623b1d",
   "metadata": {},
   "source": [
    "## Step 5: Compute the wheel displacement from stimOn"
   ]
  },
  {
   "cell_type": "markdown",
   "id": "493661dc",
   "metadata": {},
   "source": [
    "To link the visual stimulus movement to the wheel position we need to compute the displacement of the wheel position relative to the time at which the stimulus first appears on the screen."
   ]
  },
  {
   "cell_type": "code",
   "execution_count": null,
   "id": "dc95dd15",
   "metadata": {
    "ExecuteTime": {
     "end_time": "2024-04-24T08:31:09.096554Z",
     "start_time": "2024-04-24T08:31:09.094108Z"
    },
    "execution": {
     "iopub.execute_input": "2025-09-02T15:24:47.263051Z",
     "iopub.status.busy": "2025-09-02T15:24:47.262878Z",
     "iopub.status.idle": "2025-09-02T15:24:47.265492Z",
     "shell.execute_reply": "2025-09-02T15:24:47.265033Z"
    }
   },
   "outputs": [],
   "source": [
    "# Find the index of the wheel timestamps when the stimulus was presented (stimOn_times)\n",
    "idx_stim = np.searchsorted(wh_times, trials['stimOn_times'][tr_idx])\n",
    "# Zero the wh_pos to the position at stimOn\n",
    "wh_pos = wh_pos - wh_pos[idx_stim]"
   ]
  },
  {
   "cell_type": "markdown",
   "id": "3f3c1843",
   "metadata": {},
   "source": [
    "## Step 6: Convert wheel displacement to screen position"
   ]
  },
  {
   "cell_type": "markdown",
   "id": "93ebf279",
   "metadata": {},
   "source": [
    "Now that we have computed the displacement of the wheel relative to when the stimulus was presented we can use the wheel gain to convert this into degrees of the visual stimlus on the screen."
   ]
  },
  {
   "cell_type": "code",
   "execution_count": null,
   "id": "27b9e495",
   "metadata": {
    "ExecuteTime": {
     "end_time": "2024-04-24T08:31:09.118395Z",
     "start_time": "2024-04-24T08:31:09.098359Z"
    },
    "execution": {
     "iopub.execute_input": "2025-09-02T15:24:47.267132Z",
     "iopub.status.busy": "2025-09-02T15:24:47.266967Z",
     "iopub.status.idle": "2025-09-02T15:24:47.269312Z",
     "shell.execute_reply": "2025-09-02T15:24:47.268838Z"
    }
   },
   "outputs": [],
   "source": [
    "GAIN_MM_TO_SC_DEG = 4\n",
    "stim_pos = wh_pos * GAIN_MM_TO_SC_DEG"
   ]
  },
  {
   "cell_type": "markdown",
   "id": "fea32dca",
   "metadata": {},
   "source": [
    "## Step 7: Fixing screen position linked to events"
   ]
  },
  {
   "cell_type": "markdown",
   "id": "e0189229",
   "metadata": {},
   "source": [
    "The stim_pos values that we have above have been computed over the whole trial interval, from trial start to trial end. The stimlus on the screen however is can only move with the wheel between the time at which the stimlus is presented (stimOn_times) and the time at which a choice is made (response_times). After a response is made the visual stimulus then remains in a fixed position until the it disappears from the screen (stimOff_times)"
   ]
  },
  {
   "cell_type": "code",
   "execution_count": null,
   "id": "11d86179",
   "metadata": {
    "ExecuteTime": {
     "end_time": "2024-04-24T08:31:09.229711Z",
     "start_time": "2024-04-24T08:31:09.227047Z"
    },
    "execution": {
     "iopub.execute_input": "2025-09-02T15:24:47.270940Z",
     "iopub.status.busy": "2025-09-02T15:24:47.270778Z",
     "iopub.status.idle": "2025-09-02T15:24:47.274340Z",
     "shell.execute_reply": "2025-09-02T15:24:47.273872Z"
    }
   },
   "outputs": [],
   "source": [
    "# Find the index of the wheel timestamps when the stimulus was presented (stimOn_times)\n",
    "idx_stim = np.searchsorted(wh_times, trials['stimOn_times'][tr_idx])\n",
    "# Find the index of the wheel timestamps when the choice was made (response_times)\n",
    "idx_res = np.searchsorted(wh_times, trials['response_times'][tr_idx])\n",
    "# Find the index of the wheel timestamps when the stimulus disappears (stimOff_times)\n",
    "idx_off = np.searchsorted(wh_times, trials['response_times'][tr_idx])\n",
    "\n",
    "# Before stimOn no stimulus on screen, so set to nan\n",
    "stim_pos[0:idx_stim - 1] = np.nan\n",
    "# Stimulus is in a fixed position between response time and stimOff time\n",
    "stim_pos[idx_res:idx_off - 1] = stim_pos[idx_res]\n",
    "# After stimOff no stimulus on screen, so set to nan\n",
    "stim_pos[idx_off:] = np.nan"
   ]
  },
  {
   "cell_type": "markdown",
   "id": "781fe47f",
   "metadata": {},
   "source": [
    "The stim_pos values are given relative to stimOn times but the stimulus appears at either -35° or 35° depending on the stimlus side. We therefore need to apply this offset to our stimulus position. We also need to account for the convention that increasing wheel position indicates a counter-clockwise movement and therefore a left-ward (-ve) movement of the stimulus in visual azimuth."
   ]
  },
  {
   "cell_type": "code",
   "execution_count": null,
   "id": "b89e9e87",
   "metadata": {
    "ExecuteTime": {
     "end_time": "2024-04-24T08:31:09.412405Z",
     "start_time": "2024-04-24T08:31:09.410332Z"
    },
    "execution": {
     "iopub.execute_input": "2025-09-02T15:24:47.275921Z",
     "iopub.status.busy": "2025-09-02T15:24:47.275763Z",
     "iopub.status.idle": "2025-09-02T15:24:47.278922Z",
     "shell.execute_reply": "2025-09-02T15:24:47.278444Z"
    }
   },
   "outputs": [],
   "source": [
    "# offset depends on whether stimulus was shown on left or right of screen\n",
    "\n",
    "ONSET_OFFSET = 35\n",
    "\n",
    "if np.isnan(trials['contrastLeft'][tr_idx]):\n",
    "    # The stimulus appeared on the right\n",
    "    # Values for the screen position will be >0\n",
    "    offset = ONSET_OFFSET  # The stimulus starts at +35 and goes to --> 0\n",
    "    stim_pos = -1 * stim_pos + offset\n",
    "else:\n",
    "    # The stimulus appeared on the left\n",
    "    # Values for the screen position will be <0\n",
    "    offset = -1 * ONSET_OFFSET # The stimulus starts at -35 and goes to --> 0\n",
    "    stim_pos = -1 * stim_pos + offset"
   ]
  },
  {
   "cell_type": "markdown",
   "id": "7fc5d580",
   "metadata": {},
   "source": [
    "## Step 8: Plotting our results"
   ]
  },
  {
   "cell_type": "markdown",
   "id": "ee7874ec",
   "metadata": {},
   "source": [
    "Finally we can plot our results to see if they make sense"
   ]
  },
  {
   "cell_type": "code",
   "execution_count": null,
   "id": "5e3fb652",
   "metadata": {
    "ExecuteTime": {
     "end_time": "2024-04-24T08:31:09.772469Z",
     "start_time": "2024-04-24T08:31:09.418855Z"
    },
    "execution": {
     "iopub.execute_input": "2025-09-02T15:24:47.280599Z",
     "iopub.status.busy": "2025-09-02T15:24:47.280412Z",
     "iopub.status.idle": "2025-09-02T15:24:47.486722Z",
     "shell.execute_reply": "2025-09-02T15:24:47.486098Z"
    }
   },
   "outputs": [],
   "source": [
    "import matplotlib.pyplot as plt\n",
    "fig, axs = plt.subplots(2, 1, sharex=True, height_ratios=[1, 3])\n",
    "\n",
    "# On top axis plot the wheel displacement\n",
    "axs[0].plot(wh_times, wh_pos, 'k')\n",
    "axs[0].vlines([trials['stimOn_times'][tr_idx], trials['response_times'][tr_idx]],\n",
    "              0, 1, transform=axs[0].get_xaxis_transform(), colors='k', linestyles='dashed')\n",
    "axs[0].text(trials['stimOn_times'][tr_idx], 1.01, 'stimOn', c='k', rotation=20,\n",
    "            rotation_mode='anchor', ha='left', transform=axs[0].get_xaxis_transform())\n",
    "axs[0].text(trials['response_times'][tr_idx], 1.01, 'response', c='k', rotation=20,\n",
    "            rotation_mode='anchor', ha='left', transform=axs[0].get_xaxis_transform())\n",
    "axs[0].set_ylabel('Wheel displacement (mm)')\n",
    "\n",
    "\n",
    "# On bottom axis plot the stimulus position\n",
    "axs[1].plot(wh_times, stim_pos, 'k')\n",
    "axs[1].vlines([trials['stimOn_times'][tr_idx], trials['response_times'][tr_idx]],\n",
    "              0, 1, transform=axs[1].get_xaxis_transform(), colors='k', linestyles='dashed')\n",
    "axs[1].set_xlim(trials['intervals'][tr_idx])\n",
    "# black dotted lines indicate starting stimulus position\n",
    "axs[1].hlines([-35, 35], *axs[1].get_xlim(), colors='k', linestyles='dotted')\n",
    "# green line indicates threshold for good trial\n",
    "axs[1].hlines([0], *axs[1].get_xlim(), colors='g', linestyles='solid')\n",
    "# red lines indicate threshold for incorrect trial\n",
    "axs[1].hlines([-70, 70], *axs[1].get_xlim(), colors='r', linestyles='solid')\n",
    "\n",
    "axs[1].set_ylim([-90, 90])\n",
    "axs[1].set_xlim(trials['stimOn_times'][tr_idx] - 0.1, trials['response_times'][tr_idx] + 0.1)\n",
    "axs[1].set_ylabel('Visual azimuth angle (°)')\n",
    "axs[1].set_xlabel('Time in session (s)')\n",
    "fig.suptitle(f\"ContrastLeft: {trials['contrastLeft'][tr_idx]}, ContrastRight: {trials['contrastRight'][tr_idx]},\"\n",
    "                 f\"FeedbackType {trials['feedbackType'][tr_idx]}\")\n",
    "\n"
   ]
  }
 ],
 "metadata": {
  "celltoolbar": "Edit Metadata",
  "docs_executed": "executed",
  "kernelspec": {
   "display_name": "Python 3 (ipykernel)",
   "language": "python",
   "name": "python3"
  },
  "language_info": {
   "codemirror_mode": {
    "name": "ipython",
    "version": 3
   },
   "file_extension": ".py",
   "mimetype": "text/x-python",
   "name": "python",
   "nbconvert_exporter": "python",
   "pygments_lexer": "ipython3",
   "version": "3.12.11"
  }
 },
 "nbformat": 4,
 "nbformat_minor": 5
}
