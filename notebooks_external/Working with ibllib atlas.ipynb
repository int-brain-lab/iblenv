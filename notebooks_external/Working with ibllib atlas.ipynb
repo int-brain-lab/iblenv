{
 "cells": [
  {
   "cell_type": "markdown",
   "id": "b767b213",
   "metadata": {},
   "source": [
    "# Working with IBL atlas object"
   ]
  },
  {
   "cell_type": "markdown",
   "id": "bba98311",
   "metadata": {},
   "source": [
    "## Getting started"
   ]
  },
  {
   "cell_type": "code",
   "execution_count": null,
   "id": "df873343",
   "metadata": {
    "execution": {
     "iopub.execute_input": "2022-02-16T14:51:49.903408Z",
     "iopub.status.busy": "2022-02-16T14:51:49.903408Z",
     "iopub.status.idle": "2022-02-16T14:51:52.181045Z",
     "shell.execute_reply": "2022-02-16T14:51:52.181045Z"
    }
   },
   "outputs": [],
   "source": [
    "from ibllib.atlas import AllenAtlas\n",
    "\n",
    "res = 25 # resolution of Atlas, available resolutions are 10, 25 (default) and 50\n",
    "brain_atlas = AllenAtlas(res_um=res)"
   ]
  },
  {
   "cell_type": "markdown",
   "id": "95a8e4db",
   "metadata": {},
   "source": [
    "## Exploring the volumes"
   ]
  },
  {
   "cell_type": "markdown",
   "id": "5f34f56c",
   "metadata": {},
   "source": [
    "### 1. Image Volume \n",
    "Allen atlas dwi average template"
   ]
  },
  {
   "cell_type": "code",
   "execution_count": null,
   "id": "769b4fd4",
   "metadata": {
    "execution": {
     "iopub.execute_input": "2022-02-16T14:51:52.196516Z",
     "iopub.status.busy": "2022-02-16T14:51:52.196516Z",
     "iopub.status.idle": "2022-02-16T14:51:52.368725Z",
     "shell.execute_reply": "2022-02-16T14:51:52.368725Z"
    }
   },
   "outputs": [],
   "source": [
    "# Access the image volume\n",
    "im = brain_atlas.image\n",
    "\n",
    "# Explore the size of the image volume (ap, ml, dv)\n",
    "im.shape\n",
    "\n",
    "# Plot a coronal slice at ap = -1000um\n",
    "ap = -1000 / 1e6  # input must be in metres\n",
    "ax = brain_atlas.plot_cslice(ap, volume='image')\n"
   ]
  },
  {
   "cell_type": "markdown",
   "id": "1c46789b",
   "metadata": {},
   "source": [
    "### Label Volume\n"
   ]
  },
  {
   "cell_type": "code",
   "execution_count": null,
   "id": "9b5b885e",
   "metadata": {
    "execution": {
     "iopub.execute_input": "2022-02-16T14:51:52.368725Z",
     "iopub.status.busy": "2022-02-16T14:51:52.368725Z",
     "iopub.status.idle": "2022-02-16T14:51:52.384192Z",
     "shell.execute_reply": "2022-02-16T14:51:52.384192Z"
    }
   },
   "outputs": [],
   "source": [
    "brain_atlas.bc.nxyz"
   ]
  },
  {
   "cell_type": "code",
   "execution_count": null,
   "id": "f710395f",
   "metadata": {
    "execution": {
     "iopub.execute_input": "2022-02-16T14:51:52.384192Z",
     "iopub.status.busy": "2022-02-16T14:51:52.384192Z",
     "iopub.status.idle": "2022-02-16T14:51:52.399828Z",
     "shell.execute_reply": "2022-02-16T14:51:52.399828Z"
    }
   },
   "outputs": [],
   "source": [
    "brain_atlas.regions.acronym.shape"
   ]
  },
  {
   "cell_type": "code",
   "execution_count": null,
   "id": "e8bf8781",
   "metadata": {
    "execution": {
     "iopub.execute_input": "2022-02-16T14:51:52.399828Z",
     "iopub.status.busy": "2022-02-16T14:51:52.399828Z",
     "iopub.status.idle": "2022-02-16T14:51:52.415454Z",
     "shell.execute_reply": "2022-02-16T14:51:52.415454Z"
    }
   },
   "outputs": [],
   "source": [
    "brain_atlas.bc.xyz2i([-1000/1e6, -1000/1e6, -4000/1e6])"
   ]
  },
  {
   "cell_type": "code",
   "execution_count": null,
   "id": "0680ca09",
   "metadata": {
    "execution": {
     "iopub.execute_input": "2022-02-16T14:51:52.415454Z",
     "iopub.status.busy": "2022-02-16T14:51:52.415454Z",
     "iopub.status.idle": "2022-02-16T14:51:52.431084Z",
     "shell.execute_reply": "2022-02-16T14:51:52.431084Z"
    }
   },
   "outputs": [],
   "source": [
    "brain_atlas.image[190, 256, 173] = 100000\n",
    "brain_atlas.image[256, 190, 173] = 100000000"
   ]
  },
  {
   "cell_type": "code",
   "execution_count": null,
   "id": "88e1fac5",
   "metadata": {
    "execution": {
     "iopub.execute_input": "2022-02-16T14:51:52.446656Z",
     "iopub.status.busy": "2022-02-16T14:51:52.446656Z",
     "iopub.status.idle": "2022-02-16T14:51:52.571884Z",
     "shell.execute_reply": "2022-02-16T14:51:52.571884Z"
    }
   },
   "outputs": [],
   "source": [
    "ax = brain_atlas.plot_cslice(ap, volume='image', vmax=10000)"
   ]
  },
  {
   "cell_type": "code",
   "execution_count": null,
   "id": "efd9a13d",
   "metadata": {
    "execution": {
     "iopub.execute_input": "2022-02-16T14:51:52.571884Z",
     "iopub.status.busy": "2022-02-16T14:51:52.571884Z",
     "iopub.status.idle": "2022-02-16T14:51:52.587283Z",
     "shell.execute_reply": "2022-02-16T14:51:52.587283Z"
    }
   },
   "outputs": [],
   "source": [
    "# understainding"
   ]
  }
 ],
 "metadata": {
  "docs_executed": "executed",
  "kernelspec": {
   "display_name": "Python [conda env:iblenv] *",
   "language": "python",
   "name": "conda-env-iblenv-py"
  },
  "language_info": {
   "codemirror_mode": {
    "name": "ipython",
    "version": 3
   },
   "file_extension": ".py",
   "mimetype": "text/x-python",
   "name": "python",
   "nbconvert_exporter": "python",
   "pygments_lexer": "ipython3",
   "version": "3.9.7"
  }
 },
 "nbformat": 4,
 "nbformat_minor": 5
}
