{
 "cells": [
  {
   "cell_type": "markdown",
   "id": "b767b213",
   "metadata": {},
   "source": [
    "# Working with IBL atlas object"
   ]
  },
  {
   "cell_type": "markdown",
   "id": "bba98311",
   "metadata": {},
   "source": [
    "## Getting started"
   ]
  },
  {
   "cell_type": "code",
   "execution_count": null,
   "id": "df873343",
   "metadata": {
    "execution": {
     "iopub.execute_input": "2023-06-21T12:31:40.995423Z",
     "iopub.status.busy": "2023-06-21T12:31:40.995191Z",
     "iopub.status.idle": "2023-06-21T12:31:43.124431Z",
     "shell.execute_reply": "2023-06-21T12:31:43.123618Z"
    }
   },
   "outputs": [],
   "source": [
    "from ibllib.atlas import AllenAtlas\n",
    "\n",
    "res = 25 # resolution of Atlas, available resolutions are 10, 25 (default) and 50\n",
    "brain_atlas = AllenAtlas(res_um=res)"
   ]
  },
  {
   "cell_type": "markdown",
   "id": "95a8e4db",
   "metadata": {},
   "source": [
    "## Exploring the volumes"
   ]
  },
  {
   "cell_type": "markdown",
   "id": "5f34f56c",
   "metadata": {},
   "source": [
    "### 1. Image Volume \n",
    "Allen atlas dwi average template"
   ]
  },
  {
   "cell_type": "code",
   "execution_count": null,
   "id": "769b4fd4",
   "metadata": {
    "execution": {
     "iopub.execute_input": "2023-06-21T12:31:43.128255Z",
     "iopub.status.busy": "2023-06-21T12:31:43.128017Z",
     "iopub.status.idle": "2023-06-21T12:31:43.374617Z",
     "shell.execute_reply": "2023-06-21T12:31:43.373408Z"
    }
   },
   "outputs": [],
   "source": [
    "# Access the image volume\n",
    "im = brain_atlas.image\n",
    "\n",
    "# Explore the size of the image volume (ap, ml, dv)\n",
    "im.shape\n",
    "\n",
    "# Plot a coronal slice at ap = -1000um\n",
    "ap = -1000 / 1e6  # input must be in metres\n",
    "ax = brain_atlas.plot_cslice(ap, volume='image')\n"
   ]
  },
  {
   "cell_type": "markdown",
   "id": "1c46789b",
   "metadata": {},
   "source": [
    "### Label Volume\n"
   ]
  },
  {
   "cell_type": "code",
   "execution_count": null,
   "id": "9b5b885e",
   "metadata": {
    "execution": {
     "iopub.execute_input": "2023-06-21T12:31:43.377927Z",
     "iopub.status.busy": "2023-06-21T12:31:43.377686Z",
     "iopub.status.idle": "2023-06-21T12:31:43.384630Z",
     "shell.execute_reply": "2023-06-21T12:31:43.383873Z"
    }
   },
   "outputs": [],
   "source": [
    "brain_atlas.bc.nxyz"
   ]
  },
  {
   "cell_type": "code",
   "execution_count": null,
   "id": "f710395f",
   "metadata": {
    "execution": {
     "iopub.execute_input": "2023-06-21T12:31:43.387505Z",
     "iopub.status.busy": "2023-06-21T12:31:43.387286Z",
     "iopub.status.idle": "2023-06-21T12:31:43.391537Z",
     "shell.execute_reply": "2023-06-21T12:31:43.390893Z"
    }
   },
   "outputs": [],
   "source": [
    "brain_atlas.regions.acronym.shape"
   ]
  },
  {
   "cell_type": "code",
   "execution_count": null,
   "id": "e8bf8781",
   "metadata": {
    "execution": {
     "iopub.execute_input": "2023-06-21T12:31:43.395018Z",
     "iopub.status.busy": "2023-06-21T12:31:43.394798Z",
     "iopub.status.idle": "2023-06-21T12:31:43.401397Z",
     "shell.execute_reply": "2023-06-21T12:31:43.400630Z"
    }
   },
   "outputs": [],
   "source": [
    "brain_atlas.bc.xyz2i([-1000/1e6, -1000/1e6, -4000/1e6])"
   ]
  },
  {
   "cell_type": "code",
   "execution_count": null,
   "id": "0680ca09",
   "metadata": {
    "execution": {
     "iopub.execute_input": "2023-06-21T12:31:43.404208Z",
     "iopub.status.busy": "2023-06-21T12:31:43.403995Z",
     "iopub.status.idle": "2023-06-21T12:31:43.408777Z",
     "shell.execute_reply": "2023-06-21T12:31:43.408070Z"
    }
   },
   "outputs": [],
   "source": [
    "brain_atlas.image[190, 256, 173] = 100000\n",
    "brain_atlas.image[256, 190, 173] = 100000000"
   ]
  },
  {
   "cell_type": "code",
   "execution_count": null,
   "id": "88e1fac5",
   "metadata": {
    "execution": {
     "iopub.execute_input": "2023-06-21T12:31:43.411610Z",
     "iopub.status.busy": "2023-06-21T12:31:43.411395Z",
     "iopub.status.idle": "2023-06-21T12:31:43.601984Z",
     "shell.execute_reply": "2023-06-21T12:31:43.601296Z"
    }
   },
   "outputs": [],
   "source": [
    "ax = brain_atlas.plot_cslice(ap, volume='image', vmax=10000)"
   ]
  },
  {
   "cell_type": "code",
   "execution_count": null,
   "id": "efd9a13d",
   "metadata": {
    "execution": {
     "iopub.execute_input": "2023-06-21T12:31:43.605212Z",
     "iopub.status.busy": "2023-06-21T12:31:43.604720Z",
     "iopub.status.idle": "2023-06-21T12:31:43.608094Z",
     "shell.execute_reply": "2023-06-21T12:31:43.607490Z"
    }
   },
   "outputs": [],
   "source": [
    "# understainding"
   ]
  }
 ],
 "metadata": {
  "docs_executed": "executed",
  "kernelspec": {
   "display_name": "Python [conda env:iblenv] *",
   "language": "python",
   "name": "conda-env-iblenv-py"
  },
  "language_info": {
   "codemirror_mode": {
    "name": "ipython",
    "version": 3
   },
   "file_extension": ".py",
   "mimetype": "text/x-python",
   "name": "python",
   "nbconvert_exporter": "python",
   "pygments_lexer": "ipython3",
   "version": "3.9.17"
  }
 },
 "nbformat": 4,
 "nbformat_minor": 5
}
