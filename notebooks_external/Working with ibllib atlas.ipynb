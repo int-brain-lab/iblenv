{
 "cells": [
  {
   "cell_type": "markdown",
   "id": "b767b213",
   "metadata": {},
   "source": [
    "# Working with IBL atlas object"
   ]
  },
  {
   "cell_type": "markdown",
   "id": "bba98311",
   "metadata": {},
   "source": [
    "## Getting started"
   ]
  },
  {
   "cell_type": "code",
   "execution_count": null,
   "id": "df873343",
   "metadata": {
    "execution": {
     "iopub.execute_input": "2022-05-07T00:31:13.160291Z",
     "iopub.status.busy": "2022-05-07T00:31:13.160291Z",
     "iopub.status.idle": "2022-05-07T00:31:15.362293Z",
     "shell.execute_reply": "2022-05-07T00:31:15.363329Z"
    }
   },
   "outputs": [],
   "source": [
    "from ibllib.atlas import AllenAtlas\n",
    "\n",
    "res = 25 # resolution of Atlas, available resolutions are 10, 25 (default) and 50\n",
    "brain_atlas = AllenAtlas(res_um=res)"
   ]
  },
  {
   "cell_type": "markdown",
   "id": "95a8e4db",
   "metadata": {},
   "source": [
    "## Exploring the volumes"
   ]
  },
  {
   "cell_type": "markdown",
   "id": "5f34f56c",
   "metadata": {},
   "source": [
    "### 1. Image Volume \n",
    "Allen atlas dwi average template"
   ]
  },
  {
   "cell_type": "code",
   "execution_count": null,
   "id": "769b4fd4",
   "metadata": {
    "execution": {
     "iopub.execute_input": "2022-05-07T00:31:15.378293Z",
     "iopub.status.busy": "2022-05-07T00:31:15.377292Z",
     "iopub.status.idle": "2022-05-07T00:31:15.551310Z",
     "shell.execute_reply": "2022-05-07T00:31:15.552339Z"
    }
   },
   "outputs": [],
   "source": [
    "# Access the image volume\n",
    "im = brain_atlas.image\n",
    "\n",
    "# Explore the size of the image volume (ap, ml, dv)\n",
    "im.shape\n",
    "\n",
    "# Plot a coronal slice at ap = -1000um\n",
    "ap = -1000 / 1e6  # input must be in metres\n",
    "ax = brain_atlas.plot_cslice(ap, volume='image')\n"
   ]
  },
  {
   "cell_type": "markdown",
   "id": "1c46789b",
   "metadata": {},
   "source": [
    "### Label Volume\n"
   ]
  },
  {
   "cell_type": "code",
   "execution_count": null,
   "id": "9b5b885e",
   "metadata": {
    "execution": {
     "iopub.execute_input": "2022-05-07T00:31:15.556292Z",
     "iopub.status.busy": "2022-05-07T00:31:15.555294Z",
     "iopub.status.idle": "2022-05-07T00:31:15.568346Z",
     "shell.execute_reply": "2022-05-07T00:31:15.567298Z"
    }
   },
   "outputs": [],
   "source": [
    "brain_atlas.bc.nxyz"
   ]
  },
  {
   "cell_type": "code",
   "execution_count": null,
   "id": "f710395f",
   "metadata": {
    "execution": {
     "iopub.execute_input": "2022-05-07T00:31:15.572291Z",
     "iopub.status.busy": "2022-05-07T00:31:15.571292Z",
     "iopub.status.idle": "2022-05-07T00:31:15.584481Z",
     "shell.execute_reply": "2022-05-07T00:31:15.583480Z"
    }
   },
   "outputs": [],
   "source": [
    "brain_atlas.regions.acronym.shape"
   ]
  },
  {
   "cell_type": "code",
   "execution_count": null,
   "id": "e8bf8781",
   "metadata": {
    "execution": {
     "iopub.execute_input": "2022-05-07T00:31:15.589476Z",
     "iopub.status.busy": "2022-05-07T00:31:15.588475Z",
     "iopub.status.idle": "2022-05-07T00:31:15.599064Z",
     "shell.execute_reply": "2022-05-07T00:31:15.600098Z"
    }
   },
   "outputs": [],
   "source": [
    "brain_atlas.bc.xyz2i([-1000/1e6, -1000/1e6, -4000/1e6])"
   ]
  },
  {
   "cell_type": "code",
   "execution_count": null,
   "id": "0680ca09",
   "metadata": {
    "execution": {
     "iopub.execute_input": "2022-05-07T00:31:15.604059Z",
     "iopub.status.busy": "2022-05-07T00:31:15.603062Z",
     "iopub.status.idle": "2022-05-07T00:31:15.614808Z",
     "shell.execute_reply": "2022-05-07T00:31:15.614808Z"
    }
   },
   "outputs": [],
   "source": [
    "brain_atlas.image[190, 256, 173] = 100000\n",
    "brain_atlas.image[256, 190, 173] = 100000000"
   ]
  },
  {
   "cell_type": "code",
   "execution_count": null,
   "id": "88e1fac5",
   "metadata": {
    "execution": {
     "iopub.execute_input": "2022-05-07T00:31:15.628807Z",
     "iopub.status.busy": "2022-05-07T00:31:15.621806Z",
     "iopub.status.idle": "2022-05-07T00:31:15.742462Z",
     "shell.execute_reply": "2022-05-07T00:31:15.741427Z"
    }
   },
   "outputs": [],
   "source": [
    "ax = brain_atlas.plot_cslice(ap, volume='image', vmax=10000)"
   ]
  },
  {
   "cell_type": "code",
   "execution_count": null,
   "id": "efd9a13d",
   "metadata": {
    "execution": {
     "iopub.execute_input": "2022-05-07T00:31:15.745427Z",
     "iopub.status.busy": "2022-05-07T00:31:15.745427Z",
     "iopub.status.idle": "2022-05-07T00:31:15.757471Z",
     "shell.execute_reply": "2022-05-07T00:31:15.758462Z"
    }
   },
   "outputs": [],
   "source": [
    "# understainding"
   ]
  }
 ],
 "metadata": {
  "docs_executed": "executed",
  "kernelspec": {
   "display_name": "Python [conda env:iblenv] *",
   "language": "python",
   "name": "conda-env-iblenv-py"
  },
  "language_info": {
   "codemirror_mode": {
    "name": "ipython",
    "version": 3
   },
   "file_extension": ".py",
   "mimetype": "text/x-python",
   "name": "python",
   "nbconvert_exporter": "python",
   "pygments_lexer": "ipython3",
   "version": "3.9.7"
  }
 },
 "nbformat": 4,
 "nbformat_minor": 5
}
