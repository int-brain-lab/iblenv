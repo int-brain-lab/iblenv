{
 "cells": [
  {
   "cell_type": "markdown",
   "id": "b767b213",
   "metadata": {},
   "source": [
    "# Working with IBL atlas object"
   ]
  },
  {
   "cell_type": "markdown",
   "id": "bba98311",
   "metadata": {},
   "source": [
    "## Getting started"
   ]
  },
  {
   "cell_type": "code",
   "execution_count": null,
   "id": "df873343",
   "metadata": {
    "execution": {
     "iopub.execute_input": "2023-01-05T14:55:50.005997Z",
     "iopub.status.busy": "2023-01-05T14:55:50.005730Z",
     "iopub.status.idle": "2023-01-05T14:55:52.191411Z",
     "shell.execute_reply": "2023-01-05T14:55:52.190154Z"
    }
   },
   "outputs": [],
   "source": [
    "from ibllib.atlas import AllenAtlas\n",
    "\n",
    "res = 25 # resolution of Atlas, available resolutions are 10, 25 (default) and 50\n",
    "brain_atlas = AllenAtlas(res_um=res)"
   ]
  },
  {
   "cell_type": "markdown",
   "id": "95a8e4db",
   "metadata": {},
   "source": [
    "## Exploring the volumes"
   ]
  },
  {
   "cell_type": "markdown",
   "id": "5f34f56c",
   "metadata": {},
   "source": [
    "### 1. Image Volume \n",
    "Allen atlas dwi average template"
   ]
  },
  {
   "cell_type": "code",
   "execution_count": null,
   "id": "769b4fd4",
   "metadata": {
    "execution": {
     "iopub.execute_input": "2023-01-05T14:55:52.196209Z",
     "iopub.status.busy": "2023-01-05T14:55:52.195435Z",
     "iopub.status.idle": "2023-01-05T14:55:52.419906Z",
     "shell.execute_reply": "2023-01-05T14:55:52.419266Z"
    }
   },
   "outputs": [],
   "source": [
    "# Access the image volume\n",
    "im = brain_atlas.image\n",
    "\n",
    "# Explore the size of the image volume (ap, ml, dv)\n",
    "im.shape\n",
    "\n",
    "# Plot a coronal slice at ap = -1000um\n",
    "ap = -1000 / 1e6  # input must be in metres\n",
    "ax = brain_atlas.plot_cslice(ap, volume='image')\n"
   ]
  },
  {
   "cell_type": "markdown",
   "id": "1c46789b",
   "metadata": {},
   "source": [
    "### Label Volume\n"
   ]
  },
  {
   "cell_type": "code",
   "execution_count": null,
   "id": "9b5b885e",
   "metadata": {
    "execution": {
     "iopub.execute_input": "2023-01-05T14:55:52.425700Z",
     "iopub.status.busy": "2023-01-05T14:55:52.425076Z",
     "iopub.status.idle": "2023-01-05T14:55:52.429801Z",
     "shell.execute_reply": "2023-01-05T14:55:52.429302Z"
    }
   },
   "outputs": [],
   "source": [
    "brain_atlas.bc.nxyz"
   ]
  },
  {
   "cell_type": "code",
   "execution_count": null,
   "id": "f710395f",
   "metadata": {
    "execution": {
     "iopub.execute_input": "2023-01-05T14:55:52.432641Z",
     "iopub.status.busy": "2023-01-05T14:55:52.432095Z",
     "iopub.status.idle": "2023-01-05T14:55:52.436661Z",
     "shell.execute_reply": "2023-01-05T14:55:52.436026Z"
    }
   },
   "outputs": [],
   "source": [
    "brain_atlas.regions.acronym.shape"
   ]
  },
  {
   "cell_type": "code",
   "execution_count": null,
   "id": "e8bf8781",
   "metadata": {
    "execution": {
     "iopub.execute_input": "2023-01-05T14:55:52.440201Z",
     "iopub.status.busy": "2023-01-05T14:55:52.439982Z",
     "iopub.status.idle": "2023-01-05T14:55:52.444663Z",
     "shell.execute_reply": "2023-01-05T14:55:52.444029Z"
    }
   },
   "outputs": [],
   "source": [
    "brain_atlas.bc.xyz2i([-1000/1e6, -1000/1e6, -4000/1e6])"
   ]
  },
  {
   "cell_type": "code",
   "execution_count": null,
   "id": "0680ca09",
   "metadata": {
    "execution": {
     "iopub.execute_input": "2023-01-05T14:55:52.448138Z",
     "iopub.status.busy": "2023-01-05T14:55:52.447714Z",
     "iopub.status.idle": "2023-01-05T14:55:52.451043Z",
     "shell.execute_reply": "2023-01-05T14:55:52.450388Z"
    }
   },
   "outputs": [],
   "source": [
    "brain_atlas.image[190, 256, 173] = 100000\n",
    "brain_atlas.image[256, 190, 173] = 100000000"
   ]
  },
  {
   "cell_type": "code",
   "execution_count": null,
   "id": "88e1fac5",
   "metadata": {
    "execution": {
     "iopub.execute_input": "2023-01-05T14:55:52.455395Z",
     "iopub.status.busy": "2023-01-05T14:55:52.455177Z",
     "iopub.status.idle": "2023-01-05T14:55:52.625056Z",
     "shell.execute_reply": "2023-01-05T14:55:52.624349Z"
    }
   },
   "outputs": [],
   "source": [
    "ax = brain_atlas.plot_cslice(ap, volume='image', vmax=10000)"
   ]
  },
  {
   "cell_type": "code",
   "execution_count": null,
   "id": "efd9a13d",
   "metadata": {
    "execution": {
     "iopub.execute_input": "2023-01-05T14:55:52.628350Z",
     "iopub.status.busy": "2023-01-05T14:55:52.628110Z",
     "iopub.status.idle": "2023-01-05T14:55:52.632381Z",
     "shell.execute_reply": "2023-01-05T14:55:52.631506Z"
    }
   },
   "outputs": [],
   "source": [
    "# understainding"
   ]
  }
 ],
 "metadata": {
  "docs_executed": "executed",
  "kernelspec": {
   "display_name": "Python [conda env:iblenv] *",
   "language": "python",
   "name": "conda-env-iblenv-py"
  },
  "language_info": {
   "codemirror_mode": {
    "name": "ipython",
    "version": 3
   },
   "file_extension": ".py",
   "mimetype": "text/x-python",
   "name": "python",
   "nbconvert_exporter": "python",
   "pygments_lexer": "ipython3",
   "version": "3.9.16"
  }
 },
 "nbformat": 4,
 "nbformat_minor": 5
}
