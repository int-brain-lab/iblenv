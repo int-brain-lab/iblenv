{
 "cells": [
  {
   "cell_type": "markdown",
   "id": "b767b213",
   "metadata": {},
   "source": [
    "# Working with IBL atlas object"
   ]
  },
  {
   "cell_type": "markdown",
   "id": "bba98311",
   "metadata": {},
   "source": [
    "## Getting started"
   ]
  },
  {
   "cell_type": "markdown",
   "id": "461b8f34",
   "metadata": {},
   "source": [
    "The Allen atlas image and annotation volumes can be accessed using the `iblatlas.atlas.AllenAtlas` class. Upon instantiating the class for the first time, the relevant files will be downloaded from the Allen database."
   ]
  },
  {
   "cell_type": "code",
   "execution_count": null,
   "id": "df873343",
   "metadata": {
    "execution": {
     "iopub.execute_input": "2024-07-02T14:12:42.643683Z",
     "iopub.status.busy": "2024-07-02T14:12:42.643471Z",
     "iopub.status.idle": "2024-07-02T14:12:44.256377Z",
     "shell.execute_reply": "2024-07-02T14:12:44.255755Z"
    }
   },
   "outputs": [],
   "source": [
    "from iblatlas.atlas import AllenAtlas\n",
    "\n",
    "res = 25 # resolution of Atlas, available resolutions are 10, 25 (default) and 50\n",
    "brain_atlas = AllenAtlas(res_um=res)"
   ]
  },
  {
   "cell_type": "markdown",
   "id": "95a8e4db",
   "metadata": {},
   "source": [
    "## Exploring the volumes"
   ]
  },
  {
   "cell_type": "markdown",
   "id": "12f16b38",
   "metadata": {},
   "source": [
    "The brain_atlas class contains two volumes, the dwi image volume and the annotation label volume"
   ]
  },
  {
   "cell_type": "markdown",
   "id": "5f34f56c",
   "metadata": {},
   "source": [
    "### 1. Image Volume \n",
    "Allen atlas dwi average template"
   ]
  },
  {
   "cell_type": "code",
   "execution_count": null,
   "id": "769b4fd4",
   "metadata": {
    "execution": {
     "iopub.execute_input": "2024-07-02T14:12:44.259613Z",
     "iopub.status.busy": "2024-07-02T14:12:44.259157Z",
     "iopub.status.idle": "2024-07-02T14:12:44.459359Z",
     "shell.execute_reply": "2024-07-02T14:12:44.458678Z"
    }
   },
   "outputs": [],
   "source": [
    "# Access the image volume\n",
    "im = brain_atlas.image\n",
    "\n",
    "# Explore the size of the image volume (ap, ml, dv)\n",
    "print(f'Shape of image volume: {im.shape}')\n",
    "\n",
    "# Plot a coronal slice at ap = -1000um\n",
    "ap = -1000 / 1e6  # input must be in metres\n",
    "ax = brain_atlas.plot_cslice(ap, volume='image')\n"
   ]
  },
  {
   "cell_type": "markdown",
   "id": "1c46789b",
   "metadata": {},
   "source": [
    "### Label Volume\n"
   ]
  },
  {
   "cell_type": "markdown",
   "id": "72bea21a",
   "metadata": {},
   "source": [
    "The label volume contains information about which brain region each voxel in the volume belongs to."
   ]
  },
  {
   "cell_type": "code",
   "execution_count": null,
   "id": "ff7cb654",
   "metadata": {
    "execution": {
     "iopub.execute_input": "2024-07-02T14:12:44.461942Z",
     "iopub.status.busy": "2024-07-02T14:12:44.461718Z",
     "iopub.status.idle": "2024-07-02T14:12:44.611086Z",
     "shell.execute_reply": "2024-07-02T14:12:44.610409Z"
    }
   },
   "outputs": [],
   "source": [
    "# Access the image volume\n",
    "lab = brain_atlas.label\n",
    "\n",
    "# Explore the size of the image volume (ap, ml, dv)\n",
    "print(f'Shape of label volume: {lab.shape}')\n",
    "\n",
    "# Plot a coronal slice at ap = -1000um\n",
    "ap = -1000 / 1e6  # input must be in metres\n",
    "ax = brain_atlas.plot_cslice(ap, volume='annotation')"
   ]
  },
  {
   "cell_type": "markdown",
   "id": "8bd69066",
   "metadata": {},
   "source": [
    "The label volume used in the IBL AllenAtlas class differs from the Allen annotation volume in two ways.\n",
    "- Each voxel has information about the index of the Allen region rather than the Allen atlas id\n",
    "- The volume has been lateralised to differentiate between the left and right hemisphere\n",
    "\n",
    "To understand this better let's explore the BrainRegions class that contains information about the Allen structure tree."
   ]
  },
  {
   "cell_type": "markdown",
   "id": "04f601ed",
   "metadata": {},
   "source": [
    "## Exploring brain regions"
   ]
  },
  {
   "cell_type": "markdown",
   "id": "a1802136",
   "metadata": {},
   "source": [
    "The Allen brain region structure tree can be accessed through the class `iblatlas.regions.BrainRegions`. "
   ]
  },
  {
   "cell_type": "code",
   "execution_count": null,
   "id": "9c2d097f",
   "metadata": {
    "execution": {
     "iopub.execute_input": "2024-07-02T14:12:44.613653Z",
     "iopub.status.busy": "2024-07-02T14:12:44.613449Z",
     "iopub.status.idle": "2024-07-02T14:12:44.627365Z",
     "shell.execute_reply": "2024-07-02T14:12:44.626846Z"
    }
   },
   "outputs": [],
   "source": [
    "from iblatlas.regions import BrainRegions\n",
    "\n",
    "brain_regions = BrainRegions()\n",
    "\n",
    "# Alternatively if you already have the AllenAtlas instantiated you can access it as an attribute\n",
    "brain_regions = brain_atlas.regions"
   ]
  },
  {
   "cell_type": "markdown",
   "id": "6cf9ab47",
   "metadata": {},
   "source": [
    "The brain_regions class has the following data attributes"
   ]
  },
  {
   "cell_type": "code",
   "execution_count": null,
   "id": "1d078160",
   "metadata": {
    "execution": {
     "iopub.execute_input": "2024-07-02T14:12:44.629719Z",
     "iopub.status.busy": "2024-07-02T14:12:44.629519Z",
     "iopub.status.idle": "2024-07-02T14:12:44.634078Z",
     "shell.execute_reply": "2024-07-02T14:12:44.633529Z"
    }
   },
   "outputs": [],
   "source": [
    "brain_regions.__annotations__"
   ]
  },
  {
   "cell_type": "markdown",
   "id": "44339559",
   "metadata": {},
   "source": [
    "These attributes are the same as the Allen structure tree and for example `id` corresponds to the Allen atlas id while the `name` represents the full anatomical brain region name."
   ]
  },
  {
   "cell_type": "markdown",
   "id": "fbe04558",
   "metadata": {},
   "source": [
    "The index refers to the index in each of these attribute arrays. For example, index 1 corresponds to the `root` brain region with an atlas id of 977. "
   ]
  },
  {
   "cell_type": "code",
   "execution_count": null,
   "id": "0c1fdf7c",
   "metadata": {
    "execution": {
     "iopub.execute_input": "2024-07-02T14:12:44.636273Z",
     "iopub.status.busy": "2024-07-02T14:12:44.636077Z",
     "iopub.status.idle": "2024-07-02T14:12:44.639527Z",
     "shell.execute_reply": "2024-07-02T14:12:44.638891Z"
    }
   },
   "outputs": [],
   "source": [
    "index = 1\n",
    "print(brain_regions.id[index])\n",
    "print(brain_regions.acronym[index])"
   ]
  },
  {
   "cell_type": "markdown",
   "id": "fd8e542c",
   "metadata": {},
   "source": [
    "Alternatively, index 1000 corresponds to `PPYd` with an atlas id of 185"
   ]
  },
  {
   "cell_type": "code",
   "execution_count": null,
   "id": "cf56d8d9",
   "metadata": {
    "execution": {
     "iopub.execute_input": "2024-07-02T14:12:44.641977Z",
     "iopub.status.busy": "2024-07-02T14:12:44.641511Z",
     "iopub.status.idle": "2024-07-02T14:12:44.645272Z",
     "shell.execute_reply": "2024-07-02T14:12:44.644695Z"
    }
   },
   "outputs": [],
   "source": [
    "index = 1000\n",
    "print(brain_regions.id[index])\n",
    "print(brain_regions.acronym[index])"
   ]
  },
  {
   "cell_type": "markdown",
   "id": "4c3acedd",
   "metadata": {},
   "source": [
    "In the label volume we described above, it is these indices that we are referring to. Therefore, we know all voxels in the volume with a value of 0 will be voxels that lie in `root`, while the voxels that have a value of 1000 will be in `PPYd`"
   ]
  },
  {
   "cell_type": "code",
   "execution_count": null,
   "id": "b607f170",
   "metadata": {
    "execution": {
     "iopub.execute_input": "2024-07-02T14:12:44.647590Z",
     "iopub.status.busy": "2024-07-02T14:12:44.647252Z",
     "iopub.status.idle": "2024-07-02T14:12:45.037536Z",
     "shell.execute_reply": "2024-07-02T14:12:45.036914Z"
    }
   },
   "outputs": [],
   "source": [
    "import numpy as np\n",
    "root_voxels = np.where(brain_atlas.label == 1)\n",
    "ppyd_voxels = np.where(brain_atlas.label == 1000)"
   ]
  },
  {
   "cell_type": "markdown",
   "id": "474bb26b",
   "metadata": {},
   "source": [
    "An additional nuance is the lateralisation. If you compare the size of the brain_regions data class to the Allen structure tree. You will see that it has double the number of columms. This is because the IBL brain regions encodes both the left and right hemisphere. We can understand this better by exploring the `brain_regions.id` and `brain_regions.name` at the indices where it transitions between hemispheres."
   ]
  },
  {
   "cell_type": "markdown",
   "id": "861fef87",
   "metadata": {},
   "source": [
    "The `brain_region.id` go from positive Allen atlas ids (right hemisphere) to negative Allen atlas ids (left hemisphere)"
   ]
  },
  {
   "cell_type": "code",
   "execution_count": null,
   "id": "31cceb95",
   "metadata": {
    "execution": {
     "iopub.execute_input": "2024-07-02T14:12:45.040689Z",
     "iopub.status.busy": "2024-07-02T14:12:45.040275Z",
     "iopub.status.idle": "2024-07-02T14:12:45.044048Z",
     "shell.execute_reply": "2024-07-02T14:12:45.043398Z"
    }
   },
   "outputs": [],
   "source": [
    "print(brain_regions.id[1320:1340])"
   ]
  },
  {
   "cell_type": "markdown",
   "id": "e2221959",
   "metadata": {},
   "source": [
    "The `brain_region.name` go from right to left hemisphere descriptions"
   ]
  },
  {
   "cell_type": "code",
   "execution_count": null,
   "id": "97079539",
   "metadata": {
    "execution": {
     "iopub.execute_input": "2024-07-02T14:12:45.046548Z",
     "iopub.status.busy": "2024-07-02T14:12:45.046348Z",
     "iopub.status.idle": "2024-07-02T14:12:45.049963Z",
     "shell.execute_reply": "2024-07-02T14:12:45.049310Z"
    }
   },
   "outputs": [],
   "source": [
    "print(brain_regions.name[1320:1340])"
   ]
  },
  {
   "cell_type": "markdown",
   "id": "7f35aa26",
   "metadata": {},
   "source": [
    "In the label volume, we can therefore differentiate between left and right hemisphere voxels for the same brain region. First we will use a method in the brain_region class to find out the index of left and right `CA1`."
   ]
  },
  {
   "cell_type": "code",
   "execution_count": null,
   "id": "4c93c1a0",
   "metadata": {
    "execution": {
     "iopub.execute_input": "2024-07-02T14:12:45.052070Z",
     "iopub.status.busy": "2024-07-02T14:12:45.051871Z",
     "iopub.status.idle": "2024-07-02T14:12:45.062778Z",
     "shell.execute_reply": "2024-07-02T14:12:45.062253Z"
    }
   },
   "outputs": [],
   "source": [
    "brain_regions.acronym2index('CA1')"
   ]
  },
  {
   "cell_type": "markdown",
   "id": "d8bb5fc2",
   "metadata": {},
   "source": [
    "The method `acronym2index` returns a tuple, with the first value being a list of acronyms passed in and the second value giving the indices in the array that correspond to the left and right hemispheres for this region. We can now use these indices to search in the label volume"
   ]
  },
  {
   "cell_type": "code",
   "execution_count": null,
   "id": "0680ca09",
   "metadata": {
    "execution": {
     "iopub.execute_input": "2024-07-02T14:12:45.064943Z",
     "iopub.status.busy": "2024-07-02T14:12:45.064745Z",
     "iopub.status.idle": "2024-07-02T14:12:45.446653Z",
     "shell.execute_reply": "2024-07-02T14:12:45.445984Z"
    }
   },
   "outputs": [],
   "source": [
    "CA1_right = np.where(brain_atlas.label == 458)\n",
    "CA1_left = np.where(brain_atlas.label == 1785)"
   ]
  },
  {
   "cell_type": "markdown",
   "id": "42cc166b",
   "metadata": {},
   "source": [
    "## Coordinate systems"
   ]
  },
  {
   "cell_type": "markdown",
   "id": "7ffcd53b",
   "metadata": {},
   "source": [
    "The voxles can be translated to 3D space. In the IBL all xyz coordinates"
   ]
  }
 ],
 "metadata": {
  "docs_executed": "executed",
  "kernelspec": {
   "display_name": "Python 3 (ipykernel)",
   "language": "python",
   "name": "python3"
  },
  "language_info": {
   "codemirror_mode": {
    "name": "ipython",
    "version": 3
   },
   "file_extension": ".py",
   "mimetype": "text/x-python",
   "name": "python",
   "nbconvert_exporter": "python",
   "pygments_lexer": "ipython3",
   "version": "3.9.19"
  }
 },
 "nbformat": 4,
 "nbformat_minor": 5
}
