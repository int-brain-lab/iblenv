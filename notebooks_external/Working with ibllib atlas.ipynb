{
 "cells": [
  {
   "cell_type": "markdown",
   "id": "b767b213",
   "metadata": {},
   "source": [
    "# Working with IBL atlas object"
   ]
  },
  {
   "cell_type": "markdown",
   "id": "bba98311",
   "metadata": {},
   "source": [
    "## Getting started"
   ]
  },
  {
   "cell_type": "code",
   "execution_count": null,
   "id": "df873343",
   "metadata": {
    "execution": {
     "iopub.execute_input": "2022-11-07T09:38:26.247993Z",
     "iopub.status.busy": "2022-11-07T09:38:26.247993Z",
     "iopub.status.idle": "2022-11-07T09:38:30.250405Z",
     "shell.execute_reply": "2022-11-07T09:38:30.250405Z"
    }
   },
   "outputs": [],
   "source": [
    "from ibllib.atlas import AllenAtlas\n",
    "\n",
    "res = 25 # resolution of Atlas, available resolutions are 10, 25 (default) and 50\n",
    "brain_atlas = AllenAtlas(res_um=res)"
   ]
  },
  {
   "cell_type": "markdown",
   "id": "95a8e4db",
   "metadata": {},
   "source": [
    "## Exploring the volumes"
   ]
  },
  {
   "cell_type": "markdown",
   "id": "5f34f56c",
   "metadata": {},
   "source": [
    "### 1. Image Volume \n",
    "Allen atlas dwi average template"
   ]
  },
  {
   "cell_type": "code",
   "execution_count": null,
   "id": "769b4fd4",
   "metadata": {
    "execution": {
     "iopub.execute_input": "2022-11-07T09:38:30.250405Z",
     "iopub.status.busy": "2022-11-07T09:38:30.250405Z",
     "iopub.status.idle": "2022-11-07T09:38:30.783760Z",
     "shell.execute_reply": "2022-11-07T09:38:30.783760Z"
    }
   },
   "outputs": [],
   "source": [
    "# Access the image volume\n",
    "im = brain_atlas.image\n",
    "\n",
    "# Explore the size of the image volume (ap, ml, dv)\n",
    "im.shape\n",
    "\n",
    "# Plot a coronal slice at ap = -1000um\n",
    "ap = -1000 / 1e6  # input must be in metres\n",
    "ax = brain_atlas.plot_cslice(ap, volume='image')\n"
   ]
  },
  {
   "cell_type": "markdown",
   "id": "1c46789b",
   "metadata": {},
   "source": [
    "### Label Volume\n"
   ]
  },
  {
   "cell_type": "code",
   "execution_count": null,
   "id": "9b5b885e",
   "metadata": {
    "execution": {
     "iopub.execute_input": "2022-11-07T09:38:30.799343Z",
     "iopub.status.busy": "2022-11-07T09:38:30.799343Z",
     "iopub.status.idle": "2022-11-07T09:38:30.815024Z",
     "shell.execute_reply": "2022-11-07T09:38:30.815024Z"
    }
   },
   "outputs": [],
   "source": [
    "brain_atlas.bc.nxyz"
   ]
  },
  {
   "cell_type": "code",
   "execution_count": null,
   "id": "f710395f",
   "metadata": {
    "execution": {
     "iopub.execute_input": "2022-11-07T09:38:30.830585Z",
     "iopub.status.busy": "2022-11-07T09:38:30.830585Z",
     "iopub.status.idle": "2022-11-07T09:38:30.846272Z",
     "shell.execute_reply": "2022-11-07T09:38:30.846272Z"
    }
   },
   "outputs": [],
   "source": [
    "brain_atlas.regions.acronym.shape"
   ]
  },
  {
   "cell_type": "code",
   "execution_count": null,
   "id": "e8bf8781",
   "metadata": {
    "execution": {
     "iopub.execute_input": "2022-11-07T09:38:30.868320Z",
     "iopub.status.busy": "2022-11-07T09:38:30.868320Z",
     "iopub.status.idle": "2022-11-07T09:38:30.884071Z",
     "shell.execute_reply": "2022-11-07T09:38:30.884071Z"
    }
   },
   "outputs": [],
   "source": [
    "brain_atlas.bc.xyz2i([-1000/1e6, -1000/1e6, -4000/1e6])"
   ]
  },
  {
   "cell_type": "code",
   "execution_count": null,
   "id": "0680ca09",
   "metadata": {
    "execution": {
     "iopub.execute_input": "2022-11-07T09:38:30.899655Z",
     "iopub.status.busy": "2022-11-07T09:38:30.899655Z",
     "iopub.status.idle": "2022-11-07T09:38:30.915501Z",
     "shell.execute_reply": "2022-11-07T09:38:30.915501Z"
    }
   },
   "outputs": [],
   "source": [
    "brain_atlas.image[190, 256, 173] = 100000\n",
    "brain_atlas.image[256, 190, 173] = 100000000"
   ]
  },
  {
   "cell_type": "code",
   "execution_count": null,
   "id": "88e1fac5",
   "metadata": {
    "execution": {
     "iopub.execute_input": "2022-11-07T09:38:30.930904Z",
     "iopub.status.busy": "2022-11-07T09:38:30.930904Z",
     "iopub.status.idle": "2022-11-07T09:38:31.200474Z",
     "shell.execute_reply": "2022-11-07T09:38:31.200474Z"
    }
   },
   "outputs": [],
   "source": [
    "ax = brain_atlas.plot_cslice(ap, volume='image', vmax=10000)"
   ]
  },
  {
   "cell_type": "code",
   "execution_count": null,
   "id": "efd9a13d",
   "metadata": {
    "execution": {
     "iopub.execute_input": "2022-11-07T09:38:31.200474Z",
     "iopub.status.busy": "2022-11-07T09:38:31.200474Z",
     "iopub.status.idle": "2022-11-07T09:38:31.216099Z",
     "shell.execute_reply": "2022-11-07T09:38:31.216099Z"
    }
   },
   "outputs": [],
   "source": [
    "# understainding"
   ]
  }
 ],
 "metadata": {
  "docs_executed": "executed",
  "kernelspec": {
   "display_name": "Python [conda env:iblenv] *",
   "language": "python",
   "name": "conda-env-iblenv-py"
  },
  "language_info": {
   "codemirror_mode": {
    "name": "ipython",
    "version": 3
   },
   "file_extension": ".py",
   "mimetype": "text/x-python",
   "name": "python",
   "nbconvert_exporter": "python",
   "pygments_lexer": "ipython3",
   "version": "3.9.7"
  }
 },
 "nbformat": 4,
 "nbformat_minor": 5
}
