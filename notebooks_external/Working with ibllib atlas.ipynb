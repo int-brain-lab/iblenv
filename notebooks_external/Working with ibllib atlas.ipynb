{
 "cells": [
  {
   "cell_type": "markdown",
   "id": "b767b213",
   "metadata": {},
   "source": [
    "# Working with IBL atlas object"
   ]
  },
  {
   "cell_type": "markdown",
   "id": "bba98311",
   "metadata": {},
   "source": [
    "## Getting started"
   ]
  },
  {
   "cell_type": "code",
   "execution_count": null,
   "id": "df873343",
   "metadata": {
    "execution": {
     "iopub.execute_input": "2023-01-11T16:40:14.825815Z",
     "iopub.status.busy": "2023-01-11T16:40:14.825585Z",
     "iopub.status.idle": "2023-01-11T16:40:17.029093Z",
     "shell.execute_reply": "2023-01-11T16:40:17.028406Z"
    }
   },
   "outputs": [],
   "source": [
    "from ibllib.atlas import AllenAtlas\n",
    "\n",
    "res = 25 # resolution of Atlas, available resolutions are 10, 25 (default) and 50\n",
    "brain_atlas = AllenAtlas(res_um=res)"
   ]
  },
  {
   "cell_type": "markdown",
   "id": "95a8e4db",
   "metadata": {},
   "source": [
    "## Exploring the volumes"
   ]
  },
  {
   "cell_type": "markdown",
   "id": "5f34f56c",
   "metadata": {},
   "source": [
    "### 1. Image Volume \n",
    "Allen atlas dwi average template"
   ]
  },
  {
   "cell_type": "code",
   "execution_count": null,
   "id": "769b4fd4",
   "metadata": {
    "execution": {
     "iopub.execute_input": "2023-01-11T16:40:17.032545Z",
     "iopub.status.busy": "2023-01-11T16:40:17.032304Z",
     "iopub.status.idle": "2023-01-11T16:40:17.251712Z",
     "shell.execute_reply": "2023-01-11T16:40:17.251161Z"
    }
   },
   "outputs": [],
   "source": [
    "# Access the image volume\n",
    "im = brain_atlas.image\n",
    "\n",
    "# Explore the size of the image volume (ap, ml, dv)\n",
    "im.shape\n",
    "\n",
    "# Plot a coronal slice at ap = -1000um\n",
    "ap = -1000 / 1e6  # input must be in metres\n",
    "ax = brain_atlas.plot_cslice(ap, volume='image')\n"
   ]
  },
  {
   "cell_type": "markdown",
   "id": "1c46789b",
   "metadata": {},
   "source": [
    "### Label Volume\n"
   ]
  },
  {
   "cell_type": "code",
   "execution_count": null,
   "id": "9b5b885e",
   "metadata": {
    "execution": {
     "iopub.execute_input": "2023-01-11T16:40:17.255304Z",
     "iopub.status.busy": "2023-01-11T16:40:17.255080Z",
     "iopub.status.idle": "2023-01-11T16:40:17.259429Z",
     "shell.execute_reply": "2023-01-11T16:40:17.258966Z"
    }
   },
   "outputs": [],
   "source": [
    "brain_atlas.bc.nxyz"
   ]
  },
  {
   "cell_type": "code",
   "execution_count": null,
   "id": "f710395f",
   "metadata": {
    "execution": {
     "iopub.execute_input": "2023-01-11T16:40:17.261941Z",
     "iopub.status.busy": "2023-01-11T16:40:17.261529Z",
     "iopub.status.idle": "2023-01-11T16:40:17.267260Z",
     "shell.execute_reply": "2023-01-11T16:40:17.266691Z"
    }
   },
   "outputs": [],
   "source": [
    "brain_atlas.regions.acronym.shape"
   ]
  },
  {
   "cell_type": "code",
   "execution_count": null,
   "id": "e8bf8781",
   "metadata": {
    "execution": {
     "iopub.execute_input": "2023-01-11T16:40:17.270233Z",
     "iopub.status.busy": "2023-01-11T16:40:17.269727Z",
     "iopub.status.idle": "2023-01-11T16:40:17.276041Z",
     "shell.execute_reply": "2023-01-11T16:40:17.275503Z"
    }
   },
   "outputs": [],
   "source": [
    "brain_atlas.bc.xyz2i([-1000/1e6, -1000/1e6, -4000/1e6])"
   ]
  },
  {
   "cell_type": "code",
   "execution_count": null,
   "id": "0680ca09",
   "metadata": {
    "execution": {
     "iopub.execute_input": "2023-01-11T16:40:17.279113Z",
     "iopub.status.busy": "2023-01-11T16:40:17.278663Z",
     "iopub.status.idle": "2023-01-11T16:40:17.282795Z",
     "shell.execute_reply": "2023-01-11T16:40:17.282235Z"
    }
   },
   "outputs": [],
   "source": [
    "brain_atlas.image[190, 256, 173] = 100000\n",
    "brain_atlas.image[256, 190, 173] = 100000000"
   ]
  },
  {
   "cell_type": "code",
   "execution_count": null,
   "id": "88e1fac5",
   "metadata": {
    "execution": {
     "iopub.execute_input": "2023-01-11T16:40:17.285856Z",
     "iopub.status.busy": "2023-01-11T16:40:17.285404Z",
     "iopub.status.idle": "2023-01-11T16:40:17.450238Z",
     "shell.execute_reply": "2023-01-11T16:40:17.449133Z"
    }
   },
   "outputs": [],
   "source": [
    "ax = brain_atlas.plot_cslice(ap, volume='image', vmax=10000)"
   ]
  },
  {
   "cell_type": "code",
   "execution_count": null,
   "id": "efd9a13d",
   "metadata": {
    "execution": {
     "iopub.execute_input": "2023-01-11T16:40:17.455242Z",
     "iopub.status.busy": "2023-01-11T16:40:17.453965Z",
     "iopub.status.idle": "2023-01-11T16:40:17.458185Z",
     "shell.execute_reply": "2023-01-11T16:40:17.457636Z"
    }
   },
   "outputs": [],
   "source": [
    "# understainding"
   ]
  }
 ],
 "metadata": {
  "docs_executed": "executed",
  "kernelspec": {
   "display_name": "Python [conda env:iblenv] *",
   "language": "python",
   "name": "conda-env-iblenv-py"
  },
  "language_info": {
   "codemirror_mode": {
    "name": "ipython",
    "version": 3
   },
   "file_extension": ".py",
   "mimetype": "text/x-python",
   "name": "python",
   "nbconvert_exporter": "python",
   "pygments_lexer": "ipython3",
   "version": "3.9.16"
  }
 },
 "nbformat": 4,
 "nbformat_minor": 5
}
