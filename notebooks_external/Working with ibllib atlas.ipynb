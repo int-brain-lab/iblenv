{
 "cells": [
  {
   "cell_type": "markdown",
   "id": "b767b213",
   "metadata": {},
   "source": [
    "# Working with IBL atlas object"
   ]
  },
  {
   "cell_type": "markdown",
   "id": "bba98311",
   "metadata": {},
   "source": [
    "## Getting started"
   ]
  },
  {
   "cell_type": "code",
   "execution_count": null,
   "id": "df873343",
   "metadata": {
    "execution": {
     "iopub.execute_input": "2023-01-11T10:14:49.355737Z",
     "iopub.status.busy": "2023-01-11T10:14:49.355521Z",
     "iopub.status.idle": "2023-01-11T10:14:51.517804Z",
     "shell.execute_reply": "2023-01-11T10:14:51.516721Z"
    }
   },
   "outputs": [],
   "source": [
    "from ibllib.atlas import AllenAtlas\n",
    "\n",
    "res = 25 # resolution of Atlas, available resolutions are 10, 25 (default) and 50\n",
    "brain_atlas = AllenAtlas(res_um=res)"
   ]
  },
  {
   "cell_type": "markdown",
   "id": "95a8e4db",
   "metadata": {},
   "source": [
    "## Exploring the volumes"
   ]
  },
  {
   "cell_type": "markdown",
   "id": "5f34f56c",
   "metadata": {},
   "source": [
    "### 1. Image Volume \n",
    "Allen atlas dwi average template"
   ]
  },
  {
   "cell_type": "code",
   "execution_count": null,
   "id": "769b4fd4",
   "metadata": {
    "execution": {
     "iopub.execute_input": "2023-01-11T10:14:51.521564Z",
     "iopub.status.busy": "2023-01-11T10:14:51.521106Z",
     "iopub.status.idle": "2023-01-11T10:14:51.737210Z",
     "shell.execute_reply": "2023-01-11T10:14:51.736660Z"
    }
   },
   "outputs": [],
   "source": [
    "# Access the image volume\n",
    "im = brain_atlas.image\n",
    "\n",
    "# Explore the size of the image volume (ap, ml, dv)\n",
    "im.shape\n",
    "\n",
    "# Plot a coronal slice at ap = -1000um\n",
    "ap = -1000 / 1e6  # input must be in metres\n",
    "ax = brain_atlas.plot_cslice(ap, volume='image')\n"
   ]
  },
  {
   "cell_type": "markdown",
   "id": "1c46789b",
   "metadata": {},
   "source": [
    "### Label Volume\n"
   ]
  },
  {
   "cell_type": "code",
   "execution_count": null,
   "id": "9b5b885e",
   "metadata": {
    "execution": {
     "iopub.execute_input": "2023-01-11T10:14:51.742765Z",
     "iopub.status.busy": "2023-01-11T10:14:51.742210Z",
     "iopub.status.idle": "2023-01-11T10:14:51.746886Z",
     "shell.execute_reply": "2023-01-11T10:14:51.746416Z"
    }
   },
   "outputs": [],
   "source": [
    "brain_atlas.bc.nxyz"
   ]
  },
  {
   "cell_type": "code",
   "execution_count": null,
   "id": "f710395f",
   "metadata": {
    "execution": {
     "iopub.execute_input": "2023-01-11T10:14:51.749951Z",
     "iopub.status.busy": "2023-01-11T10:14:51.749594Z",
     "iopub.status.idle": "2023-01-11T10:14:51.753265Z",
     "shell.execute_reply": "2023-01-11T10:14:51.752791Z"
    }
   },
   "outputs": [],
   "source": [
    "brain_atlas.regions.acronym.shape"
   ]
  },
  {
   "cell_type": "code",
   "execution_count": null,
   "id": "e8bf8781",
   "metadata": {
    "execution": {
     "iopub.execute_input": "2023-01-11T10:14:51.755745Z",
     "iopub.status.busy": "2023-01-11T10:14:51.755392Z",
     "iopub.status.idle": "2023-01-11T10:14:51.759627Z",
     "shell.execute_reply": "2023-01-11T10:14:51.759154Z"
    }
   },
   "outputs": [],
   "source": [
    "brain_atlas.bc.xyz2i([-1000/1e6, -1000/1e6, -4000/1e6])"
   ]
  },
  {
   "cell_type": "code",
   "execution_count": null,
   "id": "0680ca09",
   "metadata": {
    "execution": {
     "iopub.execute_input": "2023-01-11T10:14:51.762132Z",
     "iopub.status.busy": "2023-01-11T10:14:51.761779Z",
     "iopub.status.idle": "2023-01-11T10:14:51.765367Z",
     "shell.execute_reply": "2023-01-11T10:14:51.764175Z"
    }
   },
   "outputs": [],
   "source": [
    "brain_atlas.image[190, 256, 173] = 100000\n",
    "brain_atlas.image[256, 190, 173] = 100000000"
   ]
  },
  {
   "cell_type": "code",
   "execution_count": null,
   "id": "88e1fac5",
   "metadata": {
    "execution": {
     "iopub.execute_input": "2023-01-11T10:14:51.768878Z",
     "iopub.status.busy": "2023-01-11T10:14:51.768488Z",
     "iopub.status.idle": "2023-01-11T10:14:51.928172Z",
     "shell.execute_reply": "2023-01-11T10:14:51.927649Z"
    }
   },
   "outputs": [],
   "source": [
    "ax = brain_atlas.plot_cslice(ap, volume='image', vmax=10000)"
   ]
  },
  {
   "cell_type": "code",
   "execution_count": null,
   "id": "efd9a13d",
   "metadata": {
    "execution": {
     "iopub.execute_input": "2023-01-11T10:14:51.931034Z",
     "iopub.status.busy": "2023-01-11T10:14:51.930695Z",
     "iopub.status.idle": "2023-01-11T10:14:51.933227Z",
     "shell.execute_reply": "2023-01-11T10:14:51.932751Z"
    }
   },
   "outputs": [],
   "source": [
    "# understainding"
   ]
  }
 ],
 "metadata": {
  "docs_executed": "executed",
  "kernelspec": {
   "display_name": "Python [conda env:iblenv] *",
   "language": "python",
   "name": "conda-env-iblenv-py"
  },
  "language_info": {
   "codemirror_mode": {
    "name": "ipython",
    "version": 3
   },
   "file_extension": ".py",
   "mimetype": "text/x-python",
   "name": "python",
   "nbconvert_exporter": "python",
   "pygments_lexer": "ipython3",
   "version": "3.9.16"
  }
 },
 "nbformat": 4,
 "nbformat_minor": 5
}
