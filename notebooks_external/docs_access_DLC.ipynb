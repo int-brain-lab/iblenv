{
 "cells": [
  {
   "cell_type": "markdown",
   "metadata": {},
   "source": [
    "\n",
    "# Accessing DeepLabCut (DLC) traces\n",
    "This script illustrates how to access DLC results for a session\n",
    "and video type, filter them by likelihood and save as a\n",
    "dictionary of numpy arrays, with the keys being the tracked points\n",
    "and the entries being x,y coordinates. This can be done for\n",
    "each camera ('left' only for training sessions, 'left',\n",
    "'right' and 'body' for ephys sessions).\n",
    "See also\n",
    "\n",
    "https://github.com/int-brain-lab/iblapps/blob/develop/dlc/DLC_labeled_video.py\n",
    "\n",
    "to make a labeled video, and\n",
    "\n",
    "https://github.com/int-brain-lab/ibllib/blob/camera_extractor/ibllib/qc/stream_dlc_labeled_frames.py\n",
    "\n",
    "to stream some frames and paint dlc labels on top.\n"
   ]
  },
  {
   "cell_type": "code",
   "execution_count": null,
   "metadata": {
    "execution": {
     "iopub.execute_input": "2022-01-20T10:07:36.488685Z",
     "iopub.status.busy": "2022-01-20T10:07:36.487685Z",
     "iopub.status.idle": "2022-01-20T10:07:37.366341Z",
     "shell.execute_reply": "2022-01-20T10:07:37.365340Z"
    }
   },
   "outputs": [],
   "source": [
    "# Author: Michael\n",
    "import numpy as np\n",
    "from one.api import ONE\n",
    "\n",
    "from ibllib.io.video import assert_valid_label\n",
    "\n",
    "\n",
    "def get_DLC(eid, video_type):\n",
    "    \"\"\"load dlc traces\n",
    "    load dlc traces for a given session and\n",
    "    video type.\n",
    "\n",
    "    :param eid: A session eid\n",
    "    :param video_type: string in 'left', 'right', body'\n",
    "    :return: array of times and dict with dlc points\n",
    "             as keys and x,y coordinates as values,\n",
    "             for each frame id\n",
    "\n",
    "    Example:\n",
    "\n",
    "    eid = '6c6983ef-7383-4989-9183-32b1a300d17a'\n",
    "    video_type = 'right'\n",
    "\n",
    "    Times, XYs = get_DLC(eid, video_type)\n",
    "\n",
    "    # get for frame 500 the x coordinate of the nose\n",
    "    # and the time stamp:\n",
    "\n",
    "    x_frame_500 = XYs['nose_tip'][0][500]\n",
    "    t_frame_500 = Times[500]\n",
    "    \"\"\"\n",
    "\n",
    "    one = ONE()\n",
    "    video_type = assert_valid_label(video_type)\n",
    "    cam = one.load_object(eid, f'{video_type}Camera', collection='alf')\n",
    "    points = np.unique(['_'.join(x.split('_')[:-1]) for x in cam.dlc.columns])\n",
    "    XYs = {}\n",
    "    for point in points:\n",
    "        x = np.ma.masked_where(\n",
    "            cam.dlc[point + '_likelihood'] < 0.9, cam.dlc[point + '_x'])\n",
    "        x = x.filled(np.nan)\n",
    "        y = np.ma.masked_where(\n",
    "            cam.dlc[point + '_likelihood'] < 0.9, cam.dlc[point + '_y'])\n",
    "        y = y.filled(np.nan)\n",
    "        XYs[point] = np.array([x, y])\n",
    "\n",
    "    return cam.times, XYs"
   ]
  }
 ],
 "metadata": {
  "docs_executed": "executed",
  "kernelspec": {
   "display_name": "Python 3",
   "language": "python",
   "name": "python3"
  },
  "language_info": {
   "codemirror_mode": {
    "name": "ipython",
    "version": 3
   },
   "file_extension": ".py",
   "mimetype": "text/x-python",
   "name": "python",
   "nbconvert_exporter": "python",
   "pygments_lexer": "ipython3",
   "version": "3.9.7"
  }
 },
 "nbformat": 4,
 "nbformat_minor": 0
}
