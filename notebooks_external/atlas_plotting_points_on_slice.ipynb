{
 "cells": [
  {
   "cell_type": "markdown",
   "id": "87d1873a",
   "metadata": {},
   "source": [
    "# Plotting cluster locations on histology slices"
   ]
  },
  {
   "cell_type": "markdown",
   "id": "77834a05",
   "metadata": {},
   "source": [
    "This example walks through various ways to display the 3D location of clusters on histology slices"
   ]
  },
  {
   "cell_type": "markdown",
   "id": "5011bf58",
   "metadata": {},
   "source": [
    "## Data Preparation"
   ]
  },
  {
   "cell_type": "markdown",
   "id": "60f93667",
   "metadata": {},
   "source": [
    "For all examples below the xyz coordinates of each point and an array of values must be provided. Here we load in the spikesorting data for an example probe insertion and set the xyz coordinates to the coordinates of the clusters and the array of values to the firing rate."
   ]
  },
  {
   "cell_type": "code",
   "execution_count": null,
   "id": "a5d22548",
   "metadata": {
    "execution": {
     "iopub.execute_input": "2023-05-25T15:39:57.738240Z",
     "iopub.status.busy": "2023-05-25T15:39:57.737799Z",
     "iopub.status.idle": "2023-05-25T15:40:04.487462Z",
     "shell.execute_reply": "2023-05-25T15:40:04.486266Z"
    }
   },
   "outputs": [],
   "source": [
    "from one.api import ONE\n",
    "from brainbox.io.one import SpikeSortingLoader\n",
    "from ibllib.atlas import AllenAtlas\n",
    "import numpy as np\n",
    "\n",
    "one = ONE()\n",
    "ba = AllenAtlas()\n",
    "pid = 'da8dfec1-d265-44e8-84ce-6ae9c109b8bd'\n",
    "sl = SpikeSortingLoader(pid=pid, one=one, atlas=ba)\n",
    "spikes, clusters, channels = sl.load_spike_sorting()\n",
    "clusters = sl.merge_clusters(spikes, clusters, channels)\n",
    "\n",
    "# Extract xyz coords from clusters dict\n",
    "# Here we will set all ap values to a chosen value for visualisation purposes\n",
    "xyz = np.c_[clusters['x'], np.ones_like(clusters['x']) * 400 / 1e6, clusters['z']]\n",
    "values = clusters['firing_rate']"
   ]
  },
  {
   "cell_type": "markdown",
   "id": "c84d11bd",
   "metadata": {},
   "source": [
    "## Example 1: Aggregation methods"
   ]
  },
  {
   "cell_type": "markdown",
   "id": "b9340c33",
   "metadata": {},
   "source": [
    "The values of points that lie within the same voxel within the volume can be aggregated together in different ways by changing the `aggr` argument. Below shows an example where values in each voxel have been aggregated according to the average firing rate of the clusters (left) and according to the count of clusters in each voxel (right)"
   ]
  },
  {
   "cell_type": "code",
   "execution_count": null,
   "id": "f35b8827",
   "metadata": {
    "execution": {
     "iopub.execute_input": "2023-05-25T15:40:04.492028Z",
     "iopub.status.busy": "2023-05-25T15:40:04.491655Z",
     "iopub.status.idle": "2023-05-25T15:40:13.637422Z",
     "shell.execute_reply": "2023-05-25T15:40:13.636656Z"
    }
   },
   "outputs": [],
   "source": [
    "from ibllib.atlas.plots import plot_points_on_slice\n",
    "import matplotlib.pyplot as plt\n",
    "\n",
    "fig, axs = plt.subplots(1, 2, figsize=(16,4))\n",
    "\n",
    "# Plot points on the coronal slice at ap=400um overlaid overlaid on brain region boundaries using Allen mapping \n",
    "# and a 3D gaussian kernel with fwhm=100um is applied\n",
    "\n",
    "# Values in the same voxel are aggregated by the mean\n",
    "fig, ax = plot_points_on_slice(xyz, values=values, coord=400, slice='coronal', mapping='Allen', background='boundary', \n",
    "                               cmap='Reds', aggr='mean', fwhm=100, brain_atlas=ba, ax=axs[0])\n",
    "\n",
    "# Values in the same voxel are aggregated by the count\n",
    "# N.B. can also pass values=None in this case as they are not used in the computation\n",
    "fig, ax, cbar = plot_points_on_slice(xyz, values=values, coord=400, slice='coronal', mapping='Allen', background='boundary', \n",
    "                               cmap='Reds', aggr='count', fwhm=100, brain_atlas=ba, ax=axs[1], show_cbar=True)"
   ]
  },
  {
   "cell_type": "markdown",
   "id": "54650899",
   "metadata": {},
   "source": [
    "The different options for aggregation are listed in the docstring of the function"
   ]
  },
  {
   "cell_type": "code",
   "execution_count": null,
   "id": "0b6ad58e",
   "metadata": {
    "execution": {
     "iopub.execute_input": "2023-05-25T15:40:13.641343Z",
     "iopub.status.busy": "2023-05-25T15:40:13.641034Z",
     "iopub.status.idle": "2023-05-25T15:40:13.647736Z",
     "shell.execute_reply": "2023-05-25T15:40:13.646607Z"
    }
   },
   "outputs": [],
   "source": [
    "help(plot_points_on_slice)"
   ]
  },
  {
   "cell_type": "markdown",
   "id": "ea0cf9a4",
   "metadata": {},
   "source": [
    "## Example 2: Applying gaussian kernels with varying FWHM"
   ]
  },
  {
   "cell_type": "code",
   "execution_count": null,
   "id": "2ba3ca84",
   "metadata": {
    "execution": {
     "iopub.execute_input": "2023-05-25T15:40:13.651025Z",
     "iopub.status.busy": "2023-05-25T15:40:13.650668Z",
     "iopub.status.idle": "2023-05-25T15:40:26.943174Z",
     "shell.execute_reply": "2023-05-25T15:40:26.942114Z"
    }
   },
   "outputs": [],
   "source": [
    "# Plot points on the coronal slice at ap=400um overlaid overlaid on Allen dwi image using Cosmos mapping with\n",
    "# values aggregated by max\n",
    "\n",
    "figs, axs = plt.subplots(1, 3, figsize=(18,4))\n",
    "\n",
    "# FWHM of 100 um\n",
    "fig, ax = plot_points_on_slice(xyz, values=values, coord=400, slice='coronal', background='image', \n",
    "                               cmap='Purples', aggr='max', fwhm=100, brain_atlas=ba, ax=axs[0])\n",
    "\n",
    "# FWHM of 300 um\n",
    "fig, ax = plot_points_on_slice(xyz, values=values, coord=400, slice='coronal', background='image', \n",
    "                               cmap='Purples', aggr='max', fwhm=300, brain_atlas=ba, ax=axs[1])\n",
    "\n",
    "# FWHM of 0 um\n",
    "# if fwhm=0 no gaussian kernal applied\n",
    "fig, ax = plot_points_on_slice(xyz, values=values, coord=400, slice='coronal', background='image', \n",
    "                               cmap='Purples', aggr='max', fwhm=0, brain_atlas=ba, ax=axs[2])"
   ]
  },
  {
   "cell_type": "markdown",
   "id": "a0aca146",
   "metadata": {},
   "source": [
    "## Example 3: Precomputing Volume"
   ]
  },
  {
   "cell_type": "markdown",
   "id": "19edcc5b",
   "metadata": {},
   "source": [
    "Convolving the 3D volume with the gaussian kernal can take some time to compute, particularly when using a large fwhm value. When exploring the same volume at different coordinates and using different slices it is recommended to precompute the volume and then plot the slices. Below shows an example of how to do this."
   ]
  },
  {
   "cell_type": "code",
   "execution_count": null,
   "id": "81f6919c",
   "metadata": {
    "execution": {
     "iopub.execute_input": "2023-05-25T15:40:26.947119Z",
     "iopub.status.busy": "2023-05-25T15:40:26.946809Z",
     "iopub.status.idle": "2023-05-25T15:40:33.195714Z",
     "shell.execute_reply": "2023-05-25T15:40:33.194561Z"
    }
   },
   "outputs": [],
   "source": [
    "from ibllib.atlas.plots import compute_volume_from_points, plot_volume_on_slice\n",
    "\n",
    "# Extract xyz coords from clusters dict\n",
    "xyz = np.c_[clusters['x'], clusters['y'], clusters['z']]\n",
    "values = clusters['amp_max']\n",
    "\n",
    "# Compute volume\n",
    "volume = compute_volume_from_points(xyz, values=values, aggr='mean', fwhm=250, ba=ba)"
   ]
  },
  {
   "cell_type": "code",
   "execution_count": null,
   "id": "9d938d24",
   "metadata": {
    "execution": {
     "iopub.execute_input": "2023-05-25T15:40:33.199883Z",
     "iopub.status.busy": "2023-05-25T15:40:33.199616Z",
     "iopub.status.idle": "2023-05-25T15:40:34.344722Z",
     "shell.execute_reply": "2023-05-25T15:40:34.343733Z"
    }
   },
   "outputs": [],
   "source": [
    "# Plot points on the coronal slices on brain region boundaries using Beryl maping\n",
    "figs, axs = plt.subplots(1, 3, figsize=(18,4))\n",
    "fig, ax = plot_volume_on_slice(volume, coord=300, slice='coronal', mapping='Beryl', background='boundary', \n",
    "                               cmap='Oranges', brain_atlas=ba, ax=axs[0])\n",
    "ax.set_title('ap = 300um')\n",
    "fig, ax = plot_volume_on_slice(volume, coord=400, slice='coronal', mapping='Beryl', background='boundary', \n",
    "                               cmap='Oranges', brain_atlas=ba, ax=axs[1])\n",
    "ax.set_title('ap = 400um')\n",
    "fig, ax = plot_volume_on_slice(volume, coord=500, slice='coronal', mapping='Beryl', background='boundary', \n",
    "                               cmap='Oranges', brain_atlas=ba,ax=axs[2])\n",
    "ax.set_title('ap = 500um')"
   ]
  },
  {
   "cell_type": "code",
   "execution_count": null,
   "id": "0311b5ad",
   "metadata": {
    "execution": {
     "iopub.execute_input": "2023-05-25T15:40:34.348658Z",
     "iopub.status.busy": "2023-05-25T15:40:34.348094Z",
     "iopub.status.idle": "2023-05-25T15:40:34.774573Z",
     "shell.execute_reply": "2023-05-25T15:40:34.773635Z"
    }
   },
   "outputs": [],
   "source": [
    "# Plot points on the saggital slice at ap=-800um overlaid on brain region boundaries using Cosmos mapping\n",
    "fig, ax, cbar = plot_volume_on_slice(volume, coord=-800, slice='sagittal', mapping='Cosmos', background='boundary', \n",
    "                               cmap='Blues', brain_atlas=ba, clevels=[0, 2e-7], show_cbar=True)"
   ]
  },
  {
   "cell_type": "code",
   "execution_count": null,
   "id": "7835fa36",
   "metadata": {
    "execution": {
     "iopub.execute_input": "2023-05-25T15:40:34.777983Z",
     "iopub.status.busy": "2023-05-25T15:40:34.777540Z",
     "iopub.status.idle": "2023-05-25T15:40:35.108800Z",
     "shell.execute_reply": "2023-05-25T15:40:35.107917Z"
    }
   },
   "outputs": [],
   "source": [
    "# Plot points on the horizontal slice at dv=-5000um overlaid on allen dwi image\n",
    "fig, ax = plot_volume_on_slice(volume, coord=-5000, slice='horizontal', background='image', cmap='Greens', brain_atlas=ba)"
   ]
  }
 ],
 "metadata": {
  "docs_executed": "executed",
  "kernelspec": {
   "display_name": "Python [conda env:iblenv] *",
   "language": "python",
   "name": "conda-env-iblenv-py"
  },
  "language_info": {
   "codemirror_mode": {
    "name": "ipython",
    "version": 3
   },
   "file_extension": ".py",
   "mimetype": "text/x-python",
   "name": "python",
   "nbconvert_exporter": "python",
   "pygments_lexer": "ipython3",
   "version": "3.9.16"
  }
 },
 "nbformat": 4,
 "nbformat_minor": 5
}
