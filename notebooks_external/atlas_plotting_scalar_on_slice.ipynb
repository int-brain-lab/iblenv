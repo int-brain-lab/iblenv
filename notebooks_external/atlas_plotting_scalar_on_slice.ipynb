{
 "cells": [
  {
   "cell_type": "markdown",
   "id": "12df3a26",
   "metadata": {},
   "source": [
    "# Plotting brain region values on histology slices"
   ]
  },
  {
   "cell_type": "markdown",
   "id": "a056f78f",
   "metadata": {},
   "source": [
    "This example walks through various ways to overlay brain region values on histology slices"
   ]
  },
  {
   "cell_type": "markdown",
   "id": "8cef5812",
   "metadata": {},
   "source": [
    "## Data preparation\n",
    "For all the examples below, an array of acronyms and an array of values corresponding to each acronym must be provided. "
   ]
  },
  {
   "cell_type": "code",
   "execution_count": null,
   "id": "dd06e7ff",
   "metadata": {
    "execution": {
     "iopub.execute_input": "2022-11-07T11:31:42.211821Z",
     "iopub.status.busy": "2022-11-07T11:31:42.211821Z",
     "iopub.status.idle": "2022-11-07T11:31:42.327790Z",
     "shell.execute_reply": "2022-11-07T11:31:42.327790Z"
    }
   },
   "outputs": [],
   "source": [
    "import numpy as np\n",
    "# prepare array of acronyms\n",
    "acronyms = np.array(['VPM', 'VPL', 'PO', 'LP', 'CA1', 'DG-mo', 'SSs5', 'VISa5', 'AUDv6a', 'MOp5', 'FRP5'])\n",
    "# assign data to each acronym\n",
    "values = np.arange(len(acronyms))\n",
    "\n",
    "# acronyms and values must have the same number of rows\n",
    "assert (acronyms.size == values.size)"
   ]
  },
  {
   "cell_type": "markdown",
   "id": "e0b26454",
   "metadata": {},
   "source": [
    "If different values for each acronym want to be shown on each hemisphere, the array of values must contain two columns, the first corresponding to values on the left hemisphere and the second corresponding to values on the right hemisphere"
   ]
  },
  {
   "cell_type": "code",
   "execution_count": null,
   "id": "fa6bdd24",
   "metadata": {
    "execution": {
     "iopub.execute_input": "2022-11-07T11:31:42.327790Z",
     "iopub.status.busy": "2022-11-07T11:31:42.327790Z",
     "iopub.status.idle": "2022-11-07T11:31:42.347947Z",
     "shell.execute_reply": "2022-11-07T11:31:42.347947Z"
    }
   },
   "outputs": [],
   "source": [
    "# values to be used for left and right hemisphere\n",
    "values_lh = np.random.randint(0, 10, acronyms.size)\n",
    "values_rh = np.random.randint(0, 10, acronyms.size)\n",
    "values_lr = np.c_[values_lh, values_rh]"
   ]
  },
  {
   "cell_type": "markdown",
   "id": "7115c423",
   "metadata": {},
   "source": [
    "When providing values for each hemisphere, if a value for a given acronym has only been computed, for example, in the left hemisphere, the corresponding value in right hemisphere array should be set to NaN. A helper function is available that will prepare the array of values in the correct format"
   ]
  },
  {
   "cell_type": "code",
   "execution_count": null,
   "id": "06c9e0c7",
   "metadata": {
    "execution": {
     "iopub.execute_input": "2022-11-07T11:31:42.347947Z",
     "iopub.status.busy": "2022-11-07T11:31:42.347947Z",
     "iopub.status.idle": "2022-11-07T11:31:44.032073Z",
     "shell.execute_reply": "2022-11-07T11:31:44.031075Z"
    }
   },
   "outputs": [],
   "source": [
    "from ibllib.atlas.plots import prepare_lr_data\n",
    "\n",
    "acronyms_lh = np.array(['VPM', 'VPL', 'PO', 'LP', 'CA1', 'DG-mo'])\n",
    "values_lh = np.random.randint(0, 10, acronyms_lh.size)\n",
    "\n",
    "acronyms_rh = np.array(['VPM', 'PO', 'LP', 'CA1', 'DG-mo', 'VISa5', 'SSs5'])\n",
    "values_rh = np.random.randint(0, 10, acronyms_rh.size)\n",
    "\n",
    "acronyms_lr, values_lr = prepare_lr_data(acronyms_lh, values_lh, acronyms_rh, values_rh)"
   ]
  },
  {
   "cell_type": "markdown",
   "id": "45aa4b07",
   "metadata": {},
   "source": [
    "Different mappings can be used when plotting the images (see [here](https://int-brain-lab.github.io/iblenv/notebooks_external/atlas_mapping.html) for more information on atlas mappings). The acronyms provided must correspond to the specified map"
   ]
  },
  {
   "cell_type": "code",
   "execution_count": null,
   "id": "7afc0de4",
   "metadata": {
    "execution": {
     "iopub.execute_input": "2022-11-07T11:31:44.037071Z",
     "iopub.status.busy": "2022-11-07T11:31:44.037071Z",
     "iopub.status.idle": "2022-11-07T11:31:44.127113Z",
     "shell.execute_reply": "2022-11-07T11:31:44.127113Z"
    }
   },
   "outputs": [],
   "source": [
    "from ibllib.atlas.regions import BrainRegions\n",
    "br = BrainRegions()\n",
    "\n",
    "acronyms_beryl = np.unique(br.acronym2acronym(acronyms, mapping='Beryl'))\n",
    "values_beryl = np.arange(acronyms_beryl.size)\n",
    "\n",
    "acronyms_cosmos = np.unique(br.acronym2acronym(acronyms, mapping='Cosmos'))\n",
    "values_cosmos = np.arange(acronyms_cosmos.size)"
   ]
  },
  {
   "cell_type": "markdown",
   "id": "9bcda7f3",
   "metadata": {},
   "source": [
    "## Example 1: Coronal slices"
   ]
  },
  {
   "cell_type": "code",
   "execution_count": null,
   "id": "33270b88",
   "metadata": {
    "execution": {
     "iopub.execute_input": "2022-11-07T11:31:44.132092Z",
     "iopub.status.busy": "2022-11-07T11:31:44.132092Z",
     "iopub.status.idle": "2022-11-07T11:31:45.135974Z",
     "shell.execute_reply": "2022-11-07T11:31:45.135974Z"
    }
   },
   "outputs": [],
   "source": [
    "from ibllib.atlas.plots import plot_scalar_on_slice\n",
    "from ibllib.atlas import AllenAtlas\n",
    "ba = AllenAtlas()"
   ]
  },
  {
   "cell_type": "code",
   "execution_count": null,
   "id": "0731a71d",
   "metadata": {
    "execution": {
     "iopub.execute_input": "2022-11-07T11:31:45.151504Z",
     "iopub.status.busy": "2022-11-07T11:31:45.151504Z",
     "iopub.status.idle": "2022-11-07T11:31:45.358740Z",
     "shell.execute_reply": "2022-11-07T11:31:45.358740Z"
    }
   },
   "outputs": [],
   "source": [
    "# Plot region values on the left hemisphere of a coronal slice at ap=-2000um overlaid on the dwi Allen image\n",
    "fig, ax = plot_scalar_on_slice(acronyms, values, coord=-2000, slice='coronal', mapping='Allen', hemisphere='left',\n",
    "                               background='image', cmap='Reds', brain_atlas=ba)"
   ]
  },
  {
   "cell_type": "code",
   "execution_count": null,
   "id": "284efd17",
   "metadata": {
    "execution": {
     "iopub.execute_input": "2022-11-07T11:31:45.364793Z",
     "iopub.status.busy": "2022-11-07T11:31:45.364793Z",
     "iopub.status.idle": "2022-11-07T11:31:45.512036Z",
     "shell.execute_reply": "2022-11-07T11:31:45.512036Z"
    }
   },
   "outputs": [],
   "source": [
    "# Plot single column region values on both hemispheres of a coronal slice at ap=-2000um overlaid on brain region boundaries\n",
    "# using Beryl mapping\n",
    "# If values only contains one column, the values will be mirrored on each hemisphere\n",
    "fig, ax = plot_scalar_on_slice(acronyms_beryl, values_beryl, coord=-2000, slice='coronal', mapping='Beryl', \n",
    "                               hemisphere='both', background='boundary', cmap='Blues', brain_atlas=ba)"
   ]
  },
  {
   "cell_type": "code",
   "execution_count": null,
   "id": "2df60008",
   "metadata": {
    "execution": {
     "iopub.execute_input": "2022-11-07T11:31:45.527706Z",
     "iopub.status.busy": "2022-11-07T11:31:45.512036Z",
     "iopub.status.idle": "2022-11-07T11:31:45.728132Z",
     "shell.execute_reply": "2022-11-07T11:31:45.728132Z"
    }
   },
   "outputs": [],
   "source": [
    "# Plot two column region values on both hemispheres of a coronal slice at ap=-1800um overlaid on brain region boundaries\n",
    "# and display colorbar\n",
    "# Values contains two columns, so each hemisphere has different values \n",
    "fig, ax, cbar = plot_scalar_on_slice(acronyms_lr, values_lr, coord=-1800, slice='coronal', mapping='Allen', hemisphere='both', \n",
    "                               background='boundary', cmap='viridis', brain_atlas=ba, show_cbar=True)"
   ]
  },
  {
   "cell_type": "markdown",
   "id": "cbdc5f5d",
   "metadata": {},
   "source": [
    "## Example 2: Sagittal slices"
   ]
  },
  {
   "cell_type": "code",
   "execution_count": null,
   "id": "25fec19d",
   "metadata": {
    "execution": {
     "iopub.execute_input": "2022-11-07T11:31:45.743547Z",
     "iopub.status.busy": "2022-11-07T11:31:45.728132Z",
     "iopub.status.idle": "2022-11-07T11:31:45.881344Z",
     "shell.execute_reply": "2022-11-07T11:31:45.881344Z"
    }
   },
   "outputs": [],
   "source": [
    "# Plot region values on the left hemisphere of a sagittal slice at ml=-2000um overlaid on the dwi Allen image \n",
    "# using cosmos mapping\n",
    "fig, ax = plot_scalar_on_slice(acronyms_cosmos, values_cosmos, coord=-2000, slice='sagittal', mapping='Cosmos', \n",
    "                               hemisphere='left', background='image', cmap='Greens', brain_atlas=ba)"
   ]
  },
  {
   "cell_type": "code",
   "execution_count": null,
   "id": "4ee0db12",
   "metadata": {
    "execution": {
     "iopub.execute_input": "2022-11-07T11:31:45.896991Z",
     "iopub.status.busy": "2022-11-07T11:31:45.896991Z",
     "iopub.status.idle": "2022-11-07T11:31:46.078167Z",
     "shell.execute_reply": "2022-11-07T11:31:46.080163Z"
    }
   },
   "outputs": [],
   "source": [
    "# Plot region values on the left hemisphere of a sagittal slice at ml=-1000um overlaid on brain region boundaries\n",
    "# Create figure before and pass in axis on which to plot\n",
    "import matplotlib.pyplot as plt\n",
    "fig, ax = plt.subplots()\n",
    "fig, ax = plot_scalar_on_slice(acronyms, values, coord=-1000, slice='sagittal', mapping='Allen', hemisphere='left', \n",
    "                               background='boundary', cmap='plasma', brain_atlas=ba, ax=ax)"
   ]
  },
  {
   "cell_type": "markdown",
   "id": "b78a2be9",
   "metadata": {},
   "source": [
    "## Example 3: Horizontal slices"
   ]
  },
  {
   "cell_type": "code",
   "execution_count": null,
   "id": "11f7862e",
   "metadata": {
    "execution": {
     "iopub.execute_input": "2022-11-07T11:31:46.104113Z",
     "iopub.status.busy": "2022-11-07T11:31:46.100115Z",
     "iopub.status.idle": "2022-11-07T11:31:46.254982Z",
     "shell.execute_reply": "2022-11-07T11:31:46.253985Z"
    }
   },
   "outputs": [],
   "source": [
    "# Plot two column region values on the both hemispheres of a horizontal slice at dv=--2500um overlaid on the dwi Allen image\n",
    "# Pass in clevels min max values to cap the colormap\n",
    "fig, ax = plot_scalar_on_slice(acronyms_lr, values_lr, coord=-2500, slice='horizontal', mapping='Allen', hemisphere='both', \n",
    "                               background='image', cmap='Reds', brain_atlas=ba, clevels=[0, 5])"
   ]
  },
  {
   "cell_type": "markdown",
   "id": "dbfc97d2",
   "metadata": {},
   "source": [
    "## Example 4: Top view"
   ]
  },
  {
   "cell_type": "code",
   "execution_count": null,
   "id": "238294a4",
   "metadata": {
    "execution": {
     "iopub.execute_input": "2022-11-07T11:31:46.262585Z",
     "iopub.status.busy": "2022-11-07T11:31:46.261586Z",
     "iopub.status.idle": "2022-11-07T11:31:48.060193Z",
     "shell.execute_reply": "2022-11-07T11:31:48.061193Z"
    }
   },
   "outputs": [],
   "source": [
    "# Plot region values on left hemisphere of a top view overlaid on brain region boundaries using Beryl mapping and show cbar\n",
    "\n",
    "fig, ax, cbar = plot_scalar_on_slice(acronyms_beryl, values_beryl, slice='top', mapping='Beryl', hemisphere='left', \n",
    "                                     background='boundary', cmap='Purples', brain_atlas=ba, show_cbar=True)"
   ]
  }
 ],
 "metadata": {
  "docs_executed": "executed",
  "kernelspec": {
   "display_name": "Python [conda env:iblenv] *",
   "language": "python",
   "name": "conda-env-iblenv-py"
  },
  "language_info": {
   "codemirror_mode": {
    "name": "ipython",
    "version": 3
   },
   "file_extension": ".py",
   "mimetype": "text/x-python",
   "name": "python",
   "nbconvert_exporter": "python",
   "pygments_lexer": "ipython3",
   "version": "3.9.7"
  }
 },
 "nbformat": 4,
 "nbformat_minor": 5
}
