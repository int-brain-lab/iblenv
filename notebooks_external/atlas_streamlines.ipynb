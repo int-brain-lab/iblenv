{
 "cells": [
  {
   "cell_type": "markdown",
   "id": "5823062b-e25f-45aa-96d7-65c83845af61",
   "metadata": {},
   "source": [
    "# Working with cortical streamlines\n",
    "\n",
    "In this example we walk through various methods that use the Allen streamlines. Streamlines are the paths that connect the surface of the isocortex to the lower white matter surface while following the curvature of these surfaces."
   ]
  },
  {
   "cell_type": "markdown",
   "id": "46e7e0e7-4295-40a5-a5b3-1bc0fc84f07e",
   "metadata": {},
   "source": [
    "## Depth lookup\n",
    "We can use the streamlines to find the depth of coordinates in 3D space relative to the surface of the cortex. Note as the streamlines are only defined in the cortex so this lookup will only work for coordinates that lie within the Isocortex of the Allen atlas volume. In this example we obtain the depths in percentage, where 0 % indicates the surface of the isocortex and 100 % the white matter boundary."
   ]
  },
  {
   "cell_type": "code",
   "execution_count": null,
   "id": "0a3fddd1-9ddd-4dca-b256-3dd7d29bad67",
   "metadata": {
    "execution": {
     "iopub.execute_input": "2025-09-02T15:20:44.193515Z",
     "iopub.status.busy": "2025-09-02T15:20:44.193342Z",
     "iopub.status.idle": "2025-09-02T15:20:47.653678Z",
     "shell.execute_reply": "2025-09-02T15:20:47.653106Z"
    }
   },
   "outputs": [],
   "source": [
    "from iblatlas.streamlines.utils import xyz_to_depth\n",
    "from iblatlas.atlas import AllenAtlas\n",
    "import numpy as np\n",
    "import matplotlib.pyplot as plt\n",
    "\n",
    "ba = AllenAtlas()\n",
    "# In this example we are going to get out the coordinates of the voxels that lie within the region MOp\n",
    "region_id = ba.regions.acronym2index('MOp')[1][0][0]\n",
    "# MOp is in the beryl mapping so we map our label volume to this mapping\n",
    "ba.label = ba.regions.mappings['Beryl-lr'][ba.label]\n",
    "# These are the indices in the volume, order is AP, ML, DV\n",
    "ixyz = np.where(ba.label == region_id)\n",
    "# Convert these to xyz coordinates relative to bregma in order ML, AP, DV\n",
    "xyz = ba.bc.i2xyz(np.c_[ixyz[1], ixyz[0], ixyz[2]])\n",
    "\n",
    "depth_per = xyz_to_depth(xyz) * 100\n",
    "\n",
    "# We can assign a volume\n",
    "depth_per_vol = np.full(ba.image.shape, np.nan)\n",
    "depth_per_vol[ixyz[0], ixyz[1], ixyz[2]] = depth_per\n",
    "\n",
    "fig, ax = plt.subplots()\n",
    "ba.plot_cslice(620/1e6, volume='image', ax=ax)\n",
    "ba.plot_cslice(620/1e6, volume='volume', region_values=depth_per_vol, ax=ax, cmap='viridis', vmin=0, vmax=100)\n",
    "ax.set_axis_off()\n",
    "cbar = fig.colorbar(ax.get_images()[1], ax=ax)\n",
    "cbar.set_label('Depth from surface of cortex (%)')"
   ]
  },
  {
   "cell_type": "markdown",
   "id": "c1da61f0-7281-45d8-8bd7-33be0d373302",
   "metadata": {},
   "source": [
    "We can also do this look up in um relative to the surface of the cortex."
   ]
  },
  {
   "cell_type": "code",
   "execution_count": null,
   "id": "047509db-fb6b-46f3-8cb2-817b12223bed",
   "metadata": {
    "execution": {
     "iopub.execute_input": "2025-09-02T15:20:47.655484Z",
     "iopub.status.busy": "2025-09-02T15:20:47.655290Z",
     "iopub.status.idle": "2025-09-02T15:20:48.796880Z",
     "shell.execute_reply": "2025-09-02T15:20:48.796195Z"
    }
   },
   "outputs": [],
   "source": [
    "depth_um = xyz_to_depth(xyz, per=False)\n",
    "\n",
    "# We can assign a volume\n",
    "depth_um_vol = np.full(ba.image.shape, np.nan)\n",
    "depth_um_vol[ixyz[0], ixyz[1], ixyz[2]] = depth_um\n",
    "\n",
    "fig, ax = plt.subplots()\n",
    "ba.plot_cslice(620/1e6, volume='image', ax=ax)\n",
    "ba.plot_cslice(620/1e6, volume='volume', region_values=depth_um_vol, ax=ax, cmap='tab20', vmin=0, vmax=2000)\n",
    "ax.set_axis_off()\n",
    "cbar = fig.colorbar(ax.get_images()[1], ax=ax)\n",
    "cbar.set_label('Depth from surface of cortex (um)')"
   ]
  },
  {
   "cell_type": "markdown",
   "id": "bdbe5c0b-d7e3-441e-82ab-8bbcbd013bdd",
   "metadata": {},
   "source": [
    "## Flatmap projection\n",
    "The streamlines can also be used to project a volume or xyz coordinates onto a flattened view of the dorsal cortex. The volume or points can be aggregated along the streamlines in different ways, e.g max, mean, median.\n",
    "\n",
    "In this example we will project the Allen Atlas dwi volume onto the dorsal cortex projection. We will take the maximum value along the streamline for each voxel on the surface"
   ]
  },
  {
   "cell_type": "code",
   "execution_count": null,
   "id": "7b61405d-8589-4cb8-8afc-6f8a87dc4588",
   "metadata": {
    "execution": {
     "iopub.execute_input": "2025-09-02T15:20:48.798703Z",
     "iopub.status.busy": "2025-09-02T15:20:48.798488Z",
     "iopub.status.idle": "2025-09-02T15:20:56.361159Z",
     "shell.execute_reply": "2025-09-02T15:20:56.360478Z"
    }
   },
   "outputs": [],
   "source": [
    "from iblatlas.streamlines.utils import project_volume_onto_flatmap\n",
    "\n",
    "ba = AllenAtlas(25)\n",
    "proj, fig, ax = project_volume_onto_flatmap(ba.image, res_um=25, aggr='max', plot=True, cmap='bone')\n",
    "ax.set_axis_off()"
   ]
  },
  {
   "cell_type": "markdown",
   "id": "702b9abd-f97d-4a4e-967a-e9967e630293",
   "metadata": {},
   "source": [
    "We can also do the same with xyz coordinates (we will use the same xyz coordinates for the region MOp and assign random values to each coordinate)"
   ]
  },
  {
   "cell_type": "code",
   "execution_count": null,
   "id": "19bf31f8-8f22-4f0e-91bb-7998f9379dc6",
   "metadata": {
    "execution": {
     "iopub.execute_input": "2025-09-02T15:20:56.362951Z",
     "iopub.status.busy": "2025-09-02T15:20:56.362761Z",
     "iopub.status.idle": "2025-09-02T15:21:08.009345Z",
     "shell.execute_reply": "2025-09-02T15:21:08.008765Z"
    }
   },
   "outputs": [],
   "source": [
    "from iblatlas.streamlines.utils import project_points_onto_flatmap, get_mask\n",
    "\n",
    "# Get a mask to plot our results on, options are 'image', 'annotation' or 'boundary\n",
    "mask = get_mask('boundary')\n",
    "\n",
    "values = np.random.rand(xyz.shape[0])\n",
    "\n",
    "proj = project_points_onto_flatmap(xyz, values, aggr='mean', plot=False)\n",
    "# Mask values with 0 with nan for display purposes\n",
    "proj[proj == 0] = np.nan\n",
    "\n",
    "fig, ax = plt.subplots()\n",
    "ax.imshow(mask, cmap='Greys')\n",
    "ax.imshow(proj)\n",
    "ax.set_axis_off()"
   ]
  }
 ],
 "metadata": {
  "docs_executed": "executed",
  "kernelspec": {
   "display_name": "Python 3 (ipykernel)",
   "language": "python",
   "name": "python3"
  },
  "language_info": {
   "codemirror_mode": {
    "name": "ipython",
    "version": 3
   },
   "file_extension": ".py",
   "mimetype": "text/x-python",
   "name": "python",
   "nbconvert_exporter": "python",
   "pygments_lexer": "ipython3",
   "version": "3.12.11"
  }
 },
 "nbformat": 4,
 "nbformat_minor": 5
}
