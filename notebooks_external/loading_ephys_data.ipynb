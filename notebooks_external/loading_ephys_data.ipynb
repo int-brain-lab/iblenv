{
 "cells": [
  {
   "cell_type": "markdown",
   "id": "1656923d",
   "metadata": {},
   "source": [
    "# Loading Ephys Data (AP and LFP band)"
   ]
  },
  {
   "cell_type": "code",
   "execution_count": null,
   "id": "81b9fe17",
   "metadata": {
    "execution": {
     "iopub.execute_input": "2022-02-20T10:00:45.129386Z",
     "iopub.status.busy": "2022-02-20T10:00:45.127347Z",
     "iopub.status.idle": "2022-02-20T10:00:45.170298Z",
     "shell.execute_reply": "2022-02-20T10:00:45.164800Z"
    },
    "nbsphinx": "hidden"
   },
   "outputs": [],
   "source": [
    "# Turn off logging, this is a hidden cell on docs page\n",
    "import logging\n",
    "logger = logging.getLogger('ibllib')\n",
    "logger.setLevel(logging.CRITICAL)"
   ]
  },
  {
   "cell_type": "markdown",
   "id": "d82e6bf7",
   "metadata": {},
   "source": [
    "Electrophysiology features computed on AP and LFP band of raw ephys data"
   ]
  },
  {
   "cell_type": "markdown",
   "id": "cd7f6cda",
   "metadata": {},
   "source": [
    "## Relevant Alf objects\n",
    "* ephysTimeRmsAP\n",
    "* ephysSpectralDensityAP\n",
    "* ephysTimeRmsLF\n",
    "* ephysSpectralDensityLF"
   ]
  },
  {
   "cell_type": "markdown",
   "id": "7388e6a9",
   "metadata": {},
   "source": [
    "## Loading"
   ]
  },
  {
   "cell_type": "markdown",
   "id": "3f7f34de",
   "metadata": {},
   "source": [
    "### Loading RMS"
   ]
  },
  {
   "cell_type": "code",
   "execution_count": null,
   "id": "3368df3e",
   "metadata": {
    "execution": {
     "iopub.execute_input": "2022-02-20T10:00:45.195146Z",
     "iopub.status.busy": "2022-02-20T10:00:45.195146Z",
     "iopub.status.idle": "2022-02-20T10:01:01.595722Z",
     "shell.execute_reply": "2022-02-20T10:01:01.594721Z"
    }
   },
   "outputs": [],
   "source": [
    "from one.api import ONE\n",
    "one = ONE()\n",
    "pid = 'da8dfec1-d265-44e8-84ce-6ae9c109b8bd'\n",
    "eid, name = one.pid2eid(pid)\n",
    "\n",
    "ap_rms = one.load_object(eid, f'ephysTimeRmsAP', collection=f'raw_ephys_data/{name}')"
   ]
  },
  {
   "cell_type": "markdown",
   "id": "c0e8afd2",
   "metadata": {},
   "source": [
    "### Loading Spectral Density"
   ]
  },
  {
   "cell_type": "code",
   "execution_count": null,
   "id": "1f973b85",
   "metadata": {
    "execution": {
     "iopub.execute_input": "2022-02-20T10:01:01.610035Z",
     "iopub.status.busy": "2022-02-20T10:01:01.603388Z",
     "iopub.status.idle": "2022-02-20T10:01:01.878845Z",
     "shell.execute_reply": "2022-02-20T10:01:01.878845Z"
    }
   },
   "outputs": [],
   "source": [
    "lf_psd = one.load_object(eid, f'ephysSpectralDensityLF', collection=f'raw_ephys_data/{name}')"
   ]
  },
  {
   "cell_type": "markdown",
   "id": "69a62084",
   "metadata": {},
   "source": [
    "## More Details\n",
    "* [Description of ephysTimeRms datasets](https://docs.google.com/document/d/1OqIqqakPakHXRAwceYLwFY9gOrm8_P62XIfCTnHwstg/edit#heading=h.bjzcdaw1mvltn)\n",
    "* [Description of ephysSpectralDensity datasets](https://docs.google.com/document/d/1OqIqqakPakHXRAwceYLwFY9gOrm8_P62XIfCTnHwstg/edit#heading=h.fmz3a9wvpo4) "
   ]
  },
  {
   "cell_type": "markdown",
   "id": "81d54091",
   "metadata": {},
   "source": [
    "## Useful modules\n",
    "* [brainbox.ephys_plots](https://int-brain-lab.github.io/iblenv/_autosummary/brainbox.ephys_plots.html#module-brainbox.ephys_plots)\n",
    "* [ibllib.ephys.ephysqc](https://int-brain-lab.github.io/iblenv/_autosummary/ibllib.ephys.ephysqc.html)\n",
    "* [ibllib.ephys.neuropixel.trace_header](https://int-brain-lab.github.io/iblenv/_autosummary/ibllib.ephys.neuropixel.html#ibllib.ephys.neuropixel.trace_header)"
   ]
  },
  {
   "cell_type": "markdown",
   "id": "99714e80",
   "metadata": {},
   "source": [
    "## Exploring Ephys Data"
   ]
  },
  {
   "cell_type": "markdown",
   "id": "fd19c565",
   "metadata": {},
   "source": [
    "### Example 1: Removing non electophysiological channels"
   ]
  },
  {
   "cell_type": "code",
   "execution_count": null,
   "id": "fd36e0d0",
   "metadata": {
    "execution": {
     "iopub.execute_input": "2022-02-20T10:01:01.878845Z",
     "iopub.status.busy": "2022-02-20T10:01:01.878845Z",
     "iopub.status.idle": "2022-02-20T10:01:01.927295Z",
     "shell.execute_reply": "2022-02-20T10:01:01.927295Z"
    }
   },
   "outputs": [],
   "source": [
    "# The objects ephysTimeRms and ephysSpectralDensity contain data for all channels on the probe including the channel used\n",
    "# for syncing\n",
    "\n",
    "# The indices of the ephys channels can be found using the following\n",
    "from ibllib.ephys.neuropixel import trace_header\n",
    "inds = trace_header()['ind']\n",
    "\n",
    "lf_psd['power'] = lf_psd['power'][:, inds]"
   ]
  },
  {
   "cell_type": "markdown",
   "id": "b2a038b1",
   "metadata": {},
   "source": [
    "### Example 2: Find low frequency PSD of LFP signal"
   ]
  },
  {
   "cell_type": "code",
   "execution_count": null,
   "id": "0cf30d8c",
   "metadata": {
    "execution": {
     "iopub.execute_input": "2022-02-20T10:01:01.927295Z",
     "iopub.status.busy": "2022-02-20T10:01:01.927295Z",
     "iopub.status.idle": "2022-02-20T10:01:01.945314Z",
     "shell.execute_reply": "2022-02-20T10:01:01.948359Z"
    }
   },
   "outputs": [],
   "source": [
    "import numpy as np\n",
    "\n",
    "# Define frequency range of interest 8-20 Hz\n",
    "freq_range = [8, 20]\n",
    "\n",
    "freq_idx = np.bitwise_and(lf_psd['freqs'] >= freq_range[0], lf_psd['freqs'] <= freq_range[1])\n",
    "\n",
    "lfp_dB = 10 * np.log(lf_psd['power'][freq_idx, :])"
   ]
  },
  {
   "cell_type": "markdown",
   "id": "3a0d62e2",
   "metadata": {},
   "source": [
    "### Example 3: Plot LFP PSD spectrum"
   ]
  },
  {
   "cell_type": "code",
   "execution_count": null,
   "id": "67cac014",
   "metadata": {
    "execution": {
     "iopub.execute_input": "2022-02-20T10:01:01.957928Z",
     "iopub.status.busy": "2022-02-20T10:01:01.956526Z",
     "iopub.status.idle": "2022-02-20T10:01:05.004062Z",
     "shell.execute_reply": "2022-02-20T10:01:05.005063Z"
    }
   },
   "outputs": [],
   "source": [
    "from brainbox.ephys_plots import image_lfp_spectrum_plot\n",
    "\n",
    "data, fig, ax = image_lfp_spectrum_plot(lf_psd['power'], lf_psd['freqs'], display=True)"
   ]
  },
  {
   "cell_type": "markdown",
   "id": "8be709cc",
   "metadata": {},
   "source": [
    "## Other relevant examples\n",
    "* COMING SOON"
   ]
  }
 ],
 "metadata": {
  "docs_executed": "executed",
  "kernelspec": {
   "display_name": "Python [conda env:iblenv] *",
   "language": "python",
   "name": "conda-env-iblenv-py"
  },
  "language_info": {
   "codemirror_mode": {
    "name": "ipython",
    "version": 3
   },
   "file_extension": ".py",
   "mimetype": "text/x-python",
   "name": "python",
   "nbconvert_exporter": "python",
   "pygments_lexer": "ipython3",
   "version": "3.9.7"
  }
 },
 "nbformat": 4,
 "nbformat_minor": 5
}
