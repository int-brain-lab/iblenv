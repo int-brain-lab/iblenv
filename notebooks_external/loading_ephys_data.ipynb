{
 "cells": [
  {
   "cell_type": "markdown",
   "id": "1656923d",
   "metadata": {},
   "source": [
    "# Loading Ephys Data (AP and LFP band)"
   ]
  },
  {
   "cell_type": "code",
   "execution_count": null,
   "id": "81b9fe17",
   "metadata": {
    "execution": {
     "iopub.execute_input": "2023-12-22T12:07:04.542080Z",
     "iopub.status.busy": "2023-12-22T12:07:04.541880Z",
     "iopub.status.idle": "2023-12-22T12:07:04.548571Z",
     "shell.execute_reply": "2023-12-22T12:07:04.548043Z"
    },
    "nbsphinx": "hidden"
   },
   "outputs": [],
   "source": [
    "# Turn off logging, this is a hidden cell on docs page\n",
    "import logging\n",
    "logger = logging.getLogger('ibllib')\n",
    "logger.setLevel(logging.CRITICAL)"
   ]
  },
  {
   "cell_type": "markdown",
   "id": "d82e6bf7",
   "metadata": {},
   "source": [
    "Electrophysiology features computed on AP and LFP band of raw ephys data"
   ]
  },
  {
   "cell_type": "markdown",
   "id": "cd7f6cda",
   "metadata": {},
   "source": [
    "## Relevant Alf objects\n",
    "* ephysTimeRmsAP\n",
    "* ephysSpectralDensityAP\n",
    "* ephysTimeRmsLF\n",
    "* ephysSpectralDensityLF"
   ]
  },
  {
   "cell_type": "markdown",
   "id": "7388e6a9",
   "metadata": {},
   "source": [
    "## Loading"
   ]
  },
  {
   "cell_type": "markdown",
   "id": "3f7f34de",
   "metadata": {},
   "source": [
    "### Loading RMS"
   ]
  },
  {
   "cell_type": "code",
   "execution_count": null,
   "id": "3368df3e",
   "metadata": {
    "execution": {
     "iopub.execute_input": "2023-12-22T12:07:04.551184Z",
     "iopub.status.busy": "2023-12-22T12:07:04.550823Z",
     "iopub.status.idle": "2023-12-22T12:07:07.153694Z",
     "shell.execute_reply": "2023-12-22T12:07:07.152963Z"
    }
   },
   "outputs": [],
   "source": [
    "from one.api import ONE\n",
    "one = ONE()\n",
    "pid = 'da8dfec1-d265-44e8-84ce-6ae9c109b8bd'\n",
    "eid, name = one.pid2eid(pid)\n",
    "\n",
    "ap_rms = one.load_object(eid, f'ephysTimeRmsAP', collection=f'raw_ephys_data/{name}')"
   ]
  },
  {
   "cell_type": "markdown",
   "id": "c0e8afd2",
   "metadata": {},
   "source": [
    "### Loading Spectral Density"
   ]
  },
  {
   "cell_type": "code",
   "execution_count": null,
   "id": "1f973b85",
   "metadata": {
    "execution": {
     "iopub.execute_input": "2023-12-22T12:07:07.156555Z",
     "iopub.status.busy": "2023-12-22T12:07:07.156003Z",
     "iopub.status.idle": "2023-12-22T12:07:07.985123Z",
     "shell.execute_reply": "2023-12-22T12:07:07.984441Z"
    }
   },
   "outputs": [],
   "source": [
    "lf_psd = one.load_object(eid, f'ephysSpectralDensityLF', collection=f'raw_ephys_data/{name}')"
   ]
  },
  {
   "cell_type": "markdown",
   "id": "69a62084",
   "metadata": {},
   "source": [
    "## More Details\n",
    "* [Description of ephysTimeRms datasets](https://docs.google.com/document/d/1OqIqqakPakHXRAwceYLwFY9gOrm8_P62XIfCTnHwstg/edit#heading=h.bjzcdaw1mvltn)\n",
    "* [Description of ephysSpectralDensity datasets](https://docs.google.com/document/d/1OqIqqakPakHXRAwceYLwFY9gOrm8_P62XIfCTnHwstg/edit#heading=h.fmz3a9wvpo4) "
   ]
  },
  {
   "cell_type": "markdown",
   "id": "81d54091",
   "metadata": {},
   "source": [
    "## Useful modules\n",
    "* [brainbox.ephys_plots](https://int-brain-lab.github.io/iblenv/_autosummary/brainbox.ephys_plots.html#module-brainbox.ephys_plots)\n",
    "* [ibllib.ephys.ephysqc](https://int-brain-lab.github.io/iblenv/_autosummary/ibllib.ephys.ephysqc.html)\n",
    "* [neuropixel.trace_header](https://int-brain-lab.github.io/iblenv/_autosummary/neuropixel.html#ineuropixel.trace_header)"
   ]
  },
  {
   "cell_type": "markdown",
   "id": "99714e80",
   "metadata": {},
   "source": [
    "## Exploring Ephys Data"
   ]
  },
  {
   "cell_type": "markdown",
   "id": "fd19c565",
   "metadata": {},
   "source": [
    "### Example 1: Removing non electophysiological channels"
   ]
  },
  {
   "cell_type": "code",
   "execution_count": null,
   "id": "fd36e0d0",
   "metadata": {
    "execution": {
     "iopub.execute_input": "2023-12-22T12:07:07.987907Z",
     "iopub.status.busy": "2023-12-22T12:07:07.987678Z",
     "iopub.status.idle": "2023-12-22T12:07:08.375214Z",
     "shell.execute_reply": "2023-12-22T12:07:08.374574Z"
    }
   },
   "outputs": [],
   "source": [
    "# The objects ephysTimeRms and ephysSpectralDensity contain data for all channels on the probe including the channel used\n",
    "# for syncing\n",
    "\n",
    "# The indices of the ephys channels can be found using the following\n",
    "from neuropixel import trace_header\n",
    "inds = trace_header()['ind']\n",
    "\n",
    "lf_psd['power'] = lf_psd['power'][:, inds]"
   ]
  },
  {
   "cell_type": "markdown",
   "id": "b2a038b1",
   "metadata": {},
   "source": [
    "### Example 2: Find low frequency PSD of LFP signal"
   ]
  },
  {
   "cell_type": "code",
   "execution_count": null,
   "id": "0cf30d8c",
   "metadata": {
    "execution": {
     "iopub.execute_input": "2023-12-22T12:07:08.378353Z",
     "iopub.status.busy": "2023-12-22T12:07:08.378106Z",
     "iopub.status.idle": "2023-12-22T12:07:08.382733Z",
     "shell.execute_reply": "2023-12-22T12:07:08.382036Z"
    }
   },
   "outputs": [],
   "source": [
    "import numpy as np\n",
    "\n",
    "# Define frequency range of interest 8-20 Hz\n",
    "freq_range = [8, 20]\n",
    "\n",
    "freq_idx = np.bitwise_and(lf_psd['freqs'] >= freq_range[0], lf_psd['freqs'] <= freq_range[1])\n",
    "\n",
    "lfp_dB = 10 * np.log(lf_psd['power'][freq_idx, :])"
   ]
  },
  {
   "cell_type": "markdown",
   "id": "3a0d62e2",
   "metadata": {},
   "source": [
    "### Example 3: Plot LFP PSD spectrum"
   ]
  },
  {
   "cell_type": "code",
   "execution_count": null,
   "id": "67cac014",
   "metadata": {
    "execution": {
     "iopub.execute_input": "2023-12-22T12:07:08.385416Z",
     "iopub.status.busy": "2023-12-22T12:07:08.385179Z",
     "iopub.status.idle": "2023-12-22T12:07:08.970629Z",
     "shell.execute_reply": "2023-12-22T12:07:08.969920Z"
    }
   },
   "outputs": [],
   "source": [
    "from brainbox.ephys_plots import image_lfp_spectrum_plot\n",
    "\n",
    "data, fig, ax = image_lfp_spectrum_plot(lf_psd['power'], lf_psd['freqs'], display=True)"
   ]
  },
  {
   "cell_type": "markdown",
   "id": "8be709cc",
   "metadata": {},
   "source": [
    "## Other relevant examples\n",
    "* COMING SOON"
   ]
  }
 ],
 "metadata": {
  "docs_executed": "executed",
  "kernelspec": {
   "display_name": "Python [conda env:iblenv] *",
   "language": "python",
   "name": "conda-env-iblenv-py"
  },
  "language_info": {
   "codemirror_mode": {
    "name": "ipython",
    "version": 3
   },
   "file_extension": ".py",
   "mimetype": "text/x-python",
   "name": "python",
   "nbconvert_exporter": "python",
   "pygments_lexer": "ipython3",
   "version": "3.9.18"
  }
 },
 "nbformat": 4,
 "nbformat_minor": 5
}
