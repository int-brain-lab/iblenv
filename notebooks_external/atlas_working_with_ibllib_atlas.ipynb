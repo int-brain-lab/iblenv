{
 "cells": [
  {
   "cell_type": "markdown",
   "id": "b767b213",
   "metadata": {},
   "source": [
    "# Working with IBL atlas object"
   ]
  },
  {
   "cell_type": "markdown",
   "id": "bba98311",
   "metadata": {},
   "source": [
    "## Getting started"
   ]
  },
  {
   "cell_type": "markdown",
   "id": "461b8f34",
   "metadata": {},
   "source": [
    "The Allen atlas image and annotation volumes can be accessed using the `iblatlas.atlas.AllenAtlas` class. Upon instantiating the class for the first time, the relevant files will be downloaded from the Allen database."
   ]
  },
  {
   "cell_type": "code",
   "execution_count": null,
   "id": "df873343",
   "metadata": {
    "execution": {
     "iopub.execute_input": "2025-09-03T16:21:51.468032Z",
     "iopub.status.busy": "2025-09-03T16:21:51.467781Z",
     "iopub.status.idle": "2025-09-03T16:21:52.924643Z",
     "shell.execute_reply": "2025-09-03T16:21:52.924026Z"
    }
   },
   "outputs": [],
   "source": [
    "from iblatlas.atlas import AllenAtlas\n",
    "\n",
    "res = 25 # resolution of Atlas, available resolutions are 10, 25 (default) and 50\n",
    "brain_atlas = AllenAtlas(res_um=res)"
   ]
  },
  {
   "cell_type": "markdown",
   "id": "95a8e4db",
   "metadata": {},
   "source": [
    "## Exploring the volumes"
   ]
  },
  {
   "cell_type": "markdown",
   "id": "12f16b38",
   "metadata": {},
   "source": [
    "The brain_atlas class contains two volumes, the diffusion weighted imaging **(DWI) image** volume and the **annotation label** volume.\n",
    "Each volume is saved into a matrix of the same shape (i.e. they contain the same number of voxels), as defined by the input resolution `res`."
   ]
  },
  {
   "cell_type": "markdown",
   "id": "5f34f56c",
   "metadata": {},
   "source": [
    "### 1. Image Volume \n",
    "The image volume contains the Allen atlas DWI average template. DWI images are typically represented in gray-scale colors."
   ]
  },
  {
   "cell_type": "code",
   "execution_count": null,
   "id": "769b4fd4",
   "metadata": {
    "execution": {
     "iopub.execute_input": "2025-09-03T16:21:52.926709Z",
     "iopub.status.busy": "2025-09-03T16:21:52.926502Z",
     "iopub.status.idle": "2025-09-03T16:21:53.100328Z",
     "shell.execute_reply": "2025-09-03T16:21:53.099712Z"
    }
   },
   "outputs": [],
   "source": [
    "# Access the image volume\n",
    "im = brain_atlas.image\n",
    "\n",
    "# Explore the size of the image volume (ap, ml, dv)\n",
    "print(f'Shape of image volume: {im.shape}')\n",
    "\n",
    "# Plot a coronal slice at ap = -1000um\n",
    "ap = -1000 / 1e6  # input must be in metres\n",
    "ax = brain_atlas.plot_cslice(ap, volume='image')\n"
   ]
  },
  {
   "cell_type": "markdown",
   "id": "1c46789b",
   "metadata": {},
   "source": [
    "### Label Volume\n"
   ]
  },
  {
   "cell_type": "markdown",
   "id": "72bea21a",
   "metadata": {},
   "source": [
    "The label volume contains information about which brain region each voxel in the volume belongs to."
   ]
  },
  {
   "cell_type": "code",
   "execution_count": null,
   "id": "ff7cb654",
   "metadata": {
    "execution": {
     "iopub.execute_input": "2025-09-03T16:21:53.102218Z",
     "iopub.status.busy": "2025-09-03T16:21:53.102043Z",
     "iopub.status.idle": "2025-09-03T16:21:53.217536Z",
     "shell.execute_reply": "2025-09-03T16:21:53.216905Z"
    }
   },
   "outputs": [],
   "source": [
    "# Access the label volume\n",
    "lab = brain_atlas.label\n",
    "\n",
    "# Explore the size of the label volume (ap, ml, dv)\n",
    "print(f'Shape of label volume: {lab.shape}')\n",
    "\n",
    "# Plot a coronal slice at ap = -1000um\n",
    "ap = -1000 / 1e6  # input must be in metres\n",
    "ax = brain_atlas.plot_cslice(ap, volume='annotation')"
   ]
  },
  {
   "cell_type": "markdown",
   "id": "8bd69066",
   "metadata": {},
   "source": [
    "The label volume used in the IBL AllenAtlas class differs from the Allen annotation volume in two ways.\n",
    "- Each voxel has information about the index of the Allen region rather than the Allen atlas id\n",
    "- The volume has been lateralised to differentiate between the left and right hemisphere\n",
    "\n",
    "To understand this better let's explore the BrainRegions class that contains information about the Allen structure tree."
   ]
  },
  {
   "cell_type": "markdown",
   "id": "04f601ed",
   "metadata": {},
   "source": [
    "## Exploring brain regions"
   ]
  },
  {
   "cell_type": "markdown",
   "id": "a1802136",
   "metadata": {},
   "source": [
    "### Index versus Allen ID\n",
    "\n",
    "The Allen brain region structure tree can be accessed through the class `iblatlas.regions.BrainRegions`."
   ]
  },
  {
   "cell_type": "code",
   "execution_count": null,
   "id": "9c2d097f",
   "metadata": {
    "execution": {
     "iopub.execute_input": "2025-09-03T16:21:53.219456Z",
     "iopub.status.busy": "2025-09-03T16:21:53.219270Z",
     "iopub.status.idle": "2025-09-03T16:21:53.233342Z",
     "shell.execute_reply": "2025-09-03T16:21:53.232756Z"
    }
   },
   "outputs": [],
   "source": [
    "from iblatlas.regions import BrainRegions\n",
    "\n",
    "brain_regions = BrainRegions()\n",
    "\n",
    "# Alternatively if you already have the AllenAtlas instantiated you can access it as an attribute\n",
    "brain_regions = brain_atlas.regions"
   ]
  },
  {
   "cell_type": "markdown",
   "id": "6cf9ab47",
   "metadata": {},
   "source": [
    "The brain_regions class has the following data attributes"
   ]
  },
  {
   "cell_type": "code",
   "execution_count": null,
   "id": "1d078160",
   "metadata": {
    "execution": {
     "iopub.execute_input": "2025-09-03T16:21:53.235171Z",
     "iopub.status.busy": "2025-09-03T16:21:53.234994Z",
     "iopub.status.idle": "2025-09-03T16:21:53.238812Z",
     "shell.execute_reply": "2025-09-03T16:21:53.238290Z"
    }
   },
   "outputs": [],
   "source": [
    "brain_regions.__annotations__"
   ]
  },
  {
   "cell_type": "markdown",
   "id": "44339559",
   "metadata": {},
   "source": [
    "These attributes are the same as the Allen structure tree and for example `id` corresponds to the Allen atlas id while the `name` represents the full anatomical brain region name."
   ]
  },
  {
   "cell_type": "markdown",
   "id": "fbe04558",
   "metadata": {},
   "source": [
    "The index refers to the index in each of these attribute arrays. For example, index 1 corresponds to the `root` brain region with an atlas id of 977. "
   ]
  },
  {
   "cell_type": "code",
   "execution_count": null,
   "id": "0c1fdf7c",
   "metadata": {
    "execution": {
     "iopub.execute_input": "2025-09-03T16:21:53.240382Z",
     "iopub.status.busy": "2025-09-03T16:21:53.240205Z",
     "iopub.status.idle": "2025-09-03T16:21:53.243336Z",
     "shell.execute_reply": "2025-09-03T16:21:53.242772Z"
    }
   },
   "outputs": [],
   "source": [
    "index = 1\n",
    "print(brain_regions.id[index])\n",
    "print(brain_regions.acronym[index])"
   ]
  },
  {
   "cell_type": "markdown",
   "id": "fd8e542c",
   "metadata": {},
   "source": [
    "Alternatively, index 1000 corresponds to `PPYd` with an atlas id of 185"
   ]
  },
  {
   "cell_type": "code",
   "execution_count": null,
   "id": "cf56d8d9",
   "metadata": {
    "execution": {
     "iopub.execute_input": "2025-09-03T16:21:53.245132Z",
     "iopub.status.busy": "2025-09-03T16:21:53.244958Z",
     "iopub.status.idle": "2025-09-03T16:21:53.248065Z",
     "shell.execute_reply": "2025-09-03T16:21:53.247494Z"
    }
   },
   "outputs": [],
   "source": [
    "index = 1000\n",
    "print(brain_regions.id[index])\n",
    "print(brain_regions.acronym[index])"
   ]
  },
  {
   "cell_type": "markdown",
   "id": "4c3acedd",
   "metadata": {},
   "source": [
    "In the label volume we described above, it is these indices that we are referring to. Therefore, we know all voxels in the volume with a value of 0 will be voxels that lie in `root`, while the voxels that have a value of 1000 will be in `PPYd`"
   ]
  },
  {
   "cell_type": "code",
   "execution_count": null,
   "id": "b607f170",
   "metadata": {
    "execution": {
     "iopub.execute_input": "2025-09-03T16:21:53.249643Z",
     "iopub.status.busy": "2025-09-03T16:21:53.249420Z",
     "iopub.status.idle": "2025-09-03T16:21:53.582140Z",
     "shell.execute_reply": "2025-09-03T16:21:53.581501Z"
    }
   },
   "outputs": [],
   "source": [
    "import numpy as np\n",
    "root_voxels = np.where(brain_atlas.label == 1)\n",
    "ppyd_voxels = np.where(brain_atlas.label == 1000)"
   ]
  },
  {
   "cell_type": "markdown",
   "id": "b96a19fb",
   "metadata": {
    "collapsed": false
   },
   "source": [
    "Voxels outside of the brain are labelled with `void`, which has the both the index and Allen ID being 0:"
   ]
  },
  {
   "cell_type": "code",
   "execution_count": null,
   "id": "fc30fb17",
   "metadata": {
    "execution": {
     "iopub.execute_input": "2025-09-03T16:21:53.584274Z",
     "iopub.status.busy": "2025-09-03T16:21:53.584084Z",
     "iopub.status.idle": "2025-09-03T16:21:53.587222Z",
     "shell.execute_reply": "2025-09-03T16:21:53.586761Z"
    },
    "pycharm": {
     "name": "#%%\n"
    }
   },
   "outputs": [],
   "source": [
    "index_void = 0\n",
    "print(brain_regions.id[index_void])\n",
    "print(brain_regions.acronym[index_void])"
   ]
  },
  {
   "cell_type": "markdown",
   "id": "3fbc71bb",
   "metadata": {
    "collapsed": false
   },
   "source": [
    "As such, you can find all the voxels within the brain by filtering for non-zero indices:"
   ]
  },
  {
   "cell_type": "code",
   "execution_count": null,
   "id": "89e5712b",
   "metadata": {
    "execution": {
     "iopub.execute_input": "2025-09-03T16:21:53.588815Z",
     "iopub.status.busy": "2025-09-03T16:21:53.588652Z",
     "iopub.status.idle": "2025-09-03T16:21:53.591098Z",
     "shell.execute_reply": "2025-09-03T16:21:53.590659Z"
    },
    "pycharm": {
     "name": "#%%\n"
    }
   },
   "outputs": [],
   "source": [
    "vox_in = np.where(brain_regions.id != index_void)"
   ]
  },
  {
   "cell_type": "markdown",
   "id": "69ff80c5",
   "metadata": {
    "collapsed": false
   },
   "source": [
    "You can jump betwen acronym / id / index with these functions :"
   ]
  },
  {
   "cell_type": "code",
   "execution_count": null,
   "id": "7368f6e9",
   "metadata": {
    "execution": {
     "iopub.execute_input": "2025-09-03T16:21:53.592730Z",
     "iopub.status.busy": "2025-09-03T16:21:53.592568Z",
     "iopub.status.idle": "2025-09-03T16:21:53.611951Z",
     "shell.execute_reply": "2025-09-03T16:21:53.611482Z"
    },
    "pycharm": {
     "name": "#%%\n"
    }
   },
   "outputs": [],
   "source": [
    "# From an acronym, get the index and id\n",
    "acronym = 'MDm'\n",
    "index = brain_regions.acronym2index(acronym)\n",
    "id = brain_regions.acronym2id(acronym)\n",
    "\n",
    "print(f'The acronym {acronym} has the indices {index[1][0]} and Allen id {id[0]}')\n",
    "\n",
    "# From an id, get the index and acronym\n",
    "id = 636\n",
    "acronym = brain_regions.id2acronym(id)\n",
    "index = brain_regions.id2index(id)\n",
    "\n",
    "print(f'The Allen id {id} has the acronym {acronym[0]} and the indices {index[1][0]}')\n",
    "\n",
    "# From a single index, get the id and acronym\n",
    "# (Note that this returns only 1 value)\n",
    "index = 2016\n",
    "id = brain_regions.id[index]\n",
    "acronym = brain_regions.acronym[index]\n",
    "\n",
    "print(f'The index {index} has the acronym {acronym} and the Allen id {id}')"
   ]
  },
  {
   "cell_type": "markdown",
   "id": "411ea768",
   "metadata": {
    "collapsed": false
   },
   "source": []
  },
  {
   "cell_type": "markdown",
   "id": "474bb26b",
   "metadata": {},
   "source": [
    "### Lateralisation: left/right hemisphere differentiation\n",
    "\n",
    "An additional nuance is the lateralisation. If you compare the size of the brain_regions data class to the Allen structure tree, you will see that it has double the number of columms. This is because the IBL brain regions encodes both the left and right hemisphere using unique, positive integers (the index), whilst the Allen IDs are signed integers (the sign represents the left or right hemisphere)."
   ]
  },
  {
   "cell_type": "code",
   "execution_count": null,
   "id": "75539930",
   "metadata": {
    "execution": {
     "iopub.execute_input": "2025-09-03T16:21:53.613535Z",
     "iopub.status.busy": "2025-09-03T16:21:53.613357Z",
     "iopub.status.idle": "2025-09-03T16:21:53.616308Z",
     "shell.execute_reply": "2025-09-03T16:21:53.615842Z"
    },
    "pycharm": {
     "name": "#%%\n"
    }
   },
   "outputs": [],
   "source": [
    "# Print how many indexes there are\n",
    "print(brain_regions.id.size)"
   ]
  },
  {
   "cell_type": "markdown",
   "id": "322a0246",
   "metadata": {
    "collapsed": false
   },
   "source": [
    "This is equivalent to 2x the number of unique Allen IDs (positive + negative), plus `void` (0) that is not lateralised:"
   ]
  },
  {
   "cell_type": "code",
   "execution_count": null,
   "id": "636c60e8",
   "metadata": {
    "execution": {
     "iopub.execute_input": "2025-09-03T16:21:53.617901Z",
     "iopub.status.busy": "2025-09-03T16:21:53.617724Z",
     "iopub.status.idle": "2025-09-03T16:21:53.621269Z",
     "shell.execute_reply": "2025-09-03T16:21:53.620706Z"
    },
    "pycharm": {
     "name": "#%%\n"
    }
   },
   "outputs": [],
   "source": [
    "positive_id = np.where(brain_regions.id>0)[0]\n",
    "negative_id = np.where(brain_regions.id<0)[0]\n",
    "void_id = np.where(brain_regions.id==0)[0]\n",
    "\n",
    "print(len(positive_id) + len(negative_id) + len(void_id))"
   ]
  },
  {
   "cell_type": "markdown",
   "id": "ad006b5f",
   "metadata": {
    "collapsed": false
   },
   "source": [
    "We can understand this better by exploring the `brain_regions.id` and `brain_regions.name` at the indices where it transitions between hemispheres."
   ]
  },
  {
   "cell_type": "markdown",
   "id": "e74d2590",
   "metadata": {
    "collapsed": false
   },
   "source": [
    "The first value of `brain_region.id` is `void` (Allen id `0`):"
   ]
  },
  {
   "cell_type": "code",
   "execution_count": null,
   "id": "1d69a398",
   "metadata": {
    "execution": {
     "iopub.execute_input": "2025-09-03T16:21:53.622913Z",
     "iopub.status.busy": "2025-09-03T16:21:53.622750Z",
     "iopub.status.idle": "2025-09-03T16:21:53.625743Z",
     "shell.execute_reply": "2025-09-03T16:21:53.625156Z"
    },
    "pycharm": {
     "name": "#%%\n"
    }
   },
   "outputs": [],
   "source": [
    "print(brain_regions.id[index_void])"
   ]
  },
  {
   "cell_type": "markdown",
   "id": "2c0a876c",
   "metadata": {
    "collapsed": false
   },
   "source": [
    "The point of change between right and left hemisphere is at the index:"
   ]
  },
  {
   "cell_type": "code",
   "execution_count": null,
   "id": "74862f4c",
   "metadata": {
    "execution": {
     "iopub.execute_input": "2025-09-03T16:21:53.627386Z",
     "iopub.status.busy": "2025-09-03T16:21:53.627225Z",
     "iopub.status.idle": "2025-09-03T16:21:53.629776Z",
     "shell.execute_reply": "2025-09-03T16:21:53.629255Z"
    },
    "pycharm": {
     "name": "#%%\n"
    }
   },
   "outputs": [],
   "source": [
    "print(len(positive_id))"
   ]
  },
  {
   "cell_type": "markdown",
   "id": "1e1041c5",
   "metadata": {
    "collapsed": false
   },
   "source": [
    "Around this index, the `brain_region.id` go from positive Allen atlas ids (right hemisphere) to negative Allen atlas ids (left hemisphere)."
   ]
  },
  {
   "cell_type": "code",
   "execution_count": null,
   "id": "f655253e",
   "metadata": {
    "execution": {
     "iopub.execute_input": "2025-09-03T16:21:53.631335Z",
     "iopub.status.busy": "2025-09-03T16:21:53.631171Z",
     "iopub.status.idle": "2025-09-03T16:21:53.634298Z",
     "shell.execute_reply": "2025-09-03T16:21:53.633817Z"
    },
    "pycharm": {
     "name": "#%%\n"
    }
   },
   "outputs": [],
   "source": [
    "print(brain_regions.id[1320:1340])"
   ]
  },
  {
   "cell_type": "markdown",
   "id": "ee3e09d0",
   "metadata": {
    "collapsed": false
   },
   "source": [
    "Regions are organised following the same index ordering in left/right hemisphere.\n",
    "For example, you will find the same acronym `PPYd` at the index 1000, and once you've passed the positive integers:"
   ]
  },
  {
   "cell_type": "code",
   "execution_count": null,
   "id": "a27c39ff",
   "metadata": {
    "execution": {
     "iopub.execute_input": "2025-09-03T16:21:53.635936Z",
     "iopub.status.busy": "2025-09-03T16:21:53.635772Z",
     "iopub.status.idle": "2025-09-03T16:21:53.638659Z",
     "shell.execute_reply": "2025-09-03T16:21:53.638202Z"
    },
    "pycharm": {
     "name": "#%%\n"
    }
   },
   "outputs": [],
   "source": [
    "index = 1000\n",
    "print(brain_regions.acronym[index])\n",
    "print(brain_regions.acronym[index + len(positive_id)])\n",
    "# Note: do not re-use this approach, this is for explanation only - you will see below a dedicated function"
   ]
  },
  {
   "cell_type": "markdown",
   "id": "0a1af738",
   "metadata": {},
   "source": [
    "The `brain_region.name` also go from right to left hemisphere:"
   ]
  },
  {
   "cell_type": "code",
   "execution_count": null,
   "id": "c99a6e89",
   "metadata": {
    "execution": {
     "iopub.execute_input": "2025-09-03T16:21:53.640174Z",
     "iopub.status.busy": "2025-09-03T16:21:53.640013Z",
     "iopub.status.idle": "2025-09-03T16:21:53.643098Z",
     "shell.execute_reply": "2025-09-03T16:21:53.642632Z"
    }
   },
   "outputs": [],
   "source": [
    "print(brain_regions.name[1320:1340])"
   ]
  },
  {
   "cell_type": "markdown",
   "id": "c144bdd2",
   "metadata": {},
   "source": [
    "In the label volume, we can therefore differentiate between left and right hemisphere voxels for the same brain region. First we will use a method in the brain_region class to find out the index of left and right `CA1`."
   ]
  },
  {
   "cell_type": "code",
   "execution_count": null,
   "id": "0b7d5209",
   "metadata": {
    "execution": {
     "iopub.execute_input": "2025-09-03T16:21:53.644636Z",
     "iopub.status.busy": "2025-09-03T16:21:53.644452Z",
     "iopub.status.idle": "2025-09-03T16:21:53.655203Z",
     "shell.execute_reply": "2025-09-03T16:21:53.654720Z"
    }
   },
   "outputs": [],
   "source": [
    "brain_regions.acronym2index('CA1')\n",
    "# The first values are the acronyms, the second values are the indices"
   ]
  },
  {
   "cell_type": "markdown",
   "id": "607ae9b6",
   "metadata": {},
   "source": [
    "The method `acronym2index` returns a tuple, with the first value being a list of acronyms passed in and the second value giving the indices in the array that correspond to the left and right hemispheres for this region. We can now use these indices to search in the label volume"
   ]
  },
  {
   "cell_type": "code",
   "execution_count": null,
   "id": "0680ca09",
   "metadata": {
    "execution": {
     "iopub.execute_input": "2025-09-03T16:21:53.656798Z",
     "iopub.status.busy": "2025-09-03T16:21:53.656635Z",
     "iopub.status.idle": "2025-09-03T16:21:53.990361Z",
     "shell.execute_reply": "2025-09-03T16:21:53.989844Z"
    }
   },
   "outputs": [],
   "source": [
    "CA1_right = np.where(brain_atlas.label == 458)\n",
    "CA1_left = np.where(brain_atlas.label == 1785)"
   ]
  },
  {
   "cell_type": "markdown",
   "id": "987d5b19",
   "metadata": {
    "collapsed": false
   },
   "source": [
    "## Navigate the brain region hierarchy\n",
    "The 1328 regions in the Allen parcelation are organised in a hierarchical tree.\n",
    "For example, the region PPY encompasses both the regions PPYd and PPYs.\n",
    "\n",
    "You can visually explore the hierarchy through this [webpage](https://openalyx.internationalbrainlab.org/admin/experiments/brainregion/) (username: `intbrainlab`, password: `international`).\n",
    "(TODO THIS IS NOT A GREAT WAY, CHANGE TO OTHER REFERENCE)\n"
   ]
  },
  {
   "cell_type": "markdown",
   "id": "42036641",
   "metadata": {
    "collapsed": false
   },
   "source": [
    "### Ancestors\n",
    "\n",
    "To find ancestors of a region, i.e. regions that are higher in the hierarchy tree, use `brain_regions.ancestors`.\n",
    "\n",
    "Let's use the region PPYd as an example:"
   ]
  },
  {
   "cell_type": "code",
   "execution_count": null,
   "id": "5ec4df76",
   "metadata": {
    "execution": {
     "iopub.execute_input": "2025-09-03T16:21:53.992457Z",
     "iopub.status.busy": "2025-09-03T16:21:53.992255Z",
     "iopub.status.idle": "2025-09-03T16:21:53.999083Z",
     "shell.execute_reply": "2025-09-03T16:21:53.998519Z"
    },
    "pycharm": {
     "name": "#%%\n"
    }
   },
   "outputs": [],
   "source": [
    "index = 1000  # Remember the Allen id at this index is 185\n",
    "brain_regions.ancestors(ids=brain_regions.id[index])"
   ]
  },
  {
   "cell_type": "markdown",
   "id": "dbb9f817",
   "metadata": {
    "collapsed": false
   },
   "source": [
    "All parents along the hierarchy tree are returned.\n",
    "The parents are organised in increasing order of `level` (0-1-2...), i.e. the highest, all-encompassing level is first (`root` in the example above).\n",
    "Note:\n",
    "- The fields contain all the parents regions, including the one passed in (which is last).\n",
    "- The field `parent` returns the parent region id of the regions in `id` (you can notice they are the same as in `id` but incremented by one level).\n",
    "- The field `order` returns values used for plotting (Note: this is *not* the parent's index)\n",
    "\n",
    "For example, the last `parent` region is PPY (which is indeed the closest parent of PPYd):"
   ]
  },
  {
   "cell_type": "code",
   "execution_count": null,
   "id": "0a98230a",
   "metadata": {
    "execution": {
     "iopub.execute_input": "2025-09-03T16:21:54.000723Z",
     "iopub.status.busy": "2025-09-03T16:21:54.000554Z",
     "iopub.status.idle": "2025-09-03T16:21:54.003394Z",
     "shell.execute_reply": "2025-09-03T16:21:54.002941Z"
    },
    "pycharm": {
     "name": "#%%\n"
    }
   },
   "outputs": [],
   "source": [
    "index = 999\n",
    "print(brain_regions.id[index])\n",
    "print(brain_regions.acronym[index])"
   ]
  },
  {
   "cell_type": "markdown",
   "id": "e6dfeaab",
   "metadata": {
    "collapsed": false
   },
   "source": [
    "### Descendants\n",
    "To find the descendants of a region, use `brain_regions.descendants`.\n",
    "\n",
    "Let's use the region PPY as an example:"
   ]
  },
  {
   "cell_type": "code",
   "execution_count": null,
   "id": "5269d81c",
   "metadata": {
    "execution": {
     "iopub.execute_input": "2025-09-03T16:21:54.004930Z",
     "iopub.status.busy": "2025-09-03T16:21:54.004770Z",
     "iopub.status.idle": "2025-09-03T16:21:54.009429Z",
     "shell.execute_reply": "2025-09-03T16:21:54.008980Z"
    },
    "pycharm": {
     "name": "#%%\n"
    }
   },
   "outputs": [],
   "source": [
    "index = 999\n",
    "brain_regions.descendants(ids=brain_regions.id[index])"
   ]
  },
  {
   "cell_type": "markdown",
   "id": "8e15c7b1",
   "metadata": {
    "collapsed": false
   },
   "source": [
    "Note:\n",
    "- The fields contain all the descendant regions, including the one passed in (which is first).\n",
    "- The field `parent` returns the parent region id of the regions in `id`.\n",
    "- The field `order` returns values used for plotting (Note: this is *not* the parent's index)\n",
    "\n",
    "Note also that the `descendants` methods will return all descendants from all the different branches down, for example for PTLp :"
   ]
  },
  {
   "cell_type": "code",
   "execution_count": null,
   "id": "616fc7f2",
   "metadata": {
    "execution": {
     "iopub.execute_input": "2025-09-03T16:21:54.011058Z",
     "iopub.status.busy": "2025-09-03T16:21:54.010893Z",
     "iopub.status.idle": "2025-09-03T16:21:54.023033Z",
     "shell.execute_reply": "2025-09-03T16:21:54.022385Z"
    },
    "pycharm": {
     "name": "#%%\n"
    }
   },
   "outputs": [],
   "source": [
    "atlas_id = brain_regions.acronym2id('PTLp')\n",
    "# Print the acronyms of the descendants of this region\n",
    "print(brain_regions.descendants(ids=atlas_id)['acronym'])\n",
    "# Print the levels of the descendants of this region\n",
    "print(brain_regions.descendants(ids=atlas_id)['level'])"
   ]
  },
  {
   "cell_type": "markdown",
   "id": "280c88a6",
   "metadata": {
    "collapsed": false
   },
   "source": [
    "### Find region at a particular place in the hierarchy\n",
    "\n",
    "#### Leaf node\n",
    "\n",
    "If you need to check a region is a leaf node, i.e. that it has no descendant, you could use the `descendants` method and check that the returned length of the `id` is one (i.e. it only returns itself).\n",
    "\n",
    "For example, PPYd is a leaf node:"
   ]
  },
  {
   "cell_type": "code",
   "execution_count": null,
   "id": "5cf6d290",
   "metadata": {
    "execution": {
     "iopub.execute_input": "2025-09-03T16:21:54.024667Z",
     "iopub.status.busy": "2025-09-03T16:21:54.024496Z",
     "iopub.status.idle": "2025-09-03T16:21:54.028656Z",
     "shell.execute_reply": "2025-09-03T16:21:54.028206Z"
    },
    "pycharm": {
     "name": "#%%\n"
    }
   },
   "outputs": [],
   "source": [
    "index = 1000\n",
    "ppyd_desc = brain_regions.descendants(ids=brain_regions.id[index])\n",
    "\n",
    "len(ppyd_desc['id']) == 1"
   ]
  },
  {
   "cell_type": "markdown",
   "id": "9ce99254",
   "metadata": {
    "collapsed": false
   },
   "source": [
    "However, there is a faster method.\n",
    "To find all the regions that are leaf nodes, use `brain_regions.leaves`:"
   ]
  },
  {
   "cell_type": "code",
   "execution_count": null,
   "id": "cb26254a",
   "metadata": {
    "execution": {
     "iopub.execute_input": "2025-09-03T16:21:54.030155Z",
     "iopub.status.busy": "2025-09-03T16:21:54.029995Z",
     "iopub.status.idle": "2025-09-03T16:21:54.035243Z",
     "shell.execute_reply": "2025-09-03T16:21:54.034794Z"
    },
    "pycharm": {
     "name": "#%%\n"
    }
   },
   "outputs": [],
   "source": [
    "brain_regions.leaves()"
   ]
  },
  {
   "cell_type": "markdown",
   "id": "a9289014",
   "metadata": {
    "collapsed": false
   },
   "source": [
    "It is recommended you use this function to check whether a region is a leaf node:"
   ]
  },
  {
   "cell_type": "code",
   "execution_count": null,
   "id": "65770625",
   "metadata": {
    "execution": {
     "iopub.execute_input": "2025-09-03T16:21:54.036823Z",
     "iopub.status.busy": "2025-09-03T16:21:54.036646Z",
     "iopub.status.idle": "2025-09-03T16:21:54.041147Z",
     "shell.execute_reply": "2025-09-03T16:21:54.040593Z"
    },
    "pycharm": {
     "name": "#%%\n"
    }
   },
   "outputs": [],
   "source": [
    "index = 1000\n",
    "brain_regions.id[index] in brain_regions.leaves().id"
   ]
  },
  {
   "cell_type": "markdown",
   "id": "5ad79184",
   "metadata": {
    "collapsed": false
   },
   "source": [
    "#### Find region at a given hierarchy level\n",
    "\n",
    "To find all the regions that are on a given level of the hierarchy, use `brain_regions.level`:"
   ]
  },
  {
   "cell_type": "code",
   "execution_count": null,
   "id": "6f8446a1",
   "metadata": {
    "execution": {
     "iopub.execute_input": "2025-09-03T16:21:54.042772Z",
     "iopub.status.busy": "2025-09-03T16:21:54.042612Z",
     "iopub.status.idle": "2025-09-03T16:21:54.045854Z",
     "shell.execute_reply": "2025-09-03T16:21:54.045260Z"
    },
    "pycharm": {
     "name": "#%%\n"
    }
   },
   "outputs": [],
   "source": [
    "print(f'brain_regions.level contains {brain_regions.level.size} values, which are either {np.unique(brain_regions.level)}')"
   ]
  },
  {
   "cell_type": "code",
   "execution_count": null,
   "id": "6f4153c6",
   "metadata": {
    "execution": {
     "iopub.execute_input": "2025-09-03T16:21:54.047537Z",
     "iopub.status.busy": "2025-09-03T16:21:54.047343Z",
     "iopub.status.idle": "2025-09-03T16:21:54.051725Z",
     "shell.execute_reply": "2025-09-03T16:21:54.051154Z"
    },
    "pycharm": {
     "name": "#%%\n"
    }
   },
   "outputs": [],
   "source": [
    "# Example: find the index and acronyms of brain regions at level 0 (i.e. highest parents):\n",
    "index = np.where(brain_regions.level == 0)[0]\n",
    "print(index)\n",
    "brain_regions.acronym[index]  # Note that root appears twice because of the lateralisation"
   ]
  },
  {
   "cell_type": "markdown",
   "id": "89d7f7d8",
   "metadata": {},
   "source": [
    "## Coordinate systems"
   ]
  },
  {
   "cell_type": "markdown",
   "id": "0c47c5c7",
   "metadata": {},
   "source": [
    "The voxels can be translated to 3D space.\n",
    "In the IBL, all xyz coordinates are referenced from Bregma, which point is set as xyz coordinate [0,0,0].\n",
    "\n",
    "![IBL coordinate system](https://github.com/int-brain-lab/iblatlas/blob/main/examples/images/brain_xyz.png?raw=true)\n",
    "\n",
    "\n",
    "In contrast, in the Allen coordinate framework, the [0,0,0] point corresponds to one of the cubic volume edge."
   ]
  },
  {
   "cell_type": "markdown",
   "id": "d9cdb8af",
   "metadata": {
    "collapsed": false
   },
   "source": [
    "Below we show the value of Bregma in the Allen CCF space (in micrometer um):"
   ]
  },
  {
   "cell_type": "code",
   "execution_count": null,
   "id": "f0564eb4",
   "metadata": {
    "execution": {
     "iopub.execute_input": "2025-09-03T16:21:54.053361Z",
     "iopub.status.busy": "2025-09-03T16:21:54.053198Z",
     "iopub.status.idle": "2025-09-03T16:21:54.056288Z",
     "shell.execute_reply": "2025-09-03T16:21:54.055697Z"
    },
    "pycharm": {
     "name": "#%%\n"
    }
   },
   "outputs": [],
   "source": [
    "from iblatlas.atlas import ALLEN_CCF_LANDMARKS_MLAPDV_UM\n",
    "print(ALLEN_CCF_LANDMARKS_MLAPDV_UM)"
   ]
  },
  {
   "cell_type": "markdown",
   "id": "16639d05",
   "metadata": {
    "collapsed": false
   },
   "source": [
    "To translate this into an index into the volume `brain_atlas`, you need to divide by the atlas resolution (also in micrometer):"
   ]
  },
  {
   "cell_type": "code",
   "execution_count": null,
   "id": "a198dbf6",
   "metadata": {
    "execution": {
     "iopub.execute_input": "2025-09-03T16:21:54.057876Z",
     "iopub.status.busy": "2025-09-03T16:21:54.057716Z",
     "iopub.status.idle": "2025-09-03T16:21:54.060314Z",
     "shell.execute_reply": "2025-09-03T16:21:54.059752Z"
    },
    "pycharm": {
     "name": "#%%\n"
    }
   },
   "outputs": [],
   "source": [
    "# Find bregma position in indices\n",
    "bregma_index = ALLEN_CCF_LANDMARKS_MLAPDV_UM['bregma'] / brain_atlas.res_um"
   ]
  },
  {
   "cell_type": "markdown",
   "id": "abdf3b95",
   "metadata": {
    "collapsed": false
   },
   "source": [
    "This index can be passed into `brain_atlas.bc.i2xyz` that converts volume indices into IBL xyz coordinates (i.e. relative to Bregma):"
   ]
  },
  {
   "cell_type": "code",
   "execution_count": null,
   "id": "ff968b6b",
   "metadata": {
    "execution": {
     "iopub.execute_input": "2025-09-03T16:21:54.061839Z",
     "iopub.status.busy": "2025-09-03T16:21:54.061669Z",
     "iopub.status.idle": "2025-09-03T16:21:54.064381Z",
     "shell.execute_reply": "2025-09-03T16:21:54.063931Z"
    },
    "pycharm": {
     "name": "#%%\n"
    }
   },
   "outputs": [],
   "source": [
    "# Find bregma position in xyz in m (expect this to be 0 0 0)\n",
    "bregma_xyz = brain_atlas.bc.i2xyz(bregma_index)\n",
    "print(bregma_xyz)"
   ]
  },
  {
   "cell_type": "markdown",
   "id": "ca958935",
   "metadata": {
    "collapsed": false
   },
   "source": [
    "Functions exist in both direction, i.e. from a volume index to IBL xyz, and from xyz to an index.\n",
    "Note that the functions return/input values are in *meters*, not micrometers."
   ]
  },
  {
   "cell_type": "code",
   "execution_count": null,
   "id": "8ca452f3",
   "metadata": {
    "execution": {
     "iopub.execute_input": "2025-09-03T16:21:54.065920Z",
     "iopub.status.busy": "2025-09-03T16:21:54.065762Z",
     "iopub.status.idle": "2025-09-03T16:21:54.069251Z",
     "shell.execute_reply": "2025-09-03T16:21:54.068816Z"
    },
    "pycharm": {
     "name": "#%%\n"
    }
   },
   "outputs": [],
   "source": [
    "# Convert from arbitrary index to xyz position (m) position relative to Bregma\n",
    "index = np.array([102, 234, 178]).astype(float)\n",
    "xyz = brain_atlas.bc.i2xyz(index)\n",
    "print(f'xyz values are in meters: {xyz}')\n",
    "\n",
    "# Convert from xyz position (m) to index in atlas\n",
    "xyz = np.array([-325, 4000, 250]) / 1e6\n",
    "index = brain_atlas.bc.xyz2i(xyz)"
   ]
  },
  {
   "cell_type": "markdown",
   "id": "2b641e22",
   "metadata": {
    "collapsed": false
   },
   "source": [
    "To know the sign and voxel resolution for each xyz axis, use:"
   ]
  },
  {
   "cell_type": "code",
   "execution_count": null,
   "id": "6e9e9b22",
   "metadata": {
    "execution": {
     "iopub.execute_input": "2025-09-03T16:21:54.070763Z",
     "iopub.status.busy": "2025-09-03T16:21:54.070591Z",
     "iopub.status.idle": "2025-09-03T16:21:54.074046Z",
     "shell.execute_reply": "2025-09-03T16:21:54.073482Z"
    },
    "pycharm": {
     "name": "#%%\n"
    }
   },
   "outputs": [],
   "source": [
    "# Find the resolution (in meter) of each axis\n",
    "res_xyz = brain_atlas.bc.dxyz\n",
    "\n",
    "# Find the sign of each axis\n",
    "sign_xyz = np.sign(res_xyz)\n",
    "\n",
    "print(f\"Resolution xyz: {res_xyz} in meter \\nSign xyz:\\t\\t{sign_xyz}\")"
   ]
  },
  {
   "cell_type": "markdown",
   "id": "8758089a",
   "metadata": {
    "collapsed": false
   },
   "source": [
    "To jump directly from an Allen xyz value to an IBL xyz value, use `brain_atlas.ccf2xyz`:"
   ]
  },
  {
   "cell_type": "code",
   "execution_count": null,
   "id": "f8c5d039",
   "metadata": {
    "execution": {
     "iopub.execute_input": "2025-09-03T16:21:54.075671Z",
     "iopub.status.busy": "2025-09-03T16:21:54.075507Z",
     "iopub.status.idle": "2025-09-03T16:21:54.079388Z",
     "shell.execute_reply": "2025-09-03T16:21:54.078812Z"
    },
    "pycharm": {
     "name": "#%%\n"
    }
   },
   "outputs": [],
   "source": [
    "# Example: Where is the Allen 0 relative to IBL Bregma?\n",
    "# This will give the Bregma value shown above (in meters), but with opposite axis sign value\n",
    "brain_atlas.ccf2xyz(np.array([0, 0, 0]))"
   ]
  }
 ],
 "metadata": {
  "docs_executed": "executed",
  "kernelspec": {
   "display_name": "Python 3 (ipykernel)",
   "language": "python",
   "name": "python3"
  },
  "language_info": {
   "codemirror_mode": {
    "name": "ipython",
    "version": 3
   },
   "file_extension": ".py",
   "mimetype": "text/x-python",
   "name": "python",
   "nbconvert_exporter": "python",
   "pygments_lexer": "ipython3",
   "version": "3.12.11"
  }
 },
 "nbformat": 4,
 "nbformat_minor": 5
}
