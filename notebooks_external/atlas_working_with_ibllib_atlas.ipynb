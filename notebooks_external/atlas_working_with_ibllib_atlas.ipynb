{
 "cells": [
  {
   "cell_type": "markdown",
   "id": "b767b213",
   "metadata": {},
   "source": [
    "# Working with IBL atlas object"
   ]
  },
  {
   "cell_type": "markdown",
   "id": "bba98311",
   "metadata": {},
   "source": [
    "## Getting started"
   ]
  },
  {
   "cell_type": "markdown",
   "id": "461b8f34",
   "metadata": {},
   "source": [
    "The Allen atlas image and annotation volumes can be accessed using the `iblatlas.atlas.AllenAtlas` class. Upon instantiating the class for the first time, the relevant files will be downloaded from the Allen database."
   ]
  },
  {
   "cell_type": "code",
   "execution_count": null,
   "id": "df873343",
   "metadata": {
    "execution": {
     "iopub.execute_input": "2024-07-16T12:53:34.197108Z",
     "iopub.status.busy": "2024-07-16T12:53:34.196894Z",
     "iopub.status.idle": "2024-07-16T12:53:35.851581Z",
     "shell.execute_reply": "2024-07-16T12:53:35.850899Z"
    }
   },
   "outputs": [],
   "source": [
    "from iblatlas.atlas import AllenAtlas\n",
    "\n",
    "res = 25 # resolution of Atlas, available resolutions are 10, 25 (default) and 50\n",
    "brain_atlas = AllenAtlas(res_um=res)"
   ]
  },
  {
   "cell_type": "markdown",
   "id": "95a8e4db",
   "metadata": {},
   "source": [
    "## Exploring the volumes"
   ]
  },
  {
   "cell_type": "markdown",
   "id": "12f16b38",
   "metadata": {},
   "source": [
    "The brain_atlas class contains two volumes, the diffusion weighted imaging **(DWI) image** volume and the **annotation label** volume.\n",
    "Each volume is saved into a matrix of the same shape (i.e. they contain the same number of voxels), as defined by the input resolution `res`."
   ]
  },
  {
   "cell_type": "markdown",
   "id": "5f34f56c",
   "metadata": {},
   "source": [
    "### 1. Image Volume \n",
    "The image volume contains the Allen atlas DWI average template. DWI images are typically represented in gray-scale colors."
   ]
  },
  {
   "cell_type": "code",
   "execution_count": null,
   "id": "769b4fd4",
   "metadata": {
    "execution": {
     "iopub.execute_input": "2024-07-16T12:53:35.854731Z",
     "iopub.status.busy": "2024-07-16T12:53:35.854226Z",
     "iopub.status.idle": "2024-07-16T12:53:36.058676Z",
     "shell.execute_reply": "2024-07-16T12:53:36.057951Z"
    }
   },
   "outputs": [],
   "source": [
    "# Access the image volume\n",
    "im = brain_atlas.image\n",
    "\n",
    "# Explore the size of the image volume (ap, ml, dv)\n",
    "print(f'Shape of image volume: {im.shape}')\n",
    "\n",
    "# Plot a coronal slice at ap = -1000um\n",
    "ap = -1000 / 1e6  # input must be in metres\n",
    "ax = brain_atlas.plot_cslice(ap, volume='image')\n"
   ]
  },
  {
   "cell_type": "markdown",
   "id": "1c46789b",
   "metadata": {},
   "source": [
    "### Label Volume\n"
   ]
  },
  {
   "cell_type": "markdown",
   "id": "72bea21a",
   "metadata": {},
   "source": [
    "The label volume contains information about which brain region each voxel in the volume belongs to."
   ]
  },
  {
   "cell_type": "code",
   "execution_count": null,
   "id": "ff7cb654",
   "metadata": {
    "execution": {
     "iopub.execute_input": "2024-07-16T12:53:36.061867Z",
     "iopub.status.busy": "2024-07-16T12:53:36.061379Z",
     "iopub.status.idle": "2024-07-16T12:53:36.213110Z",
     "shell.execute_reply": "2024-07-16T12:53:36.212452Z"
    }
   },
   "outputs": [],
   "source": [
    "# Access the label volume\n",
    "lab = brain_atlas.label\n",
    "\n",
    "# Explore the size of the label volume (ap, ml, dv)\n",
    "print(f'Shape of label volume: {lab.shape}')\n",
    "\n",
    "# Plot a coronal slice at ap = -1000um\n",
    "ap = -1000 / 1e6  # input must be in metres\n",
    "ax = brain_atlas.plot_cslice(ap, volume='annotation')"
   ]
  },
  {
   "cell_type": "markdown",
   "id": "8bd69066",
   "metadata": {},
   "source": [
    "The label volume used in the IBL AllenAtlas class differs from the Allen annotation volume in two ways.\n",
    "- Each voxel has information about the index of the Allen region rather than the Allen atlas id\n",
    "- The volume has been lateralised to differentiate between the left and right hemisphere\n",
    "\n",
    "To understand this better let's explore the BrainRegions class that contains information about the Allen structure tree."
   ]
  },
  {
   "cell_type": "markdown",
   "id": "04f601ed",
   "metadata": {},
   "source": [
    "## Exploring brain regions"
   ]
  },
  {
   "cell_type": "markdown",
   "id": "a1802136",
   "metadata": {},
   "source": [
    "### Index versus Allen ID\n",
    "\n",
    "The Allen brain region structure tree can be accessed through the class `iblatlas.regions.BrainRegions`."
   ]
  },
  {
   "cell_type": "code",
   "execution_count": null,
   "id": "9c2d097f",
   "metadata": {
    "execution": {
     "iopub.execute_input": "2024-07-16T12:53:36.215917Z",
     "iopub.status.busy": "2024-07-16T12:53:36.215505Z",
     "iopub.status.idle": "2024-07-16T12:53:36.230528Z",
     "shell.execute_reply": "2024-07-16T12:53:36.229943Z"
    }
   },
   "outputs": [],
   "source": [
    "from iblatlas.regions import BrainRegions\n",
    "\n",
    "brain_regions = BrainRegions()\n",
    "\n",
    "# Alternatively if you already have the AllenAtlas instantiated you can access it as an attribute\n",
    "brain_regions = brain_atlas.regions"
   ]
  },
  {
   "cell_type": "markdown",
   "id": "6cf9ab47",
   "metadata": {},
   "source": [
    "The brain_regions class has the following data attributes"
   ]
  },
  {
   "cell_type": "code",
   "execution_count": null,
   "id": "1d078160",
   "metadata": {
    "execution": {
     "iopub.execute_input": "2024-07-16T12:53:36.233407Z",
     "iopub.status.busy": "2024-07-16T12:53:36.232996Z",
     "iopub.status.idle": "2024-07-16T12:53:36.237664Z",
     "shell.execute_reply": "2024-07-16T12:53:36.237031Z"
    }
   },
   "outputs": [],
   "source": [
    "brain_regions.__annotations__"
   ]
  },
  {
   "cell_type": "markdown",
   "id": "44339559",
   "metadata": {},
   "source": [
    "These attributes are the same as the Allen structure tree and for example `id` corresponds to the Allen atlas id while the `name` represents the full anatomical brain region name."
   ]
  },
  {
   "cell_type": "markdown",
   "id": "fbe04558",
   "metadata": {},
   "source": [
    "The index refers to the index in each of these attribute arrays. For example, index 1 corresponds to the `root` brain region with an atlas id of 977. "
   ]
  },
  {
   "cell_type": "code",
   "execution_count": null,
   "id": "0c1fdf7c",
   "metadata": {
    "execution": {
     "iopub.execute_input": "2024-07-16T12:53:36.240339Z",
     "iopub.status.busy": "2024-07-16T12:53:36.239901Z",
     "iopub.status.idle": "2024-07-16T12:53:36.243606Z",
     "shell.execute_reply": "2024-07-16T12:53:36.242936Z"
    }
   },
   "outputs": [],
   "source": [
    "index = 1\n",
    "print(brain_regions.id[index])\n",
    "print(brain_regions.acronym[index])"
   ]
  },
  {
   "cell_type": "markdown",
   "id": "fd8e542c",
   "metadata": {},
   "source": [
    "Alternatively, index 1000 corresponds to `PPYd` with an atlas id of 185"
   ]
  },
  {
   "cell_type": "code",
   "execution_count": null,
   "id": "cf56d8d9",
   "metadata": {
    "execution": {
     "iopub.execute_input": "2024-07-16T12:53:36.246071Z",
     "iopub.status.busy": "2024-07-16T12:53:36.245684Z",
     "iopub.status.idle": "2024-07-16T12:53:36.249293Z",
     "shell.execute_reply": "2024-07-16T12:53:36.248645Z"
    }
   },
   "outputs": [],
   "source": [
    "index = 1000\n",
    "print(brain_regions.id[index])\n",
    "print(brain_regions.acronym[index])"
   ]
  },
  {
   "cell_type": "markdown",
   "id": "4c3acedd",
   "metadata": {},
   "source": [
    "In the label volume we described above, it is these indices that we are referring to. Therefore, we know all voxels in the volume with a value of 0 will be voxels that lie in `root`, while the voxels that have a value of 1000 will be in `PPYd`"
   ]
  },
  {
   "cell_type": "code",
   "execution_count": null,
   "id": "b607f170",
   "metadata": {
    "execution": {
     "iopub.execute_input": "2024-07-16T12:53:36.251993Z",
     "iopub.status.busy": "2024-07-16T12:53:36.251613Z",
     "iopub.status.idle": "2024-07-16T12:53:36.630965Z",
     "shell.execute_reply": "2024-07-16T12:53:36.630289Z"
    }
   },
   "outputs": [],
   "source": [
    "import numpy as np\n",
    "root_voxels = np.where(brain_atlas.label == 1)\n",
    "ppyd_voxels = np.where(brain_atlas.label == 1000)"
   ]
  },
  {
   "cell_type": "markdown",
   "id": "b96a19fb",
   "metadata": {
    "collapsed": false
   },
   "source": [
    "Voxels outside of the brain are labelled with `void`, which has the both the index and Allen ID being 0:"
   ]
  },
  {
   "cell_type": "code",
   "execution_count": null,
   "id": "fc30fb17",
   "metadata": {
    "execution": {
     "iopub.execute_input": "2024-07-16T12:53:36.634110Z",
     "iopub.status.busy": "2024-07-16T12:53:36.633677Z",
     "iopub.status.idle": "2024-07-16T12:53:36.637826Z",
     "shell.execute_reply": "2024-07-16T12:53:36.637244Z"
    },
    "pycharm": {
     "name": "#%%\n"
    }
   },
   "outputs": [],
   "source": [
    "index_void = 0\n",
    "print(brain_regions.id[index_void])\n",
    "print(brain_regions.acronym[index_void])"
   ]
  },
  {
   "cell_type": "markdown",
   "id": "3fbc71bb",
   "metadata": {
    "collapsed": false
   },
   "source": [
    "As such, you can find all the voxels within the brain by filtering for non-zero indices:"
   ]
  },
  {
   "cell_type": "code",
   "execution_count": null,
   "id": "89e5712b",
   "metadata": {
    "execution": {
     "iopub.execute_input": "2024-07-16T12:53:36.640337Z",
     "iopub.status.busy": "2024-07-16T12:53:36.639918Z",
     "iopub.status.idle": "2024-07-16T12:53:36.643069Z",
     "shell.execute_reply": "2024-07-16T12:53:36.642467Z"
    },
    "pycharm": {
     "name": "#%%\n"
    }
   },
   "outputs": [],
   "source": [
    "vox_in = np.where(brain_regions.id != index_void)"
   ]
  },
  {
   "cell_type": "markdown",
   "id": "69ff80c5",
   "metadata": {
    "collapsed": false
   },
   "source": [
    "You can jump betwen acronym / id / index with these functions :"
   ]
  },
  {
   "cell_type": "code",
   "execution_count": null,
   "id": "7368f6e9",
   "metadata": {
    "execution": {
     "iopub.execute_input": "2024-07-16T12:53:36.645490Z",
     "iopub.status.busy": "2024-07-16T12:53:36.645114Z",
     "iopub.status.idle": "2024-07-16T12:53:36.664874Z",
     "shell.execute_reply": "2024-07-16T12:53:36.664176Z"
    },
    "pycharm": {
     "name": "#%%\n"
    }
   },
   "outputs": [],
   "source": [
    "# From an acronym, get the index and id\n",
    "acronym = 'MDm'\n",
    "index = brain_regions.acronym2index(acronym)\n",
    "id = brain_regions.acronym2id(acronym)\n",
    "\n",
    "print(f'The acronym {acronym} has the indices {index[1][0]} and Allen id {id[0]}')\n",
    "\n",
    "# From an id, get the index and acronym\n",
    "id = 636\n",
    "acronym = brain_regions.id2acronym(id)\n",
    "index = brain_regions.id2index(id)\n",
    "\n",
    "print(f'The Allen id {id} has the acronym {acronym[0]} and the indices {index[1][0]}')\n",
    "\n",
    "# From a single index, get the id and acronym\n",
    "# (Note that this returns only 1 value)\n",
    "index = 2016\n",
    "id = brain_regions.id[index]\n",
    "acronym = brain_regions.acronym[index]\n",
    "\n",
    "print(f'The index {index} has the acronym {acronym} and the Allen id {id}')"
   ]
  },
  {
   "cell_type": "markdown",
   "id": "411ea768",
   "metadata": {
    "collapsed": false
   },
   "source": []
  },
  {
   "cell_type": "markdown",
   "id": "474bb26b",
   "metadata": {},
   "source": [
    "### Lateralisation: left/right hemisphere differentiation\n",
    "\n",
    "An additional nuance is the lateralisation. If you compare the size of the brain_regions data class to the Allen structure tree, you will see that it has double the number of columms. This is because the IBL brain regions encodes both the left and right hemisphere using unique, positive integers (the index), whilst the Allen IDs are signed integers (the sign represents the left or right hemisphere)."
   ]
  },
  {
   "cell_type": "code",
   "execution_count": null,
   "id": "75539930",
   "metadata": {
    "execution": {
     "iopub.execute_input": "2024-07-16T12:53:36.667675Z",
     "iopub.status.busy": "2024-07-16T12:53:36.667185Z",
     "iopub.status.idle": "2024-07-16T12:53:36.670817Z",
     "shell.execute_reply": "2024-07-16T12:53:36.670167Z"
    },
    "pycharm": {
     "name": "#%%\n"
    }
   },
   "outputs": [],
   "source": [
    "# Print how many indexes there are\n",
    "print(brain_regions.id.size)"
   ]
  },
  {
   "cell_type": "markdown",
   "id": "322a0246",
   "metadata": {
    "collapsed": false
   },
   "source": [
    "This is equivalent to 2x the number of unique Allen IDs (positive + negative), plus `void` (0) that is not lateralised:"
   ]
  },
  {
   "cell_type": "code",
   "execution_count": null,
   "id": "636c60e8",
   "metadata": {
    "execution": {
     "iopub.execute_input": "2024-07-16T12:53:36.673518Z",
     "iopub.status.busy": "2024-07-16T12:53:36.673077Z",
     "iopub.status.idle": "2024-07-16T12:53:36.677529Z",
     "shell.execute_reply": "2024-07-16T12:53:36.676859Z"
    },
    "pycharm": {
     "name": "#%%\n"
    }
   },
   "outputs": [],
   "source": [
    "positive_id = np.where(brain_regions.id>0)[0]\n",
    "negative_id = np.where(brain_regions.id<0)[0]\n",
    "void_id = np.where(brain_regions.id==0)[0]\n",
    "\n",
    "print(len(positive_id) + len(negative_id) + len(void_id))"
   ]
  },
  {
   "cell_type": "markdown",
   "id": "ad006b5f",
   "metadata": {
    "collapsed": false
   },
   "source": [
    "We can understand this better by exploring the `brain_regions.id` and `brain_regions.name` at the indices where it transitions between hemispheres."
   ]
  },
  {
   "cell_type": "markdown",
   "id": "e74d2590",
   "metadata": {
    "collapsed": false
   },
   "source": [
    "The first value of `brain_region.id` is `void` (Allen id `0`):"
   ]
  },
  {
   "cell_type": "code",
   "execution_count": null,
   "id": "1d69a398",
   "metadata": {
    "execution": {
     "iopub.execute_input": "2024-07-16T12:53:36.680142Z",
     "iopub.status.busy": "2024-07-16T12:53:36.679739Z",
     "iopub.status.idle": "2024-07-16T12:53:36.683128Z",
     "shell.execute_reply": "2024-07-16T12:53:36.682450Z"
    },
    "pycharm": {
     "name": "#%%\n"
    }
   },
   "outputs": [],
   "source": [
    "print(brain_regions.id[index_void])"
   ]
  },
  {
   "cell_type": "markdown",
   "id": "2c0a876c",
   "metadata": {
    "collapsed": false
   },
   "source": [
    "The point of change between right and left hemisphere is at the index:"
   ]
  },
  {
   "cell_type": "code",
   "execution_count": null,
   "id": "74862f4c",
   "metadata": {
    "execution": {
     "iopub.execute_input": "2024-07-16T12:53:36.685750Z",
     "iopub.status.busy": "2024-07-16T12:53:36.685381Z",
     "iopub.status.idle": "2024-07-16T12:53:36.688824Z",
     "shell.execute_reply": "2024-07-16T12:53:36.688153Z"
    },
    "pycharm": {
     "name": "#%%\n"
    }
   },
   "outputs": [],
   "source": [
    "print(len(positive_id))"
   ]
  },
  {
   "cell_type": "markdown",
   "id": "1e1041c5",
   "metadata": {
    "collapsed": false
   },
   "source": [
    "Around this index, the `brain_region.id` go from positive Allen atlas ids (right hemisphere) to negative Allen atlas ids (left hemisphere)."
   ]
  },
  {
   "cell_type": "code",
   "execution_count": null,
   "id": "f655253e",
   "metadata": {
    "execution": {
     "iopub.execute_input": "2024-07-16T12:53:36.691297Z",
     "iopub.status.busy": "2024-07-16T12:53:36.690902Z",
     "iopub.status.idle": "2024-07-16T12:53:36.694478Z",
     "shell.execute_reply": "2024-07-16T12:53:36.693804Z"
    },
    "pycharm": {
     "name": "#%%\n"
    }
   },
   "outputs": [],
   "source": [
    "print(brain_regions.id[1320:1340])"
   ]
  },
  {
   "cell_type": "markdown",
   "id": "ee3e09d0",
   "metadata": {
    "collapsed": false
   },
   "source": [
    "Regions are organised following the same index ordering in left/right hemisphere.\n",
    "For example, you will find the same acronym `PPYd` at the index 1000, and once you've passed the positive integers:"
   ]
  },
  {
   "cell_type": "code",
   "execution_count": null,
   "id": "a27c39ff",
   "metadata": {
    "execution": {
     "iopub.execute_input": "2024-07-16T12:53:36.697038Z",
     "iopub.status.busy": "2024-07-16T12:53:36.696672Z",
     "iopub.status.idle": "2024-07-16T12:53:36.700476Z",
     "shell.execute_reply": "2024-07-16T12:53:36.699832Z"
    },
    "pycharm": {
     "name": "#%%\n"
    }
   },
   "outputs": [],
   "source": [
    "index = 1000\n",
    "print(brain_regions.acronym[index])\n",
    "print(brain_regions.acronym[index + len(positive_id)])\n",
    "# Note: do not re-use this approach, this is for explanation only - you will see below a dedicated function"
   ]
  },
  {
   "cell_type": "markdown",
   "id": "0a1af738",
   "metadata": {},
   "source": [
    "The `brain_region.name` also go from right to left hemisphere:"
   ]
  },
  {
   "cell_type": "code",
   "execution_count": null,
   "id": "c99a6e89",
   "metadata": {
    "execution": {
     "iopub.execute_input": "2024-07-16T12:53:36.702962Z",
     "iopub.status.busy": "2024-07-16T12:53:36.702595Z",
     "iopub.status.idle": "2024-07-16T12:53:36.706200Z",
     "shell.execute_reply": "2024-07-16T12:53:36.705523Z"
    }
   },
   "outputs": [],
   "source": [
    "print(brain_regions.name[1320:1340])"
   ]
  },
  {
   "cell_type": "markdown",
   "id": "c144bdd2",
   "metadata": {},
   "source": [
    "In the label volume, we can therefore differentiate between left and right hemisphere voxels for the same brain region. First we will use a method in the brain_region class to find out the index of left and right `CA1`."
   ]
  },
  {
   "cell_type": "code",
   "execution_count": null,
   "id": "0b7d5209",
   "metadata": {
    "execution": {
     "iopub.execute_input": "2024-07-16T12:53:36.708747Z",
     "iopub.status.busy": "2024-07-16T12:53:36.708355Z",
     "iopub.status.idle": "2024-07-16T12:53:36.719711Z",
     "shell.execute_reply": "2024-07-16T12:53:36.719000Z"
    }
   },
   "outputs": [],
   "source": [
    "brain_regions.acronym2index('CA1')\n",
    "# The first values are the acronyms, the second values are the indices"
   ]
  },
  {
   "cell_type": "markdown",
   "id": "607ae9b6",
   "metadata": {},
   "source": [
    "The method `acronym2index` returns a tuple, with the first value being a list of acronyms passed in and the second value giving the indices in the array that correspond to the left and right hemispheres for this region. We can now use these indices to search in the label volume"
   ]
  },
  {
   "cell_type": "code",
   "execution_count": null,
   "id": "0680ca09",
   "metadata": {
    "execution": {
     "iopub.execute_input": "2024-07-16T12:53:36.722434Z",
     "iopub.status.busy": "2024-07-16T12:53:36.722042Z",
     "iopub.status.idle": "2024-07-16T12:53:37.104723Z",
     "shell.execute_reply": "2024-07-16T12:53:37.104016Z"
    }
   },
   "outputs": [],
   "source": [
    "CA1_right = np.where(brain_atlas.label == 458)\n",
    "CA1_left = np.where(brain_atlas.label == 1785)"
   ]
  },
  {
   "cell_type": "markdown",
   "id": "987d5b19",
   "metadata": {
    "collapsed": false
   },
   "source": [
    "## Navigate the brain region hierarchy\n",
    "The 1328 regions in the Allen parcelation are organised in a hierarchical tree.\n",
    "For example, the region PPY encompasses both the regions PPYd and PPYs.\n",
    "\n",
    "You can visually explore the hierarchy through this [webpage](https://openalyx.internationalbrainlab.org/admin/experiments/brainregion/) (username: `intbrainlab`, password: `international`).\n",
    "(TODO THIS IS NOT A GREAT WAY, CHANGE TO OTHER REFERENCE)\n"
   ]
  },
  {
   "cell_type": "markdown",
   "id": "42036641",
   "metadata": {
    "collapsed": false
   },
   "source": [
    "### Ancestors\n",
    "\n",
    "To find ancestors of a region, i.e. regions that are higher in the hierarchy tree, use `brain_regions.ancestors`.\n",
    "\n",
    "Let's use the region PPYd as an example:"
   ]
  },
  {
   "cell_type": "code",
   "execution_count": null,
   "id": "5ec4df76",
   "metadata": {
    "execution": {
     "iopub.execute_input": "2024-07-16T12:53:37.107831Z",
     "iopub.status.busy": "2024-07-16T12:53:37.107373Z",
     "iopub.status.idle": "2024-07-16T12:53:37.114337Z",
     "shell.execute_reply": "2024-07-16T12:53:37.113718Z"
    },
    "pycharm": {
     "name": "#%%\n"
    }
   },
   "outputs": [],
   "source": [
    "index = 1000  # Remember the Allen id at this index is 185\n",
    "brain_regions.ancestors(ids=brain_regions.id[index])"
   ]
  },
  {
   "cell_type": "markdown",
   "id": "dbb9f817",
   "metadata": {
    "collapsed": false
   },
   "source": [
    "All parents along the hierarchy tree are returned.\n",
    "The parents are organised in increasing order of `level` (0-1-2...), i.e. the highest, all-encompassing level is first (`root` in the example above).\n",
    "Note:\n",
    "- The fields contain all the parents regions, including the one passed in (which is last).\n",
    "- The field `parent` returns the parent region id of the regions in `id` (you can notice they are the same as in `id` but incremented by one level).\n",
    "- The field `order` returns values used for plotting (Note: this is *not* the parent's index)\n",
    "\n",
    "For example, the last `parent` region is PPY (which is indeed the closest parent of PPYd):"
   ]
  },
  {
   "cell_type": "code",
   "execution_count": null,
   "id": "0a98230a",
   "metadata": {
    "execution": {
     "iopub.execute_input": "2024-07-16T12:53:37.116871Z",
     "iopub.status.busy": "2024-07-16T12:53:37.116652Z",
     "iopub.status.idle": "2024-07-16T12:53:37.120711Z",
     "shell.execute_reply": "2024-07-16T12:53:37.120022Z"
    },
    "pycharm": {
     "name": "#%%\n"
    }
   },
   "outputs": [],
   "source": [
    "index = 999\n",
    "print(brain_regions.id[index])\n",
    "print(brain_regions.acronym[index])"
   ]
  },
  {
   "cell_type": "markdown",
   "id": "e6dfeaab",
   "metadata": {
    "collapsed": false
   },
   "source": [
    "### Descendants\n",
    "To find the descendants of a region, use `brain_regions.descendants`.\n",
    "\n",
    "Let's use the region PPY as an example:"
   ]
  },
  {
   "cell_type": "code",
   "execution_count": null,
   "id": "5269d81c",
   "metadata": {
    "execution": {
     "iopub.execute_input": "2024-07-16T12:53:37.123281Z",
     "iopub.status.busy": "2024-07-16T12:53:37.122905Z",
     "iopub.status.idle": "2024-07-16T12:53:37.129474Z",
     "shell.execute_reply": "2024-07-16T12:53:37.128886Z"
    },
    "pycharm": {
     "name": "#%%\n"
    }
   },
   "outputs": [],
   "source": [
    "index = 999\n",
    "brain_regions.descendants(ids=brain_regions.id[index])"
   ]
  },
  {
   "cell_type": "markdown",
   "id": "8e15c7b1",
   "metadata": {
    "collapsed": false
   },
   "source": [
    "Note:\n",
    "- The fields contain all the descendant regions, including the one passed in (which is first).\n",
    "- The field `parent` returns the parent region id of the regions in `id`.\n",
    "- The field `order` returns values used for plotting (Note: this is *not* the parent's index)\n",
    "\n",
    "Note also that the `descendants` methods will return all descendants from all the different branches down, for example for PTLp :"
   ]
  },
  {
   "cell_type": "code",
   "execution_count": null,
   "id": "616fc7f2",
   "metadata": {
    "execution": {
     "iopub.execute_input": "2024-07-16T12:53:37.131964Z",
     "iopub.status.busy": "2024-07-16T12:53:37.131757Z",
     "iopub.status.idle": "2024-07-16T12:53:37.144827Z",
     "shell.execute_reply": "2024-07-16T12:53:37.144159Z"
    },
    "pycharm": {
     "name": "#%%\n"
    }
   },
   "outputs": [],
   "source": [
    "atlas_id = brain_regions.acronym2id('PTLp')\n",
    "# Print the acronyms of the descendants of this region\n",
    "print(brain_regions.descendants(ids=atlas_id)['acronym'])\n",
    "# Print the levels of the descendants of this region\n",
    "print(brain_regions.descendants(ids=atlas_id)['level'])"
   ]
  },
  {
   "cell_type": "markdown",
   "id": "280c88a6",
   "metadata": {
    "collapsed": false
   },
   "source": [
    "### Find region at a particular place in the hierarchy\n",
    "\n",
    "#### Leaf node\n",
    "\n",
    "If you need to check a region is a leaf node, i.e. that it has no descendant, you could use the `descendants` method and check that the returned length of the `id` is one (i.e. it only returns itself).\n",
    "\n",
    "For example, PPYd is a leaf node:"
   ]
  },
  {
   "cell_type": "code",
   "execution_count": null,
   "id": "5cf6d290",
   "metadata": {
    "execution": {
     "iopub.execute_input": "2024-07-16T12:53:37.147365Z",
     "iopub.status.busy": "2024-07-16T12:53:37.147147Z",
     "iopub.status.idle": "2024-07-16T12:53:37.153030Z",
     "shell.execute_reply": "2024-07-16T12:53:37.152317Z"
    },
    "pycharm": {
     "name": "#%%\n"
    }
   },
   "outputs": [],
   "source": [
    "index = 1000\n",
    "ppyd_desc = brain_regions.descendants(ids=brain_regions.id[index])\n",
    "\n",
    "len(ppyd_desc['id']) == 1"
   ]
  },
  {
   "cell_type": "markdown",
   "id": "9ce99254",
   "metadata": {
    "collapsed": false
   },
   "source": [
    "However, there is a faster method.\n",
    "To find all the regions that are leaf nodes, use `brain_regions.leaves`:"
   ]
  },
  {
   "cell_type": "code",
   "execution_count": null,
   "id": "cb26254a",
   "metadata": {
    "execution": {
     "iopub.execute_input": "2024-07-16T12:53:37.155708Z",
     "iopub.status.busy": "2024-07-16T12:53:37.155230Z",
     "iopub.status.idle": "2024-07-16T12:53:37.161982Z",
     "shell.execute_reply": "2024-07-16T12:53:37.161336Z"
    },
    "pycharm": {
     "name": "#%%\n"
    }
   },
   "outputs": [],
   "source": [
    "brain_regions.leaves()"
   ]
  },
  {
   "cell_type": "markdown",
   "id": "a9289014",
   "metadata": {
    "collapsed": false
   },
   "source": [
    "It is recommended you use this function to check whether a region is a leaf node:"
   ]
  },
  {
   "cell_type": "code",
   "execution_count": null,
   "id": "65770625",
   "metadata": {
    "execution": {
     "iopub.execute_input": "2024-07-16T12:53:37.164399Z",
     "iopub.status.busy": "2024-07-16T12:53:37.164184Z",
     "iopub.status.idle": "2024-07-16T12:53:37.169992Z",
     "shell.execute_reply": "2024-07-16T12:53:37.169411Z"
    },
    "pycharm": {
     "name": "#%%\n"
    }
   },
   "outputs": [],
   "source": [
    "index = 1000\n",
    "brain_regions.id[index] in brain_regions.leaves().id"
   ]
  },
  {
   "cell_type": "markdown",
   "id": "5ad79184",
   "metadata": {
    "collapsed": false
   },
   "source": [
    "#### Find region at a given hierarchy level\n",
    "\n",
    "To find all the regions that are on a given level of the hierarchy, use `brain_regions.level`:"
   ]
  },
  {
   "cell_type": "code",
   "execution_count": null,
   "id": "6f8446a1",
   "metadata": {
    "execution": {
     "iopub.execute_input": "2024-07-16T12:53:37.172378Z",
     "iopub.status.busy": "2024-07-16T12:53:37.172169Z",
     "iopub.status.idle": "2024-07-16T12:53:37.176076Z",
     "shell.execute_reply": "2024-07-16T12:53:37.175442Z"
    },
    "pycharm": {
     "name": "#%%\n"
    }
   },
   "outputs": [],
   "source": [
    "print(f'brain_regions.level contains {brain_regions.level.size} values, which are either {np.unique(brain_regions.level)}')"
   ]
  },
  {
   "cell_type": "code",
   "execution_count": null,
   "id": "6f4153c6",
   "metadata": {
    "execution": {
     "iopub.execute_input": "2024-07-16T12:53:37.178616Z",
     "iopub.status.busy": "2024-07-16T12:53:37.178389Z",
     "iopub.status.idle": "2024-07-16T12:53:37.183865Z",
     "shell.execute_reply": "2024-07-16T12:53:37.183198Z"
    },
    "pycharm": {
     "name": "#%%\n"
    }
   },
   "outputs": [],
   "source": [
    "# Example: find the index and acronyms of brain regions at level 0 (i.e. highest parents):\n",
    "index = np.where(brain_regions.level == 0)[0]\n",
    "print(index)\n",
    "brain_regions.acronym[index]  # Note that root appears twice because of the lateralisation"
   ]
  },
  {
   "cell_type": "markdown",
   "id": "89d7f7d8",
   "metadata": {},
   "source": [
    "## Coordinate systems"
   ]
  },
  {
   "cell_type": "markdown",
   "id": "0c47c5c7",
   "metadata": {},
   "source": [
    "The voxels can be translated to 3D space.\n",
    "In the IBL, all xyz coordinates are referenced from Bregma, which point is set as xyz coordinate [0,0,0].\n",
    "\n",
    "![IBL coordinate system](https://github.com/int-brain-lab/ibllib/blob/atlas_docs/examples/atlas/images/brain_xyz.png?raw=true)\n",
    "\n",
    "In contrast, in the Allen coordinate framework, the [0,0,0] point corresponds to one of the cubic volume edge."
   ]
  },
  {
   "cell_type": "markdown",
   "id": "d9cdb8af",
   "metadata": {
    "collapsed": false
   },
   "source": [
    "Below we show the value of Bregma in the Allen CCF space (in micrometer um):"
   ]
  },
  {
   "cell_type": "code",
   "execution_count": null,
   "id": "f0564eb4",
   "metadata": {
    "execution": {
     "iopub.execute_input": "2024-07-16T12:53:37.186711Z",
     "iopub.status.busy": "2024-07-16T12:53:37.186245Z",
     "iopub.status.idle": "2024-07-16T12:53:37.190005Z",
     "shell.execute_reply": "2024-07-16T12:53:37.189367Z"
    },
    "pycharm": {
     "name": "#%%\n"
    }
   },
   "outputs": [],
   "source": [
    "from iblatlas.atlas import ALLEN_CCF_LANDMARKS_MLAPDV_UM\n",
    "print(ALLEN_CCF_LANDMARKS_MLAPDV_UM)"
   ]
  },
  {
   "cell_type": "markdown",
   "id": "16639d05",
   "metadata": {
    "collapsed": false
   },
   "source": [
    "To translate this into an index into the volume `brain_atlas`, you need to divide by the atlas resolution (also in micrometer):"
   ]
  },
  {
   "cell_type": "code",
   "execution_count": null,
   "id": "a198dbf6",
   "metadata": {
    "execution": {
     "iopub.execute_input": "2024-07-16T12:53:37.192530Z",
     "iopub.status.busy": "2024-07-16T12:53:37.192133Z",
     "iopub.status.idle": "2024-07-16T12:53:37.195360Z",
     "shell.execute_reply": "2024-07-16T12:53:37.194721Z"
    },
    "pycharm": {
     "name": "#%%\n"
    }
   },
   "outputs": [],
   "source": [
    "# Find bregma position in indices\n",
    "bregma_index = ALLEN_CCF_LANDMARKS_MLAPDV_UM['bregma'] / brain_atlas.res_um"
   ]
  },
  {
   "cell_type": "markdown",
   "id": "abdf3b95",
   "metadata": {
    "collapsed": false
   },
   "source": [
    "This index can be passed into `brain_atlas.bc.i2xyz` that converts volume indices into IBL xyz coordinates (i.e. relative to Bregma):"
   ]
  },
  {
   "cell_type": "code",
   "execution_count": null,
   "id": "ff968b6b",
   "metadata": {
    "execution": {
     "iopub.execute_input": "2024-07-16T12:53:37.198079Z",
     "iopub.status.busy": "2024-07-16T12:53:37.197681Z",
     "iopub.status.idle": "2024-07-16T12:53:37.201257Z",
     "shell.execute_reply": "2024-07-16T12:53:37.200588Z"
    },
    "pycharm": {
     "name": "#%%\n"
    }
   },
   "outputs": [],
   "source": [
    "# Find bregma position in xyz in m (expect this to be 0 0 0)\n",
    "bregma_xyz = brain_atlas.bc.i2xyz(bregma_index)\n",
    "print(bregma_xyz)"
   ]
  },
  {
   "cell_type": "markdown",
   "id": "ca958935",
   "metadata": {
    "collapsed": false
   },
   "source": [
    "Functions exist in both direction, i.e. from a volume index to IBL xyz, and from xyz to an index.\n",
    "Note that the functions return/input values are in *meters*, not micrometers."
   ]
  },
  {
   "cell_type": "code",
   "execution_count": null,
   "id": "8ca452f3",
   "metadata": {
    "execution": {
     "iopub.execute_input": "2024-07-16T12:53:37.203856Z",
     "iopub.status.busy": "2024-07-16T12:53:37.203654Z",
     "iopub.status.idle": "2024-07-16T12:53:37.208138Z",
     "shell.execute_reply": "2024-07-16T12:53:37.207470Z"
    },
    "pycharm": {
     "name": "#%%\n"
    }
   },
   "outputs": [],
   "source": [
    "# Convert from arbitrary index to xyz position (m) position relative to Bregma\n",
    "index = np.array([102, 234, 178]).astype(float)\n",
    "xyz = brain_atlas.bc.i2xyz(index)\n",
    "print(f'xyz values are in meters: {xyz}')\n",
    "\n",
    "# Convert from xyz position (m) to index in atlas\n",
    "xyz = np.array([-325, 4000, 250]) / 1e6\n",
    "index = brain_atlas.bc.xyz2i(xyz)"
   ]
  },
  {
   "cell_type": "markdown",
   "id": "2b641e22",
   "metadata": {
    "collapsed": false
   },
   "source": [
    "To know the sign and voxel resolution for each xyz axis, use:"
   ]
  },
  {
   "cell_type": "code",
   "execution_count": null,
   "id": "6e9e9b22",
   "metadata": {
    "execution": {
     "iopub.execute_input": "2024-07-16T12:53:37.210766Z",
     "iopub.status.busy": "2024-07-16T12:53:37.210400Z",
     "iopub.status.idle": "2024-07-16T12:53:37.214486Z",
     "shell.execute_reply": "2024-07-16T12:53:37.213817Z"
    },
    "pycharm": {
     "name": "#%%\n"
    }
   },
   "outputs": [],
   "source": [
    "# Find the resolution (in meter) of each axis\n",
    "res_xyz = brain_atlas.bc.dxyz\n",
    "\n",
    "# Find the sign of each axis\n",
    "sign_xyz = np.sign(res_xyz)\n",
    "\n",
    "print(f\"Resolution xyz: {res_xyz} in meter \\nSign xyz:\\t\\t{sign_xyz}\")"
   ]
  },
  {
   "cell_type": "markdown",
   "id": "8758089a",
   "metadata": {
    "collapsed": false
   },
   "source": [
    "To jump directly from an Allen xyz value to an IBL xyz value, use `brain_atlas.ccf2xyz`:"
   ]
  },
  {
   "cell_type": "code",
   "execution_count": null,
   "id": "f8c5d039",
   "metadata": {
    "execution": {
     "iopub.execute_input": "2024-07-16T12:53:37.217070Z",
     "iopub.status.busy": "2024-07-16T12:53:37.216703Z",
     "iopub.status.idle": "2024-07-16T12:53:37.221426Z",
     "shell.execute_reply": "2024-07-16T12:53:37.220793Z"
    },
    "pycharm": {
     "name": "#%%\n"
    }
   },
   "outputs": [],
   "source": [
    "# Example: Where is the Allen 0 relative to IBL Bregma?\n",
    "# This will give the Bregma value shown above (in meters), but with opposite axis sign value\n",
    "brain_atlas.ccf2xyz(np.array([0, 0, 0]))"
   ]
  }
 ],
 "metadata": {
  "docs_executed": "executed",
  "kernelspec": {
   "display_name": "Python 3 (ipykernel)",
   "language": "python",
   "name": "python3"
  },
  "language_info": {
   "codemirror_mode": {
    "name": "ipython",
    "version": 3
   },
   "file_extension": ".py",
   "mimetype": "text/x-python",
   "name": "python",
   "nbconvert_exporter": "python",
   "pygments_lexer": "ipython3",
   "version": "3.9.19"
  }
 },
 "nbformat": 4,
 "nbformat_minor": 5
}
