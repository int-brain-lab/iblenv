{
 "cells": [
  {
   "cell_type": "markdown",
   "metadata": {},
   "source": [
    "\n",
    "# 3D rendering single subject\n",
    "Generates 3D rendering of all probe trajectories for a single subject.\n",
    "\n",
    "The trajectory plotted are (pair):\n",
    "- Channel locations based on the user picks (from histology)\n",
    "- Linear Interpolation based on the picks\n",
    "One color per pair.\n"
   ]
  },
  {
   "cell_type": "code",
   "execution_count": null,
   "metadata": {
    "execution": {
     "iopub.execute_input": "2022-02-16T14:48:10.837754Z",
     "iopub.status.busy": "2022-02-16T14:48:10.822125Z",
     "iopub.status.idle": "2022-02-16T14:48:18.610692Z",
     "shell.execute_reply": "2022-02-16T14:48:18.610692Z"
    }
   },
   "outputs": [],
   "source": [
    "# Author: Olivier\n",
    "# environment installation guide https://github.com/int-brain-lab/iblenv\n",
    "# run \"%qui qt\" magic command from Ipython prompt for interactive mode\n",
    "import numpy as np\n",
    "from mayavi import mlab\n",
    "from one.api import ONE\n",
    "from iblutil.util import Bunch\n",
    "\n",
    "import ibllib.plots\n",
    "from atlaselectrophysiology import rendering\n",
    "import ibllib.atlas as atlas\n",
    "\n",
    "one = ONE(base_url='https://openalyx.internationalbrainlab.org')\n",
    "subject = 'KS023'\n",
    "\n",
    "ba = atlas.AllenAtlas(25)\n",
    "channels_rest = one.alyx.rest('channels', 'list', subject=subject)\n",
    "channels = Bunch({\n",
    "    'atlas_id': np.array([ch['brain_region'] for ch in channels_rest]),\n",
    "    'xyz': np.c_[np.array([ch['x'] for ch in channels_rest]),\n",
    "                 np.array([ch['y'] for ch in channels_rest]),\n",
    "                 np.array([ch['z'] for ch in channels_rest])] / 1e6,\n",
    "    'axial_um': np.array([ch['axial'] for ch in channels_rest]),\n",
    "    'lateral_um': np.array([ch['lateral'] for ch in channels_rest]),\n",
    "    'trajectory_id': np.array([ch['trajectory_estimate'] for ch in channels_rest])\n",
    "})\n",
    "\n",
    "fig = rendering.figure()\n",
    "for m, probe_id in enumerate(np.unique(channels['trajectory_id'])):\n",
    "    traj_dict = one.alyx.rest('trajectories', 'read', id=probe_id)\n",
    "    ses = traj_dict['session']\n",
    "    label = (f\"{ses['subject']}/{ses['start_time'][:10]}/\"\n",
    "             f\"{str(ses['number']).zfill(3)}/{traj_dict['probe_name']}\")\n",
    "    print(label)\n",
    "\n",
    "    color = ibllib.plots.color_cycle(m)\n",
    "    it = np.where(channels['trajectory_id'] == probe_id)[0]\n",
    "    xyz = channels['xyz'][it]\n",
    "    ins = atlas.Insertion.from_track(xyz, brain_atlas=ba)\n",
    "\n",
    "    mlapdv = ba.xyz2ccf(ins.xyz)\n",
    "    # display the interpolated tracks\n",
    "    mlab.plot3d(mlapdv[:, 1], mlapdv[:, 2], mlapdv[:, 0],\n",
    "                line_width=3, color=color, tube_radius=20)\n",
    "    # display the channels locations\n",
    "    mlapdv_channels = ba.xyz2ccf(xyz)\n",
    "    mlab.points3d(mlapdv_channels[:, 1], mlapdv_channels[:, 2], mlapdv_channels[:, 0],\n",
    "                  color=color, scale_factor=50)\n",
    "    # setup the labels at the top of the trajectories\n",
    "    mlab.text3d(mlapdv[0, 1], mlapdv[0, 2], mlapdv[0, 0] - 500, label,\n",
    "                line_width=4, color=tuple(color), figure=fig, scale=150)"
   ]
  }
 ],
 "metadata": {
  "docs_executed": "executed",
  "kernelspec": {
   "display_name": "Python 3",
   "language": "python",
   "name": "python3"
  },
  "language_info": {
   "codemirror_mode": {
    "name": "ipython",
    "version": 3
   },
   "file_extension": ".py",
   "mimetype": "text/x-python",
   "name": "python",
   "nbconvert_exporter": "python",
   "pygments_lexer": "ipython3",
   "version": "3.9.7"
  }
 },
 "nbformat": 4,
 "nbformat_minor": 0
}
