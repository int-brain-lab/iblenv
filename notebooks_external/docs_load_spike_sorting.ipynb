{
 "cells": [
  {
   "cell_type": "markdown",
   "metadata": {},
   "source": [
    "\n",
    "# Get spikes, clusters and channels data\n",
    "Downloads and loads in spikes, clusters and channels data for a given session. Data is returned\n"
   ]
  },
  {
   "cell_type": "code",
   "execution_count": null,
   "metadata": {
    "execution": {
     "iopub.execute_input": "2022-01-20T10:07:55.595980Z",
     "iopub.status.busy": "2022-01-20T10:07:55.594977Z",
     "iopub.status.idle": "2022-01-20T10:07:57.336183Z",
     "shell.execute_reply": "2022-01-20T10:07:57.335185Z"
    }
   },
   "outputs": [],
   "source": [
    "import brainbox.io.one as bbone\n",
    "\n",
    "from one.api import ONE\n",
    "\n",
    "one = ONE(base_url='https://openalyx.internationalbrainlab.org', silent=True)\n",
    "\n",
    "# Find eid of interest\n",
    "eid = one.search(subject='CSH_ZAD_029', date='2020-09-19')[0]"
   ]
  },
  {
   "cell_type": "markdown",
   "metadata": {},
   "source": [
    "Example 1:\n",
    "Download spikes, clusters and channels data for all available probes for this session.\n",
    "The data for each probe is returned as a dict\n",
    "\n"
   ]
  },
  {
   "cell_type": "code",
   "execution_count": null,
   "metadata": {
    "execution": {
     "iopub.execute_input": "2022-01-20T10:07:57.342187Z",
     "iopub.status.busy": "2022-01-20T10:07:57.341186Z",
     "iopub.status.idle": "2022-01-20T10:11:16.566480Z",
     "shell.execute_reply": "2022-01-20T10:11:16.565480Z"
    }
   },
   "outputs": [],
   "source": [
    "spikes, clusters, channels = bbone.load_spike_sorting_with_channel(eid, one=one)\n",
    "print(spikes.keys())\n",
    "print(spikes['probe01'].keys())"
   ]
  },
  {
   "cell_type": "markdown",
   "metadata": {},
   "source": [
    "Example 2:\n",
    "Download spikes, clusters and channels data for a single probe\n",
    "\n"
   ]
  },
  {
   "cell_type": "code",
   "execution_count": null,
   "metadata": {
    "execution": {
     "iopub.execute_input": "2022-01-20T10:11:16.570480Z",
     "iopub.status.busy": "2022-01-20T10:11:16.569481Z",
     "iopub.status.idle": "2022-01-20T10:11:22.290480Z",
     "shell.execute_reply": "2022-01-20T10:11:22.289481Z"
    }
   },
   "outputs": [],
   "source": [
    "spikes, clusters, channels = bbone.load_spike_sorting_with_channel(eid, one=one, probe='probe01')\n",
    "print(spikes.keys())"
   ]
  },
  {
   "cell_type": "markdown",
   "metadata": {},
   "source": [
    "Example 3:\n",
    "The default spikes and clusters datasets that are downloaded are '\n",
    "['clusters.channels',\n",
    " 'clusters.depths',\n",
    " 'clusters.metrics',\n",
    " 'spikes.clusters',\n",
    " 'spikes.times']\n",
    "If we also want to load for example, 'clusters.peakToTrough we can add a dataset_types argument\n",
    "\n"
   ]
  },
  {
   "cell_type": "code",
   "execution_count": null,
   "metadata": {
    "execution": {
     "iopub.execute_input": "2022-01-20T10:11:22.295481Z",
     "iopub.status.busy": "2022-01-20T10:11:22.294480Z",
     "iopub.status.idle": "2022-01-20T10:11:27.950264Z",
     "shell.execute_reply": "2022-01-20T10:11:27.950264Z"
    }
   },
   "outputs": [],
   "source": [
    "spikes, clusters, channels = bbone.load_spike_sorting_with_channel(eid, one=one, probe='probe01',\n",
    "                                                                   dataset_types=['clusters.peakToTrough'])\n",
    "print(clusters['probe01'].keys())"
   ]
  }
 ],
 "metadata": {
  "docs_executed": "executed",
  "kernelspec": {
   "display_name": "Python 3",
   "language": "python",
   "name": "python3"
  },
  "language_info": {
   "codemirror_mode": {
    "name": "ipython",
    "version": 3
   },
   "file_extension": ".py",
   "mimetype": "text/x-python",
   "name": "python",
   "nbconvert_exporter": "python",
   "pygments_lexer": "ipython3",
   "version": "3.9.7"
  }
 },
 "nbformat": 4,
 "nbformat_minor": 0
}
