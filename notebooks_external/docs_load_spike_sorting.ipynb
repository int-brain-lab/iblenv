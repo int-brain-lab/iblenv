{
 "cells": [
  {
   "cell_type": "markdown",
   "metadata": {},
   "source": [
    "\n",
    "# Get spikes, clusters and channels data\n",
    "Downloads and loads in spikes, clusters and channels data for a given probe insertion.\n",
    "\n",
    "There could be several spike sorting collections, by default the loader will get the pykilosort collection\n",
    "\n",
    "The channel locations can come from several sources, it will load the most advanced version of the histology available,\n",
    "regardless of the spike sorting version loaded. The steps are (from most advanced to fresh out of the imaging):\n",
    "-   alf: the final version of channel locations, same as resolved with the difference that data has been written out to files\n",
    "-   resolved: channel locations alignments have been agreed upon\n",
    "-   aligned: channel locations have been aligned, but review or other alignments are pending, potentially not accurate\n",
    "-   traced: the histology track has been recovered from microscopy, however the depths may not match, inacurate data\n"
   ]
  },
  {
   "cell_type": "code",
   "execution_count": null,
   "metadata": {
    "execution": {
     "iopub.execute_input": "2022-02-16T14:54:48.861301Z",
     "iopub.status.busy": "2022-02-16T14:54:48.861301Z",
     "iopub.status.idle": "2022-02-16T14:57:50.524570Z",
     "shell.execute_reply": "2022-02-16T14:57:50.524570Z"
    }
   },
   "outputs": [],
   "source": [
    "from one.api import ONE\n",
    "from ibllib.atlas import AllenAtlas\n",
    "from brainbox.io.one import SpikeSortingLoader\n",
    "\n",
    "\n",
    "one = ONE(base_url='https://openalyx.internationalbrainlab.org')\n",
    "ba = AllenAtlas()\n",
    "\n",
    "insertions = one.alyx.rest('insertions', 'list')\n",
    "pid = insertions[0]['id']\n",
    "sl = SpikeSortingLoader(pid=pid, one=one, atlas=ba)\n",
    "spikes, clusters, channels = sl.load_spike_sorting()\n",
    "clusters_labeled = SpikeSortingLoader.merge_clusters(spikes, clusters, channels)\n",
    "\n",
    "# the histology property holds the provenance of the current channel locations\n",
    "print(sl.histology)\n",
    "\n",
    "# available spike sorting collections for this probe insertion\n",
    "print(sl.collections)\n",
    "\n",
    "# the collection that has been loaded\n",
    "print(sl.collection)"
   ]
  }
 ],
 "metadata": {
  "docs_executed": "executed",
  "kernelspec": {
   "display_name": "Python 3",
   "language": "python",
   "name": "python3"
  },
  "language_info": {
   "codemirror_mode": {
    "name": "ipython",
    "version": 3
   },
   "file_extension": ".py",
   "mimetype": "text/x-python",
   "name": "python",
   "nbconvert_exporter": "python",
   "pygments_lexer": "ipython3",
   "version": "3.9.7"
  }
 },
 "nbformat": 4,
 "nbformat_minor": 0
}
