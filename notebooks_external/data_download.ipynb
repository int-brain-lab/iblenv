{
 "cells": [
  {
   "cell_type": "code",
   "execution_count": 1,
   "metadata": {
    "execution": {
     "iopub.execute_input": "2025-02-12T15:50:48.784965Z",
     "iopub.status.busy": "2025-02-12T15:50:48.784763Z",
     "iopub.status.idle": "2025-02-12T15:50:48.788407Z",
     "shell.execute_reply": "2025-02-12T15:50:48.787982Z"
    },
    "nbsphinx": "hidden"
   },
   "outputs": [],
   "source": [
    "# Turn off logging and disable tqdm this is a hidden cell on docs page\n",
    "import logging\n",
    "import os\n",
    "\n",
    "logger = logging.getLogger('ibllib')\n",
    "logger.setLevel(logging.CRITICAL)\n",
    "\n",
    "os.environ[\"TQDM_DISABLE\"] = \"1\""
   ]
  },
  {
   "cell_type": "markdown",
   "metadata": {
    "nbsphinx": "hidden"
   },
   "source": [
    "# Download the public datasets\n",
    "\n",
    "To get a feel for the structure of the data we recommended first downloading the alf data for a single repeated site session and exploring how the data is stored locally on disk. An example alf folder can be downloaded from [here](https://ibl-brain-wide-map-public.s3.amazonaws.com/sample_data/mainenlab/Subjects/ZM_2241/2020-01-30/001/alf_ZM2241_2020-01-30_001.zip). Documentation explaining the data structure can be found [here](https://int-brain-lab.github.io/iblenv/notebooks_external/data_structure.html).\n",
    "\n",
    "In the following sections, we explain how to use the [ONE-api](https://int-brain-lab.github.io/ONE/) to search for and download datasets for any session released. Using the ONE-api is the recommended method to browse through and download available datasets."
   ]
  },
  {
   "cell_type": "markdown",
   "metadata": {},
   "source": [
    "## Installation\n",
    "### Environment\n",
    "To use IBL data you will need a python environment with python > 3.10, although Python 3.12 is recommended. To create a new environment from scratch you can install [anaconda](https://www.anaconda.com/products/distribution#download-section) and follow the instructions below to create a new python environment (more information can also be found [here](https://docs.conda.io/projects/conda/en/latest/user-guide/tasks/manage-environments.html))\n",
    "\n",
    "```\n",
    "conda create --name ibl python=3.12\n",
    "```\n",
    "Make sure to always activate this environment before installing or working with the IBL data\n",
    "```\n",
    "conda activate ibl\n",
    "```\n",
    "\n",
    "### Install packages\n",
    "\n",
    "To use IBL data you will need to install the ONE-api package. We also recommend installing ibllib. These can be installed via pip.\n",
    "```python\n",
    "pip install ONE-api\n",
    "pip install ibllib\n",
    "```\n",
    "\n",
    "### Setting up credentials\n",
    "Credentials can be setup in a python terminal in the following way"
   ]
  },
  {
   "cell_type": "code",
   "execution_count": 2,
   "metadata": {
    "execution": {
     "iopub.execute_input": "2025-02-12T15:50:48.790180Z",
     "iopub.status.busy": "2025-02-12T15:50:48.789813Z",
     "iopub.status.idle": "2025-02-12T15:50:51.547988Z",
     "shell.execute_reply": "2025-02-12T15:50:51.547369Z"
    }
   },
   "outputs": [
    {
     "name": "stdout",
     "output_type": "stream",
     "text": [
      "Connected to https://openalyx.internationalbrainlab.org as user \"intbrainlab\"\n"
     ]
    }
   ],
   "source": [
    "from one.api import ONE\n",
    "\n",
    "ONE.setup(base_url='https://openalyx.internationalbrainlab.org', silent=True)\n",
    "one = ONE(password='international')"
   ]
  },
  {
   "cell_type": "markdown",
   "metadata": {},
   "source": [
    "## Explore and download data using the ONE-api\n",
    "\n",
    "### Useful links\n",
    "To get a good understanding of the ONE-api and the various methods available we recommend working through these tutorials.\n",
    "\n",
    "* [ONE quickstart](https://int-brain-lab.github.io/iblenv/notebooks_external/one_quickstart.html)\n",
    "* [Searching with ONE](https://int-brain-lab.github.io/ONE/notebooks/one_search/one_search.html)\n",
    "* [Listing with ONE](https://int-brain-lab.github.io/ONE/notebooks/one_list/one_list.html)\n",
    "* [Loading with ONE](https://int-brain-lab.github.io/ONE/notebooks/one_load/one_load.html)\n",
    "* [ONE Alyx REST API](https://int-brain-lab.github.io/ONE/notebooks/one_advanced/one_advanced.html) (advanced)\n",
    "\n",
    "Further examples are given below."
   ]
  },
  {
   "cell_type": "markdown",
   "metadata": {},
   "source": [
    "### Launch the ONE-api\n",
    "Prior to do any searching / downloading, you need to instantiate ONE :"
   ]
  },
  {
   "cell_type": "code",
   "execution_count": 3,
   "metadata": {
    "execution": {
     "iopub.execute_input": "2025-02-12T15:50:51.550313Z",
     "iopub.status.busy": "2025-02-12T15:50:51.549847Z",
     "iopub.status.idle": "2025-02-12T15:50:52.729244Z",
     "shell.execute_reply": "2025-02-12T15:50:52.728681Z"
    }
   },
   "outputs": [],
   "source": [
    "from one.api import ONE\n",
    "one = ONE(base_url='https://openalyx.internationalbrainlab.org')"
   ]
  },
  {
   "cell_type": "markdown",
   "metadata": {},
   "source": [
    "### List all sessions available\n",
    "Once ONE is instantiated, you can use the REST ONE-api to list all sessions publicly available:"
   ]
  },
  {
   "cell_type": "code",
   "execution_count": 4,
   "metadata": {
    "execution": {
     "iopub.execute_input": "2025-02-12T15:50:52.731439Z",
     "iopub.status.busy": "2025-02-12T15:50:52.730978Z",
     "iopub.status.idle": "2025-02-12T15:50:52.737592Z",
     "shell.execute_reply": "2025-02-12T15:50:52.737161Z"
    }
   },
   "outputs": [],
   "source": [
    "sessions = one.search()"
   ]
  },
  {
   "cell_type": "markdown",
   "metadata": {},
   "source": [
    "Each session is given a unique identifier (eID); this eID is what you will use to download data for a given session:"
   ]
  },
  {
   "cell_type": "code",
   "execution_count": 5,
   "metadata": {
    "execution": {
     "iopub.execute_input": "2025-02-12T15:50:52.739365Z",
     "iopub.status.busy": "2025-02-12T15:50:52.739002Z",
     "iopub.status.idle": "2025-02-12T15:50:52.741797Z",
     "shell.execute_reply": "2025-02-12T15:50:52.741379Z"
    }
   },
   "outputs": [
    {
     "name": "stdout",
     "output_type": "stream",
     "text": [
      "c3f58136-2198-4a39-bde0-e2a8cf112a56\n"
     ]
    }
   ],
   "source": [
    "# Each session is represented by a unique experiment id (eID)\n",
    "print(sessions[0],)"
   ]
  },
  {
   "cell_type": "markdown",
   "metadata": {},
   "source": [
    "### Find recordings of a specific brain region\n",
    "If we are interested in a given brain region, we can use the `search_insertions` method to find all recordings associated with that region. For example, to find all recordings associated with the **Rhomboid Nucleus (RH)** region of the thalamus."
   ]
  },
  {
   "cell_type": "code",
   "execution_count": 6,
   "metadata": {
    "execution": {
     "iopub.execute_input": "2025-02-12T15:50:52.743465Z",
     "iopub.status.busy": "2025-02-12T15:50:52.743112Z",
     "iopub.status.idle": "2025-02-12T15:50:58.483400Z",
     "shell.execute_reply": "2025-02-12T15:50:58.482762Z"
    }
   },
   "outputs": [],
   "source": [
    "# this is the query that yields the few recordings for the Rhomboid Nucleus (RH) region\n",
    "insertions_rh = one.search_insertions(atlas_acronym='RH', datasets='spikes.times.npy', project='brainwide')\n",
    "\n",
    "# if we want to extend the search to all thalamic regions, we can do the following\n",
    "insertions_th = one.search_insertions(atlas_acronym='TH', datasets='spikes.times.npy', project='brainwide')\n",
    "\n",
    "# the Allen brain regions parcellation is hierarchical, and searching for Thalamus will return all child Rhomboid Nucleus (RH) regions\n",
    "assert set(insertions_rh).issubset(set(insertions_th))\n"
   ]
  },
  {
   "cell_type": "markdown",
   "metadata": {},
   "source": [
    "### Find a session that has a dataset of interest\n",
    "Not all sessions will have all the datasets available. As such, it may be important for you to filter and search for only sessions with particular datasets of interest.\n",
    "The detailed list of datasets can be found in this [document](https://docs.google.com/document/d/1OqIqqakPakHXRAwceYLwFY9gOrm8_P62XIfCTnHwstg/edit#).\n",
    "\n",
    "In the example below, we want to find all sessions that have `spikes.times` data:"
   ]
  },
  {
   "cell_type": "code",
   "execution_count": 7,
   "metadata": {
    "execution": {
     "iopub.execute_input": "2025-02-12T15:50:58.485764Z",
     "iopub.status.busy": "2025-02-12T15:50:58.485337Z",
     "iopub.status.idle": "2025-02-12T15:51:01.533379Z",
     "shell.execute_reply": "2025-02-12T15:51:01.532745Z"
    }
   },
   "outputs": [],
   "source": [
    "# Find sessions that have spikes.times datasets\n",
    "sessions_with_spikes = one.search(project='brainwide', dataset='spikes.times')"
   ]
  },
  {
   "cell_type": "markdown",
   "metadata": {},
   "source": [
    "[Click here](https://int-brain-lab.github.io/ONE/notebooks/one_search/one_search.html) for a complete guide to searching using ONE.\n",
    "\n",
    "\n",
    "### Find data associated with a release or publication\n",
    "Datasets are often associated to a publication, and are tagged as such to facilitate reproducibility of analysis. You can list all tags and their associated publications like this:"
   ]
  },
  {
   "cell_type": "code",
   "execution_count": 8,
   "metadata": {
    "execution": {
     "iopub.execute_input": "2025-02-12T15:51:01.535486Z",
     "iopub.status.busy": "2025-02-12T15:51:01.535314Z",
     "iopub.status.idle": "2025-02-12T15:51:02.050883Z",
     "shell.execute_reply": "2025-02-12T15:51:02.050365Z"
    }
   },
   "outputs": [
    {
     "name": "stdout",
     "output_type": "stream",
     "text": [
      "2021_Q1_IBL_et_al_Behaviour\n",
      "https://doi.org/10.7554/eLife.63711\n",
      "\n",
      "2021_Q2_PreRelease\n",
      "https://figshare.com/articles/online_resource/Spike_sorting_pipeline_for_the_International_Brain_Laboratory/19705522/3\n",
      "\n",
      "2021_Q2_Varol_et_al\n",
      "https://doi.org/10.1109/ICASSP39728.2021.9414145\n",
      "\n",
      "2021_Q3_Whiteway_et_al\n",
      "https://doi.org/10.1371/journal.pcbi.1009439\n",
      "\n",
      "2022_Q2_IBL_et_al_RepeatedSite\n",
      "https://doi.org/10.1101/2022.05.09.491042\n",
      "\n",
      "2022_Q3_IBL_et_al_DAWG\n",
      "https://doi.org/10.1101/827873\n",
      "\n",
      "2022_Q4_IBL_et_al_BWM\n",
      "https://figshare.com/articles/preprint/Data_release_-_Brainwide_map_-_Q4_2022/21400815\n",
      "\n",
      "2023_Q1_Biderman_Whiteway_et_al\n",
      "\n",
      "\n",
      "2023_Q1_Mohammadi_et_al\n",
      "\n",
      "\n",
      "2023_Q3_Findling_Hubert_et_al\n",
      "https://doi.org/10.1101/2023.07.04.547684\n",
      "\n",
      "2023_Q4_Bruijns_et_al\n",
      "\n",
      "\n",
      "2023_Q4_IBL_et_al_BWM_2\n",
      "\n",
      "\n",
      "2023_Q4_IBL_et_al_BWM_passive\n",
      "\n",
      "\n",
      "2024_Q2_Blau_et_al\n",
      "\n",
      "\n",
      "2024_Q2_IBL_et_al_BWM_iblsort\n",
      "Spike sorting output with ibl-sorter 1.7.0 for BWM\n",
      "\n",
      "2024_Q2_IBL_et_al_RepeatedSite\n",
      "https://doi.org/10.1101/2022.05.09.491042\n",
      "\n",
      "2024_Q3_Pan_Vazquez_et_al\n",
      "\n",
      "\n",
      "Brainwidemap\n",
      "\n",
      "\n",
      "RepeatedSite\n",
      "\n",
      "\n"
     ]
    }
   ],
   "source": [
    "# List and print all tags in the public database\n",
    "tags = {t['name']: t['description'] for t in one.alyx.rest('tags', 'list') if t['public']}\n",
    "for key, value in tags.items():\n",
    "    print(f\"{key}\\n{value}\\n\")"
   ]
  },
  {
   "cell_type": "markdown",
   "metadata": {},
   "source": [
    "You can use the tag to restrict your searches to a specific data release and as a filter when browsing the public database:"
   ]
  },
  {
   "cell_type": "code",
   "execution_count": 9,
   "metadata": {
    "execution": {
     "iopub.execute_input": "2025-02-12T15:51:02.052746Z",
     "iopub.status.busy": "2025-02-12T15:51:02.052392Z",
     "iopub.status.idle": "2025-02-12T15:51:08.113097Z",
     "shell.execute_reply": "2025-02-12T15:51:08.112629Z"
    }
   },
   "outputs": [],
   "source": [
    "%%capture\n",
    "# Note that tags are associated with datasets originally\n",
    "# You can load a local index of sessions and datasets associated with a specific data release\n",
    "one.load_cache(tag='2022_Q2_IBL_et_al_RepeatedSite')\n",
    "sessions_rep_site = one.search()  # All sessions used in the repeated site paper\n",
    "\n",
    "# Find insertions that are tagged\n",
    "# (you do not have access to the tag endpoint from the insertion list, so you need to create a django query)\n",
    "ins_str_query = 'datasets__tags__name,2022_Q2_IBL_et_al_RepeatedSite'\n",
    "insertions_rep_site = one.alyx.rest('insertions', 'list', django=ins_str_query)\n",
    "\n",
    "# To return to the full cache containing an index of all IBL experiments\n",
    "ONE.cache_clear()\n",
    "one = ONE(base_url='https://openalyx.internationalbrainlab.org')"
   ]
  },
  {
   "cell_type": "markdown",
   "metadata": {},
   "source": [
    "### Downloading data using the ONE-api\n",
    "Once sessions of interest are identified with the unique identifier (eID), all files ready for analysis are found in the **alf** collection:"
   ]
  },
  {
   "cell_type": "code",
   "execution_count": 10,
   "metadata": {
    "execution": {
     "iopub.execute_input": "2025-02-12T15:51:08.115068Z",
     "iopub.status.busy": "2025-02-12T15:51:08.114790Z",
     "iopub.status.idle": "2025-02-12T15:51:13.590732Z",
     "shell.execute_reply": "2025-02-12T15:51:13.590276Z"
    }
   },
   "outputs": [
    {
     "name": "stdout",
     "output_type": "stream",
     "text": [
      "Files downloaded to /home/runner/Downloads/ONE/openalyx.internationalbrainlab.org/churchlandlab_ucla/Subjects/MFD_09/2023-10-20/001/alf\n"
     ]
    }
   ],
   "source": [
    "# Find an example session with data\n",
    "eid, *_ = one.search(project='brainwide', dataset='alf/')\n",
    "# List datasets associated with a session, in the alf collection\n",
    "datasets = one.list_datasets(eid, collection='alf*')\n",
    "\n",
    "# Download all data in alf collection\n",
    "files = one.load_collection(eid, 'alf', download_only=True)\n",
    "\n",
    "# Show where files have been downloaded to\n",
    "print(f'Files downloaded to {files[0].parent}')"
   ]
  },
  {
   "cell_type": "markdown",
   "metadata": {},
   "source": [
    "To download the spike sorting data we need to find out which probe label (`probeXX`) was used for this session. This can be done by finding the probe insertion associated with this session."
   ]
  },
  {
   "cell_type": "code",
   "execution_count": 11,
   "metadata": {
    "execution": {
     "iopub.execute_input": "2025-02-12T15:51:13.592751Z",
     "iopub.status.busy": "2025-02-12T15:51:13.592409Z",
     "iopub.status.idle": "2025-02-12T15:52:17.563502Z",
     "shell.execute_reply": "2025-02-12T15:52:17.562945Z"
    }
   },
   "outputs": [
    {
     "name": "stderr",
     "output_type": "stream",
     "text": [
      "/opt/hostedtoolcache/Python/3.12.9/x64/lib/python3.12/site-packages/one/util.py:543: ALFWarning: Multiple revisions: \"\", \"2024-05-06\"\n",
      "  warnings.warn(f'Multiple revisions: {rev_list}', alferr.ALFWarning)\n"
     ]
    },
    {
     "name": "stdout",
     "output_type": "stream",
     "text": [
      "Files downloaded to /home/runner/Downloads/ONE/openalyx.internationalbrainlab.org/churchlandlab_ucla/Subjects/MFD_09/2023-10-19/001/alf/probe00/pykilosort\n"
     ]
    }
   ],
   "source": [
    "# Find an example session with spike data\n",
    "# Note: Restricting by task and project makes searching for data much quicker\n",
    "eid, *_ = one.search(project='brainwide', dataset='spikes', task='ephys')\n",
    "\n",
    "# Data for each probe insertion are stored in the alf/probeXX folder.\n",
    "datasets = one.list_datasets(eid, collection='alf/probe*')\n",
    "probe_labels = set(d.split('/')[1] for d in datasets)  # List the insertions\n",
    "\n",
    "# You can find full details of a session's insertions using the following database query:\n",
    "insertions = one.alyx.rest('insertions', 'list', session=eid)\n",
    "probe_labels = [ins['name'] for ins in insertions]\n",
    "\n",
    "files = one.load_collection(eid, f'alf/{probe_labels[0]}/pykilosort', download_only=True)\n",
    "\n",
    "# Show where files have been downloaded to\n",
    "print(f'Files downloaded to {files[0].parent}')"
   ]
  },
  {
   "cell_type": "markdown",
   "metadata": {},
   "source": [
    "### Loading different objects\n",
    "\n",
    "To load in the data we can use some of the following loading methods."
   ]
  },
  {
   "cell_type": "code",
   "execution_count": 12,
   "metadata": {
    "execution": {
     "iopub.execute_input": "2025-02-12T15:52:17.565296Z",
     "iopub.status.busy": "2025-02-12T15:52:17.565093Z",
     "iopub.status.idle": "2025-02-12T15:52:21.050707Z",
     "shell.execute_reply": "2025-02-12T15:52:21.050184Z"
    },
    "pycharm": {
     "name": "#%%\n"
    }
   },
   "outputs": [],
   "source": [
    "# Load in all trials datasets\n",
    "trials = one.load_object(eid, 'trials', collection='alf')\n",
    "\n",
    "# Load in a single wheel dataset\n",
    "wheel_times = one.load_dataset(eid, '_ibl_wheel.timestamps.npy')"
   ]
  },
  {
   "cell_type": "markdown",
   "metadata": {},
   "source": [
    "Examples for loading different objects can be found in the following tutorials [here](https://int-brain-lab.github.io/iblenv/loading_examples.html)."
   ]
  },
  {
   "cell_type": "markdown",
   "metadata": {},
   "source": [
    "### Advanced examples\n",
    "#### Example 1: Searching for sessions from a specific lab\n",
    "Let's imagine you are interested in obtaining the data from a given lab, that was part of the Reproducible Ephys data release.\n",
    "If you want to use data associated to a given lab only, you could simply query for the whole dataset as shown above, and filter `sessions_rep_site` for the key \"lab\" of a given value, for example:"
   ]
  },
  {
   "cell_type": "code",
   "execution_count": 13,
   "metadata": {
    "execution": {
     "iopub.execute_input": "2025-02-12T15:52:21.052806Z",
     "iopub.status.busy": "2025-02-12T15:52:21.052451Z",
     "iopub.status.idle": "2025-02-12T15:52:22.722372Z",
     "shell.execute_reply": "2025-02-12T15:52:22.721874Z"
    }
   },
   "outputs": [],
   "source": [
    "%%capture\n",
    "one.load_cache(tag='2022_Q2_IBL_et_al_RepeatedSite')\n",
    "sessions_lab = one.search(lab='mrsicflogellab')"
   ]
  },
  {
   "cell_type": "markdown",
   "metadata": {},
   "source": [
    "However, if you wanted to query only the data for a given lab, it might be most judicious to first\n",
    "know the list of all labs available, select an arbitrary lab name from it, and query the specific sessions from it."
   ]
  },
  {
   "cell_type": "code",
   "execution_count": 14,
   "metadata": {
    "execution": {
     "iopub.execute_input": "2025-02-12T15:52:22.724288Z",
     "iopub.status.busy": "2025-02-12T15:52:22.724076Z",
     "iopub.status.idle": "2025-02-12T15:52:22.738454Z",
     "shell.execute_reply": "2025-02-12T15:52:22.737990Z"
    },
    "pycharm": {
     "name": "#%%\n"
    }
   },
   "outputs": [],
   "source": [
    "# List details of all sessions (returns a list of dictionaries)\n",
    "_, det = one.search(details=True)\n",
    "labs = set(d['lab'] for d in det)  # Get the set of unique labs\n",
    "\n",
    "# Example lab name\n",
    "lab_name = list(labs)[0]\n",
    "\n",
    "# Searching for RS sessions with specific lab name\n",
    "sessions_lab = one.search(dataset='spikes', lab=lab_name)"
   ]
  },
  {
   "cell_type": "markdown",
   "metadata": {
    "pycharm": {
     "name": "#%% md\n"
    }
   },
   "source": [
    "You can also get this list, using [one.alyx.rest](https://int-brain-lab.github.io/ONE/notebooks/one_advanced/one_advanced.html), however it is a little slower."
   ]
  },
  {
   "cell_type": "code",
   "execution_count": 15,
   "metadata": {
    "execution": {
     "iopub.execute_input": "2025-02-12T15:52:22.740284Z",
     "iopub.status.busy": "2025-02-12T15:52:22.739918Z",
     "iopub.status.idle": "2025-02-12T15:52:24.201483Z",
     "shell.execute_reply": "2025-02-12T15:52:24.200947Z"
    }
   },
   "outputs": [],
   "source": [
    "# List of labs (and all metadata information associated)\n",
    "labs = one.alyx.rest('labs', 'list',\n",
    "                     django='session__data_dataset_session_related__tags__name,2022_Q2_IBL_et_al_RepeatedSite')\n",
    "# Note the change in the django filter compared to searching over 'sessions'\n",
    "\n",
    "# Example lab name\n",
    "lab_name = labs[0]['name']  # e.g. 'mrsicflogellab'\n",
    "\n",
    "# Searching for RS sessions with specific lab name\n",
    "sessions_lab = one.alyx.rest('sessions', 'list', dataset_types='spikes.times', lab=lab_name,\n",
    "                             tag='2022_Q2_IBL_et_al_RepeatedSite')"
   ]
  }
 ],
 "metadata": {
  "celltoolbar": "Edit Metadata",
  "docs_executed": "executed",
  "kernelspec": {
   "display_name": "Python 3 (ipykernel)",
   "language": "python",
   "name": "python3"
  },
  "language_info": {
   "codemirror_mode": {
    "name": "ipython",
    "version": 3
   },
   "file_extension": ".py",
   "mimetype": "text/x-python",
   "name": "python",
   "nbconvert_exporter": "python",
   "pygments_lexer": "ipython3",
   "version": "3.12.9"
  }
 },
 "nbformat": 4,
 "nbformat_minor": 4
}
