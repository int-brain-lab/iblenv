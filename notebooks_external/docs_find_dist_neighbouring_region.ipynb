{
 "cells": [
  {
   "cell_type": "markdown",
   "metadata": {},
   "source": [
    "\n",
    "# Distance to neighbouring region\n",
    "\n",
    "Creates a plot of the regions through which a probe trajectory passes through. The x axis of the\n",
    "plot gives an indication of the distance of each point along the trajectory to the neighbouring\n",
    "region. From this one can infer how close the prove was to the edge of each structure.\n",
    "Additionally it plots the parent regions to show the distance to the edge of the allen atlas parent\n",
    "of each structure\n"
   ]
  },
  {
   "cell_type": "code",
   "execution_count": null,
   "metadata": {
    "execution": {
     "iopub.execute_input": "2022-02-02T16:00:29.391402Z",
     "iopub.status.busy": "2022-02-02T16:00:29.375750Z",
     "iopub.status.idle": "2022-02-02T16:00:44.073312Z",
     "shell.execute_reply": "2022-02-02T16:00:44.073312Z"
    }
   },
   "outputs": [],
   "source": [
    "# Author: Mayo Faulkner\n",
    "# import modules\n",
    "from pathlib import Path\n",
    "\n",
    "import numpy as np\n",
    "import matplotlib.pyplot as plt\n",
    "from one.api import ONE\n",
    "import one.alf.io as alfio\n",
    "\n",
    "from ibllib.pipes.ephys_alignment import EphysAlignment\n",
    "from ibllib.atlas import atlas\n",
    "\n",
    "\n",
    "# Instantiate brain atlas and one\n",
    "brain_atlas = atlas.AllenAtlas(25)\n",
    "one = ONE(base_url='https://openalyx.internationalbrainlab.org')\n",
    "\n",
    "# Find eid of interest\n",
    "subject = 'CSH_ZAD_029'\n",
    "date = '2020-09-19'\n",
    "sess_no = 1\n",
    "probe_label = 'probe01'\n",
    "eid = one.search(subject=subject, date=date, number=sess_no)[0]\n",
    "\n",
    "# Find user traced points for this recording session\n",
    "picks = one.alyx.rest('insertions', 'list', session=eid, name=probe_label)\n",
    "xyz_picks = np.array(picks[0]['json']['xyz_picks']) / 1e6\n",
    "\n",
    "# Instantiate EphysAlignment to find xyz coordinates and their depths along traced track\n",
    "ephys_align = EphysAlignment(xyz_picks)\n",
    "xyz_coords = ephys_align.xyz_samples\n",
    "xyz_depths = ephys_align.sampling_trk\n",
    "region_label = ephys_align.region_label\n",
    "\n",
    "# Read in the allen structure tree csv\n",
    "allen_path = Path(Path(atlas.__file__).parent, 'allen_structure_tree.csv')\n",
    "allen = alfio.load_file_content(allen_path)\n",
    "\n",
    "# Compute the distance to the closest neighbouring region for all xyz coordinates along probe track\n",
    "nearby_bounds = ephys_align.get_nearest_boundary(xyz_coords, allen)\n",
    "\n",
    "# Extract information and put into format for plotting\n",
    "[struct_x, struct_y,\n",
    " struct_colour] = ephys_align.arrange_into_regions(xyz_depths, nearby_bounds['id'],\n",
    "                                                   nearby_bounds['dist'],\n",
    "                                                   nearby_bounds['col'])\n",
    "\n",
    "# Also extract information for parents of the regions\n",
    "[parent_x, parent_y,\n",
    " parent_colour] = ephys_align.arrange_into_regions(xyz_depths, nearby_bounds['parent_id'],\n",
    "                                                   nearby_bounds['parent_dist'],\n",
    "                                                   nearby_bounds['parent_col'])\n",
    "\n",
    "# Create plot\n",
    "fig, ax = plt.subplots(figsize=(4, 10))\n",
    "# Plot for the actual structure\n",
    "for x, y, col, in zip(struct_x, struct_y, struct_colour):\n",
    "    ax.fill_between(x, y * 1e6, facecolor=col)\n",
    "# Plot for the parent of structure (make transparent)\n",
    "for x, y, col, in zip(parent_x, parent_y, parent_colour):\n",
    "    ax.fill_between(x, y * 1e6, facecolor=col, alpha=0.3)\n",
    "\n",
    "ax.set_yticks((region_label[:, 0] * 1e6).astype(int))\n",
    "ax.set_yticklabels(region_label[:, 1])\n",
    "ax.yaxis.set_tick_params(labelsize=8)\n",
    "ax.spines['right'].set_visible(False)\n",
    "ax.spines['top'].set_visible(False)\n",
    "ax.hlines([0, 3840], *ax.get_xlim(), linestyles='dashed', linewidth=2, colors='k')\n",
    "ax.set_xlim(0, 100)\n",
    "ax.set_xlabel('Distance to nearest boundary (um)')\n",
    "plt.show()"
   ]
  }
 ],
 "metadata": {
  "docs_executed": "executed",
  "kernelspec": {
   "display_name": "Python 3",
   "language": "python",
   "name": "python3"
  },
  "language_info": {
   "codemirror_mode": {
    "name": "ipython",
    "version": 3
   },
   "file_extension": ".py",
   "mimetype": "text/x-python",
   "name": "python",
   "nbconvert_exporter": "python",
   "pygments_lexer": "ipython3",
   "version": "3.9.7"
  }
 },
 "nbformat": 4,
 "nbformat_minor": 0
}
