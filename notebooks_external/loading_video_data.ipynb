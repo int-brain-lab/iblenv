{
 "cells": [
  {
   "cell_type": "code",
   "execution_count": null,
   "id": "96289b087c51ad66",
   "metadata": {
    "execution": {
     "iopub.execute_input": "2024-04-24T16:28:15.224733Z",
     "iopub.status.busy": "2024-04-24T16:28:15.224529Z",
     "iopub.status.idle": "2024-04-24T16:28:15.231542Z",
     "shell.execute_reply": "2024-04-24T16:28:15.230934Z"
    },
    "nbsphinx": "hidden"
   },
   "outputs": [],
   "source": [
    "# Turn off logging and disable tqdm this is a hidden cell on docs page\n",
    "import logging\n",
    "import os\n",
    "\n",
    "logger = logging.getLogger('ibllib')\n",
    "logger.setLevel(logging.CRITICAL)\n",
    "\n",
    "os.environ[\"TQDM_DISABLE\"] = \"1\""
   ]
  },
  {
   "cell_type": "markdown",
   "id": "b730e49f",
   "metadata": {},
   "source": [
    "# Loading Video Data"
   ]
  },
  {
   "cell_type": "markdown",
   "id": "95f87066",
   "metadata": {},
   "source": [
    "Extracted DLC features and motion energy from raw video data"
   ]
  },
  {
   "cell_type": "markdown",
   "id": "7629947f",
   "metadata": {},
   "source": [
    "## Relevant Alf objects\n",
    "* bodyCamera\n",
    "* leftCamera\n",
    "* rightCamera\n",
    "* licks\n",
    "* ROIMotionEnergy"
   ]
  },
  {
   "cell_type": "markdown",
   "id": "50db510d",
   "metadata": {},
   "source": [
    "## Loading"
   ]
  },
  {
   "cell_type": "code",
   "execution_count": null,
   "id": "a6d2a83e",
   "metadata": {
    "execution": {
     "iopub.execute_input": "2024-04-24T16:28:15.234247Z",
     "iopub.status.busy": "2024-04-24T16:28:15.233883Z",
     "iopub.status.idle": "2024-04-24T16:28:23.746703Z",
     "shell.execute_reply": "2024-04-24T16:28:23.746120Z"
    }
   },
   "outputs": [],
   "source": [
    "from one.api import ONE\n",
    "\n",
    "one = ONE()\n",
    "eid = '4ecb5d24-f5cc-402c-be28-9d0f7cb14b3a'\n",
    "\n",
    "label = 'right' # 'left', 'right' or 'body'\n",
    "\n",
    "video_features = one.load_object(eid, f'{label}Camera', collection='alf')"
   ]
  },
  {
   "cell_type": "markdown",
   "id": "48aa068e",
   "metadata": {},
   "source": [
    "## More details\n",
    "* [Description of camera datasets](https://docs.google.com/document/d/1OqIqqakPakHXRAwceYLwFY9gOrm8_P62XIfCTnHwstg/edit#heading=h.yjwa7dpoipz)\n",
    "* [Description of DLC pipeline in IBL](https://github.com/int-brain-lab/iblvideo#readme)\n",
    "* [Description of DLC QC metrics](https://int-brain-lab.github.io/iblenv/_autosummary/ibllib.qc.dlc.html)\n",
    "* [IBL video white paper](https://docs.google.com/document/u/1/d/e/2PACX-1vS2777bCbDmMre-wyeDr4t0jC-0YsV_uLtYkfS3h9zTwgC7qeMk-GUqxPqcY7ylH17I1Vo1nIuuj26L/pub)"
   ]
  },
  {
   "cell_type": "markdown",
   "id": "d8b4a8e8",
   "metadata": {},
   "source": [
    "## Useful modules\n",
    "* [brainbox.behavior.dlc](https://int-brain-lab.github.io/iblenv/_autosummary/brainbox.behavior.dlc.html)\n",
    "* [ibllib.qc.dlc](https://int-brain-lab.github.io/iblenv/_autosummary/ibllib.qc.dlc.html)"
   ]
  },
  {
   "cell_type": "markdown",
   "id": "a7a88103",
   "metadata": {},
   "source": [
    "## Exploring video data"
   ]
  },
  {
   "cell_type": "markdown",
   "id": "8c09b09e",
   "metadata": {},
   "source": [
    "### Example 1: Filtering dlc features by likelihood threshold"
   ]
  },
  {
   "cell_type": "code",
   "execution_count": null,
   "id": "de72d811",
   "metadata": {
    "execution": {
     "iopub.execute_input": "2024-04-24T16:28:23.749792Z",
     "iopub.status.busy": "2024-04-24T16:28:23.749315Z",
     "iopub.status.idle": "2024-04-24T16:28:24.474278Z",
     "shell.execute_reply": "2024-04-24T16:28:24.473437Z"
    }
   },
   "outputs": [],
   "source": [
    "# Set values with likelihood below chosen threshold to NaN\n",
    "from brainbox.behavior.dlc import likelihood_threshold\n",
    "\n",
    "dlc = likelihood_threshold(video_features['dlc'], threshold=0.9)"
   ]
  },
  {
   "cell_type": "markdown",
   "id": "bd5a739e",
   "metadata": {},
   "source": [
    "### Example 2: Compute speed of dlc feature"
   ]
  },
  {
   "cell_type": "code",
   "execution_count": null,
   "id": "523a1745",
   "metadata": {
    "execution": {
     "iopub.execute_input": "2024-04-24T16:28:24.477950Z",
     "iopub.status.busy": "2024-04-24T16:28:24.477320Z",
     "iopub.status.idle": "2024-04-24T16:28:24.526746Z",
     "shell.execute_reply": "2024-04-24T16:28:24.526128Z"
    }
   },
   "outputs": [],
   "source": [
    "from brainbox.behavior.dlc import get_speed\n",
    "\n",
    "# Compute the speed of the right paw\n",
    "feature = 'paw_r'\n",
    "dlc_times = video_features['times']\n",
    "paw_r_speed = get_speed(dlc, dlc_times, label, feature=feature)"
   ]
  },
  {
   "cell_type": "markdown",
   "id": "fc8a5f0f",
   "metadata": {},
   "source": [
    "### Example 3: Plot raster of lick times around feedback event"
   ]
  },
  {
   "cell_type": "code",
   "execution_count": null,
   "id": "e37c1536",
   "metadata": {
    "execution": {
     "iopub.execute_input": "2024-04-24T16:28:24.529886Z",
     "iopub.status.busy": "2024-04-24T16:28:24.529475Z",
     "iopub.status.idle": "2024-04-24T16:28:24.532986Z",
     "shell.execute_reply": "2024-04-24T16:28:24.532384Z"
    },
    "nbsphinx": "hidden"
   },
   "outputs": [],
   "source": [
    "# Turn off logging, this is a hidden cell on docs page\n",
    "import logging\n",
    "logger = logging.getLogger('ibllib')\n",
    "logger.setLevel(logging.CRITICAL)"
   ]
  },
  {
   "cell_type": "code",
   "execution_count": null,
   "id": "22a0772e",
   "metadata": {
    "execution": {
     "iopub.execute_input": "2024-04-24T16:28:24.535371Z",
     "iopub.status.busy": "2024-04-24T16:28:24.535064Z",
     "iopub.status.idle": "2024-04-24T16:28:26.465346Z",
     "shell.execute_reply": "2024-04-24T16:28:26.464617Z"
    }
   },
   "outputs": [],
   "source": [
    "licks = one.load_object(eid, 'licks', collection='alf')\n",
    "trials = one.load_object(eid, 'trials', collection='alf')\n",
    "\n",
    "from brainbox.behavior.dlc import plot_lick_raster\n",
    "fig = plot_lick_raster(licks['times'], trials.to_df())"
   ]
  },
  {
   "cell_type": "markdown",
   "id": "8690f9f8",
   "metadata": {},
   "source": [
    "## Other relevant examples\n",
    "* COMING SOON"
   ]
  }
 ],
 "metadata": {
  "docs_executed": "executed",
  "kernelspec": {
   "display_name": "Python [conda env:iblenv] *",
   "language": "python",
   "name": "conda-env-iblenv-py"
  },
  "language_info": {
   "codemirror_mode": {
    "name": "ipython",
    "version": 3
   },
   "file_extension": ".py",
   "mimetype": "text/x-python",
   "name": "python",
   "nbconvert_exporter": "python",
   "pygments_lexer": "ipython3",
   "version": "3.9.19"
  }
 },
 "nbformat": 4,
 "nbformat_minor": 5
}
