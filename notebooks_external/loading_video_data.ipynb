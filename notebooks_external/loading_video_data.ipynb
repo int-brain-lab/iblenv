{
 "cells": [
  {
   "cell_type": "markdown",
   "id": "b730e49f",
   "metadata": {},
   "source": [
    "# Loading Video Data"
   ]
  },
  {
   "cell_type": "markdown",
   "id": "95f87066",
   "metadata": {},
   "source": [
    "Extracted DLC features and motion energy from raw video data"
   ]
  },
  {
   "cell_type": "markdown",
   "id": "7629947f",
   "metadata": {},
   "source": [
    "## Relevant Alf objects\n",
    "* bodyCamera\n",
    "* leftCamera\n",
    "* rightCamera\n",
    "* licks\n",
    "* ROIMotionEnergy"
   ]
  },
  {
   "cell_type": "markdown",
   "id": "50db510d",
   "metadata": {},
   "source": [
    "## Loading"
   ]
  },
  {
   "cell_type": "code",
   "execution_count": null,
   "id": "a6d2a83e",
   "metadata": {
    "execution": {
     "iopub.execute_input": "2023-05-25T15:37:18.791380Z",
     "iopub.status.busy": "2023-05-25T15:37:18.790793Z",
     "iopub.status.idle": "2023-05-25T15:37:30.582605Z",
     "shell.execute_reply": "2023-05-25T15:37:30.581766Z"
    }
   },
   "outputs": [],
   "source": [
    "from one.api import ONE\n",
    "\n",
    "one = ONE()\n",
    "eid = '4ecb5d24-f5cc-402c-be28-9d0f7cb14b3a'\n",
    "\n",
    "label = 'right' # 'left', 'right' or 'body'\n",
    "\n",
    "video_features = one.load_object(eid, f'{label}Camera', collection='alf')"
   ]
  },
  {
   "cell_type": "markdown",
   "id": "48aa068e",
   "metadata": {},
   "source": [
    "## More details\n",
    "* [Description of camera datasets](https://docs.google.com/document/d/1OqIqqakPakHXRAwceYLwFY9gOrm8_P62XIfCTnHwstg/edit#heading=h.yjwa7dpoipz)\n",
    "* [Description of DLC pipeline in IBL](https://github.com/int-brain-lab/iblvideo#readme)\n",
    "* [Description of DLC QC metrics](https://int-brain-lab.github.io/iblenv/_autosummary/ibllib.qc.dlc.html)\n",
    "* [IBL video white paper](https://docs.google.com/document/u/1/d/e/2PACX-1vS2777bCbDmMre-wyeDr4t0jC-0YsV_uLtYkfS3h9zTwgC7qeMk-GUqxPqcY7ylH17I1Vo1nIuuj26L/pub)"
   ]
  },
  {
   "cell_type": "markdown",
   "id": "d8b4a8e8",
   "metadata": {},
   "source": [
    "## Useful modules\n",
    "* [brainbox.behavior.dlc](https://int-brain-lab.github.io/iblenv/_autosummary/brainbox.behavior.dlc.html)\n",
    "* [ibllib.qc.dlc](https://int-brain-lab.github.io/iblenv/_autosummary/ibllib.qc.dlc.html)"
   ]
  },
  {
   "cell_type": "markdown",
   "id": "a7a88103",
   "metadata": {},
   "source": [
    "## Exploring video data"
   ]
  },
  {
   "cell_type": "markdown",
   "id": "8c09b09e",
   "metadata": {},
   "source": [
    "### Example 1: Filtering dlc features by likelihood threshold"
   ]
  },
  {
   "cell_type": "code",
   "execution_count": null,
   "id": "de72d811",
   "metadata": {
    "execution": {
     "iopub.execute_input": "2023-05-25T15:37:30.586878Z",
     "iopub.status.busy": "2023-05-25T15:37:30.586301Z",
     "iopub.status.idle": "2023-05-25T15:37:31.363442Z",
     "shell.execute_reply": "2023-05-25T15:37:31.362357Z"
    }
   },
   "outputs": [],
   "source": [
    "# Set values with likelihood below chosen threshold to NaN\n",
    "from brainbox.behavior.dlc import likelihood_threshold\n",
    "\n",
    "dlc = likelihood_threshold(video_features['dlc'], threshold=0.9)"
   ]
  },
  {
   "cell_type": "markdown",
   "id": "bd5a739e",
   "metadata": {},
   "source": [
    "### Example 2: Compute speed of dlc feature"
   ]
  },
  {
   "cell_type": "code",
   "execution_count": null,
   "id": "523a1745",
   "metadata": {
    "execution": {
     "iopub.execute_input": "2023-05-25T15:37:31.367571Z",
     "iopub.status.busy": "2023-05-25T15:37:31.367030Z",
     "iopub.status.idle": "2023-05-25T15:37:31.446096Z",
     "shell.execute_reply": "2023-05-25T15:37:31.444991Z"
    }
   },
   "outputs": [],
   "source": [
    "from brainbox.behavior.dlc import get_speed\n",
    "\n",
    "# Compute the speed of the right paw\n",
    "feature = 'paw_r'\n",
    "dlc_times = video_features['times']\n",
    "paw_r_speed = get_speed(dlc, dlc_times, label, feature=feature)"
   ]
  },
  {
   "cell_type": "markdown",
   "id": "fc8a5f0f",
   "metadata": {},
   "source": [
    "### Example 3: Plot raster of lick times around feedback event"
   ]
  },
  {
   "cell_type": "code",
   "execution_count": null,
   "id": "e37c1536",
   "metadata": {
    "execution": {
     "iopub.execute_input": "2023-05-25T15:37:31.450315Z",
     "iopub.status.busy": "2023-05-25T15:37:31.449897Z",
     "iopub.status.idle": "2023-05-25T15:37:31.454232Z",
     "shell.execute_reply": "2023-05-25T15:37:31.453409Z"
    },
    "nbsphinx": "hidden"
   },
   "outputs": [],
   "source": [
    "# Turn off logging, this is a hidden cell on docs page\n",
    "import logging\n",
    "logger = logging.getLogger('ibllib')\n",
    "logger.setLevel(logging.CRITICAL)"
   ]
  },
  {
   "cell_type": "code",
   "execution_count": null,
   "id": "22a0772e",
   "metadata": {
    "execution": {
     "iopub.execute_input": "2023-05-25T15:37:31.457765Z",
     "iopub.status.busy": "2023-05-25T15:37:31.457514Z",
     "iopub.status.idle": "2023-05-25T15:37:33.350490Z",
     "shell.execute_reply": "2023-05-25T15:37:33.349359Z"
    }
   },
   "outputs": [],
   "source": [
    "licks = one.load_object(eid, 'licks', collection='alf')\n",
    "trials = one.load_object(eid, 'trials', collection='alf')\n",
    "\n",
    "from brainbox.behavior.dlc import plot_lick_raster\n",
    "fig = plot_lick_raster(licks['times'], trials.to_df())"
   ]
  },
  {
   "cell_type": "markdown",
   "id": "8690f9f8",
   "metadata": {},
   "source": [
    "## Other relevant examples\n",
    "* COMING SOON"
   ]
  }
 ],
 "metadata": {
  "docs_executed": "executed",
  "kernelspec": {
   "display_name": "Python [conda env:iblenv] *",
   "language": "python",
   "name": "conda-env-iblenv-py"
  },
  "language_info": {
   "codemirror_mode": {
    "name": "ipython",
    "version": 3
   },
   "file_extension": ".py",
   "mimetype": "text/x-python",
   "name": "python",
   "nbconvert_exporter": "python",
   "pygments_lexer": "ipython3",
   "version": "3.9.16"
  }
 },
 "nbformat": 4,
 "nbformat_minor": 5
}
