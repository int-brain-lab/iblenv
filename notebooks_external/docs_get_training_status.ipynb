{
 "cells": [
  {
   "cell_type": "markdown",
   "metadata": {},
   "source": [
    "\n",
    "# Get subject training status via ONE\n",
    "Use ONE to get the training status of a chosen subject or all subjects within a lab.\n",
    "Training status is computed based on performance over latest 3 sessions (default) or last 3\n",
    "sessions before a specified date.\n"
   ]
  },
  {
   "cell_type": "code",
   "execution_count": null,
   "metadata": {
    "execution": {
     "iopub.execute_input": "2022-02-20T10:08:34.099551Z",
     "iopub.status.busy": "2022-02-20T10:08:34.098547Z",
     "iopub.status.idle": "2022-02-20T10:08:51.688364Z",
     "shell.execute_reply": "2022-02-20T10:08:51.691759Z"
    }
   },
   "outputs": [],
   "source": [
    "from one.api import ONE\n",
    "\n",
    "import brainbox.behavior.training as training\n",
    "one = ONE(base_url='https://openalyx.internationalbrainlab.org', silent=True)\n",
    "# Get training status of a specific subject\n",
    "training.get_subject_training_status('SWC_043', one=one)\n",
    "\n",
    "# Get training status of a specific subject on a chosen date\n",
    "training.get_subject_training_status('KS023', date='2019-12-10', one=one)\n",
    "\n",
    "# Get training status of all mice within a lab\n",
    "# (N.B. only looks for alive and water restricted subjects)\n",
    "training.get_lab_training_status('churchlandlab', one=one)"
   ]
  }
 ],
 "metadata": {
  "docs_executed": "executed",
  "kernelspec": {
   "display_name": "Python 3",
   "language": "python",
   "name": "python3"
  },
  "language_info": {
   "codemirror_mode": {
    "name": "ipython",
    "version": 3
   },
   "file_extension": ".py",
   "mimetype": "text/x-python",
   "name": "python",
   "nbconvert_exporter": "python",
   "pygments_lexer": "ipython3",
   "version": "3.9.7"
  }
 },
 "nbformat": 4,
 "nbformat_minor": 0
}
