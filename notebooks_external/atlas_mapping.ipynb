{
 "cells": [
  {
   "cell_type": "markdown",
   "id": "b8ea3853",
   "metadata": {},
   "source": [
    "# Atlas mapping"
   ]
  },
  {
   "cell_type": "code",
   "execution_count": null,
   "id": "2dae63ed",
   "metadata": {
    "execution": {
     "iopub.execute_input": "2023-06-02T07:24:47.941562Z",
     "iopub.status.busy": "2023-06-02T07:24:47.941187Z",
     "iopub.status.idle": "2023-06-02T07:24:50.130594Z",
     "shell.execute_reply": "2023-06-02T07:24:50.129493Z"
    }
   },
   "outputs": [],
   "source": [
    "# import brain atlas and brain regions objects\n",
    "from ibllib.atlas import AllenAtlas\n",
    "from ibllib.atlas.regions import BrainRegions\n",
    "ba = AllenAtlas()\n",
    "br = BrainRegions() # br is also an attribute of ba so could to br = ba.regions"
   ]
  },
  {
   "cell_type": "markdown",
   "id": "279114b7",
   "metadata": {},
   "source": [
    "## Available Mappings\n",
    "Three mappings are currently available within the IBL, these are:\n",
    "\n",
    "1. Allen Atlas - total of 1328 annotation regions provided by Allen Atlas\n",
    "2. Beryl Atlas - total of 310 annotation regions\n",
    "3. Cosmos Atlas - total of 12 annotation regions"
   ]
  },
  {
   "cell_type": "code",
   "execution_count": null,
   "id": "3c9d922c",
   "metadata": {
    "execution": {
     "iopub.execute_input": "2023-06-02T07:24:50.133863Z",
     "iopub.status.busy": "2023-06-02T07:24:50.133329Z",
     "iopub.status.idle": "2023-06-02T07:24:50.706219Z",
     "shell.execute_reply": "2023-06-02T07:24:50.705634Z"
    }
   },
   "outputs": [],
   "source": [
    "# create figure\n",
    "import matplotlib.pyplot as plt\n",
    "fig, axs = plt.subplots(1, 3, figsize=(15, 18))\n",
    "\n",
    "# plot coronal slice at ap = -2000 um\n",
    "ap = -2000 / 1e6\n",
    "# Allen mapping\n",
    "ba.plot_cslice(ap, volume='annotation', mapping='Allen', ax=axs[0])\n",
    "_ = axs[0].set_title('Allen')\n",
    "# Beryl mapping\n",
    "ba.plot_cslice(ap, volume='annotation', mapping='Beryl', ax=axs[1])\n",
    "_ = axs[1].set_title('Beryl')\n",
    "# Cosmos mapping\n",
    "ba.plot_cslice(ap, volume='annotation', mapping='Cosmos', ax=axs[2])\n",
    "_ = axs[2].set_title('Cosmos')"
   ]
  },
  {
   "cell_type": "markdown",
   "id": "a8460f28",
   "metadata": {},
   "source": [
    "## Understanding the mappings\n",
    "The mappings store the highest level annotation (or parent node) that should be considered. Any regions that are children of these nodes are assigned the same annotation as their parent. \n",
    "\n",
    "For example, consider the region with the acronym **MDm** (Mediodorsal nucleus of the thalamus, medial part). Firstly, to navigate ourselves, we can find the acronyms of all the ancestors to this region,"
   ]
  },
  {
   "cell_type": "code",
   "execution_count": null,
   "id": "08393219",
   "metadata": {
    "execution": {
     "iopub.execute_input": "2023-06-02T07:24:50.709890Z",
     "iopub.status.busy": "2023-06-02T07:24:50.709309Z",
     "iopub.status.idle": "2023-06-02T07:24:50.723681Z",
     "shell.execute_reply": "2023-06-02T07:24:50.723019Z"
    }
   },
   "outputs": [],
   "source": [
    "# First find the atlas_id associated with acronym MDm\n",
    "atlas_id = br.acronym2id('MDm')\n",
    "# Then find the acronyms of the ancestors of this region\n",
    "print(br.ancestors(ids=atlas_id)['acronym'])"
   ]
  },
  {
   "cell_type": "markdown",
   "id": "9081a1b3",
   "metadata": {},
   "source": [
    "We can then take a look at what acronym this region will be assigned under the different mappings. Under the Allen mapping we expect it to be assigned the same acronym as this is the lowest level region parcelation that we use."
   ]
  },
  {
   "cell_type": "code",
   "execution_count": null,
   "id": "ef838f27",
   "metadata": {
    "execution": {
     "iopub.execute_input": "2023-06-02T07:24:50.726972Z",
     "iopub.status.busy": "2023-06-02T07:24:50.726617Z",
     "iopub.status.idle": "2023-06-02T07:24:50.739128Z",
     "shell.execute_reply": "2023-06-02T07:24:50.738485Z"
    }
   },
   "outputs": [],
   "source": [
    "print(br.acronym2acronym('MDm', mapping='Allen'))"
   ]
  },
  {
   "cell_type": "markdown",
   "id": "2cc3d224",
   "metadata": {},
   "source": [
    "Under the Beryl mapping, **MDm** is given the acronym of it's parent, **MD**"
   ]
  },
  {
   "cell_type": "code",
   "execution_count": null,
   "id": "3aa34ba5",
   "metadata": {
    "execution": {
     "iopub.execute_input": "2023-06-02T07:24:50.742587Z",
     "iopub.status.busy": "2023-06-02T07:24:50.742087Z",
     "iopub.status.idle": "2023-06-02T07:24:50.753262Z",
     "shell.execute_reply": "2023-06-02T07:24:50.752753Z"
    }
   },
   "outputs": [],
   "source": [
    "print(br.acronym2acronym('MDm', mapping='Beryl'))"
   ]
  },
  {
   "cell_type": "markdown",
   "id": "f574d115",
   "metadata": {},
   "source": [
    "Under the Cosmos mapping, it is assigned to the region **TH**"
   ]
  },
  {
   "cell_type": "code",
   "execution_count": null,
   "id": "f74fa398",
   "metadata": {
    "execution": {
     "iopub.execute_input": "2023-06-02T07:24:50.756076Z",
     "iopub.status.busy": "2023-06-02T07:24:50.755717Z",
     "iopub.status.idle": "2023-06-02T07:24:50.766681Z",
     "shell.execute_reply": "2023-06-02T07:24:50.766042Z"
    }
   },
   "outputs": [],
   "source": [
    "print(br.acronym2acronym('MDm', mapping='Cosmos'))"
   ]
  },
  {
   "cell_type": "markdown",
   "id": "23ed91cb",
   "metadata": {},
   "source": [
    "Therefore any clusters that are assigned an acronym **MDm** in the Allen mapping, will instead be assigned to the region **MD** in the Beryl mapping and **TH** in the Cosmos mapping. "
   ]
  },
  {
   "cell_type": "markdown",
   "id": "509bcee9",
   "metadata": {},
   "source": [
    "If a region is not included in a mapping, the value for this region is set to root. For example **TH** is not included in the Beryl mapping"
   ]
  },
  {
   "cell_type": "code",
   "execution_count": null,
   "id": "76962ae7",
   "metadata": {
    "execution": {
     "iopub.execute_input": "2023-06-02T07:24:50.769784Z",
     "iopub.status.busy": "2023-06-02T07:24:50.769263Z",
     "iopub.status.idle": "2023-06-02T07:24:50.780269Z",
     "shell.execute_reply": "2023-06-02T07:24:50.779608Z"
    }
   },
   "outputs": [],
   "source": [
    "print(br.acronym2acronym('TH', mapping='Beryl'))"
   ]
  },
  {
   "cell_type": "markdown",
   "id": "607f1e1b",
   "metadata": {},
   "source": [
    "## Lateralisation\n",
    "Lateralised versions of each of the three mappings are also available. This allow regions on the left and right hemispheres of the brain to be differentiated. \n",
    "\n",
    "The convention used is that regions in the left hemisphere have negative atlas ids whereas those on the right hemisphere have positive atlas ids.\n",
    "\n",
    "For the non lateralised mappings the atlas id is always positive regardless of whether the region lies in the left or right hemisphere. Aggregating values over regions could result, therefore, in values from different hemispheres being considered together.\n",
    "\n",
    "One thing to be aware of, is that while lateralised mappings return distinct atlas ids for the left and right hemispheres, the acronyms returned are not lateralised. \n",
    "\n",
    "For example consider findng the atlas id when mapping the acronym **MDm** onto the Beryl atlas. When specifying the left hemisphere, the returned atlas id is negative"
   ]
  },
  {
   "cell_type": "code",
   "execution_count": null,
   "id": "30f5e956",
   "metadata": {
    "execution": {
     "iopub.execute_input": "2023-06-02T07:24:50.782829Z",
     "iopub.status.busy": "2023-06-02T07:24:50.782616Z",
     "iopub.status.idle": "2023-06-02T07:24:50.793622Z",
     "shell.execute_reply": "2023-06-02T07:24:50.792988Z"
    }
   },
   "outputs": [],
   "source": [
    "# Left hemisphere gives negative atlas id\n",
    "print(br.acronym2id('MDm', mapping='Beryl-lr', hemisphere='left'))"
   ]
  },
  {
   "cell_type": "markdown",
   "id": "aa94a06e",
   "metadata": {},
   "source": [
    "When specifying the right hemisphere, the returned atlas id is positive"
   ]
  },
  {
   "cell_type": "code",
   "execution_count": null,
   "id": "9125fc7c",
   "metadata": {
    "execution": {
     "iopub.execute_input": "2023-06-02T07:24:50.796876Z",
     "iopub.status.busy": "2023-06-02T07:24:50.796672Z",
     "iopub.status.idle": "2023-06-02T07:24:50.807615Z",
     "shell.execute_reply": "2023-06-02T07:24:50.806995Z"
    }
   },
   "outputs": [],
   "source": [
    "# Left hemisphere gives negative atlas id\n",
    "print(br.acronym2id('MDm', mapping='Beryl-lr', hemisphere='right'))"
   ]
  },
  {
   "cell_type": "markdown",
   "id": "be5e0654",
   "metadata": {},
   "source": [
    "However, when converting from atlas id to acronym, regardless of whether we specify a negative (left hemisphere) or positive (right hemisphere) value, the returned acronym is always the same"
   ]
  },
  {
   "cell_type": "code",
   "execution_count": null,
   "id": "aaa8b3f5",
   "metadata": {
    "execution": {
     "iopub.execute_input": "2023-06-02T07:24:50.810810Z",
     "iopub.status.busy": "2023-06-02T07:24:50.810598Z",
     "iopub.status.idle": "2023-06-02T07:24:50.814860Z",
     "shell.execute_reply": "2023-06-02T07:24:50.814231Z"
    }
   },
   "outputs": [],
   "source": [
    "print(br.id2acronym(-362, mapping='Beryl-lr'))"
   ]
  },
  {
   "cell_type": "code",
   "execution_count": null,
   "id": "77291362",
   "metadata": {
    "execution": {
     "iopub.execute_input": "2023-06-02T07:24:50.818563Z",
     "iopub.status.busy": "2023-06-02T07:24:50.818347Z",
     "iopub.status.idle": "2023-06-02T07:24:50.822438Z",
     "shell.execute_reply": "2023-06-02T07:24:50.821883Z"
    }
   },
   "outputs": [],
   "source": [
    "print(br.id2acronym(362, mapping='Beryl-lr'))"
   ]
  },
  {
   "cell_type": "markdown",
   "id": "6dc83925",
   "metadata": {},
   "source": [
    "## How to map your data"
   ]
  },
  {
   "cell_type": "markdown",
   "id": "9606cc0b",
   "metadata": {},
   "source": [
    "### Mapping from mlapdv coordinates\n",
    "The recommended and most versatile way to find the locations of clusters under different mappings is to use the mlapdv coordinates of the clusters. Given a probe insertion id, the clusters object can be loaded in using the following code"
   ]
  },
  {
   "cell_type": "code",
   "execution_count": null,
   "id": "bc33122d",
   "metadata": {
    "execution": {
     "iopub.execute_input": "2023-06-02T07:24:50.826325Z",
     "iopub.status.busy": "2023-06-02T07:24:50.826116Z",
     "iopub.status.idle": "2023-06-02T07:24:54.690442Z",
     "shell.execute_reply": "2023-06-02T07:24:54.689707Z"
    }
   },
   "outputs": [],
   "source": [
    "from brainbox.io.one import SpikeSortingLoader\n",
    "from one.api import ONE\n",
    "one = ONE()\n",
    "\n",
    "pid = 'da8dfec1-d265-44e8-84ce-6ae9c109b8bd'\n",
    "\n",
    "sl = SpikeSortingLoader(pid=pid, one=one, atlas=ba)\n",
    "spikes, clusters, channels = sl.load_spike_sorting()\n",
    "clusters = sl.merge_clusters(spikes, clusters, channels)"
   ]
  },
  {
   "cell_type": "markdown",
   "id": "2a274d98",
   "metadata": {},
   "source": [
    "You will find that the cluster object returned already contains an atlas_id attribute. These are the atlas ids that are obtained using the default mapping - **non lateralised Allen**. For this mapping regardless of whether the clusters lie in the right or left hemisphere the clusters are assigned positive atlas ids"
   ]
  },
  {
   "cell_type": "code",
   "execution_count": null,
   "id": "03881f96",
   "metadata": {
    "execution": {
     "iopub.execute_input": "2023-06-02T07:24:54.694296Z",
     "iopub.status.busy": "2023-06-02T07:24:54.693644Z",
     "iopub.status.idle": "2023-06-02T07:24:54.698457Z",
     "shell.execute_reply": "2023-06-02T07:24:54.697846Z"
    }
   },
   "outputs": [],
   "source": [
    "print(clusters['atlas_id'][0:10])"
   ]
  },
  {
   "cell_type": "markdown",
   "id": "2170a215",
   "metadata": {},
   "source": [
    "We can obtain the mlapdv coordinates of the clusters and explore in which hemisphere the clusters lie, clusters with negative x lie on the left hemisphere."
   ]
  },
  {
   "cell_type": "code",
   "execution_count": null,
   "id": "74617c4b",
   "metadata": {
    "execution": {
     "iopub.execute_input": "2023-06-02T07:24:54.701105Z",
     "iopub.status.busy": "2023-06-02T07:24:54.700762Z",
     "iopub.status.idle": "2023-06-02T07:24:54.705513Z",
     "shell.execute_reply": "2023-06-02T07:24:54.704876Z"
    }
   },
   "outputs": [],
   "source": [
    "import numpy as np\n",
    "mlapdv = np.c_[clusters['x'], clusters['y'], clusters['z']] # x = ml, y = ap, z = dv\n",
    "clus_LH = np.sum(mlapdv[:, 0] < 0)\n",
    "clus_RH = np.sum(mlapdv[:, 0] > 0)\n",
    "print(f'Total clusters = {len(mlapdv)}, LH clusters = {clus_LH}, RH clusters = {clus_RH}')"
   ]
  },
  {
   "cell_type": "markdown",
   "id": "ac3c4252",
   "metadata": {},
   "source": [
    "To get a better understanding of the difference between using lateralised and non-lateralised mappings, let's also make a manipulated version of the mlapdv positions where the first 5 clusters have been moved into the right hemisphere and call this `mlapdv_rh`"
   ]
  },
  {
   "cell_type": "code",
   "execution_count": null,
   "id": "7e2c981f",
   "metadata": {
    "execution": {
     "iopub.execute_input": "2023-06-02T07:24:54.709313Z",
     "iopub.status.busy": "2023-06-02T07:24:54.708969Z",
     "iopub.status.idle": "2023-06-02T07:24:54.713492Z",
     "shell.execute_reply": "2023-06-02T07:24:54.712867Z"
    }
   },
   "outputs": [],
   "source": [
    "mlapdv_rh = np.copy(mlapdv)\n",
    "mlapdv_rh[0:5, 0] = -1 * mlapdv_rh[0:5, 0]\n",
    "clus_LH = np.sum(mlapdv_rh[:, 0] < 0)\n",
    "clus_RH = np.sum(mlapdv_rh[:, 0] > 0)\n",
    "print(f'Total clusters = {len(mlapdv_rh)}, LH clusters = {clus_LH}, RH clusters = {clus_RH}')"
   ]
  },
  {
   "cell_type": "markdown",
   "id": "a1323aed",
   "metadata": {},
   "source": [
    "To find the locations of the clusters in the brain from the mlapdv position we can use the [get_labels](https://int-brain-lab.github.io/iblenv/_autosummary/ibllib.atlas.atlas.html#ibllib.atlas.atlas.BrainAtlas.get_labels) method in the AllenAtlas object. First let's explore the output of using a non lateralised mapping."
   ]
  },
  {
   "cell_type": "code",
   "execution_count": null,
   "id": "d332a29a",
   "metadata": {
    "execution": {
     "iopub.execute_input": "2023-06-02T07:24:54.716783Z",
     "iopub.status.busy": "2023-06-02T07:24:54.716440Z",
     "iopub.status.idle": "2023-06-02T07:24:54.721578Z",
     "shell.execute_reply": "2023-06-02T07:24:54.720926Z"
    }
   },
   "outputs": [],
   "source": [
    "atlas_id_Allen = ba.get_labels(mlapdv, mapping='Allen')\n",
    "atlas_id_Allen_rh = ba.get_labels(mlapdv_rh, mapping='Allen')\n",
    "print(f'Non-lateralised Allen mapping ids using mlapdv: {atlas_id_Allen[0:10]}')\n",
    "print(f'Non-lateralised Allen mapping ids using mlapdv_rh: {atlas_id_Allen_rh[0:10]}')"
   ]
  },
  {
   "cell_type": "markdown",
   "id": "5a2a5225",
   "metadata": {},
   "source": [
    "Notice that regardless of whether the clusters lie in the left or right hemisphere the sign of the atlas id is the same. The result of this mapping is also equivalent the default output from `clusters['atlas_id']`"
   ]
  },
  {
   "cell_type": "code",
   "execution_count": null,
   "id": "76664a2d",
   "metadata": {
    "execution": {
     "iopub.execute_input": "2023-06-02T07:24:54.724193Z",
     "iopub.status.busy": "2023-06-02T07:24:54.723842Z",
     "iopub.status.idle": "2023-06-02T07:24:54.728330Z",
     "shell.execute_reply": "2023-06-02T07:24:54.727667Z"
    }
   },
   "outputs": [],
   "source": [
    "np.array_equal(clusters['atlas_id'], atlas_id_Allen)"
   ]
  },
  {
   "cell_type": "markdown",
   "id": "185f9f6b",
   "metadata": {},
   "source": [
    "Now if we use the lateralised mapping, we notice that the clusters in the left hemisphere have been assigned negative atlas ids whereas those in the right hemisphere have positive atlas ids"
   ]
  },
  {
   "cell_type": "code",
   "execution_count": null,
   "id": "af431f8d",
   "metadata": {
    "execution": {
     "iopub.execute_input": "2023-06-02T07:24:54.731460Z",
     "iopub.status.busy": "2023-06-02T07:24:54.731130Z",
     "iopub.status.idle": "2023-06-02T07:24:54.736285Z",
     "shell.execute_reply": "2023-06-02T07:24:54.735646Z"
    }
   },
   "outputs": [],
   "source": [
    "atlas_id_Allen = ba.get_labels(mlapdv, mapping='Allen-lr')\n",
    "atlas_id_Allen_rh = ba.get_labels(mlapdv_rh, mapping='Allen-lr')\n",
    "print(f'Lateralised Allen mapping ids using mlapdv: {atlas_id_Allen[0:10]}')\n",
    "print(f'Lateralised Allen mapping ids using mlapdv_rh: {atlas_id_Allen_rh[0:10]}')"
   ]
  },
  {
   "cell_type": "markdown",
   "id": "b0a09001",
   "metadata": {},
   "source": [
    "By changing the mapping argument that we pass in, we can also easily obtain the atlas ids for the Beryl and Cosmos mappings"
   ]
  },
  {
   "cell_type": "code",
   "execution_count": null,
   "id": "91143d6a",
   "metadata": {
    "execution": {
     "iopub.execute_input": "2023-06-02T07:24:54.738993Z",
     "iopub.status.busy": "2023-06-02T07:24:54.738662Z",
     "iopub.status.idle": "2023-06-02T07:24:54.745008Z",
     "shell.execute_reply": "2023-06-02T07:24:54.744358Z"
    }
   },
   "outputs": [],
   "source": [
    "atlas_id_Beryl = ba.get_labels(mlapdv_rh, mapping='Beryl-lr')\n",
    "atlas_id_Cosmos = ba.get_labels(mlapdv_rh, mapping='Cosmos')\n",
    "print(f'Lateralised Beryl mapping ids using mlapdv_rh: {atlas_id_Beryl[0:10]}')\n",
    "print(f'Non-lateralised Cosmos mapping ids using mlapdv_rh: {atlas_id_Cosmos[0:10]}')"
   ]
  },
  {
   "cell_type": "markdown",
   "id": "c229e12d",
   "metadata": {},
   "source": [
    "### Mapping from atlas ids\n",
    "Methods are available that allow you to translate atlas ids from one mapping to another. "
   ]
  },
  {
   "cell_type": "code",
   "execution_count": null,
   "id": "8be221d9",
   "metadata": {
    "execution": {
     "iopub.execute_input": "2023-06-02T07:24:54.747916Z",
     "iopub.status.busy": "2023-06-02T07:24:54.747318Z",
     "iopub.status.idle": "2023-06-02T07:24:54.753720Z",
     "shell.execute_reply": "2023-06-02T07:24:54.753077Z"
    }
   },
   "outputs": [],
   "source": [
    "# map atlas ids from lateralised Allen to lateralised Beryl\n",
    "atlas_id_Allen = ba.get_labels(mlapdv_rh, mapping='Allen-lr') # lateralised Allen\n",
    "\n",
    "remap_beryl = br.id2id(atlas_id_Allen, mapping='Beryl-lr')\n",
    "print(f'Lateralised Beryl mapping ids using remap: {remap_beryl[0:10]}')\n",
    "\n",
    "# map atlas ids from lateralised Allen to non-lateralised Cosmos\n",
    "remap_cosmos = br.id2id(atlas_id_Allen_rh, mapping='Cosmos')\n",
    "print(f'Non-lateralised Cosmos mapping ids using remap: {remap_cosmos[0:10]}')"
   ]
  },
  {
   "cell_type": "markdown",
   "id": "2cf81730",
   "metadata": {},
   "source": [
    "When remapping with atlas ids it is not possible to map from \n",
    "\n",
    "1. A non-lateralised to a lateralised mapping. \n",
    "2. From a higher mapping to a lower one (e.g cannot map from Beryl to Allen, or Cosmos to Allen)\n",
    "3. From Beryl to Cosmos\n",
    "\n",
    "This is why it is recommened to use mlapdv coordinates for remappings as it allows complete flexibility"
   ]
  },
  {
   "cell_type": "markdown",
   "id": "ec294cf4",
   "metadata": {},
   "source": [
    "### Converting to acronyms\n",
    "Methods are available to convert between atlas ids and acronyms. Note that when converting to acronyms, even if the atlas ids are lateralised the returned acronyms are not"
   ]
  },
  {
   "cell_type": "code",
   "execution_count": null,
   "id": "7f9428b9",
   "metadata": {
    "execution": {
     "iopub.execute_input": "2023-06-02T07:24:54.756375Z",
     "iopub.status.busy": "2023-06-02T07:24:54.756032Z",
     "iopub.status.idle": "2023-06-02T07:24:54.762852Z",
     "shell.execute_reply": "2023-06-02T07:24:54.762238Z"
    }
   },
   "outputs": [],
   "source": [
    "atlas_id_Allen = ba.get_labels(mlapdv_rh, mapping='Allen-lr') # lateralised Allen\n",
    "acronym_Allen = br.id2acronym(atlas_id_Allen, mapping='Allen-lr')\n",
    "print(f'Acronyms of lateralised Allen ids: {acronym_Allen[0:10]}')\n",
    "\n",
    "atlas_id_Allen = ba.get_labels(mlapdv_rh, mapping='Allen-lr') # Non-ateralised Allen\n",
    "acronym_Allen = br.id2acronym(atlas_id_Allen)\n",
    "print(f'Acronyms of non-lateralised Allen: {acronym_Allen[0:10]}')"
   ]
  },
  {
   "cell_type": "markdown",
   "id": "7cd9eb73",
   "metadata": {},
   "source": [
    "It is also possible to simultaneously remap the acronyms with these methods"
   ]
  },
  {
   "cell_type": "code",
   "execution_count": null,
   "id": "0f82948f",
   "metadata": {
    "execution": {
     "iopub.execute_input": "2023-06-02T07:24:54.765488Z",
     "iopub.status.busy": "2023-06-02T07:24:54.765143Z",
     "iopub.status.idle": "2023-06-02T07:24:54.769657Z",
     "shell.execute_reply": "2023-06-02T07:24:54.769021Z"
    }
   },
   "outputs": [],
   "source": [
    "acronym_Cosmos = br.id2acronym(atlas_id_Allen, mapping='Cosmos-lr')\n",
    "print(acronym_Cosmos[0:10])"
   ]
  }
 ],
 "metadata": {
  "docs_executed": "executed",
  "kernelspec": {
   "display_name": "Python [conda env:iblenv] *",
   "language": "python",
   "name": "conda-env-iblenv-py"
  },
  "language_info": {
   "codemirror_mode": {
    "name": "ipython",
    "version": 3
   },
   "file_extension": ".py",
   "mimetype": "text/x-python",
   "name": "python",
   "nbconvert_exporter": "python",
   "pygments_lexer": "ipython3",
   "version": "3.9.16"
  }
 },
 "nbformat": 4,
 "nbformat_minor": 5
}
