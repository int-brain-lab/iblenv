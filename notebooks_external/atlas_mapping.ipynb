{
 "cells": [
  {
   "cell_type": "markdown",
   "id": "b8ea3853",
   "metadata": {},
   "source": [
    "# Atlas mapping"
   ]
  },
  {
   "cell_type": "code",
   "execution_count": null,
   "id": "2dae63ed",
   "metadata": {
    "execution": {
     "iopub.execute_input": "2024-07-02T14:11:32.050228Z",
     "iopub.status.busy": "2024-07-02T14:11:32.050030Z",
     "iopub.status.idle": "2024-07-02T14:11:33.671314Z",
     "shell.execute_reply": "2024-07-02T14:11:33.670582Z"
    }
   },
   "outputs": [],
   "source": [
    "# import brain atlas and brain regions objects\n",
    "from iblatlas.atlas import AllenAtlas\n",
    "from iblatlas.regions import BrainRegions\n",
    "ba = AllenAtlas()\n",
    "br = BrainRegions() # br is also an attribute of ba so could to br = ba.regions"
   ]
  },
  {
   "cell_type": "markdown",
   "id": "279114b7",
   "metadata": {},
   "source": [
    "## Available Mappings\n",
    "Four mappings are currently available within the IBL, these are:\n",
    "\n",
    "1. Allen Atlas - total of 1328 annotation regions provided by Allen Atlas\n",
    "2. Beryl Atlas - total of 308 annotation regions\n",
    "3. Cosmos Atlas - total of 12 annotation regions\n",
    "4. Swanson Atlas - total of 319 annotation regions (*)\n",
    "\n",
    "(*) Note: The dedicated mapping for plotting on Swanson flatmap is explained in this [webpage](https://int-brain-lab.github.io/iblenv/notebooks_external/atlas_swanson_flatmap.html)."
   ]
  },
  {
   "cell_type": "code",
   "execution_count": null,
   "id": "3c9d922c",
   "metadata": {
    "execution": {
     "iopub.execute_input": "2024-07-02T14:11:33.674497Z",
     "iopub.status.busy": "2024-07-02T14:11:33.674014Z",
     "iopub.status.idle": "2024-07-02T14:11:34.050425Z",
     "shell.execute_reply": "2024-07-02T14:11:34.049715Z"
    },
    "pycharm": {
     "is_executing": true
    }
   },
   "outputs": [],
   "source": [
    "# create figure\n",
    "import matplotlib.pyplot as plt\n",
    "fig, axs = plt.subplots(1, 3, figsize=(15, 18))\n",
    "\n",
    "# plot coronal slice at ap = -2000 um\n",
    "ap = -2000 / 1e6\n",
    "# Allen mapping\n",
    "ba.plot_cslice(ap, volume='annotation', mapping='Allen', ax=axs[0])\n",
    "_ = axs[0].set_title('Allen')\n",
    "# Beryl mapping\n",
    "ba.plot_cslice(ap, volume='annotation', mapping='Beryl', ax=axs[1])\n",
    "_ = axs[1].set_title('Beryl')\n",
    "# Cosmos mapping\n",
    "ba.plot_cslice(ap, volume='annotation', mapping='Cosmos', ax=axs[2])\n",
    "_ = axs[2].set_title('Cosmos')"
   ]
  },
  {
   "cell_type": "markdown",
   "id": "7aec0a3a",
   "metadata": {
    "collapsed": false
   },
   "source": [
    "The `br.mappings` contains the `index` of the region for a given mapping.\n",
    "You can use these indices to find for example the acronyms contained in Cosmos:"
   ]
  },
  {
   "cell_type": "code",
   "execution_count": null,
   "id": "f71464a3",
   "metadata": {
    "execution": {
     "iopub.execute_input": "2024-07-02T14:11:34.053232Z",
     "iopub.status.busy": "2024-07-02T14:11:34.052744Z",
     "iopub.status.idle": "2024-07-02T14:11:34.057614Z",
     "shell.execute_reply": "2024-07-02T14:11:34.057027Z"
    },
    "pycharm": {
     "name": "#%%\n"
    }
   },
   "outputs": [],
   "source": [
    "import numpy as np\n",
    "cosmos_indices = np.unique(br.mappings['Cosmos'])\n",
    "br.acronym[cosmos_indices]"
   ]
  },
  {
   "cell_type": "markdown",
   "id": "595936a6",
   "metadata": {
    "collapsed": false
   },
   "source": [
    "You can check that all brain regions within these 4 mappings are contained in the Allen parcellation, for example for Beryl:"
   ]
  },
  {
   "cell_type": "code",
   "execution_count": null,
   "id": "e7a881a0",
   "metadata": {
    "execution": {
     "iopub.execute_input": "2024-07-02T14:11:34.060007Z",
     "iopub.status.busy": "2024-07-02T14:11:34.059658Z",
     "iopub.status.idle": "2024-07-02T14:11:34.064306Z",
     "shell.execute_reply": "2024-07-02T14:11:34.063704Z"
    },
    "pycharm": {
     "name": "#%%\n"
    }
   },
   "outputs": [],
   "source": [
    "set(np.unique(br.mappings['Beryl'])).difference(set(np.unique(br.mappings['Allen'])))\n",
    "# Expect to return an empty set"
   ]
  },
  {
   "cell_type": "markdown",
   "id": "a8460f28",
   "metadata": {},
   "source": [
    "## Understanding the mappings\n",
    "The mappings store the highest level annotation (or parent node) that should be considered. Any regions that are children of these nodes are assigned the same annotation as their parent. \n",
    "\n",
    "For example, consider the region with the acronym **MDm** (Mediodorsal nucleus of the thalamus, medial part). Firstly, to navigate ourselves, we can find the acronyms of all the ancestors to this region,"
   ]
  },
  {
   "cell_type": "code",
   "execution_count": null,
   "id": "08393219",
   "metadata": {
    "execution": {
     "iopub.execute_input": "2024-07-02T14:11:34.066854Z",
     "iopub.status.busy": "2024-07-02T14:11:34.066509Z",
     "iopub.status.idle": "2024-07-02T14:11:34.078166Z",
     "shell.execute_reply": "2024-07-02T14:11:34.077617Z"
    }
   },
   "outputs": [],
   "source": [
    "# First find the atlas_id associated with acronym MDm\n",
    "atlas_id = br.acronym2id('MDm')\n",
    "# Then find the acronyms of the ancestors of this region\n",
    "print(br.ancestors(ids=atlas_id)['acronym'])"
   ]
  },
  {
   "cell_type": "markdown",
   "id": "9081a1b3",
   "metadata": {},
   "source": [
    "We can then take a look at what acronym this region will be assigned under the different mappings. Under the Allen mapping we expect it to be assigned the same acronym as this is the lowest level region parcelation that we use."
   ]
  },
  {
   "cell_type": "code",
   "execution_count": null,
   "id": "ef838f27",
   "metadata": {
    "execution": {
     "iopub.execute_input": "2024-07-02T14:11:34.080748Z",
     "iopub.status.busy": "2024-07-02T14:11:34.080233Z",
     "iopub.status.idle": "2024-07-02T14:11:34.090392Z",
     "shell.execute_reply": "2024-07-02T14:11:34.089828Z"
    }
   },
   "outputs": [],
   "source": [
    "print(br.acronym2acronym('MDm', mapping='Allen'))"
   ]
  },
  {
   "cell_type": "markdown",
   "id": "2cc3d224",
   "metadata": {},
   "source": [
    "Under the Beryl mapping, **MDm** is given the acronym of it's parent, **MD**"
   ]
  },
  {
   "cell_type": "code",
   "execution_count": null,
   "id": "3aa34ba5",
   "metadata": {
    "execution": {
     "iopub.execute_input": "2024-07-02T14:11:34.092765Z",
     "iopub.status.busy": "2024-07-02T14:11:34.092386Z",
     "iopub.status.idle": "2024-07-02T14:11:34.102206Z",
     "shell.execute_reply": "2024-07-02T14:11:34.101662Z"
    }
   },
   "outputs": [],
   "source": [
    "print(br.acronym2acronym('MDm', mapping='Beryl'))"
   ]
  },
  {
   "cell_type": "markdown",
   "id": "f574d115",
   "metadata": {},
   "source": [
    "Under the Cosmos mapping, it is assigned to the region **TH**"
   ]
  },
  {
   "cell_type": "code",
   "execution_count": null,
   "id": "f74fa398",
   "metadata": {
    "execution": {
     "iopub.execute_input": "2024-07-02T14:11:34.104498Z",
     "iopub.status.busy": "2024-07-02T14:11:34.104144Z",
     "iopub.status.idle": "2024-07-02T14:11:34.114034Z",
     "shell.execute_reply": "2024-07-02T14:11:34.113378Z"
    }
   },
   "outputs": [],
   "source": [
    "print(br.acronym2acronym('MDm', mapping='Cosmos'))"
   ]
  },
  {
   "cell_type": "markdown",
   "id": "4f472ab2",
   "metadata": {
    "collapsed": false
   },
   "source": [
    "Under the Swanson mapping, it is assigned to the region **MD**"
   ]
  },
  {
   "cell_type": "code",
   "execution_count": null,
   "id": "628e543b",
   "metadata": {
    "execution": {
     "iopub.execute_input": "2024-07-02T14:11:34.116572Z",
     "iopub.status.busy": "2024-07-02T14:11:34.116189Z",
     "iopub.status.idle": "2024-07-02T14:11:34.126232Z",
     "shell.execute_reply": "2024-07-02T14:11:34.125603Z"
    },
    "pycharm": {
     "name": "#%%\n"
    }
   },
   "outputs": [],
   "source": [
    "print(br.acronym2acronym('MDm', mapping='Swanson'))"
   ]
  },
  {
   "cell_type": "markdown",
   "id": "23ed91cb",
   "metadata": {},
   "source": [
    "Therefore any clusters that are assigned an acronym **MDm** in the Allen mapping, will instead be assigned to the region **MD** in the Beryl or Swanson mapping, and **TH** in the Cosmos mapping."
   ]
  },
  {
   "cell_type": "markdown",
   "id": "509bcee9",
   "metadata": {},
   "source": [
    "If a region is above (i.e. parent) of what is included in a mapping, the value for this region is set to root. For example **TH** is not included in the Beryl nor Swanson mapping"
   ]
  },
  {
   "cell_type": "code",
   "execution_count": null,
   "id": "76962ae7",
   "metadata": {
    "execution": {
     "iopub.execute_input": "2024-07-02T14:11:34.128625Z",
     "iopub.status.busy": "2024-07-02T14:11:34.128247Z",
     "iopub.status.idle": "2024-07-02T14:11:34.138031Z",
     "shell.execute_reply": "2024-07-02T14:11:34.137497Z"
    }
   },
   "outputs": [],
   "source": [
    "print(br.acronym2acronym('TH', mapping='Beryl'))"
   ]
  },
  {
   "cell_type": "code",
   "execution_count": null,
   "id": "c697d716",
   "metadata": {
    "execution": {
     "iopub.execute_input": "2024-07-02T14:11:34.140352Z",
     "iopub.status.busy": "2024-07-02T14:11:34.139994Z",
     "iopub.status.idle": "2024-07-02T14:11:34.149776Z",
     "shell.execute_reply": "2024-07-02T14:11:34.149161Z"
    },
    "pycharm": {
     "name": "#%%\n"
    }
   },
   "outputs": [],
   "source": [
    "print(br.acronym2acronym('TH', mapping='Swanson'))"
   ]
  },
  {
   "cell_type": "markdown",
   "id": "7360b9e5",
   "metadata": {
    "collapsed": false
   },
   "source": [
    "However, a child region that is not included in the mapping will be returned as its closest parent in the mapping. For example, VISa is not included in Swanson, but its parent PLTp is:"
   ]
  },
  {
   "cell_type": "code",
   "execution_count": null,
   "id": "d7f762fc",
   "metadata": {
    "execution": {
     "iopub.execute_input": "2024-07-02T14:11:34.152105Z",
     "iopub.status.busy": "2024-07-02T14:11:34.151737Z",
     "iopub.status.idle": "2024-07-02T14:11:34.162230Z",
     "shell.execute_reply": "2024-07-02T14:11:34.161646Z"
    },
    "pycharm": {
     "name": "#%%\n"
    }
   },
   "outputs": [],
   "source": [
    "print(br.acronym2acronym('VISa', mapping='Swanson'))"
   ]
  },
  {
   "cell_type": "markdown",
   "id": "384ab414",
   "metadata": {
    "collapsed": false
   },
   "source": []
  },
  {
   "cell_type": "markdown",
   "id": "607f1e1b",
   "metadata": {},
   "source": [
    "## Lateralisation\n",
    "Lateralised versions of each of the three mappings are also available. This allow regions on the left and right hemispheres of the brain to be differentiated. \n",
    "\n",
    "The convention used is that regions in the left hemisphere have negative atlas ids whereas those on the right hemisphere have positive atlas ids.\n",
    "\n",
    "For the non lateralised mappings the atlas id is always positive regardless of whether the region lies in the left or right hemisphere. Aggregating values over regions could result, therefore, in values from different hemispheres being considered together.\n",
    "\n",
    "One thing to be aware of, is that while lateralised mappings return distinct atlas ids for the left and right hemispheres, the acronyms returned are not lateralised. \n",
    "\n",
    "For example consider finding the atlas id when mapping the acronym **MDm** onto the Beryl atlas. When specifying the left hemisphere, the returned atlas id is negative"
   ]
  },
  {
   "cell_type": "code",
   "execution_count": null,
   "id": "30f5e956",
   "metadata": {
    "execution": {
     "iopub.execute_input": "2024-07-02T14:11:34.164703Z",
     "iopub.status.busy": "2024-07-02T14:11:34.164340Z",
     "iopub.status.idle": "2024-07-02T14:11:34.174234Z",
     "shell.execute_reply": "2024-07-02T14:11:34.173682Z"
    }
   },
   "outputs": [],
   "source": [
    "# Left hemisphere gives negative atlas id\n",
    "print(br.acronym2id('MDm', mapping='Beryl-lr', hemisphere='left'))"
   ]
  },
  {
   "cell_type": "markdown",
   "id": "aa94a06e",
   "metadata": {},
   "source": [
    "When specifying the right hemisphere, the returned atlas id is positive"
   ]
  },
  {
   "cell_type": "code",
   "execution_count": null,
   "id": "9125fc7c",
   "metadata": {
    "execution": {
     "iopub.execute_input": "2024-07-02T14:11:34.176576Z",
     "iopub.status.busy": "2024-07-02T14:11:34.176199Z",
     "iopub.status.idle": "2024-07-02T14:11:34.186402Z",
     "shell.execute_reply": "2024-07-02T14:11:34.185901Z"
    }
   },
   "outputs": [],
   "source": [
    "# Left hemisphere gives negative atlas id\n",
    "print(br.acronym2id('MDm', mapping='Beryl-lr', hemisphere='right'))"
   ]
  },
  {
   "cell_type": "markdown",
   "id": "be5e0654",
   "metadata": {},
   "source": [
    "However, when converting from atlas id to acronym, regardless of whether we specify a negative (left hemisphere) or positive (right hemisphere) value, the returned acronym is always the same"
   ]
  },
  {
   "cell_type": "code",
   "execution_count": null,
   "id": "aaa8b3f5",
   "metadata": {
    "execution": {
     "iopub.execute_input": "2024-07-02T14:11:34.188892Z",
     "iopub.status.busy": "2024-07-02T14:11:34.188523Z",
     "iopub.status.idle": "2024-07-02T14:11:34.192584Z",
     "shell.execute_reply": "2024-07-02T14:11:34.192028Z"
    }
   },
   "outputs": [],
   "source": [
    "print(br.id2acronym(-362, mapping='Beryl-lr'))"
   ]
  },
  {
   "cell_type": "code",
   "execution_count": null,
   "id": "77291362",
   "metadata": {
    "execution": {
     "iopub.execute_input": "2024-07-02T14:11:34.194904Z",
     "iopub.status.busy": "2024-07-02T14:11:34.194528Z",
     "iopub.status.idle": "2024-07-02T14:11:34.198385Z",
     "shell.execute_reply": "2024-07-02T14:11:34.197757Z"
    }
   },
   "outputs": [],
   "source": [
    "print(br.id2acronym(362, mapping='Beryl-lr'))"
   ]
  },
  {
   "cell_type": "markdown",
   "id": "6dc83925",
   "metadata": {},
   "source": [
    "## How to map your data"
   ]
  },
  {
   "cell_type": "markdown",
   "id": "9606cc0b",
   "metadata": {},
   "source": [
    "### Mapping from mlapdv coordinates\n",
    "The recommended and most versatile way to find the locations of clusters under different mappings is to use the mlapdv coordinates of the clusters. Given a probe insertion id, the clusters object can be loaded in using the following code"
   ]
  },
  {
   "cell_type": "code",
   "execution_count": null,
   "id": "bc33122d",
   "metadata": {
    "execution": {
     "iopub.execute_input": "2024-07-02T14:11:34.200764Z",
     "iopub.status.busy": "2024-07-02T14:11:34.200389Z",
     "iopub.status.idle": "2024-07-02T14:11:37.589010Z",
     "shell.execute_reply": "2024-07-02T14:11:37.588370Z"
    }
   },
   "outputs": [],
   "source": [
    "from brainbox.io.one import SpikeSortingLoader\n",
    "from one.api import ONE\n",
    "one = ONE()\n",
    "\n",
    "pid = 'da8dfec1-d265-44e8-84ce-6ae9c109b8bd'\n",
    "\n",
    "sl = SpikeSortingLoader(pid=pid, one=one, atlas=ba)\n",
    "spikes, clusters, channels = sl.load_spike_sorting()\n",
    "clusters = sl.merge_clusters(spikes, clusters, channels)"
   ]
  },
  {
   "cell_type": "markdown",
   "id": "2a274d98",
   "metadata": {},
   "source": [
    "You will find that the cluster object returned already contains an atlas_id attribute. These are the atlas ids that are obtained using the default mapping - **non lateralised Allen**. For this mapping regardless of whether the clusters lie in the right or left hemisphere the clusters are assigned positive atlas ids"
   ]
  },
  {
   "cell_type": "code",
   "execution_count": null,
   "id": "03881f96",
   "metadata": {
    "execution": {
     "iopub.execute_input": "2024-07-02T14:11:37.592100Z",
     "iopub.status.busy": "2024-07-02T14:11:37.591686Z",
     "iopub.status.idle": "2024-07-02T14:11:37.595764Z",
     "shell.execute_reply": "2024-07-02T14:11:37.595048Z"
    }
   },
   "outputs": [],
   "source": [
    "print(clusters['atlas_id'][0:10])"
   ]
  },
  {
   "cell_type": "markdown",
   "id": "2170a215",
   "metadata": {},
   "source": [
    "We can obtain the mlapdv coordinates of the clusters and explore in which hemisphere the clusters lie, clusters with negative x lie on the left hemisphere."
   ]
  },
  {
   "cell_type": "code",
   "execution_count": null,
   "id": "74617c4b",
   "metadata": {
    "execution": {
     "iopub.execute_input": "2024-07-02T14:11:37.598011Z",
     "iopub.status.busy": "2024-07-02T14:11:37.597794Z",
     "iopub.status.idle": "2024-07-02T14:11:37.602257Z",
     "shell.execute_reply": "2024-07-02T14:11:37.601648Z"
    }
   },
   "outputs": [],
   "source": [
    "import numpy as np\n",
    "mlapdv = np.c_[clusters['x'], clusters['y'], clusters['z']] # x = ml, y = ap, z = dv\n",
    "clus_LH = np.sum(mlapdv[:, 0] < 0)\n",
    "clus_RH = np.sum(mlapdv[:, 0] > 0)\n",
    "print(f'Total clusters = {len(mlapdv)}, LH clusters = {clus_LH}, RH clusters = {clus_RH}')"
   ]
  },
  {
   "cell_type": "markdown",
   "id": "ac3c4252",
   "metadata": {},
   "source": [
    "To get a better understanding of the difference between using lateralised and non-lateralised mappings, let's also make a manipulated version of the mlapdv positions where the first 5 clusters have been moved into the right hemisphere and call this `mlapdv_rh`"
   ]
  },
  {
   "cell_type": "code",
   "execution_count": null,
   "id": "7e2c981f",
   "metadata": {
    "execution": {
     "iopub.execute_input": "2024-07-02T14:11:37.604522Z",
     "iopub.status.busy": "2024-07-02T14:11:37.604184Z",
     "iopub.status.idle": "2024-07-02T14:11:37.608507Z",
     "shell.execute_reply": "2024-07-02T14:11:37.607865Z"
    }
   },
   "outputs": [],
   "source": [
    "mlapdv_rh = np.copy(mlapdv)\n",
    "mlapdv_rh[0:5, 0] = -1 * mlapdv_rh[0:5, 0]\n",
    "clus_LH = np.sum(mlapdv_rh[:, 0] < 0)\n",
    "clus_RH = np.sum(mlapdv_rh[:, 0] > 0)\n",
    "print(f'Total clusters = {len(mlapdv_rh)}, LH clusters = {clus_LH}, RH clusters = {clus_RH}')"
   ]
  },
  {
   "cell_type": "markdown",
   "id": "a1323aed",
   "metadata": {},
   "source": [
    "To find the locations of the clusters in the brain from the mlapdv position we can use the [get_labels](https://int-brain-lab.github.io/iblenv/_autosummary/ibllib.atlas.atlas.html#ibllib.atlas.atlas.BrainAtlas.get_labels) method in the AllenAtlas object. First let's explore the output of using a non lateralised mapping."
   ]
  },
  {
   "cell_type": "code",
   "execution_count": null,
   "id": "d332a29a",
   "metadata": {
    "execution": {
     "iopub.execute_input": "2024-07-02T14:11:37.610918Z",
     "iopub.status.busy": "2024-07-02T14:11:37.610561Z",
     "iopub.status.idle": "2024-07-02T14:11:37.615472Z",
     "shell.execute_reply": "2024-07-02T14:11:37.614929Z"
    }
   },
   "outputs": [],
   "source": [
    "atlas_id_Allen = ba.get_labels(mlapdv, mapping='Allen')\n",
    "atlas_id_Allen_rh = ba.get_labels(mlapdv_rh, mapping='Allen')\n",
    "print(f'Non-lateralised Allen mapping ids using mlapdv: {atlas_id_Allen[0:10]}')\n",
    "print(f'Non-lateralised Allen mapping ids using mlapdv_rh: {atlas_id_Allen_rh[0:10]}')"
   ]
  },
  {
   "cell_type": "markdown",
   "id": "5a2a5225",
   "metadata": {},
   "source": [
    "Notice that regardless of whether the clusters lie in the left or right hemisphere the sign of the atlas id is the same. The result of this mapping is also equivalent the default output from `clusters['atlas_id']`"
   ]
  },
  {
   "cell_type": "code",
   "execution_count": null,
   "id": "76664a2d",
   "metadata": {
    "execution": {
     "iopub.execute_input": "2024-07-02T14:11:37.617824Z",
     "iopub.status.busy": "2024-07-02T14:11:37.617447Z",
     "iopub.status.idle": "2024-07-02T14:11:37.621673Z",
     "shell.execute_reply": "2024-07-02T14:11:37.621029Z"
    }
   },
   "outputs": [],
   "source": [
    "np.array_equal(clusters['atlas_id'], atlas_id_Allen)"
   ]
  },
  {
   "cell_type": "markdown",
   "id": "185f9f6b",
   "metadata": {},
   "source": [
    "Now if we use the lateralised mapping, we notice that the clusters in the left hemisphere have been assigned negative atlas ids whereas those in the right hemisphere have positive atlas ids"
   ]
  },
  {
   "cell_type": "code",
   "execution_count": null,
   "id": "af431f8d",
   "metadata": {
    "execution": {
     "iopub.execute_input": "2024-07-02T14:11:37.624191Z",
     "iopub.status.busy": "2024-07-02T14:11:37.623808Z",
     "iopub.status.idle": "2024-07-02T14:11:37.628753Z",
     "shell.execute_reply": "2024-07-02T14:11:37.628260Z"
    }
   },
   "outputs": [],
   "source": [
    "atlas_id_Allen = ba.get_labels(mlapdv, mapping='Allen-lr')\n",
    "atlas_id_Allen_rh = ba.get_labels(mlapdv_rh, mapping='Allen-lr')\n",
    "print(f'Lateralised Allen mapping ids using mlapdv: {atlas_id_Allen[0:10]}')\n",
    "print(f'Lateralised Allen mapping ids using mlapdv_rh: {atlas_id_Allen_rh[0:10]}')"
   ]
  },
  {
   "cell_type": "markdown",
   "id": "b0a09001",
   "metadata": {},
   "source": [
    "By changing the mapping argument that we pass in, we can also easily obtain the atlas ids for the Beryl and Cosmos mappings"
   ]
  },
  {
   "cell_type": "code",
   "execution_count": null,
   "id": "91143d6a",
   "metadata": {
    "execution": {
     "iopub.execute_input": "2024-07-02T14:11:37.631383Z",
     "iopub.status.busy": "2024-07-02T14:11:37.630828Z",
     "iopub.status.idle": "2024-07-02T14:11:37.635534Z",
     "shell.execute_reply": "2024-07-02T14:11:37.634918Z"
    }
   },
   "outputs": [],
   "source": [
    "atlas_id_Beryl = ba.get_labels(mlapdv_rh, mapping='Beryl-lr')\n",
    "atlas_id_Cosmos = ba.get_labels(mlapdv_rh, mapping='Cosmos')\n",
    "print(f'Lateralised Beryl mapping ids using mlapdv_rh: {atlas_id_Beryl[0:10]}')\n",
    "print(f'Non-lateralised Cosmos mapping ids using mlapdv_rh: {atlas_id_Cosmos[0:10]}')"
   ]
  },
  {
   "cell_type": "markdown",
   "id": "c229e12d",
   "metadata": {},
   "source": [
    "### Mapping from atlas ids\n",
    "Methods are available that allow you to translate atlas ids from one mapping to another. "
   ]
  },
  {
   "cell_type": "code",
   "execution_count": null,
   "id": "8be221d9",
   "metadata": {
    "execution": {
     "iopub.execute_input": "2024-07-02T14:11:37.637905Z",
     "iopub.status.busy": "2024-07-02T14:11:37.637534Z",
     "iopub.status.idle": "2024-07-02T14:11:37.643475Z",
     "shell.execute_reply": "2024-07-02T14:11:37.642973Z"
    }
   },
   "outputs": [],
   "source": [
    "# map atlas ids from lateralised Allen to lateralised Beryl\n",
    "atlas_id_Allen = ba.get_labels(mlapdv_rh, mapping='Allen-lr') # lateralised Allen\n",
    "\n",
    "remap_beryl = br.id2id(atlas_id_Allen, mapping='Beryl-lr')\n",
    "print(f'Lateralised Beryl mapping ids using remap: {remap_beryl[0:10]}')\n",
    "\n",
    "# map atlas ids from lateralised Allen to non-lateralised Cosmos\n",
    "remap_cosmos = br.id2id(atlas_id_Allen_rh, mapping='Cosmos')\n",
    "print(f'Non-lateralised Cosmos mapping ids using remap: {remap_cosmos[0:10]}')"
   ]
  },
  {
   "cell_type": "markdown",
   "id": "2cf81730",
   "metadata": {},
   "source": [
    "When remapping with atlas ids it is not possible to map from \n",
    "\n",
    "1. A non-lateralised to a lateralised mapping. \n",
    "2. From a higher mapping to a lower one (e.g cannot map from Beryl to Allen, or Cosmos to Allen)\n",
    "3. From Beryl to Cosmos\n",
    "\n",
    "This is why it is recommened to use mlapdv coordinates for remappings as it allows complete flexibility"
   ]
  },
  {
   "cell_type": "markdown",
   "id": "ec294cf4",
   "metadata": {},
   "source": [
    "### Converting to acronyms\n",
    "Methods are available to convert between atlas ids and acronyms. Note that when converting to acronyms, even if the atlas ids are lateralised the returned acronyms are not"
   ]
  },
  {
   "cell_type": "code",
   "execution_count": null,
   "id": "7f9428b9",
   "metadata": {
    "execution": {
     "iopub.execute_input": "2024-07-02T14:11:37.645971Z",
     "iopub.status.busy": "2024-07-02T14:11:37.645569Z",
     "iopub.status.idle": "2024-07-02T14:11:37.651660Z",
     "shell.execute_reply": "2024-07-02T14:11:37.651148Z"
    }
   },
   "outputs": [],
   "source": [
    "atlas_id_Allen = ba.get_labels(mlapdv_rh, mapping='Allen-lr') # lateralised Allen\n",
    "acronym_Allen = br.id2acronym(atlas_id_Allen, mapping='Allen-lr')\n",
    "print(f'Acronyms of lateralised Allen ids: {acronym_Allen[0:10]}')\n",
    "\n",
    "atlas_id_Allen = ba.get_labels(mlapdv_rh, mapping='Allen-lr') # Non-ateralised Allen\n",
    "acronym_Allen = br.id2acronym(atlas_id_Allen)\n",
    "print(f'Acronyms of non-lateralised Allen: {acronym_Allen[0:10]}')"
   ]
  },
  {
   "cell_type": "markdown",
   "id": "7cd9eb73",
   "metadata": {},
   "source": [
    "It is also possible to simultaneously remap the acronyms with these methods"
   ]
  },
  {
   "cell_type": "code",
   "execution_count": null,
   "id": "0f82948f",
   "metadata": {
    "execution": {
     "iopub.execute_input": "2024-07-02T14:11:37.654150Z",
     "iopub.status.busy": "2024-07-02T14:11:37.653627Z",
     "iopub.status.idle": "2024-07-02T14:11:37.657899Z",
     "shell.execute_reply": "2024-07-02T14:11:37.657258Z"
    }
   },
   "outputs": [],
   "source": [
    "acronym_Cosmos = br.id2acronym(atlas_id_Allen, mapping='Cosmos-lr')\n",
    "print(acronym_Cosmos[0:10])"
   ]
  }
 ],
 "metadata": {
  "docs_executed": "executed",
  "kernelspec": {
   "display_name": "Python [conda env:iblenv] *",
   "language": "python",
   "name": "conda-env-iblenv-py"
  },
  "language_info": {
   "codemirror_mode": {
    "name": "ipython",
    "version": 3
   },
   "file_extension": ".py",
   "mimetype": "text/x-python",
   "name": "python",
   "nbconvert_exporter": "python",
   "pygments_lexer": "ipython3",
   "version": "3.9.19"
  }
 },
 "nbformat": 4,
 "nbformat_minor": 5
}
