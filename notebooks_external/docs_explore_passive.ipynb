{
 "cells": [
  {
   "cell_type": "markdown",
   "metadata": {},
   "source": [
    "\n",
    "# Explore Passive Data\n",
    "This example shows how to load in passive data for a session and plot the receptive field map over\n",
    "depth\n"
   ]
  },
  {
   "cell_type": "code",
   "execution_count": null,
   "metadata": {
    "execution": {
     "iopub.execute_input": "2022-02-02T16:04:40.256654Z",
     "iopub.status.busy": "2022-02-02T16:04:40.256654Z",
     "iopub.status.idle": "2022-02-02T16:04:45.301290Z",
     "shell.execute_reply": "2022-02-02T16:04:45.301290Z"
    }
   },
   "outputs": [],
   "source": [
    "import matplotlib.pyplot as plt\n",
    "import numpy as np\n",
    "from one.api import ONE\n",
    "\n",
    "import brainbox.io.one as bbone\n",
    "import brainbox.task.passive as passive\n",
    "\n",
    "eid = '4ecb5d24-f5cc-402c-be28-9d0f7cb14b3a'\n",
    "probe = 'probe00'\n",
    "one = ONE(base_url='https://openalyx.internationalbrainlab.org', silent=True)\n",
    "\n",
    "# Load in the receptive field map data\n",
    "rf_map = bbone.load_passive_rfmap(eid, one=one)\n",
    "spike_times = one.load_dataset(eid, dataset='spikes.times.npy', collection=f'alf/{probe}')\n",
    "spike_depths = one.load_dataset(eid, dataset='spikes.depths.npy', collection=f'alf/{probe}')\n",
    "# Remove any nan depths\n",
    "kp_idx = np.where(~np.isnan(spike_depths))[0]\n",
    "spike_times = spike_times[kp_idx]\n",
    "spike_depths = spike_depths[kp_idx]\n",
    "# Pass this data into brainbox function to find out at what times each voxel on screen was\n",
    "# activated\n",
    "rf_stim_times, rf_stim_pos, rf_stim_frames = passive.get_on_off_times_and_positions(rf_map)\n",
    "\n",
    "# rf_stim_times - time of frame change\n",
    "# rf_stim_pos - position of each voxel on (15 x 15) screen\n",
    "# rf_stim_frames - frames at which stimulus was turned 'on' (grey to white) or 'off' (grey to\n",
    "#                   black) at each position on screen\n",
    "\n",
    "# For each position on screen compute average stim epoched activity across depth of probe\n",
    "rf_map_avg, _ = passive.get_rf_map_over_depth(rf_stim_times, rf_stim_pos, rf_stim_frames,\n",
    "                                              spike_times, spike_depths, t_bin=0.01,\n",
    "                                              d_bin=160, pre_stim=0.05, post_stim=1.5)\n",
    "\n",
    "# Take the SVD across to represent RF map across depth\n",
    "rf_svd = passive.get_svd_map(rf_map_avg)\n",
    "\n",
    "# Now we can plot the RF map for the on and off response\n",
    "on_rf_map = np.vstack(rf_svd['on'])\n",
    "off_rf_map = np.vstack(rf_svd['off'])\n",
    "\n",
    "fig, ax = plt.subplots(1, 2)\n",
    "depths = np.linspace(0, 3840, len(rf_svd['on']) + 1)\n",
    "ax[0].imshow(on_rf_map, extent=(0, 500, 0, 3840), origin='lower')\n",
    "ax[0].hlines(depths, *ax[0].get_xlim(), linewidth=1, colors='w')\n",
    "ax[0].get_xaxis().set_visible(False)\n",
    "ax[0].set_title('RF map On')\n",
    "ax[1].imshow(off_rf_map, extent=(0, 500, 0, 3840), origin='lower')\n",
    "ax[1].hlines(depths, *ax[1].get_xlim(), linewidth=1, colors='w')\n",
    "ax[1].get_xaxis().set_visible(False)\n",
    "ax[1].set_title('RF map Off')\n",
    "plt.show()"
   ]
  }
 ],
 "metadata": {
  "docs_executed": "executed",
  "kernelspec": {
   "display_name": "Python 3",
   "language": "python",
   "name": "python3"
  },
  "language_info": {
   "codemirror_mode": {
    "name": "ipython",
    "version": 3
   },
   "file_extension": ".py",
   "mimetype": "text/x-python",
   "name": "python",
   "nbconvert_exporter": "python",
   "pygments_lexer": "ipython3",
   "version": "3.9.7"
  }
 },
 "nbformat": 4,
 "nbformat_minor": 0
}
