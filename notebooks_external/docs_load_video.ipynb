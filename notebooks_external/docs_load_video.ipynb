{
 "cells": [
  {
   "cell_type": "markdown",
   "metadata": {},
   "source": [
    "\n",
    "# Get video frames and metadata\n",
    "Video frames and meta data can be loaded using the ibllib.io.video module, which contains\n",
    "functions for loading individual or groups of frames efficiently.  The video may be streamed\n",
    "remotely or loaded from a local file.  In these examples a remote URL is used.\n"
   ]
  },
  {
   "cell_type": "code",
   "execution_count": null,
   "metadata": {
    "execution": {
     "iopub.execute_input": "2022-01-20T10:11:30.173738Z",
     "iopub.status.busy": "2022-01-20T10:11:30.171737Z",
     "iopub.status.idle": "2022-01-20T10:12:18.904178Z",
     "shell.execute_reply": "2022-01-20T10:12:18.904178Z"
    }
   },
   "outputs": [],
   "source": [
    "import numpy as np\n",
    "from one.api import ONE\n",
    "\n",
    "import ibllib.io.video as vidio\n",
    "\n",
    "one = ONE(base_url='https://openalyx.internationalbrainlab.org', silent=True)\n",
    "eid = 'c7bd79c9-c47e-4ea5-aea3-74dda991b48e'  # 2020-09-19_1_CSH_ZAD_029\n",
    "\n",
    "# Example 1: get the remote video URL from eid\n",
    "urls = vidio.url_from_eid(eid, one=one)\n",
    "# Without the `label` kwarg, returns a dictionary of camera URLs\n",
    "url = urls['left']  # URL for the left camera\n",
    "\n",
    "# Example 2: get the video label from a video file path or URL\n",
    "label = vidio.label_from_path(url)\n",
    "print(f'Using URL for the {label} camera')\n",
    "\n",
    "# Example 3: loading a single frame\n",
    "frame_n = 1000  # Frame number to fetch.  Indexing starts from 0.\n",
    "frame = vidio.get_video_frame(url, frame_n)\n",
    "assert frame is not None, 'failed to load frame'\n",
    "\n",
    "# Example 4: loading multiple frames\n",
    "\"\"\"\n",
    "The preload function will by default pre-allocate the memory before loading the frames, \n",
    "and will return the frames as a numpy array of the shape (l, h, w, 3), where l = the number of \n",
    "frame indices given.  The indices must be an iterable of positive integers.  Because the videos \n",
    "are in black and white the values of each color channel are identical.   Therefore to save on \n",
    "memory you can provide a slice that returns only one of the three channels for each frame.  The \n",
    "resulting shape will be (l, h, w).  NB: Any slice or boolean array may be provided which is \n",
    "useful for cropping to an ROI.\n",
    "\n",
    "If you don't need to apply operations over all the fetched frames you can use the `as_list` \n",
    "kwarg to return the frames as a list.  This is slightly faster than fetching as an ndarray.\n",
    "\n",
    "A warning is printed if fetching a frame fails.  The affected frames will be returned as zeros \n",
    "or None if `as_list` is True.\n",
    "\"\"\"\n",
    "frames = vidio.get_video_frames_preload(url, range(10), mask=np.s_[:, :, 0])\n",
    "\n",
    "# Example 5: load video meta-data\n",
    "\"\"\"\n",
    "You can load all the information for a given video.  In order to load the video size from a URL \n",
    "an instance of ONE must be provided, otherwise this entry will be blank. An Bunch is returned \n",
    "with a number of fields.\n",
    "\"\"\"\n",
    "meta = vidio.get_video_meta(url, one=one)\n",
    "for k, v in meta.items():\n",
    "    print(f'The video {k} = {v}')\n",
    "\n",
    "# Example 6: load video timestamps\n",
    "ts = one.load_dataset(eid, f'_ibl_{label}Camera.times.npy', collection='alf')\n",
    "\n",
    "# Example 7: load dlc\n",
    "cam = one.load_object(eid, f'{label}Camera', collection='alf')\n",
    "print(cam.keys())\n",
    "print(cam.dlc.columns)"
   ]
  }
 ],
 "metadata": {
  "docs_executed": "executed",
  "kernelspec": {
   "display_name": "Python 3",
   "language": "python",
   "name": "python3"
  },
  "language_info": {
   "codemirror_mode": {
    "name": "ipython",
    "version": 3
   },
   "file_extension": ".py",
   "mimetype": "text/x-python",
   "name": "python",
   "nbconvert_exporter": "python",
   "pygments_lexer": "ipython3",
   "version": "3.9.7"
  }
 },
 "nbformat": 4,
 "nbformat_minor": 0
}
