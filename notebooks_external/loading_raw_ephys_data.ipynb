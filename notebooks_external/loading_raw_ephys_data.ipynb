{
 "cells": [
  {
   "cell_type": "markdown",
   "id": "fffbc4ee",
   "metadata": {},
   "source": [
    "# Loading Raw Ephys Data (AP and LFP band)"
   ]
  },
  {
   "cell_type": "code",
   "execution_count": null,
   "id": "a6ec1974",
   "metadata": {
    "execution": {
     "iopub.execute_input": "2024-02-06T09:34:09.732751Z",
     "iopub.status.busy": "2024-02-06T09:34:09.732659Z",
     "iopub.status.idle": "2024-02-06T09:34:09.736260Z",
     "shell.execute_reply": "2024-02-06T09:34:09.735960Z"
    },
    "nbsphinx": "hidden"
   },
   "outputs": [],
   "source": [
    "# Turn off logging and disable tqdm this is a hidden cell on docs page\n",
    "import logging\n",
    "import os\n",
    "\n",
    "logger = logging.getLogger('ibllib')\n",
    "logger.setLevel(logging.CRITICAL)\n",
    "\n",
    "os.environ[\"TQDM_DISABLE\"] = \"1\""
   ]
  },
  {
   "cell_type": "markdown",
   "id": "2de85fd2",
   "metadata": {},
   "source": [
    "Raw electrophysiology data recorded using spikeglx and compressed using [mtscomp](https://github.com/int-brain-lab/mtscomp)\n",
    "The recommended way to load raw AP or LF band data for analysis is by using the `SpikeSortingLoader`.\n",
    "\n",
    "This will gather all the relevant meta-data for a given probe and the histology reconstructed channel locations in the brain. \n",
    "\n",
    "## AP and LF band streaming examples\n",
    "We start by instantiating a spike sorting loader object and reading in the histology information by loading the channels table."
   ]
  },
  {
   "cell_type": "code",
   "execution_count": null,
   "id": "db13c1bab069f492",
   "metadata": {
    "execution": {
     "iopub.execute_input": "2024-02-06T09:34:09.737682Z",
     "iopub.status.busy": "2024-02-06T09:34:09.737447Z",
     "iopub.status.idle": "2024-02-06T09:34:12.514718Z",
     "shell.execute_reply": "2024-02-06T09:34:12.514370Z"
    }
   },
   "outputs": [],
   "source": [
    "from one.api import ONE\n",
    "from brainbox.io.one import SpikeSortingLoader\n",
    "\n",
    "one = ONE(base_url='https://openalyx.internationalbrainlab.org')\n",
    "t0 = 100 # timepoint in recording to stream\n",
    "\n",
    "pid = 'da8dfec1-d265-44e8-84ce-6ae9c109b8bd'\n",
    "ssl = SpikeSortingLoader(pid=pid, one=one)\n",
    "channels = ssl.load_channels()"
   ]
  },
  {
   "cell_type": "markdown",
   "id": "541898a2492f2c14",
   "metadata": {
    "collapsed": false,
    "jupyter": {
     "outputs_hidden": false
    }
   },
   "source": [
    "Here we stream one second of raw AP data around the timepoint of interest"
   ]
  },
  {
   "cell_type": "code",
   "execution_count": null,
   "id": "139ece4af85da17b",
   "metadata": {
    "execution": {
     "iopub.execute_input": "2024-02-06T09:34:12.516250Z",
     "iopub.status.busy": "2024-02-06T09:34:12.516138Z",
     "iopub.status.idle": "2024-02-06T09:34:12.964700Z",
     "shell.execute_reply": "2024-02-06T09:34:12.964370Z"
    }
   },
   "outputs": [],
   "source": [
    "sr_ap = ssl.raw_electrophysiology(band='ap', stream=True)\n",
    "# Important: remove sync channel from raw data, and transpose to get a [n_channels, n_samples] array\n",
    "first, last = (int(t0 * sr_ap.fs), int((t0 + 1) * sr_ap.fs))\n",
    "raw_ap = sr_ap[first:last, :-sr_ap.nsync].T"
   ]
  },
  {
   "cell_type": "markdown",
   "id": "ab8a76eccb43a5b4",
   "metadata": {
    "collapsed": false,
    "jupyter": {
     "outputs_hidden": false
    }
   },
   "source": [
    "Here we do the same for 5 seconds of LF data"
   ]
  },
  {
   "cell_type": "code",
   "execution_count": null,
   "id": "a477781f1d46136d",
   "metadata": {
    "execution": {
     "iopub.execute_input": "2024-02-06T09:34:12.966092Z",
     "iopub.status.busy": "2024-02-06T09:34:12.965983Z",
     "iopub.status.idle": "2024-02-06T09:34:13.287862Z",
     "shell.execute_reply": "2024-02-06T09:34:13.287545Z"
    }
   },
   "outputs": [],
   "source": [
    "sr_lf = ssl.raw_electrophysiology(band='lf', stream=True)\n",
    "# Important: remove sync channel from raw data, and transpose to get a [n_channels, n_samples] array\n",
    "first, last = (int(t0 * sr_lf.fs), int((t0 + 5) * sr_lf.fs))\n",
    "raw_lf = sr_lf[first:last, :-sr_lf.nsync].T"
   ]
  },
  {
   "cell_type": "markdown",
   "id": "87728453c5d54ffb",
   "metadata": {
    "collapsed": false,
    "jupyter": {
     "outputs_hidden": false
    }
   },
   "source": [
    "Let's have a look at the raw data alongside channels information. Here we apply a filter to the raw data to remove the DC component for display."
   ]
  },
  {
   "cell_type": "code",
   "execution_count": null,
   "id": "1bb95de26299907f",
   "metadata": {
    "execution": {
     "iopub.execute_input": "2024-02-06T09:34:13.289253Z",
     "iopub.status.busy": "2024-02-06T09:34:13.289148Z",
     "iopub.status.idle": "2024-02-06T09:34:14.084163Z",
     "shell.execute_reply": "2024-02-06T09:34:14.083736Z"
    }
   },
   "outputs": [],
   "source": [
    "import matplotlib.pyplot as plt\n",
    "import scipy.signal\n",
    "from brainbox.ephys_plots import plot_brain_regions\n",
    "from ibllib.plots import Density\n",
    "\n",
    "sos_ap = scipy.signal.butter(3, 300 / sr_ap.fs /2, btype='highpass', output='sos')  # 300 Hz high pass AP band\n",
    "sos_lf = scipy.signal.butter(3,   2 / sr_lf.fs /2, btype='highpass', output='sos')  #   2 Hz high pass LF band\n",
    "filtered_ap = scipy.signal.sosfiltfilt(sos_ap, raw_ap)\n",
    "filtered_lf = scipy.signal.sosfiltfilt(sos_lf, raw_lf)\n",
    "\n",
    "# displays the AP band over LFP band\n",
    "fig, axs = plt.subplots(2, 2, gridspec_kw={'width_ratios': [.95, .05]}, figsize=(18, 12))\n",
    "Density(- filtered_ap[:, 12000:15000], fs=sr_ap.fs, taxis=1, ax=axs[0, 0])\n",
    "plot_brain_regions(channels[\"atlas_id\"], channel_depths=channels[\"axial_um\"], ax = axs[0, 1], display=True)\n",
    "Density(- filtered_lf[:, 9000:15000], fs=sr_lf.fs, taxis=1, ax=axs[1, 0])\n",
    "plot_brain_regions(channels[\"atlas_id\"], channel_depths=channels[\"axial_um\"], ax = axs[1, 1], display=True)\n"
   ]
  },
  {
   "cell_type": "markdown",
   "id": "d7dba84029780138",
   "metadata": {
    "collapsed": false,
    "jupyter": {
     "outputs_hidden": false
    }
   },
   "source": [
    "### Downloading the raw data\n",
    "\n",
    "<div class=\"alert alert-warning\">\n",
    "Warning.\n",
    "\n",
    "The raw ephys data is very large and downloading will take a long period of time and fill up your hard drive pretty fast.\n",
    "\n",
    "</div>\n",
    "\n",
    "When accessing the raw electrophysiology method of the spike sorting loader, turning the streaming mode off will download the full\n",
    "file if it is not already present in the cache.\n",
    "\n",
    "We recommend setting the path of your `ONE` instance to make sure you control the destination path of the downloaded data.\n",
    "\n",
    "```python\n",
    "PATH_CACHE = Path(\"/path_to_raw_data_drive/openalyx\")\n",
    "one = ONE(base_url=\"https://openalyx.internationalbrainlab.org\", cache_dir=PATH_CACHE)\n",
    "sr_ap = ssl.raw_electrophysiology(band='ap', stream=False)  # sr_ap is a spikeglx.Reader object that uses memmap\n",
    "```\n"
   ]
  },
  {
   "cell_type": "markdown",
   "id": "bb97cb8f",
   "metadata": {},
   "source": [
    "## Low level loading and downloading functions\n",
    "\n",
    "### Relevant datasets\n",
    "The raw data comprises 3 files:\n",
    "* `\\_spikeglx_ephysData*.cbin` the compressed raw binary\n",
    "* `\\_spikeglx_ephysData*.meta` the metadata file from spikeglx\n",
    "* `\\_spikeglx_ephysData*.ch` the compression header containing chunks address in the file\n",
    "\n",
    "The raw data is compressed with a lossless compression algorithm in chunks of 1 second each. This allows to retrieve parts of the data without having to uncompress the whole file. We recommend using the `spikeglx.Reader` module from [ibl-neuropixel repository](https://github.com/int-brain-lab/ibl-neuropixel)\n",
    "\n",
    "Full information about the compression and tool in [mtscomp repository](https://github.com/int-brain-lab/mtscomp)"
   ]
  },
  {
   "cell_type": "markdown",
   "id": "b51ffc0f",
   "metadata": {},
   "source": [
    "### Option 1: Stream snippets of raw ephys data\n",
    "This is a useful option if you are interested to perform analysis on a chunk of data of smaller duration than the whole recording, as it will take less time to download. Data snippets can be loaded in chunks of 1-second, i.e. you can load at minimum 1 second of raw data, and any multiplier of such chunk length (for example 4 or 92 seconds)."
   ]
  },
  {
   "cell_type": "code",
   "execution_count": null,
   "id": "68605764",
   "metadata": {
    "execution": {
     "iopub.execute_input": "2024-02-06T09:34:14.089926Z",
     "iopub.status.busy": "2024-02-06T09:34:14.089717Z",
     "iopub.status.idle": "2024-02-06T09:34:19.043644Z",
     "shell.execute_reply": "2024-02-06T09:34:19.043321Z"
    }
   },
   "outputs": [],
   "source": [
    "from one.api import ONE\n",
    "from brainbox.io.spikeglx import Streamer\n",
    "\n",
    "one = ONE()\n",
    "\n",
    "pid = 'da8dfec1-d265-44e8-84ce-6ae9c109b8bd'\n",
    "\n",
    "t0 = 100 # timepoint in recording to stream\n",
    "band = 'ap' # either 'ap' or 'lf'\n",
    "\n",
    "sr = Streamer(pid=pid, one=one, remove_cached=False, typ=band)\n",
    "first, last = (int(t0 * sr.fs), int((t0 + 1) * sr.fs))\n",
    "\n",
    "# Important: remove sync channel from raw data, and transpose to get a [n_channels, n_samples] array\n",
    "raw = sr[first:last, :-sr.nsync].T"
   ]
  },
  {
   "cell_type": "markdown",
   "id": "d7a5103c",
   "metadata": {},
   "source": [
    "<div class=\"alert alert-info\">\n",
    "Note:\n",
    "\n",
    "- the transpose (`.T`) for internal representation of the `raw` data. On disk, the data is sorted by time sample first, channel second; this is not desirable for pre-processing as time samples are not contiguous.This is why our internal representation for the raw data (i.e. dimensions used when working with such data) is `[number of channels, number of samples]`, in Python c-ordering, the time samples are contiguous in memory.\n",
    "\n",
    "- the raw data will contain the synching channels (i.e. the voltage information contained on the analog and digital DAQ channels, that mark events in the task notably). You need to remove them before wanting to use solely the raw ephys data (e.g. for plotting or exploring).\n",
    "\n",
    "</div>"
   ]
  },
  {
   "cell_type": "markdown",
   "id": "eb72b4bb",
   "metadata": {},
   "source": [
    "### Option 2: Download all of raw ephys data"
   ]
  },
  {
   "cell_type": "markdown",
   "id": "3c5984dc",
   "metadata": {},
   "source": [
    "<div class=\"alert alert-warning\">\n",
    "Warning.\n",
    "\n",
    "The raw ephys data is very large and downloading will take a long period of time.\n",
    "\n",
    "\n",
    "</div>"
   ]
  },
  {
   "cell_type": "code",
   "execution_count": null,
   "id": "60857f5f",
   "metadata": {
    "ibl_execute": false
   },
   "outputs": [],
   "source": [
    "from one.api import ONE\n",
    "import spikeglx\n",
    "one = ONE()\n",
    "\n",
    "pid = 'da8dfec1-d265-44e8-84ce-6ae9c109b8bd'\n",
    "eid, probe = one.pid2eid(pid)\n",
    "\n",
    "band = 'ap' # either 'ap','lf'\n",
    "\n",
    "# Find the relevant datasets and download them\n",
    "dsets = one.list_datasets(eid, collection=f'raw_ephys_data/{probe}', filename='*.lf.*')\n",
    "data_files, _ = one.load_datasets(eid, dsets, download_only=True)\n",
    "bin_file = next(df for df in data_files if df.suffix == '.cbin')\n",
    "\n",
    "# Use spikeglx reader to read in the whole raw data\n",
    "sr = spikeglx.Reader(bin_file)\n",
    "print(sr.shape)"
   ]
  },
  {
   "cell_type": "markdown",
   "id": "0a8b24db",
   "metadata": {},
   "source": [
    "## More details\n",
    "* [Details of raw ap datasets](https://docs.google.com/document/d/1OqIqqakPakHXRAwceYLwFY9gOrm8_P62XIfCTnHwstg/edit#heading=h.ms0y69xbzova)\n",
    "* [Details of raw lfp datasets](https://docs.google.com/document/d/1OqIqqakPakHXRAwceYLwFY9gOrm8_P62XIfCTnHwstg/edit#heading=h.nct1c3j9tedk)\n",
    "* [Details of mtscomp compression algorithm](https://github.com/int-brain-lab/mtscomp#readme)\n",
    "* [Spikesorting white paper](https://figshare.com/articles/online_resource/Spike_sorting_pipeline_for_the_International_Brain_Laboratory/19705522)"
   ]
  },
  {
   "cell_type": "markdown",
   "id": "edd9d729",
   "metadata": {},
   "source": [
    "## Useful modules\n",
    "* [ibllib.io.spikeglx](https://int-brain-lab.github.io/ibl-neuropixel/_autosummary/spikeglx.html)\n",
    "* [ibllib.voltage.dsp](https://int-brain-lab.github.io/ibl-neuropixel/_autosummary/neurodsp.voltage.html)\n",
    "* [brainbox.io.spikeglx.stream](https://int-brain-lab.github.io/iblenv/_autosummary/brainbox.io.spikeglx.html#brainbox.io.spikeglx.stream)\n",
    "* [viewephys](https://github.com/oliche/viewephys) to visualise raw data snippets (Note: this package is not within `ibllib` but standalone)"
   ]
  },
  {
   "cell_type": "markdown",
   "id": "c828ea0e",
   "metadata": {},
   "source": [
    "## Exploring raw ephys data"
   ]
  },
  {
   "cell_type": "markdown",
   "id": "ddeefc5a",
   "metadata": {},
   "source": [
    "### Example 1: Destripe AP data\n",
    "This is very important to do prior to using the raw data, as it removes artifacts (see our [Spikesorting white paper](https://figshare.com/articles/online_resource/Spike_sorting_pipeline_for_the_International_Brain_Laboratory/19705522) for details)."
   ]
  },
  {
   "cell_type": "code",
   "execution_count": null,
   "id": "ab22d54d",
   "metadata": {
    "execution": {
     "iopub.execute_input": "2024-02-06T09:34:19.045286Z",
     "iopub.status.busy": "2024-02-06T09:34:19.045179Z",
     "iopub.status.idle": "2024-02-06T09:34:19.910428Z",
     "shell.execute_reply": "2024-02-06T09:34:19.910101Z"
    }
   },
   "outputs": [],
   "source": [
    "from neurodsp.voltage import destripe\n",
    "# Reminder : If not done before, remove first the sync channel from raw data\n",
    "# Apply destriping algorithm to data\n",
    "destriped = destripe(raw, fs=sr.fs)"
   ]
  },
  {
   "cell_type": "markdown",
   "id": "2a317098",
   "metadata": {
    "pycharm": {
     "name": "#%% md\n"
    }
   },
   "source": [
    "To view and explore the raw ephys data, we recommend you use the [viewephys tool](https://github.com/oliche/viewephys)."
   ]
  },
  {
   "cell_type": "code",
   "execution_count": null,
   "id": "e6e079f2",
   "metadata": {
    "ibl_execute": false
   },
   "outputs": [],
   "source": [
    "%gui qt\n",
    "from viewephys.gui import viewephys\n",
    "v_raw = viewephys(raw, fs=sr.fs)\n",
    "v_des = viewephys(destriped, fs=sr.fs)\n",
    "# You will then be able to zoom in, adjust the gain etc - see README for details"
   ]
  },
  {
   "cell_type": "markdown",
   "id": "e903979d",
   "metadata": {
    "pycharm": {
     "name": "#%% md\n"
    }
   },
   "source": [
    "For the sake of presenting the data pre and post destriping as part of this tutorial, we are using an alternative plotting method (`matplotlib`)."
   ]
  },
  {
   "cell_type": "code",
   "execution_count": null,
   "id": "913ccacf",
   "metadata": {
    "execution": {
     "iopub.execute_input": "2024-02-06T09:34:19.911958Z",
     "iopub.status.busy": "2024-02-06T09:34:19.911854Z",
     "iopub.status.idle": "2024-02-06T09:34:20.135983Z",
     "shell.execute_reply": "2024-02-06T09:34:20.135711Z"
    },
    "pycharm": {
     "name": "#%%\n"
    }
   },
   "outputs": [],
   "source": [
    "from ibllib.plots import Density\n",
    "import matplotlib.pyplot as plt\n",
    "\n",
    "DISPLAY_TIME = 0.05  # second\n",
    "SAMPLE_SKIP = 200  # Skip beginning for show, otherwise blurry due to filtering edge effect\n",
    "MIN_X = -0.00011\n",
    "MAX_X = -MIN_X\n",
    "\n",
    "# Shorten and transpose the data for plotting\n",
    "X = destriped[:, :int(DISPLAY_TIME * sr.fs)].T\n",
    "Xs = X[SAMPLE_SKIP:].T  # Remove artifact at begining\n",
    "Tplot = Xs.shape[1]/sr.fs\n",
    "\n",
    "X_raw = raw[:, :int(DISPLAY_TIME * sr.fs)].T\n",
    "Xs_raw = X_raw[SAMPLE_SKIP:].T  # Remove artifact at begining\n",
    "\n",
    "# Plot\n",
    "fig, axs = plt.subplots(nrows=1, ncols=2)\n",
    "\n",
    "i_plt = 0\n",
    "d0 = Density(-Xs_raw, fs=sr.fs, taxis=1, ax=axs[i_plt],  vmin=MIN_X, vmax=MAX_X, cmap='Greys')\n",
    "axs[i_plt].title.set_text('Raw ephys data')\n",
    "axs[i_plt].set_xlim((0, Tplot * 1e3))\n",
    "axs[i_plt].set_ylabel('Channels')\n",
    "\n",
    "i_plt = 1\n",
    "d1 = Density(-Xs, fs=sr.fs, taxis=1, ax=axs[i_plt],  vmin=MIN_X, vmax=MAX_X, cmap='Greys')\n",
    "axs[i_plt].title.set_text('Destriped ephys data')\n",
    "axs[i_plt].set_xlim((0, Tplot * 1e3))\n",
    "axs[i_plt].set_ylabel('')"
   ]
  },
  {
   "cell_type": "markdown",
   "id": "604bd9dc",
   "metadata": {},
   "source": [
    "### Example 2: Stream LFP data around task event\n",
    "The example downloads a 1-second snippet of raw LF data ; all that needs setting as parameters are the `time0` (the time of the even of interest), the `band` (LFP), and the duration `time_win` (1 second)."
   ]
  },
  {
   "cell_type": "code",
   "execution_count": null,
   "id": "591a1a8a",
   "metadata": {
    "execution": {
     "iopub.execute_input": "2024-02-06T09:34:20.137761Z",
     "iopub.status.busy": "2024-02-06T09:34:20.137658Z",
     "iopub.status.idle": "2024-02-06T09:34:21.081831Z",
     "shell.execute_reply": "2024-02-06T09:34:21.081463Z"
    }
   },
   "outputs": [],
   "source": [
    "eid, probe = one.pid2eid(pid)\n",
    "stimOn_times = one.load_object(eid, 'trials', collection='alf')['stimOn_times']\n",
    "event_no = 100\n",
    "\n",
    "# Get the 1s of LFP data around time point of interest\n",
    "time0 = stimOn_times[event_no] # timepoint in recording to stream\n",
    "time_win = 1 # number of seconds to stream\n",
    "band = 'lf' # either 'ap' or 'lf'\n",
    "\n",
    "sr = Streamer(pid=pid, one=one, remove_cached=False, typ=band)\n",
    "s0 = time0 * sr.fs\n",
    "tsel = slice(int(s0), int(s0) + int(time_win * sr.fs))\n",
    "# remove sync channel from raw data\n",
    "raw = sr[tsel, :-sr.nsync].T\n",
    "# apply destriping algorithm to data\n",
    "destriped = destripe(raw, fs=sr.fs)"
   ]
  },
  {
   "cell_type": "markdown",
   "id": "11ea47563a9ede81",
   "metadata": {
    "collapsed": false,
    "jupyter": {
     "outputs_hidden": false
    }
   },
   "source": [
    "## Get the probe geometry"
   ]
  },
  {
   "cell_type": "markdown",
   "id": "c0ef9d3ce4f29b0",
   "metadata": {
    "collapsed": false,
    "jupyter": {
     "outputs_hidden": false
    }
   },
   "source": [
    "### Using the `eid` and `probe` information"
   ]
  },
  {
   "cell_type": "code",
   "execution_count": null,
   "id": "2a77bb9df8795525",
   "metadata": {
    "execution": {
     "iopub.execute_input": "2024-02-06T09:34:21.083220Z",
     "iopub.status.busy": "2024-02-06T09:34:21.083125Z",
     "iopub.status.idle": "2024-02-06T09:34:22.392617Z",
     "shell.execute_reply": "2024-02-06T09:34:22.392270Z"
    }
   },
   "outputs": [],
   "source": [
    "from brainbox.io.one import load_channel_locations\n",
    "channels = load_channel_locations(eid, probe)\n",
    "print(channels[probe].keys())\n",
    "# Use the axial and lateral coordinates ; Print example first 4 channels\n",
    "print(channels[probe][\"axial_um\"][0:4])\n",
    "print(channels[probe][\"lateral_um\"][0:4])"
   ]
  },
  {
   "cell_type": "markdown",
   "id": "92be0a74a5d6bfa3",
   "metadata": {
    "collapsed": false,
    "jupyter": {
     "outputs_hidden": false
    }
   },
   "source": [
    "### Using the reader and the `.cbin` file"
   ]
  },
  {
   "cell_type": "code",
   "execution_count": null,
   "id": "c27ce7e75852cd95",
   "metadata": {
    "execution": {
     "iopub.execute_input": "2024-02-06T09:34:22.394005Z",
     "iopub.status.busy": "2024-02-06T09:34:22.393878Z",
     "iopub.status.idle": "2024-02-06T09:34:22.456180Z",
     "shell.execute_reply": "2024-02-06T09:34:22.455861Z"
    }
   },
   "outputs": [],
   "source": [
    "# You would have loaded the bin file as per the loading example above\n",
    "# sr = spikeglx.Reader(bin_file)\n",
    "sr.geometry"
   ]
  },
  {
   "cell_type": "markdown",
   "id": "9851b10d",
   "metadata": {
    "pycharm": {
     "name": "#%% md\n"
    }
   },
   "source": [
    "## Other relevant examples\n",
    "* If you wish for further examples, do not hesitate to [contact us](https://int-brain-lab.github.io/iblenv/public_docs/information_contact.html)."
   ]
  }
 ],
 "metadata": {
  "celltoolbar": "Edit Metadata",
  "docs_executed": "executed",
  "kernelspec": {
   "display_name": "Python 3 (ipykernel)",
   "language": "python",
   "name": "python3"
  },
  "language_info": {
   "codemirror_mode": {
    "name": "ipython",
    "version": 3
   },
   "file_extension": ".py",
   "mimetype": "text/x-python",
   "name": "python",
   "nbconvert_exporter": "python",
   "pygments_lexer": "ipython3",
   "version": "3.11.6"
  }
 },
 "nbformat": 4,
 "nbformat_minor": 5
}
