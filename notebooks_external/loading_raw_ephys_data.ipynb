{
 "cells": [
  {
   "cell_type": "markdown",
   "id": "fffbc4ee",
   "metadata": {},
   "source": [
    "# Loading Raw Ephys Data (AP and LFP band)"
   ]
  },
  {
   "cell_type": "code",
   "execution_count": null,
   "id": "a6ec1974",
   "metadata": {
    "execution": {
     "iopub.execute_input": "2022-10-25T13:11:33.683629Z",
     "iopub.status.busy": "2022-10-25T13:11:33.682633Z",
     "iopub.status.idle": "2022-10-25T13:11:33.688628Z",
     "shell.execute_reply": "2022-10-25T13:11:33.686627Z"
    },
    "nbsphinx": "hidden"
   },
   "outputs": [],
   "source": [
    "# Turn off logging, this is a hidden cell on docs page\n",
    "import logging\n",
    "logger = logging.getLogger('ibllib')\n",
    "logger.setLevel(logging.CRITICAL)"
   ]
  },
  {
   "cell_type": "markdown",
   "id": "2de85fd2",
   "metadata": {},
   "source": [
    "Raw electrophysiology data recorded using spikeglx and compressed using mtscomp"
   ]
  },
  {
   "cell_type": "markdown",
   "id": "0bbad5e1",
   "metadata": {},
   "source": [
    "## Relevant datasets\n",
    "* \\_spikeglx_ephysData*.cbin\n",
    "* \\_spikeglx_ephysData*.meta\n",
    "* \\_spikeglx_ephysData*.ch"
   ]
  },
  {
   "cell_type": "markdown",
   "id": "bb97cb8f",
   "metadata": {},
   "source": [
    "## Loading"
   ]
  },
  {
   "cell_type": "markdown",
   "id": "b51ffc0f",
   "metadata": {},
   "source": [
    "### Option 1: Stream snippets of raw ephys data"
   ]
  },
  {
   "cell_type": "code",
   "execution_count": null,
   "id": "68605764",
   "metadata": {
    "execution": {
     "iopub.execute_input": "2022-10-25T13:11:33.693628Z",
     "iopub.status.busy": "2022-10-25T13:11:33.693628Z",
     "iopub.status.idle": "2022-10-25T13:11:40.362627Z",
     "shell.execute_reply": "2022-10-25T13:11:40.363627Z"
    }
   },
   "outputs": [],
   "source": [
    "from one.api import ONE\n",
    "from brainbox.io.spikeglx import stream\n",
    "\n",
    "one = ONE()\n",
    "\n",
    "pid = 'da8dfec1-d265-44e8-84ce-6ae9c109b8bd'\n",
    "\n",
    "time = 100 # timepoint in recording to stream\n",
    "time_win = 1 # number of seconds to stream\n",
    "band = 'ap' # either 'ap' or 'lf'\n",
    "\n",
    "sr, t0 = stream(pid, time, nsecs=time_win, typ=band, one=one)"
   ]
  },
  {
   "cell_type": "markdown",
   "id": "eb72b4bb",
   "metadata": {},
   "source": [
    "### Option 2: Download all of raw ephys data"
   ]
  },
  {
   "cell_type": "markdown",
   "id": "3c5984dc",
   "metadata": {},
   "source": [
    "<div class=\"alert alert-warning\">\n",
    "Warning.\n",
    "\n",
    "The raw ephys data is very large and downloading will take a long period of time\n",
    "</div>"
   ]
  },
  {
   "cell_type": "code",
   "execution_count": null,
   "id": "60857f5f",
   "metadata": {
    "ibl_execute": false
   },
   "outputs": [],
   "source": [
    "from one.api import ONE\n",
    "from ibllib.io import spikeglx\n",
    "one = ONE()\n",
    "\n",
    "pid = 'da8dfec1-d265-44e8-84ce-6ae9c109b8bd'\n",
    "eid, probe = one.pid2eid(pid)\n",
    "\n",
    "band = 'ap' # either 'ap','lf'\n",
    "\n",
    "# Find the relevant datasets and download\n",
    "dsets = one.list_datasets(eid, collection=f'raw_ephys_data/{probe}', filename=f'*{band}*', details=True)\n",
    "dset_paths = one._download_datasets(dsets)\n",
    "\n",
    "# Find the .bin file\n",
    "bin_file = next(dset_paths[0].parent.glob(f'*{band}.*bin'))\n",
    "\n",
    "# Use spikeglx reader to read in the raw data\n",
    "sr = spikeglx.Reader(ap_bin_file)"
   ]
  },
  {
   "cell_type": "markdown",
   "id": "0a8b24db",
   "metadata": {},
   "source": [
    "## More details\n",
    "* [Details of raw ap datasets](https://docs.google.com/document/d/1OqIqqakPakHXRAwceYLwFY9gOrm8_P62XIfCTnHwstg/edit#heading=h.ms0y69xbzova)\n",
    "* [Details of raw lfp datasets](https://docs.google.com/document/d/1OqIqqakPakHXRAwceYLwFY9gOrm8_P62XIfCTnHwstg/edit#heading=h.nct1c3j9tedk)\n",
    "* [Details of mtscomp compression algorithm](https://github.com/int-brain-lab/mtscomp#readme)\n",
    "* Spikesorting white paper (COMING SOON)"
   ]
  },
  {
   "cell_type": "markdown",
   "id": "edd9d729",
   "metadata": {},
   "source": [
    "## Useful modules\n",
    "* [ibllib.io.spikeglx](https://int-brain-lab.github.io/ibl-neuropixel/_autosummary/spikeglx.html)\n",
    "* [ibllib.voltage.dsp](https://int-brain-lab.github.io/ibl-neuropixel/_autosummary/neurodsp.voltage.html)\n",
    "* [brainbox.io.spikeglx.stream](https://int-brain-lab.github.io/iblenv/_autosummary/brainbox.io.spikeglx.html#brainbox.io.spikeglx.stream)"
   ]
  },
  {
   "cell_type": "markdown",
   "id": "c828ea0e",
   "metadata": {},
   "source": [
    "## Exploring raw ephys data"
   ]
  },
  {
   "cell_type": "markdown",
   "id": "ddeefc5a",
   "metadata": {},
   "source": [
    "### Example 1: Destripe AP data"
   ]
  },
  {
   "cell_type": "code",
   "execution_count": null,
   "id": "ab22d54d",
   "metadata": {
    "execution": {
     "iopub.execute_input": "2022-10-25T13:11:40.376627Z",
     "iopub.status.busy": "2022-10-25T13:11:40.372631Z",
     "iopub.status.idle": "2022-10-25T13:11:43.032662Z",
     "shell.execute_reply": "2022-10-25T13:11:43.031630Z"
    }
   },
   "outputs": [],
   "source": [
    "from neurodsp.voltage import destripe\n",
    "\n",
    "# remove sync channel from raw data\n",
    "ap_data = sr[:, :-sr.nsync].T\n",
    "\n",
    "# apply destriping algorithm to data\n",
    "ap_destriped = destripe(ap_data, fs=sr.fs)"
   ]
  },
  {
   "cell_type": "markdown",
   "id": "604bd9dc",
   "metadata": {},
   "source": [
    "### Example 2: Stream LFP data around task event"
   ]
  },
  {
   "cell_type": "code",
   "execution_count": null,
   "id": "591a1a8a",
   "metadata": {
    "execution": {
     "iopub.execute_input": "2022-10-25T13:11:43.038627Z",
     "iopub.status.busy": "2022-10-25T13:11:43.037627Z",
     "iopub.status.idle": "2022-10-25T13:11:44.685756Z",
     "shell.execute_reply": "2022-10-25T13:11:44.685756Z"
    }
   },
   "outputs": [],
   "source": [
    "eid, probe = one.pid2eid(pid)\n",
    "stimOn_times = one.load_object(eid, 'trials', collection='alf')['stimOn_times']\n",
    "event_no = 100\n",
    "\n",
    "# Get the 1s of LFP data around time point of interest\n",
    "sr, t0 = stream(pid, stimOn_times[event_no], nsecs=1, typ='lf', one=one)\n",
    "lf_data = sr[:, :-sr.nsync].T"
   ]
  },
  {
   "cell_type": "markdown",
   "id": "9851b10d",
   "metadata": {},
   "source": [
    "## Other relevant examples\n",
    "* COMING SOON"
   ]
  }
 ],
 "metadata": {
  "celltoolbar": "Edit Metadata",
  "docs_executed": "executed",
  "kernelspec": {
   "display_name": "Python [conda env:iblenv] *",
   "language": "python",
   "name": "conda-env-iblenv-py"
  },
  "language_info": {
   "codemirror_mode": {
    "name": "ipython",
    "version": 3
   },
   "file_extension": ".py",
   "mimetype": "text/x-python",
   "name": "python",
   "nbconvert_exporter": "python",
   "pygments_lexer": "ipython3",
   "version": "3.9.7"
  }
 },
 "nbformat": 4,
 "nbformat_minor": 5
}
