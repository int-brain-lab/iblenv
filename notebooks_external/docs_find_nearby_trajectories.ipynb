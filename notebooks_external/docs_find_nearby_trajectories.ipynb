{
 "cells": [
  {
   "cell_type": "markdown",
   "metadata": {},
   "source": [
    "\n",
    "# Find closest trajectories\n",
    "Finds the probe insertions that are closest a a specified probe insertion of interest and plots\n",
    "their location in a 3D image. Additionally prints out the information of closeby sessions\n"
   ]
  },
  {
   "cell_type": "code",
   "execution_count": null,
   "metadata": {
    "execution": {
     "iopub.execute_input": "2022-01-20T10:05:48.320709Z",
     "iopub.status.busy": "2022-01-20T10:05:48.320709Z",
     "iopub.status.idle": "2022-01-20T10:06:16.501046Z",
     "shell.execute_reply": "2022-01-20T10:06:16.500044Z"
    }
   },
   "outputs": [],
   "source": [
    "# Author: Mayo Faulkner\n",
    "# import modules\n",
    "import numpy as np\n",
    "from one.api import ONE\n",
    "from mayavi import mlab\n",
    "\n",
    "import ibllib.pipes.histology as histology\n",
    "import ibllib.atlas as atlas\n",
    "from atlaselectrophysiology import rendering\n",
    "\n",
    "# Instantiate brain atlas and one\n",
    "brain_atlas = atlas.AllenAtlas(25)\n",
    "one = ONE(base_url='https://openalyx.internationalbrainlab.org')\n",
    "\n",
    "# Find all trajectories with histology tracing\n",
    "all_hist = one.alyx.rest('trajectories', 'list', provenance='Ephys aligned histology track')\n",
    "# Some do not have tracing, exclude these ones\n",
    "sess_with_hist = [sess for sess in all_hist if sess['x'] is not None]\n",
    "traj_ids = [sess['id'] for sess in sess_with_hist]\n",
    "# Compute trajectory objects for each of the trajectories\n",
    "trajectories = [atlas.Insertion.from_dict(sess) for sess in sess_with_hist]\n",
    "\n",
    "# Find the trajectory of the id that you want to find closeby probe insertions for\n",
    "subject = 'CSH_ZAD_029'\n",
    "date = '2020-09-19'\n",
    "probe_label = 'probe01'\n",
    "traj_origin_id = one.alyx.rest('trajectories', 'list', provenance='Ephys aligned histology track',\n",
    "                               subject=subject, date=date, probe=probe_label)[0]['id']\n",
    "# Find the index of this trajectory in the list of all trajectories\n",
    "chosen_traj = traj_ids.index(traj_origin_id)\n",
    "\n",
    "# Define active part of probe ~ 200um from tip and ~ (200 + 3900)um to top of channels\n",
    "depths = np.arange(200, 4100, 20) / 1e6\n",
    "traj_coords = np.empty((len(traj_ids), len(depths), 3))\n",
    "\n",
    "# For each trajectory compute the xyz coords at positions depths along trajectory\n",
    "for iT, traj in enumerate(trajectories):\n",
    "    traj_coords[iT, :] = histology.interpolate_along_track(np.vstack([traj.tip, traj.entry]),\n",
    "                                                           depths)\n",
    "\n",
    "# Find the average distance between all positions compared to trjaectory of interest\n",
    "avg_dist = np.mean(np.sqrt(np.sum((traj_coords - traj_coords[chosen_traj]) ** 2, axis=2)), axis=1)\n",
    "\n",
    "# Sort according to those that are closest\n",
    "closest_traj = np.argsort(avg_dist)\n",
    "\n",
    "close_sessions = []\n",
    "# Make a 3D plot showing trajectory of interest (in black) and the 10 nearest trajectories (blue)\n",
    "fig = rendering.figure(grid=False)\n",
    "for iSess, sess_idx in enumerate(closest_traj[0:10]):\n",
    "\n",
    "    mlapdv = brain_atlas.xyz2ccf(traj_coords[sess_idx])\n",
    "    if iSess == 0:\n",
    "        mlab.plot3d(mlapdv[:, 1], mlapdv[:, 2], mlapdv[:, 0],\n",
    "                    line_width=1, tube_radius=10, color=(0, 0, 0))\n",
    "    else:\n",
    "        mlab.plot3d(mlapdv[:, 1], mlapdv[:, 2], mlapdv[:, 0],\n",
    "                    line_width=1, tube_radius=10, color=(0.0, 0.4, 0.5))\n",
    "\n",
    "    mlab.text3d(mlapdv[0, 1], mlapdv[0, 2], mlapdv[0, 0], str(iSess),\n",
    "                line_width=4, color=(0, 0, 0), figure=fig, scale=150)\n",
    "\n",
    "    close_sessions.append((sess_with_hist[sess_idx]['session']['subject'] + ' ' +\n",
    "                           sess_with_hist[sess_idx]['session']['start_time'][:10] +\n",
    "                           ' ' + sess_with_hist[sess_idx]['probe_name'] + ': dist = ' +\n",
    "                           str(avg_dist[closest_traj[iSess]] * 1e6)))\n",
    "\n",
    "print(close_sessions)"
   ]
  }
 ],
 "metadata": {
  "docs_executed": "executed",
  "kernelspec": {
   "display_name": "Python 3",
   "language": "python",
   "name": "python3"
  },
  "language_info": {
   "codemirror_mode": {
    "name": "ipython",
    "version": 3
   },
   "file_extension": ".py",
   "mimetype": "text/x-python",
   "name": "python",
   "nbconvert_exporter": "python",
   "pygments_lexer": "ipython3",
   "version": "3.9.7"
  }
 },
 "nbformat": 4,
 "nbformat_minor": 0
}
