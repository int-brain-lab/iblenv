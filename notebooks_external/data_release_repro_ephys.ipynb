{
 "cells": [
  {
   "cell_type": "markdown",
   "id": "7ceb904d",
   "metadata": {},
   "source": [
    "# Data Release - Reproducible Ephys Paper\n",
    "\n",
    "Understanding whole-brain-scale electrophysiological recordings will rely on the collective work of multiple labs. Because two labs recording from the same brain area often reach different conclusions, it is critical to quantify and control for features that decrease reproducibility. To address these issues, we formed a multi-lab collaboration using a shared, open-source behavioral task and experimental apparatus. We repeatedly inserted Neuropixels multi-electrode probes targeting the same brain locations (called the repeated site, including posterior parietal cortex, hippocampus, and thalamus) in mice performing the behavioral task. For a full description of the study, please see the associated article.\n",
    "<!--- TODO add ref to paper here once on Biorxiv -->"
   ]
  },
  {
   "cell_type": "markdown",
   "id": "ea567308",
   "metadata": {},
   "source": [
    "## Overview of the Data\n",
    "As part of this paper we have released data from 60 Neuropixel recording sessions obtained at the repeated site\n",
    "location during the IBL task, in 6 laboratories. The data comprises both processed and raw data that are arranged into collections\n",
    "(folders). \n",
    "\n",
    "Metadata for an additional 24 sessions has also been released. These contain information that was used for the histology targetting analysis in the paper. The processed and raw data for these sessions have not been released as the recordings did not pass our quality control metrics.\n",
    "\n",
    "For sessions that contain data, an example of a folder structure of the data is shown below.\n",
    "\n",
    "    subject/\n",
    "    ├─ 2021-06-30/\n",
    "    │  ├─ 001/\n",
    "    │  │  ├─ alf/\n",
    "    │  │  │  ├─ probeXX/\n",
    "    │  │  │     ├─ pykilosort/\n",
    "    │  │  ├─ raw_ephys_data\n",
    "    │  │  ├─ raw_video_data\n",
    "    \n",
    "\n",
    "Everything contained within the **alf** folder is processed data, with all times synchronised to a common clock. This folder\n",
    "contains the required data for the majority of all analysis. All files in the alf folders follow the \n",
    "[Alyx File](https://int-brain-lab.github.io/ONE/alf_intro.html#alyx-files-alf) naming convention, where related datasets \n",
    "are grouped into a common object e.g trials or wheel. Below is breakdown of the objects contained in each folder.\n",
    "\n",
    "### alf\n",
    "Processed behaviour, wheel and video data"
   ]
  },
  {
   "cell_type": "markdown",
   "id": "04ed5979",
   "metadata": {},
   "source": [
    "* trials -> behavioural task related data ([Description of datasets](https://docs.google.com/document/d/1OqIqqakPakHXRAwceYLwFY9gOrm8_P62XIfCTnHwstg/edit#heading=h.nvzaz0fozs8h), [Loading Example](https://int-brain-lab.github.io/iblenv/notebooks_external/loading_trials_data.html))\n",
    "* wheel, wheelMoves -> wheel data recorded during task ([Description of datasets](https://docs.google.com/document/d/1OqIqqakPakHXRAwceYLwFY9gOrm8_P62XIfCTnHwstg/edit#heading=h.hnjqyfnroyya), [Loading Example](https://int-brain-lab.github.io/iblenv/notebooks_external/loading_wheel_data.html))\n",
    "* leftCamera, rightCamera, bodyCamera -> extracted dlc features during task ([Description of datasets](https://docs.google.com/document/d/1OqIqqakPakHXRAwceYLwFY9gOrm8_P62XIfCTnHwstg/edit#heading=h.yjwa7dpoipz), [Loading Example](https://int-brain-lab.github.io/iblenv/notebooks_external/loading_video_data.html))\n"
   ]
  },
  {
   "cell_type": "markdown",
   "id": "6cc00b9c",
   "metadata": {},
   "source": [
    "### alf/probeXX/pykilosort\n",
    "Spikesorted data"
   ]
  },
  {
   "cell_type": "markdown",
   "id": "4f0b4e81",
   "metadata": {},
   "source": [
    "* spikes, clusters, channels -> spikesorted output of neuropixel data ([Description of datasets](https://docs.google.com/document/d/1OqIqqakPakHXRAwceYLwFY9gOrm8_P62XIfCTnHwstg/edit#heading=h.5houj8bng5o), [Loading Example](https://int-brain-lab.github.io/iblenv/notebooks_external/loading_spikesorting_data.html))\n",
    "* spikes_subset -> sample of waveforms extracted during spikesorting ([Description of datasets](https://docs.google.com/document/d/1OqIqqakPakHXRAwceYLwFY9gOrm8_P62XIfCTnHwstg/edit#heading=h.vcop4lz26gs9), [Loading Example](https://int-brain-lab.github.io/iblenv/notebooks_external/loading_spike_waveforms.html))"
   ]
  },
  {
   "cell_type": "markdown",
   "id": "a06b7ad0",
   "metadata": {},
   "source": [
    "Data stored in folders with the prefix **raw**, contain original data collected from each recording device (e.g Neuropixel probe or camera). \n",
    "Data in these folders are in the clock of the recording device and are not synchronised. For this paper we have released the\n",
    "raw electrophysiology data that has been used to obtain the spikesorting and the raw video data that has been used to extract DLC features.\n",
    "A summary of the data contained in each folder is given below.\n",
    "\n",
    "### raw_ephys_data\n",
    "Synchronisation data recorded from NIDAQ (Note, for recordings obtained with 3A Neuropixel probes this folder is empty and synchronisation pulses are stored in the raw_ephys_data/probeXX folder)"
   ]
  },
  {
   "cell_type": "markdown",
   "id": "42ee723b",
   "metadata": {},
   "source": [
    "* \\_spikeglx_ephysData*.nidq -> raw synchronisation pulses from NIDAQ recorded using spikeglx ([Description of datasets](https://docs.google.com/document/d/1OqIqqakPakHXRAwceYLwFY9gOrm8_P62XIfCTnHwstg/edit#heading=h.ms0y69xbzova), [Loading Example](https://int-brain-lab.github.io/iblenv/notebooks_external/loading_raw_ephys_data.html))\n",
    "* \\_spikeglx_sync -> extracted synchronisation pulses from NIDAQ ([Description of datasets](https://docs.google.com/document/d/1OqIqqakPakHXRAwceYLwFY9gOrm8_P62XIfCTnHwstg/edit#))"
   ]
  },
  {
   "cell_type": "markdown",
   "id": "1d751588",
   "metadata": {},
   "source": [
    "### raw_ephys_data/probeXX\n",
    "Electrophysiology data "
   ]
  },
  {
   "cell_type": "markdown",
   "id": "2c6253ae",
   "metadata": {},
   "source": [
    "* \\_spikeglx_ephysData*.ap, \\_spikeglx_ephysData*.lf -> raw ephys data in AP and LFP band recorded using spikeglx\n",
    "([Description of datasets](https://docs.google.com/document/d/1OqIqqakPakHXRAwceYLwFY9gOrm8_P62XIfCTnHwstg/edit#heading=h.ms0y69xbzova), [Loading Example](https://int-brain-lab.github.io/iblenv/notebooks_external/loading_raw_ephys_data.html))\n",
    "*  ephysTimeRmsAP, ephysTimeRmsLF -> rms noise in AP and LFP band across recording ([Description of datasets](https://docs.google.com/document/d/1OqIqqakPakHXRAwceYLwFY9gOrm8_P62XIfCTnHwstg/edit#), [Loading Example](https://int-brain-lab.github.io/iblenv/notebooks_external/loading_ephys_data.html))\n",
    "*  ephysSpectralDensityAP, ephysSpectralDensityLF -> power spectrum in AP and LFP band ([Description of datasets](https://docs.google.com/document/d/1OqIqqakPakHXRAwceYLwFY9gOrm8_P62XIfCTnHwstg/edit#heading=h.fmz3a9wvpo4), [Loading Example](https://int-brain-lab.github.io/iblenv/notebooks_external/loading_ephys_data.html))"
   ]
  },
  {
   "cell_type": "markdown",
   "id": "e455a14e",
   "metadata": {},
   "source": [
    "### raw_video_data\n",
    "Camera data"
   ]
  },
  {
   "cell_type": "markdown",
   "id": "45b31d15",
   "metadata": {},
   "source": [
    "* bodyCamera, leftCamera, rightCamera - raw video files ([Description of datasets](https://docs.google.com/document/d/1OqIqqakPakHXRAwceYLwFY9gOrm8_P62XIfCTnHwstg/edit#heading=h.qsj6net9dgkb), [Loading Example](https://int-brain-lab.github.io/iblenv/notebooks_external/loading_raw_video_data.html))"
   ]
  },
  {
   "cell_type": "markdown",
   "id": "1c8c8978",
   "metadata": {},
   "source": [
    "## Installation\n",
    "### Environment\n",
    "To use IBL data you will need a python environment with python > 3.7. To create a new environment from scratch you can install [anaconda](https://www.anaconda.com/products/distribution#download-section) and follow the instructions below to create a new python environment (more information can also be found [here](https://docs.conda.io/projects/conda/en/latest/user-guide/tasks/manage-environments.html))\n",
    "\n",
    "```\n",
    "conda create --name ibl python=3.9\n",
    "```\n",
    "Make sure to always activate this environment before installing or working with the IBL data\n",
    "```\n",
    "conda activate ibl\n",
    "```\n",
    "\n",
    "### Install packages\n",
    "\n",
    "To use IBL data you will need to install ONE-api package, we also recommend install ibllib. These can be installed via pip.\n",
    "```python\n",
    "pip install ONE-api\n",
    "pip install ibllib\n",
    "```\n",
    "\n",
    "### Setting up credentials\n",
    "Credentials can be setup in a python terminal in the following way"
   ]
  },
  {
   "cell_type": "code",
   "execution_count": null,
   "id": "1c894878",
   "metadata": {
    "ibl_execute": false
   },
   "outputs": [],
   "source": [
    "from one.api import ONE\n",
    "pw = 'international'\n",
    "one = ONE(base_url='https://openalyx.internationalbrainlab.org', password=pw, silent=True)"
   ]
  },
  {
   "cell_type": "markdown",
   "id": "e74ce561",
   "metadata": {},
   "source": [
    "## Getting Started\n",
    "\n",
    "### Exploring data\n",
    "To get a feel for the structure of the data we recommended first downloading the alf data for a single repeated site session and exploring how the data is stored locally on disk.\n",
    "\n",
    "The sessions that contain data released as part of the reproducible ephys data paper can be listed in the following way\n",
    "<!--- TODO THIS IS UGLY, ideally we should be able to do one.search for a tag TODO -->"
   ]
  },
  {
   "cell_type": "code",
   "execution_count": null,
   "id": "8281f2a2",
   "metadata": {
    "ibl_execute": false
   },
   "outputs": [],
   "source": [
    "from one.api import ONE\n",
    "one = ONE(base_url='https://openalyx.internationalbrainlab.org')\n",
    "\n",
    "# Find sessions that have data and are tagged for the repeated site paper\n",
    "rep_site_sessions = one.alyx.rest('sessions', 'list', dataset_types='spikes.times',tag='2022_Q2_IBL_et_al_RepeatedSite')\n",
    "example_sess = rep_site_sessions[0]\n",
    "# unique experiment id \n",
    "eid = example_sess['id']"
   ]
  },
  {
   "cell_type": "markdown",
   "id": "922c3d91",
   "metadata": {},
   "source": [
    "We can download all files in the **alf** collection in the following way"
   ]
  },
  {
   "cell_type": "code",
   "execution_count": null,
   "id": "7d36975b",
   "metadata": {
    "ibl_execute": false
   },
   "outputs": [],
   "source": [
    "# Download all data in alf collection\n",
    "files = one.load_collection(eid, 'alf', download_only=True)\n",
    "\n",
    "# Show where files have been downloaded to\n",
    "print(f'Files downloaded to {files[0].parent}')"
   ]
  },
  {
   "cell_type": "markdown",
   "id": "cfcb6f60",
   "metadata": {},
   "source": [
    "To download the spikesorting data we need to find out which probe label (probeXX above) was used for this session. This can be done by finding the probe insertions associated with the session"
   ]
  },
  {
   "cell_type": "code",
   "execution_count": null,
   "id": "f46da6b9",
   "metadata": {
    "ibl_execute": false
   },
   "outputs": [],
   "source": [
    "insertion = one.alyx.rest('insertions', 'list', session=eid)[0]\n",
    "probe_label = insertion['name']\n",
    "files = one.load_collection(eid, f'alf/{probe_label}/pykilosort', download_only=True)\n",
    "\n",
    "# Show where files have been downloaded to\n",
    "print(f'Files downloaded to {files[0].parent}')"
   ]
  },
  {
   "cell_type": "markdown",
   "id": "f35107ea",
   "metadata": {},
   "source": [
    "To load in the data we can use some of the following loading methods"
   ]
  },
  {
   "cell_type": "code",
   "execution_count": null,
   "id": "ea9b756d",
   "metadata": {
    "ibl_execute": false
   },
   "outputs": [],
   "source": [
    "# Load in all trials datasets\n",
    "trials = one.load_object(eid, 'trials', collection='alf')\n",
    "\n",
    "# Load in a single wheel dataset\n",
    "wheel_times = one.load_dataset(eid, '_ibl_wheel.timestamps.npy')"
   ]
  },
  {
   "cell_type": "markdown",
   "id": "dd07410e",
   "metadata": {},
   "source": [
    "### Advanced example of navigating the metadata and filtering data download: Query data for a specific lab\n",
    "\n",
    "If you want to use data associated to a given lab only, you could simply query for the whole dataset as shown above,\n",
    "and filter `rep_site_sessions` for the key \"lab\" of a given value, for example:"
   ]
  },
  {
   "cell_type": "code",
   "execution_count": null,
   "id": "05a22f62",
   "metadata": {
    "ibl_execute": false
   },
   "outputs": [],
   "source": [
    "lab_name = 'mrsicflogellab'\n",
    "sessions_lab = [item for item in rep_site_sessions if item['lab'] == lab_name]"
   ]
  },
  {
   "cell_type": "markdown",
   "id": "0d37194e",
   "metadata": {},
   "source": [
    "However, if you wanted to query only the data for a given lab, it might be most judicious to first\n",
    "know the list of all labs available, select an arbitrary lab name from it, and query the specific sessions from it.\n",
    "\n",
    "To get this list, use the [`one.alyx.rest` API](https://alyx.internationalbrainlab.org/docs/#labs-list) :"
   ]
  },
  {
   "cell_type": "code",
   "execution_count": null,
   "id": "ade750df",
   "metadata": {
    "ibl_execute": false
   },
   "outputs": [],
   "source": [
    "# List of labs (and all metadata information associated)\n",
    "labs = one.alyx.rest('labs', 'list',\n",
    "                     django='session__data_dataset_session_related__tags__name,2022_Q2_IBL_et_al_RepeatedSite')\n",
    "# Note the change in the django filter compared to searching over 'sessions'\n",
    "\n",
    "# Example lab name\n",
    "lab_name = labs[0]['name']  # e.g. 'mrsicflogellab'\n",
    "\n",
    "# Searching for RS sessions with specific lab name\n",
    "str_query = f'data_dataset_session_related__tags__name,2022_Q2_IBL_et_al_RepeatedSite,lab__name,{lab_name}'\n",
    "\n",
    "sessions_lab = one.alyx.rest('sessions', 'list', dataset_types='spikes.times',\n",
    "                             django=str_query)\n"
   ]
  },
  {
   "cell_type": "markdown",
   "id": "116665e9",
   "metadata": {},
   "source": [
    "### More information on ONE\n",
    "To get a better understading of the ONE-api and the various methods available we recommend working through these tutorials"
   ]
  },
  {
   "cell_type": "markdown",
   "id": "3c392d36",
   "metadata": {},
   "source": [
    "* [ONE quickstart](https://int-brain-lab.github.io/ONE/notebooks/one_quickstart.html)\n",
    "* [Searching with ONE](https://int-brain-lab.github.io/ONE/notebooks/one_search/one_search.html)\n",
    "* [Listing with ONE](https://int-brain-lab.github.io/ONE/notebooks/one_list/one_list.html)\n",
    "* [Loading with ONE](https://int-brain-lab.github.io/ONE/notebooks/one_load/one_load.html)\n",
    "* [ONE alyx rest API](https://int-brain-lab.github.io/ONE/notebooks/one_advanced/one_advanced.html) (advanced)"
   ]
  },
  {
   "cell_type": "markdown",
   "id": "3e68d980",
   "metadata": {
    "pycharm": {
     "name": "#%% md\n"
    }
   },
   "source": [
    "## Loading different objects\n",
    "Examples for loading different objects can be found in the following tutorials [here](https://int-brain-lab.github.io/iblenv/loading_examples.html)"
   ]
  }
 ],
 "metadata": {
  "celltoolbar": "Edit Metadata",
  "docs_executed": "executed",
  "kernelspec": {
   "display_name": "Python [conda env:iblenv] *",
   "language": "python",
   "name": "conda-env-iblenv-py"
  },
  "language_info": {
   "codemirror_mode": {
    "name": "ipython",
    "version": 3
   },
   "file_extension": ".py",
   "mimetype": "text/x-python",
   "name": "python",
   "nbconvert_exporter": "python",
   "pygments_lexer": "ipython3",
   "version": "3.9.7"
  }
 },
 "nbformat": 4,
 "nbformat_minor": 5
}
