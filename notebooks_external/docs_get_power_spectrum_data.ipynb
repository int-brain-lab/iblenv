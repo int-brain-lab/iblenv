{
 "cells": [
  {
   "cell_type": "markdown",
   "metadata": {},
   "source": [
    "\n",
    "# Download and plot power spectrum of raw data\n",
    "\n",
    "Downloads LFP power spectrum for a given session and probe and plots a heatmap of power spectrum\n",
    "on the channels along probe against frequency\n"
   ]
  },
  {
   "cell_type": "code",
   "execution_count": null,
   "metadata": {
    "execution": {
     "iopub.execute_input": "2022-02-16T14:40:50.663808Z",
     "iopub.status.busy": "2022-02-16T14:40:50.648262Z",
     "iopub.status.idle": "2022-02-16T14:40:54.842860Z",
     "shell.execute_reply": "2022-02-16T14:40:54.842860Z"
    }
   },
   "outputs": [],
   "source": [
    "# import modules\n",
    "from one.api import ONE\n",
    "import matplotlib.pyplot as plt\n",
    "import numpy as np\n",
    "\n",
    "# instantiate ONE\n",
    "one = ONE(base_url='https://openalyx.internationalbrainlab.org', silent=True)\n",
    "\n",
    "# Specify subject, date and probe we are interested in\n",
    "subject = 'CSHL049'\n",
    "date = '2020-01-08'\n",
    "sess_no = 1\n",
    "probe_label = 'probe00'\n",
    "eid = one.search(subject=subject, date=date, number=sess_no)[0]\n",
    "\n",
    "# Download the data\n",
    "# channels.rawInd: Index of good recording channels along probe\n",
    "# channels.localCoordinates: Position of each recording channel along probe\n",
    "channels = one.load_object(eid, 'channels', collection=f'alf/{probe_label}')\n",
    "# Get range for y-axis\n",
    "depth_range = [np.min(channels.localCoordinates[:, 1]),\n",
    "               np.max(channels.localCoordinates[:, 1])]\n",
    "\n",
    "# Load in power spectrum data\n",
    "lfp_spectrum = one.load_object(eid, 'ephysSpectralDensityLF',\n",
    "                               collection=f'raw_ephys_data/{probe_label}')\n",
    "lfp_freq = lfp_spectrum['freqs']\n",
    "lfp_power = lfp_spectrum['power'][:, channels.rawInd]\n",
    "\n",
    "# Define a frequency range of interest\n",
    "freq_range = [0, 300]\n",
    "freq_idx = np.where((lfp_freq >= freq_range[0]) &\n",
    "                    (lfp_freq < freq_range[1]))[0]\n",
    "\n",
    "# Limit data to freq range of interest and also convert to dB\n",
    "lfp_spectrum_data = 10 * np.log(lfp_power[freq_idx, :])\n",
    "dB_levels = np.quantile(lfp_spectrum_data, [0.1, 0.9])\n",
    "\n",
    "# Create figure\n",
    "fig, ax = plt.subplots()\n",
    "# Plot the LFP spectral data\n",
    "spectrum_plot = ax.imshow(lfp_spectrum_data.T, extent=np.r_[freq_range, depth_range],\n",
    "                          cmap='viridis', vmin=dB_levels[0], vmax=dB_levels[1], origin='lower',\n",
    "                          aspect='auto')\n",
    "cbar = fig.colorbar(spectrum_plot, ax=ax)\n",
    "cbar.set_label('LFP power (dB)')\n",
    "ax.set_xlabel('Frequency (Hz)')\n",
    "ax.set_ylabel('Depth along probe (um)')\n",
    "ax.set_title('Power Spectrum of LFP')\n",
    "\n",
    "plt.show()"
   ]
  }
 ],
 "metadata": {
  "docs_executed": "executed",
  "kernelspec": {
   "display_name": "Python 3",
   "language": "python",
   "name": "python3"
  },
  "language_info": {
   "codemirror_mode": {
    "name": "ipython",
    "version": 3
   },
   "file_extension": ".py",
   "mimetype": "text/x-python",
   "name": "python",
   "nbconvert_exporter": "python",
   "pygments_lexer": "ipython3",
   "version": "3.9.7"
  }
 },
 "nbformat": 4,
 "nbformat_minor": 0
}
