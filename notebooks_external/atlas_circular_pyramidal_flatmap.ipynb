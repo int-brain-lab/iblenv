{
 "cells": [
  {
   "cell_type": "markdown",
   "id": "f199bec2",
   "metadata": {},
   "source": [
    "# Plotting brain region values on circular flatmap"
   ]
  },
  {
   "cell_type": "markdown",
   "id": "94c08e66",
   "metadata": {},
   "source": [
    "This example walks through various ways to overlay brain region values on a circular flatmap"
   ]
  },
  {
   "cell_type": "markdown",
   "id": "17fd07ec",
   "metadata": {},
   "source": [
    "## The circular flatmap"
   ]
  },
  {
   "cell_type": "markdown",
   "id": "3ca88864",
   "metadata": {},
   "source": [
    "The circular flatmap is obtained by sampling the volume using concentric circles through the brain."
   ]
  },
  {
   "cell_type": "code",
   "execution_count": null,
   "id": "1178246b",
   "metadata": {
    "execution": {
     "iopub.execute_input": "2024-07-02T12:19:39.121923Z",
     "iopub.status.busy": "2024-07-02T12:19:39.121360Z",
     "iopub.status.idle": "2024-07-02T12:19:41.741600Z",
     "shell.execute_reply": "2024-07-02T12:19:41.740931Z"
    }
   },
   "outputs": [],
   "source": [
    "from iblatlas.flatmaps import FlatMap\n",
    "flmap_cr = FlatMap(flatmap='circles')"
   ]
  },
  {
   "cell_type": "code",
   "execution_count": null,
   "id": "490614c3",
   "metadata": {
    "execution": {
     "iopub.execute_input": "2024-07-02T12:19:41.744683Z",
     "iopub.status.busy": "2024-07-02T12:19:41.744254Z",
     "iopub.status.idle": "2024-07-02T12:19:41.948781Z",
     "shell.execute_reply": "2024-07-02T12:19:41.948084Z"
    }
   },
   "outputs": [],
   "source": [
    "# Display the concentric circles used in flatmap\n",
    "ax = flmap_cr.plot_top(volume='image')\n",
    "ax.plot(flmap_cr.ml_scale * 1e6, flmap_cr.ap_scale * 1e6)"
   ]
  },
  {
   "cell_type": "markdown",
   "id": "135dd187",
   "metadata": {},
   "source": [
    "This results in a flatmap that can be displayed in the following way"
   ]
  },
  {
   "cell_type": "code",
   "execution_count": null,
   "id": "8b8c4223",
   "metadata": {
    "execution": {
     "iopub.execute_input": "2024-07-02T12:19:41.951458Z",
     "iopub.status.busy": "2024-07-02T12:19:41.951083Z",
     "iopub.status.idle": "2024-07-02T12:19:42.166382Z",
     "shell.execute_reply": "2024-07-02T12:19:42.165641Z"
    }
   },
   "outputs": [],
   "source": [
    "import matplotlib.pyplot as plt\n",
    "fig, ax = plt.subplots(figsize=(18,4))\n",
    "flmap_cr.plot_flatmap(ax)"
   ]
  },
  {
   "cell_type": "markdown",
   "id": "ec15f88c",
   "metadata": {},
   "source": [
    "It is also possible to display this flatmap such that each circle is stacked on top of eachother. For this, the **pyramid** flatmap should be used"
   ]
  },
  {
   "cell_type": "code",
   "execution_count": null,
   "id": "7461e3f8",
   "metadata": {
    "execution": {
     "iopub.execute_input": "2024-07-02T12:19:42.169544Z",
     "iopub.status.busy": "2024-07-02T12:19:42.169051Z",
     "iopub.status.idle": "2024-07-02T12:19:43.911489Z",
     "shell.execute_reply": "2024-07-02T12:19:43.910887Z"
    }
   },
   "outputs": [],
   "source": [
    "# Instantiate flatmap with circles arranged vetically on top of eachother\n",
    "flmap_py = FlatMap(flatmap='pyramid')"
   ]
  },
  {
   "cell_type": "code",
   "execution_count": null,
   "id": "1f78b2ab",
   "metadata": {
    "execution": {
     "iopub.execute_input": "2024-07-02T12:19:43.914426Z",
     "iopub.status.busy": "2024-07-02T12:19:43.914013Z",
     "iopub.status.idle": "2024-07-02T12:19:44.201057Z",
     "shell.execute_reply": "2024-07-02T12:19:44.200395Z"
    }
   },
   "outputs": [],
   "source": [
    "fig, ax = plt.subplots(figsize=(8, 8))\n",
    "flmap_py.plot_flatmap(ax=ax)"
   ]
  },
  {
   "cell_type": "markdown",
   "id": "e7af738a",
   "metadata": {},
   "source": [
    "## Data preparation"
   ]
  },
  {
   "cell_type": "markdown",
   "id": "40fa09d0",
   "metadata": {},
   "source": [
    "In order to plot brain regions values on the flatmap an array of acronyms and an array of values corresponding to each acronym must be provided. A detailed overview of how to prepare your data can be found [here](https://int-brain-lab.github.io/iblenv/notebooks_external/atlas_plotting_scalar_on_slice.html#Data-preparation)"
   ]
  },
  {
   "cell_type": "code",
   "execution_count": null,
   "id": "20a1db83",
   "metadata": {
    "execution": {
     "iopub.execute_input": "2024-07-02T12:19:44.204418Z",
     "iopub.status.busy": "2024-07-02T12:19:44.204007Z",
     "iopub.status.idle": "2024-07-02T12:19:44.207536Z",
     "shell.execute_reply": "2024-07-02T12:19:44.206970Z"
    }
   },
   "outputs": [],
   "source": [
    "import numpy as np\n",
    "# prepare array of acronyms\n",
    "acronyms = np.array(['VPM', 'PO', 'LP', 'CA1', 'DG-mo', 'VISa5', 'SSs5'])\n",
    "# assign data to each acronym\n",
    "values = np.arange(acronyms.size)"
   ]
  },
  {
   "cell_type": "code",
   "execution_count": null,
   "id": "e6ae51d0",
   "metadata": {
    "execution": {
     "iopub.execute_input": "2024-07-02T12:19:44.210035Z",
     "iopub.status.busy": "2024-07-02T12:19:44.209660Z",
     "iopub.status.idle": "2024-07-02T12:19:44.232173Z",
     "shell.execute_reply": "2024-07-02T12:19:44.231558Z"
    }
   },
   "outputs": [],
   "source": [
    "from iblatlas.regions import BrainRegions\n",
    "br = BrainRegions()\n",
    "# prepare array of acronyms with beryl mapping\n",
    "acronyms_beryl = np.unique(br.acronym2acronym(acronyms, mapping='Beryl'))\n",
    "values_beryl = np.arange(acronyms_beryl.size)"
   ]
  },
  {
   "cell_type": "code",
   "execution_count": null,
   "id": "3724b968",
   "metadata": {
    "execution": {
     "iopub.execute_input": "2024-07-02T12:19:44.235133Z",
     "iopub.status.busy": "2024-07-02T12:19:44.234728Z",
     "iopub.status.idle": "2024-07-02T12:19:44.238413Z",
     "shell.execute_reply": "2024-07-02T12:19:44.237820Z"
    }
   },
   "outputs": [],
   "source": [
    "# prepare different values for left and right hemipshere for Beryl acronyms\n",
    "values_beryl_lh = np.random.randint(0, 10, acronyms_beryl.size)\n",
    "values_beryl_rh = np.random.randint(0, 10, acronyms_beryl.size)\n",
    "values_beryl_lr = np.c_[values_beryl_lh, values_beryl_rh]"
   ]
  },
  {
   "cell_type": "markdown",
   "id": "74fe528a",
   "metadata": {},
   "source": [
    "## Examples"
   ]
  },
  {
   "cell_type": "code",
   "execution_count": null,
   "id": "dfa2d623",
   "metadata": {
    "execution": {
     "iopub.execute_input": "2024-07-02T12:19:44.240958Z",
     "iopub.status.busy": "2024-07-02T12:19:44.240564Z",
     "iopub.status.idle": "2024-07-02T12:19:44.812423Z",
     "shell.execute_reply": "2024-07-02T12:19:44.811762Z"
    }
   },
   "outputs": [],
   "source": [
    "from iblatlas.plots import plot_scalar_on_flatmap\n",
    "# Plot region values on the left hemisphere of circle flatmap overlaid on brain region boundaries using Allen mapping\n",
    "fig, ax = plt.subplots(figsize=(18,4))\n",
    "fig, ax = plot_scalar_on_flatmap(acronyms, values, hemisphere='left', mapping='Allen', flmap_atlas=flmap_cr, ax=ax)"
   ]
  },
  {
   "cell_type": "code",
   "execution_count": null,
   "id": "cc78a1c7",
   "metadata": {
    "execution": {
     "iopub.execute_input": "2024-07-02T12:19:44.816180Z",
     "iopub.status.busy": "2024-07-02T12:19:44.815614Z",
     "iopub.status.idle": "2024-07-02T12:19:45.145029Z",
     "shell.execute_reply": "2024-07-02T12:19:45.144343Z"
    }
   },
   "outputs": [],
   "source": [
    "# Plot region values on the both hemispheres of circle flatmap overlaid on the dwi Allen image  using Beryl mapping\n",
    "fig, ax = plt.subplots(figsize=(18,4))\n",
    "fig, ax = plot_scalar_on_flatmap(acronyms_beryl, values_beryl, hemisphere='both', mapping='Beryl', background='image', \n",
    "                                 cmap='Reds', flmap_atlas=flmap_cr,  ax=ax)"
   ]
  },
  {
   "cell_type": "code",
   "execution_count": null,
   "id": "37bf7bd8",
   "metadata": {
    "execution": {
     "iopub.execute_input": "2024-07-02T12:19:45.147764Z",
     "iopub.status.busy": "2024-07-02T12:19:45.147338Z",
     "iopub.status.idle": "2024-07-02T12:19:45.484625Z",
     "shell.execute_reply": "2024-07-02T12:19:45.483941Z"
    }
   },
   "outputs": [],
   "source": [
    "# Plot region values on the right hemisphere of pyramidal flatmap overlaid on the dwi Allen image using Allen mapping\n",
    "fig, ax = plt.subplots(figsize=(8,8))\n",
    "fig, ax = plot_scalar_on_flatmap(acronyms, values, hemisphere='right', mapping='Allen', background='image', \n",
    "                                 cmap='Reds', flmap_atlas=flmap_py,  ax=ax)"
   ]
  },
  {
   "cell_type": "code",
   "execution_count": null,
   "id": "28f7f30c",
   "metadata": {
    "execution": {
     "iopub.execute_input": "2024-07-02T12:19:45.487211Z",
     "iopub.status.busy": "2024-07-02T12:19:45.486835Z",
     "iopub.status.idle": "2024-07-02T12:19:46.021934Z",
     "shell.execute_reply": "2024-07-02T12:19:46.021281Z"
    }
   },
   "outputs": [],
   "source": [
    "# Plot two column region values on the both hemispheres of pyramidal flatmap overlaid on brain region boundaries \n",
    "# using Beryl mapping\n",
    "fig, ax = plt.subplots(figsize=(8,8))\n",
    "fig, ax = plot_scalar_on_flatmap(acronyms_beryl, values_beryl_lr, hemisphere='both', mapping='Beryl', \n",
    "                                 background='boundary', cmap='Blues', flmap_atlas=flmap_py,  ax=ax)"
   ]
  }
 ],
 "metadata": {
  "docs_executed": "executed",
  "kernelspec": {
   "display_name": "Python [conda env:iblenv] *",
   "language": "python",
   "name": "conda-env-iblenv-py"
  },
  "language_info": {
   "codemirror_mode": {
    "name": "ipython",
    "version": 3
   },
   "file_extension": ".py",
   "mimetype": "text/x-python",
   "name": "python",
   "nbconvert_exporter": "python",
   "pygments_lexer": "ipython3",
   "version": "3.9.19"
  }
 },
 "nbformat": 4,
 "nbformat_minor": 5
}
