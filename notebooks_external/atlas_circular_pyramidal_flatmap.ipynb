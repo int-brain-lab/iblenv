{
 "cells": [
  {
   "cell_type": "markdown",
   "id": "f199bec2",
   "metadata": {},
   "source": [
    "# Plotting brain region values on circular flatmap"
   ]
  },
  {
   "cell_type": "markdown",
   "id": "94c08e66",
   "metadata": {},
   "source": [
    "This example walks through various ways to overlay brain region values on a circular flatmap"
   ]
  },
  {
   "cell_type": "markdown",
   "id": "17fd07ec",
   "metadata": {},
   "source": [
    "## The circular flatmap"
   ]
  },
  {
   "cell_type": "markdown",
   "id": "3ca88864",
   "metadata": {},
   "source": [
    "The circular flatmap is obtained by sampling the volume using concentric circles through the brain."
   ]
  },
  {
   "cell_type": "code",
   "execution_count": null,
   "id": "1178246b",
   "metadata": {
    "execution": {
     "iopub.execute_input": "2022-06-06T10:53:02.705121Z",
     "iopub.status.busy": "2022-06-06T10:53:02.705121Z",
     "iopub.status.idle": "2022-06-06T10:53:06.492446Z",
     "shell.execute_reply": "2022-06-06T10:53:06.493020Z"
    }
   },
   "outputs": [],
   "source": [
    "from ibllib.atlas import FlatMap\n",
    "flmap_cr = FlatMap(flatmap='circles')"
   ]
  },
  {
   "cell_type": "code",
   "execution_count": null,
   "id": "490614c3",
   "metadata": {
    "execution": {
     "iopub.execute_input": "2022-06-06T10:53:06.497034Z",
     "iopub.status.busy": "2022-06-06T10:53:06.496032Z",
     "iopub.status.idle": "2022-06-06T10:53:06.703113Z",
     "shell.execute_reply": "2022-06-06T10:53:06.703113Z"
    }
   },
   "outputs": [],
   "source": [
    "# Display the concentric circles used in flatmap\n",
    "ax = flmap_cr.plot_top(volume='image')\n",
    "ax.plot(flmap_cr.ml_scale * 1e6, flmap_cr.ap_scale * 1e6)"
   ]
  },
  {
   "cell_type": "markdown",
   "id": "135dd187",
   "metadata": {},
   "source": [
    "This results in a flatmap that can be displayed in the following way"
   ]
  },
  {
   "cell_type": "code",
   "execution_count": null,
   "id": "8b8c4223",
   "metadata": {
    "execution": {
     "iopub.execute_input": "2022-06-06T10:53:06.714101Z",
     "iopub.status.busy": "2022-06-06T10:53:06.708097Z",
     "iopub.status.idle": "2022-06-06T10:53:06.972836Z",
     "shell.execute_reply": "2022-06-06T10:53:06.973832Z"
    }
   },
   "outputs": [],
   "source": [
    "import matplotlib.pyplot as plt\n",
    "fig, ax = plt.subplots(figsize=(18,4))\n",
    "flmap_cr.plot_flatmap(ax)"
   ]
  },
  {
   "cell_type": "markdown",
   "id": "ec15f88c",
   "metadata": {},
   "source": [
    "It is also possible to display this flatmap such that each circle is stacked on top of eachother. For this, the **pyramid** flatmap should be used"
   ]
  },
  {
   "cell_type": "code",
   "execution_count": null,
   "id": "7461e3f8",
   "metadata": {
    "execution": {
     "iopub.execute_input": "2022-06-06T10:53:06.976840Z",
     "iopub.status.busy": "2022-06-06T10:53:06.976840Z",
     "iopub.status.idle": "2022-06-06T10:53:09.237941Z",
     "shell.execute_reply": "2022-06-06T10:53:09.237941Z"
    }
   },
   "outputs": [],
   "source": [
    "# Instantiate flatmap with circles arranged vetically on top of eachother\n",
    "flmap_py = FlatMap(flatmap='pyramid')"
   ]
  },
  {
   "cell_type": "code",
   "execution_count": null,
   "id": "1f78b2ab",
   "metadata": {
    "execution": {
     "iopub.execute_input": "2022-06-06T10:53:09.297977Z",
     "iopub.status.busy": "2022-06-06T10:53:09.241938Z",
     "iopub.status.idle": "2022-06-06T10:53:09.659954Z",
     "shell.execute_reply": "2022-06-06T10:53:09.658941Z"
    }
   },
   "outputs": [],
   "source": [
    "fig, ax = plt.subplots(figsize=(8, 8))\n",
    "flmap_py.plot_flatmap(ax=ax)"
   ]
  },
  {
   "cell_type": "markdown",
   "id": "e7af738a",
   "metadata": {},
   "source": [
    "## Data preparation"
   ]
  },
  {
   "cell_type": "markdown",
   "id": "40fa09d0",
   "metadata": {},
   "source": [
    "In order to plot brain regions values on the flatmap an array of acronyms and an array of values corresponding to each acronym must be provided. A detailed overview of how to prepare your data can be found [here](https://int-brain-lab.github.io/iblenv/notebooks_external/atlas_plotting_scalar_on_slice.html#Data-preparation)"
   ]
  },
  {
   "cell_type": "code",
   "execution_count": null,
   "id": "20a1db83",
   "metadata": {
    "execution": {
     "iopub.execute_input": "2022-06-06T10:53:09.663940Z",
     "iopub.status.busy": "2022-06-06T10:53:09.663940Z",
     "iopub.status.idle": "2022-06-06T10:53:09.673677Z",
     "shell.execute_reply": "2022-06-06T10:53:09.674440Z"
    }
   },
   "outputs": [],
   "source": [
    "import numpy as np\n",
    "# prepare array of acronyms\n",
    "acronyms = np.array(['VPM', 'PO', 'LP', 'CA1', 'DG-mo', 'VISa5', 'SSs5'])\n",
    "# assign data to each acronym\n",
    "values = np.arange(acronyms.size)"
   ]
  },
  {
   "cell_type": "code",
   "execution_count": null,
   "id": "e6ae51d0",
   "metadata": {
    "execution": {
     "iopub.execute_input": "2022-06-06T10:53:09.678448Z",
     "iopub.status.busy": "2022-06-06T10:53:09.677450Z",
     "iopub.status.idle": "2022-06-06T10:53:09.719349Z",
     "shell.execute_reply": "2022-06-06T10:53:09.719349Z"
    }
   },
   "outputs": [],
   "source": [
    "from ibllib.atlas.regions import BrainRegions\n",
    "br = BrainRegions()\n",
    "# prepare array of acronyms with beryl mapping\n",
    "acronyms_beryl = np.unique(br.acronym2acronym(acronyms, mapping='Beryl'))\n",
    "values_beryl = np.arange(acronyms_beryl.size)"
   ]
  },
  {
   "cell_type": "code",
   "execution_count": null,
   "id": "3724b968",
   "metadata": {
    "execution": {
     "iopub.execute_input": "2022-06-06T10:53:09.726947Z",
     "iopub.status.busy": "2022-06-06T10:53:09.726947Z",
     "iopub.status.idle": "2022-06-06T10:53:09.733936Z",
     "shell.execute_reply": "2022-06-06T10:53:09.732937Z"
    }
   },
   "outputs": [],
   "source": [
    "# prepare different values for left and right hemipshere for Beryl acronyms\n",
    "values_beryl_lh = np.random.randint(0, 10, acronyms_beryl.size)\n",
    "values_beryl_rh = np.random.randint(0, 10, acronyms_beryl.size)\n",
    "values_beryl_lr = np.c_[values_beryl_lh, values_beryl_rh]"
   ]
  },
  {
   "cell_type": "markdown",
   "id": "74fe528a",
   "metadata": {},
   "source": [
    "## Examples"
   ]
  },
  {
   "cell_type": "code",
   "execution_count": null,
   "id": "dfa2d623",
   "metadata": {
    "execution": {
     "iopub.execute_input": "2022-06-06T10:53:09.737968Z",
     "iopub.status.busy": "2022-06-06T10:53:09.736936Z",
     "iopub.status.idle": "2022-06-06T10:53:10.364938Z",
     "shell.execute_reply": "2022-06-06T10:53:10.364938Z"
    }
   },
   "outputs": [],
   "source": [
    "from ibllib.atlas.plots import plot_scalar_on_flatmap\n",
    "# Plot region values on the left hemisphere of circle flatmap overlaid on brain region boundaries using Allen mapping\n",
    "fig, ax = plt.subplots(figsize=(18,4))\n",
    "fig, ax = plot_scalar_on_flatmap(acronyms, values, hemisphere='left', mapping='Allen', flmap_atlas=flmap_cr, ax=ax)"
   ]
  },
  {
   "cell_type": "code",
   "execution_count": null,
   "id": "cc78a1c7",
   "metadata": {
    "execution": {
     "iopub.execute_input": "2022-06-06T10:53:10.379940Z",
     "iopub.status.busy": "2022-06-06T10:53:10.378939Z",
     "iopub.status.idle": "2022-06-06T10:53:10.934982Z",
     "shell.execute_reply": "2022-06-06T10:53:10.933937Z"
    }
   },
   "outputs": [],
   "source": [
    "# Plot region values on the both hemispheres of circle flatmap overlaid on the dwi Allen image  using Beryl mapping\n",
    "fig, ax = plt.subplots(figsize=(18,4))\n",
    "fig, ax = plot_scalar_on_flatmap(acronyms_beryl, values_beryl, hemisphere='both', mapping='Beryl', background='image', \n",
    "                                 cmap='Reds', flmap_atlas=flmap_cr,  ax=ax)"
   ]
  },
  {
   "cell_type": "code",
   "execution_count": null,
   "id": "37bf7bd8",
   "metadata": {
    "execution": {
     "iopub.execute_input": "2022-06-06T10:53:10.947938Z",
     "iopub.status.busy": "2022-06-06T10:53:10.936936Z",
     "iopub.status.idle": "2022-06-06T10:53:11.458946Z",
     "shell.execute_reply": "2022-06-06T10:53:11.459970Z"
    }
   },
   "outputs": [],
   "source": [
    "# Plot region values on the right hemisphere of pyramidal flatmap overlaid on the dwi Allen image using Allen mapping\n",
    "fig, ax = plt.subplots(figsize=(8,8))\n",
    "fig, ax = plot_scalar_on_flatmap(acronyms, values, hemisphere='right', mapping='Allen', background='image', \n",
    "                                 cmap='Reds', flmap_atlas=flmap_py,  ax=ax)"
   ]
  },
  {
   "cell_type": "code",
   "execution_count": null,
   "id": "28f7f30c",
   "metadata": {
    "execution": {
     "iopub.execute_input": "2022-06-06T10:53:11.473937Z",
     "iopub.status.busy": "2022-06-06T10:53:11.473937Z",
     "iopub.status.idle": "2022-06-06T10:53:11.985975Z",
     "shell.execute_reply": "2022-06-06T10:53:11.985975Z"
    }
   },
   "outputs": [],
   "source": [
    "# Plot two column region values on the both hemispheres of pyramidal flatmap overlaid on brain region boundaries \n",
    "# using Beryl mapping\n",
    "fig, ax = plt.subplots(figsize=(8,8))\n",
    "fig, ax = plot_scalar_on_flatmap(acronyms_beryl, values_beryl_lr, hemisphere='both', mapping='Beryl', \n",
    "                                 background='boundary', cmap='Blues', flmap_atlas=flmap_py,  ax=ax)"
   ]
  }
 ],
 "metadata": {
  "docs_executed": "executed",
  "kernelspec": {
   "display_name": "Python [conda env:iblenv] *",
   "language": "python",
   "name": "conda-env-iblenv-py"
  },
  "language_info": {
   "codemirror_mode": {
    "name": "ipython",
    "version": 3
   },
   "file_extension": ".py",
   "mimetype": "text/x-python",
   "name": "python",
   "nbconvert_exporter": "python",
   "pygments_lexer": "ipython3",
   "version": "3.9.7"
  }
 },
 "nbformat": 4,
 "nbformat_minor": 5
}
