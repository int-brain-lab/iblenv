{
 "cells": [
  {
   "cell_type": "markdown",
   "metadata": {},
   "source": [
    "# Exploring the IBL Data Pipeline\n",
    "\n",
    "Here we will introduce some useful DataJoint tools and concepts to help you explore the IBL data pipeline. Before proceeding make sure that you have installed the [IBL python environment](../../02_installation.md) and set up your [Datajoint credentials](../../dj_docs/dj_credentials.md)\n",
    "\n"
   ]
  },
  {
   "cell_type": "markdown",
   "metadata": {},
   "source": [
    "## A few definitions\n",
    "First of all, let's define a few basic definitions:\n",
    "\n",
    "- Table - collection of rows and columns that contain data\n",
    "- Schema - a collection of related tables \n",
    "- Module - script where schema and associated tables are defined\n",
    "- Pipeline - collection of schemas\n",
    "\n",
    "Example nomenclature would be to say that we want to get data from the `Subject table` stored in the `ibl_subjects schema` which are together defined in the `subject module` in the `IBL pipeline`. \n",
    "\n",
    "In practice, `modules` are often referred to as schemas and so we would refer to the `subject module` as the `subject schema`"
   ]
  },
  {
   "cell_type": "markdown",
   "metadata": {},
   "source": [
    "Let's now proceed by importing Datajoint and some schemas from the IBL pipeline"
   ]
  },
  {
   "cell_type": "code",
   "execution_count": null,
   "metadata": {
    "execution": {
     "iopub.execute_input": "2022-06-06T10:47:36.730155Z",
     "iopub.status.busy": "2022-06-06T10:47:36.729155Z",
     "iopub.status.idle": "2022-06-06T10:48:28.237415Z",
     "shell.execute_reply": "2022-06-06T10:48:28.236436Z"
    }
   },
   "outputs": [],
   "source": [
    "import datajoint as dj\n",
    "dj.config['display.limit'] = 5\n",
    "from ibl_pipeline import reference, subject, action, acquisition, data, behavior\n",
    "from ibl_pipeline.analyses import behavior as behavior_analyses"
   ]
  },
  {
   "cell_type": "markdown",
   "metadata": {},
   "source": [
    "## 1. Browsing schemas\n",
    "The IBL pipeline contains a number of different schemas. To browse which schemas are available, we can use the `dj.list_schemas()` command,"
   ]
  },
  {
   "cell_type": "code",
   "execution_count": null,
   "metadata": {
    "execution": {
     "iopub.execute_input": "2022-06-06T10:48:28.241424Z",
     "iopub.status.busy": "2022-06-06T10:48:28.241424Z",
     "iopub.status.idle": "2022-06-06T10:48:28.393244Z",
     "shell.execute_reply": "2022-06-06T10:48:28.394183Z"
    }
   },
   "outputs": [],
   "source": [
    "dj.list_schemas()"
   ]
  },
  {
   "cell_type": "markdown",
   "metadata": {},
   "source": [
    "\n",
    "### Major schemas include:   \n",
    "Meta data from **Alyx**: `ibl_reference`, `ibl_subject`, `ibl_action`, `ibl_acquisition`, and `ibl_data`  \n",
    "Imported data from **FlatIron**: `ibl_behavior` and `ibl_ephys`  \n",
    "Computed analzyed results: `ibl_analyses_behavior`\n"
   ]
  },
  {
   "cell_type": "markdown",
   "metadata": {},
   "source": [
    "## 2. Browsing tables in a schemas\n",
    "We can see what tables are defined in a schema using the `dj.Diagram` command. For example, to see the tables defined in the `subject` schema we can type,"
   ]
  },
  {
   "cell_type": "markdown",
   "metadata": {},
   "source": [
    "```\n",
    "dj.Diagram(subject)\n",
    "```"
   ]
  },
  {
   "cell_type": "markdown",
   "metadata": {},
   "source": [
    "<div class=\"alert alert-info\">\n",
    "\n",
    "Note\n",
    "\n",
    "For more information about the what the different colours and line types mean, please refer to this more comprehensive [tutorial](https://github.com/int-brain-lab/IBL-pipeline/blob/master/notebooks/notebooks_tutorial/201909_code_camp/1-Explore%20IBL%20data%20pipeline%20with%20DataJoint.ipynb)\n",
    "</div>"
   ]
  },
  {
   "cell_type": "markdown",
   "metadata": {},
   "source": [
    "We can also use the following code snippet to list the tables that are defined in a schema"
   ]
  },
  {
   "cell_type": "code",
   "execution_count": null,
   "metadata": {
    "execution": {
     "iopub.execute_input": "2022-06-06T10:48:28.404159Z",
     "iopub.status.busy": "2022-06-06T10:48:28.404159Z",
     "iopub.status.idle": "2022-06-06T10:48:28.420602Z",
     "shell.execute_reply": "2022-06-06T10:48:28.419949Z"
    }
   },
   "outputs": [],
   "source": [
    "from datajoint.user_tables import UserTable\n",
    "import inspect\n",
    "\n",
    "\n",
    "def list_tables(schema):\n",
    "    for k in dir(schema):\n",
    "        t = getattr(schema, k)\n",
    "        if inspect.isclass(t) and issubclass(t, UserTable):\n",
    "            print(k)"
   ]
  },
  {
   "cell_type": "code",
   "execution_count": null,
   "metadata": {
    "execution": {
     "iopub.execute_input": "2022-06-06T10:48:28.425618Z",
     "iopub.status.busy": "2022-06-06T10:48:28.424622Z",
     "iopub.status.idle": "2022-06-06T10:48:28.434615Z",
     "shell.execute_reply": "2022-06-06T10:48:28.435617Z"
    }
   },
   "outputs": [],
   "source": [
    "list_tables(subject)"
   ]
  },
  {
   "cell_type": "markdown",
   "metadata": {},
   "source": [
    "## 3. Getting the detailed definition of a table\n",
    "To find out details about a table, we can use the `describe` method"
   ]
  },
  {
   "cell_type": "code",
   "execution_count": null,
   "metadata": {
    "execution": {
     "iopub.execute_input": "2022-06-06T10:48:28.440648Z",
     "iopub.status.busy": "2022-06-06T10:48:28.439613Z",
     "iopub.status.idle": "2022-06-06T10:48:59.574295Z",
     "shell.execute_reply": "2022-06-06T10:48:59.573298Z"
    }
   },
   "outputs": [],
   "source": [
    "subject.Subject.describe()"
   ]
  },
  {
   "cell_type": "markdown",
   "metadata": {},
   "source": [
    "## 4. Browsing data in tables  - queries"
   ]
  },
  {
   "cell_type": "markdown",
   "metadata": {},
   "source": [
    "Query all subjects"
   ]
  },
  {
   "cell_type": "code",
   "execution_count": null,
   "metadata": {
    "execution": {
     "iopub.execute_input": "2022-06-06T10:48:59.578608Z",
     "iopub.status.busy": "2022-06-06T10:48:59.577570Z",
     "iopub.status.idle": "2022-06-06T10:49:00.266302Z",
     "shell.execute_reply": "2022-06-06T10:49:00.267286Z"
    }
   },
   "outputs": [],
   "source": [
    "subject.Subject()"
   ]
  },
  {
   "cell_type": "markdown",
   "metadata": {},
   "source": [
    "### Restriction  `&`: filtering data"
   ]
  },
  {
   "cell_type": "markdown",
   "metadata": {},
   "source": [
    "#### Restriction: Query one subject"
   ]
  },
  {
   "cell_type": "code",
   "execution_count": null,
   "metadata": {
    "execution": {
     "iopub.execute_input": "2022-06-06T10:49:00.275511Z",
     "iopub.status.busy": "2022-06-06T10:49:00.274512Z",
     "iopub.status.idle": "2022-06-06T10:49:01.004392Z",
     "shell.execute_reply": "2022-06-06T10:49:01.002393Z"
    }
   },
   "outputs": [],
   "source": [
    "# restrict by string\n",
    "subject.Subject & 'subject_nickname=\"ibl_witten_10\"'"
   ]
  },
  {
   "cell_type": "code",
   "execution_count": null,
   "metadata": {
    "execution": {
     "iopub.execute_input": "2022-06-06T10:49:01.013375Z",
     "iopub.status.busy": "2022-06-06T10:49:01.012381Z",
     "iopub.status.idle": "2022-06-06T10:49:01.521257Z",
     "shell.execute_reply": "2022-06-06T10:49:01.519256Z"
    }
   },
   "outputs": [],
   "source": [
    "# restrict by dictionary\n",
    "from uuid import UUID\n",
    "subject.Subject & {'subject_uuid': UUID('00c60db3-74c3-4ee2-9df9-2c84acf84e92')}"
   ]
  },
  {
   "cell_type": "markdown",
   "metadata": {},
   "source": [
    "#### Restriction: Query all male subjects"
   ]
  },
  {
   "cell_type": "code",
   "execution_count": null,
   "metadata": {
    "execution": {
     "iopub.execute_input": "2022-06-06T10:49:01.528300Z",
     "iopub.status.busy": "2022-06-06T10:49:01.527297Z",
     "iopub.status.idle": "2022-06-06T10:49:02.070291Z",
     "shell.execute_reply": "2022-06-06T10:49:02.069254Z"
    }
   },
   "outputs": [],
   "source": [
    "subject.Subject & {'sex': 'm'}"
   ]
  },
  {
   "cell_type": "markdown",
   "metadata": {},
   "source": [
    "#### Restriction: Query subjects born after a date"
   ]
  },
  {
   "cell_type": "code",
   "execution_count": null,
   "metadata": {
    "execution": {
     "iopub.execute_input": "2022-06-06T10:49:02.075928Z",
     "iopub.status.busy": "2022-06-06T10:49:02.074918Z",
     "iopub.status.idle": "2022-06-06T10:49:02.588108Z",
     "shell.execute_reply": "2022-06-06T10:49:02.589049Z"
    }
   },
   "outputs": [],
   "source": [
    "subject.Subject & 'subject_birth_date > \"2019-01-01\"'"
   ]
  },
  {
   "cell_type": "markdown",
   "metadata": {},
   "source": [
    "#### Restriction: Query subjects within a range of dates"
   ]
  },
  {
   "cell_type": "code",
   "execution_count": null,
   "metadata": {
    "execution": {
     "iopub.execute_input": "2022-06-06T10:49:02.600507Z",
     "iopub.status.busy": "2022-06-06T10:49:02.599566Z",
     "iopub.status.idle": "2022-06-06T10:49:03.106367Z",
     "shell.execute_reply": "2022-06-06T10:49:03.105366Z"
    }
   },
   "outputs": [],
   "source": [
    "subject.Subject & 'subject_birth_date between \"2019-01-01\" and \"2019-04-01\"'"
   ]
  },
  {
   "cell_type": "markdown",
   "metadata": {},
   "source": [
    "#### Restriction: Query subjects on multiple attributes"
   ]
  },
  {
   "cell_type": "code",
   "execution_count": null,
   "metadata": {
    "execution": {
     "iopub.execute_input": "2022-06-06T10:49:03.110367Z",
     "iopub.status.busy": "2022-06-06T10:49:03.110367Z",
     "iopub.status.idle": "2022-06-06T10:49:03.627219Z",
     "shell.execute_reply": "2022-06-06T10:49:03.627219Z"
    }
   },
   "outputs": [],
   "source": [
    "subject.Subject & 'subject_birth_date > \"2019-01-01\"' & 'sex=\"M\"'"
   ]
  },
  {
   "cell_type": "markdown",
   "metadata": {},
   "source": [
    "#### Restriction: Query subjects restricted by other tables"
   ]
  },
  {
   "cell_type": "code",
   "execution_count": null,
   "metadata": {
    "execution": {
     "iopub.execute_input": "2022-06-06T10:49:03.632179Z",
     "iopub.status.busy": "2022-06-06T10:49:03.631178Z",
     "iopub.status.idle": "2022-06-06T10:49:12.496117Z",
     "shell.execute_reply": "2022-06-06T10:49:12.497335Z"
    }
   },
   "outputs": [],
   "source": [
    "# subjects with Behavioural sessions\n",
    "subject.Subject & acquisition.Session"
   ]
  },
  {
   "cell_type": "code",
   "execution_count": null,
   "metadata": {
    "execution": {
     "iopub.execute_input": "2022-06-06T10:49:12.505356Z",
     "iopub.status.busy": "2022-06-06T10:49:12.504422Z",
     "iopub.status.idle": "2022-06-06T10:49:15.554014Z",
     "shell.execute_reply": "2022-06-06T10:49:15.554973Z"
    }
   },
   "outputs": [],
   "source": [
    "# subjects without Behavioural sessions\n",
    "subject.Subject - acquisition.Session"
   ]
  },
  {
   "cell_type": "markdown",
   "metadata": {},
   "source": [
    "### Join `*`:  gather information from different tables"
   ]
  },
  {
   "cell_type": "code",
   "execution_count": null,
   "metadata": {
    "execution": {
     "iopub.execute_input": "2022-06-06T10:49:15.559787Z",
     "iopub.status.busy": "2022-06-06T10:49:15.558745Z",
     "iopub.status.idle": "2022-06-06T10:49:16.926570Z",
     "shell.execute_reply": "2022-06-06T10:49:16.927569Z"
    }
   },
   "outputs": [],
   "source": [
    "subject.Subject * acquisition.Session"
   ]
  },
  {
   "cell_type": "markdown",
   "metadata": {},
   "source": [
    "### Projection `.proj()`: focus on attributes of interest"
   ]
  },
  {
   "cell_type": "code",
   "execution_count": null,
   "metadata": {
    "execution": {
     "iopub.execute_input": "2022-06-06T10:49:16.931598Z",
     "iopub.status.busy": "2022-06-06T10:49:16.930569Z",
     "iopub.status.idle": "2022-06-06T10:49:17.611477Z",
     "shell.execute_reply": "2022-06-06T10:49:17.611477Z"
    }
   },
   "outputs": [],
   "source": [
    "subject.Subject.proj()"
   ]
  },
  {
   "cell_type": "code",
   "execution_count": null,
   "metadata": {
    "execution": {
     "iopub.execute_input": "2022-06-06T10:49:17.615477Z",
     "iopub.status.busy": "2022-06-06T10:49:17.615477Z",
     "iopub.status.idle": "2022-06-06T10:49:18.139642Z",
     "shell.execute_reply": "2022-06-06T10:49:18.141635Z"
    }
   },
   "outputs": [],
   "source": [
    "subject.Subject.proj('subject_birth_date', 'sex')"
   ]
  },
  {
   "cell_type": "markdown",
   "metadata": {},
   "source": [
    "#### rename attribute with ***proj()***"
   ]
  },
  {
   "cell_type": "code",
   "execution_count": null,
   "metadata": {
    "execution": {
     "iopub.execute_input": "2022-06-06T10:49:18.151631Z",
     "iopub.status.busy": "2022-06-06T10:49:18.150633Z",
     "iopub.status.idle": "2022-06-06T10:49:18.675151Z",
     "shell.execute_reply": "2022-06-06T10:49:18.676141Z"
    }
   },
   "outputs": [],
   "source": [
    "subject.Subject.proj('sex', dob='subject_birth_date')"
   ]
  },
  {
   "cell_type": "markdown",
   "metadata": {},
   "source": [
    "#### perform simple computations with ***proj***"
   ]
  },
  {
   "cell_type": "markdown",
   "metadata": {},
   "source": [
    "**Example 1: Get the date of a session**"
   ]
  },
  {
   "cell_type": "code",
   "execution_count": null,
   "metadata": {
    "execution": {
     "iopub.execute_input": "2022-06-06T10:49:18.686139Z",
     "iopub.status.busy": "2022-06-06T10:49:18.685137Z",
     "iopub.status.idle": "2022-06-06T10:49:18.700566Z",
     "shell.execute_reply": "2022-06-06T10:49:18.699566Z"
    }
   },
   "outputs": [],
   "source": [
    "sessions_with_date = acquisition.Session.proj(session_date='date(session_start_time)')"
   ]
  },
  {
   "cell_type": "code",
   "execution_count": null,
   "metadata": {
    "execution": {
     "iopub.execute_input": "2022-06-06T10:49:18.706564Z",
     "iopub.status.busy": "2022-06-06T10:49:18.705563Z",
     "iopub.status.idle": "2022-06-06T10:49:19.710037Z",
     "shell.execute_reply": "2022-06-06T10:49:19.708026Z"
    }
   },
   "outputs": [],
   "source": [
    "sessions_with_date"
   ]
  },
  {
   "cell_type": "markdown",
   "metadata": {},
   "source": [
    "**Example 2: Get the age of the animal at each session**"
   ]
  },
  {
   "cell_type": "code",
   "execution_count": null,
   "metadata": {
    "execution": {
     "iopub.execute_input": "2022-06-06T10:49:19.718013Z",
     "iopub.status.busy": "2022-06-06T10:49:19.716964Z",
     "iopub.status.idle": "2022-06-06T10:49:19.736213Z",
     "shell.execute_reply": "2022-06-06T10:49:19.734168Z"
    }
   },
   "outputs": [],
   "source": [
    "# First get the date of birth and the session date into the same query\n",
    "q = subject.Subject * acquisition.Session"
   ]
  },
  {
   "cell_type": "code",
   "execution_count": null,
   "metadata": {
    "execution": {
     "iopub.execute_input": "2022-06-06T10:49:19.742595Z",
     "iopub.status.busy": "2022-06-06T10:49:19.741555Z",
     "iopub.status.idle": "2022-06-06T10:49:20.439151Z",
     "shell.execute_reply": "2022-06-06T10:49:20.438156Z"
    }
   },
   "outputs": [],
   "source": [
    "# Then compute the age\n",
    "q_with_age = q.proj(age='datediff(session_start_time, subject_birth_date)')\n",
    "q_with_age"
   ]
  },
  {
   "cell_type": "markdown",
   "metadata": {},
   "source": [
    "### Aggregation `.aggr()`: simple computation of one table against another table"
   ]
  },
  {
   "cell_type": "markdown",
   "metadata": {},
   "source": [
    "**Example: How many sessions has each subject done so far?**"
   ]
  },
  {
   "cell_type": "code",
   "execution_count": null,
   "metadata": {
    "execution": {
     "iopub.execute_input": "2022-06-06T10:49:20.450145Z",
     "iopub.status.busy": "2022-06-06T10:49:20.449103Z",
     "iopub.status.idle": "2022-06-06T10:49:21.035054Z",
     "shell.execute_reply": "2022-06-06T10:49:21.034105Z"
    }
   },
   "outputs": [],
   "source": [
    "subject.Subject.aggr(acquisition.Session, 'subject_nickname', n='count(*)')"
   ]
  },
  {
   "cell_type": "markdown",
   "metadata": {},
   "source": [
    "## 5. Fetching data"
   ]
  },
  {
   "cell_type": "markdown",
   "metadata": {},
   "source": [
    "### Fetch all fields: `fetch()`"
   ]
  },
  {
   "cell_type": "code",
   "execution_count": null,
   "metadata": {
    "execution": {
     "iopub.execute_input": "2022-06-06T10:49:21.046106Z",
     "iopub.status.busy": "2022-06-06T10:49:21.045104Z",
     "iopub.status.idle": "2022-06-06T10:49:21.580004Z",
     "shell.execute_reply": "2022-06-06T10:49:21.579007Z"
    }
   },
   "outputs": [],
   "source": [
    "# fetch all data from a table\n",
    "subjs = subject.Subject.fetch()\n",
    "subjs[:5]"
   ]
  },
  {
   "cell_type": "code",
   "execution_count": null,
   "metadata": {
    "execution": {
     "iopub.execute_input": "2022-06-06T10:49:21.584005Z",
     "iopub.status.busy": "2022-06-06T10:49:21.584005Z",
     "iopub.status.idle": "2022-06-06T10:49:21.594656Z",
     "shell.execute_reply": "2022-06-06T10:49:21.595212Z"
    }
   },
   "outputs": [],
   "source": [
    "subjs['subject_uuid'][:5]"
   ]
  },
  {
   "cell_type": "code",
   "execution_count": null,
   "metadata": {
    "execution": {
     "iopub.execute_input": "2022-06-06T10:49:21.599221Z",
     "iopub.status.busy": "2022-06-06T10:49:21.599221Z",
     "iopub.status.idle": "2022-06-06T10:49:21.610221Z",
     "shell.execute_reply": "2022-06-06T10:49:21.610221Z"
    }
   },
   "outputs": [],
   "source": [
    "subjs['subject_birth_date'][:5]"
   ]
  },
  {
   "cell_type": "code",
   "execution_count": null,
   "metadata": {
    "execution": {
     "iopub.execute_input": "2022-06-06T10:49:21.614669Z",
     "iopub.status.busy": "2022-06-06T10:49:21.613680Z",
     "iopub.status.idle": "2022-06-06T10:49:21.913012Z",
     "shell.execute_reply": "2022-06-06T10:49:21.913012Z"
    }
   },
   "outputs": [],
   "source": [
    "# fetch as a list of dictionaries\n",
    "subjs_dict = subject.Subject.fetch(as_dict=True)\n",
    "subjs_dict[:5]"
   ]
  },
  {
   "cell_type": "code",
   "execution_count": null,
   "metadata": {
    "execution": {
     "iopub.execute_input": "2022-06-06T10:49:21.917004Z",
     "iopub.status.busy": "2022-06-06T10:49:21.917004Z",
     "iopub.status.idle": "2022-06-06T10:49:22.125191Z",
     "shell.execute_reply": "2022-06-06T10:49:22.124144Z"
    }
   },
   "outputs": [],
   "source": [
    "# fetch as pandas dataframe\n",
    "subjs_df = subject.Subject.fetch(format='frame')\n",
    "subjs_df[:5]"
   ]
  },
  {
   "cell_type": "code",
   "execution_count": null,
   "metadata": {
    "execution": {
     "iopub.execute_input": "2022-06-06T10:49:22.129183Z",
     "iopub.status.busy": "2022-06-06T10:49:22.128183Z",
     "iopub.status.idle": "2022-06-06T10:49:22.292849Z",
     "shell.execute_reply": "2022-06-06T10:49:22.291862Z"
    }
   },
   "outputs": [],
   "source": [
    "# fetch the primary key\n",
    "pk = subject.Subject.fetch('KEY')\n",
    "pk[:5]"
   ]
  },
  {
   "cell_type": "code",
   "execution_count": null,
   "metadata": {
    "execution": {
     "iopub.execute_input": "2022-06-06T10:49:22.296849Z",
     "iopub.status.busy": "2022-06-06T10:49:22.295847Z",
     "iopub.status.idle": "2022-06-06T10:49:22.458217Z",
     "shell.execute_reply": "2022-06-06T10:49:22.457220Z"
    }
   },
   "outputs": [],
   "source": [
    "# fetch specific attributes\n",
    "dob, sex = subject.Subject.fetch('subject_birth_date', 'sex')\n",
    "dob[:5]"
   ]
  },
  {
   "cell_type": "code",
   "execution_count": null,
   "metadata": {
    "execution": {
     "iopub.execute_input": "2022-06-06T10:49:22.462216Z",
     "iopub.status.busy": "2022-06-06T10:49:22.461215Z",
     "iopub.status.idle": "2022-06-06T10:49:22.627225Z",
     "shell.execute_reply": "2022-06-06T10:49:22.626225Z"
    }
   },
   "outputs": [],
   "source": [
    "info = subject.Subject.fetch('subject_birth_date', 'sex', as_dict=True)\n",
    "info[:5]"
   ]
  },
  {
   "cell_type": "markdown",
   "metadata": {},
   "source": [
    "### Fetch data from only one entry: `fetch1`"
   ]
  },
  {
   "cell_type": "code",
   "execution_count": null,
   "metadata": {
    "execution": {
     "iopub.execute_input": "2022-06-06T10:49:22.631225Z",
     "iopub.status.busy": "2022-06-06T10:49:22.630226Z",
     "iopub.status.idle": "2022-06-06T10:49:22.763394Z",
     "shell.execute_reply": "2022-06-06T10:49:22.762394Z"
    }
   },
   "outputs": [],
   "source": [
    "ibl_witten_10 = (subject.Subject & {'subject_nickname': 'ibl_witten_10'}).fetch1('KEY')"
   ]
  },
  {
   "cell_type": "code",
   "execution_count": null,
   "metadata": {
    "execution": {
     "iopub.execute_input": "2022-06-06T10:49:22.768396Z",
     "iopub.status.busy": "2022-06-06T10:49:22.767391Z",
     "iopub.status.idle": "2022-06-06T10:49:22.778465Z",
     "shell.execute_reply": "2022-06-06T10:49:22.777605Z"
    }
   },
   "outputs": [],
   "source": [
    "ibl_witten_10"
   ]
  },
  {
   "cell_type": "code",
   "execution_count": null,
   "metadata": {
    "execution": {
     "iopub.execute_input": "2022-06-06T10:49:22.783585Z",
     "iopub.status.busy": "2022-06-06T10:49:22.782551Z",
     "iopub.status.idle": "2022-06-06T10:49:22.923734Z",
     "shell.execute_reply": "2022-06-06T10:49:22.921730Z"
    }
   },
   "outputs": [],
   "source": [
    "IBL_10 = (subject.Subject & {'subject_nickname': 'IBL_10'}).fetch1()"
   ]
  },
  {
   "cell_type": "code",
   "execution_count": null,
   "metadata": {
    "execution": {
     "iopub.execute_input": "2022-06-06T10:49:22.935667Z",
     "iopub.status.busy": "2022-06-06T10:49:22.934663Z",
     "iopub.status.idle": "2022-06-06T10:49:22.946291Z",
     "shell.execute_reply": "2022-06-06T10:49:22.945296Z"
    }
   },
   "outputs": [],
   "source": [
    "IBL_10"
   ]
  }
 ],
 "metadata": {
  "docs_executed": "executed",
  "kernelspec": {
   "display_name": "Python 3",
   "language": "python",
   "name": "python3"
  },
  "language_info": {
   "codemirror_mode": {
    "name": "ipython",
    "version": 3
   },
   "file_extension": ".py",
   "mimetype": "text/x-python",
   "name": "python",
   "nbconvert_exporter": "python",
   "pygments_lexer": "ipython3",
   "version": "3.9.7"
  }
 },
 "nbformat": 4,
 "nbformat_minor": 2
}
