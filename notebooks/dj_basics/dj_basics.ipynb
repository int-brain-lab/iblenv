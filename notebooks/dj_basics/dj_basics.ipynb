{
 "cells": [
  {
   "cell_type": "markdown",
   "metadata": {},
   "source": [
    "# Exploring the IBL Data Pipeline\n",
    "\n",
    "Here we will introduce some useful DataJoint tools and concepts to help you explore the IBL data pipeline. Before proceeding make sure that you have installed the [IBL python environment](../../02_installation.md) and set up your [Datajoint credentials](../../dj_docs/dj_credentials.md)\n",
    "\n"
   ]
  },
  {
   "cell_type": "markdown",
   "metadata": {},
   "source": [
    "## A few definitions\n",
    "First of all, let's define a few basic definitions:\n",
    "\n",
    "- Table - collection of rows and columns that contain data\n",
    "- Schema - a collection of related tables \n",
    "- Module - script where schema and associated tables are defined\n",
    "- Pipeline - collection of schemas\n",
    "\n",
    "Example nomenclature would be to say that we want to get data from the `Subject table` stored in the `ibl_subjects schema` which are together defined in the `subject module` in the `IBL pipeline`. \n",
    "\n",
    "In practice, `modules` are often referred to as schemas and so we would refer to the `subject module` as the `subject schema`"
   ]
  },
  {
   "cell_type": "markdown",
   "metadata": {},
   "source": [
    "Let's now proceed by importing Datajoint and some schemas from the IBL pipeline"
   ]
  },
  {
   "cell_type": "code",
   "execution_count": null,
   "metadata": {
    "execution": {
     "iopub.execute_input": "2022-01-20T09:59:25.233762Z",
     "iopub.status.busy": "2022-01-20T09:59:25.226761Z",
     "iopub.status.idle": "2022-01-20T09:59:44.425035Z",
     "shell.execute_reply": "2022-01-20T09:59:44.424071Z"
    }
   },
   "outputs": [],
   "source": [
    "import datajoint as dj\n",
    "dj.config['display.limit'] = 5\n",
    "from ibl_pipeline import reference, subject, action, acquisition, data, behavior\n",
    "from ibl_pipeline.analyses import behavior as behavior_analyses"
   ]
  },
  {
   "cell_type": "markdown",
   "metadata": {},
   "source": [
    "## 1. Browsing schemas\n",
    "The IBL pipeline contains a number of different schemas. To browse which schemas are available, we can use the `dj.list_schemas()` command,"
   ]
  },
  {
   "cell_type": "code",
   "execution_count": null,
   "metadata": {
    "execution": {
     "iopub.execute_input": "2022-01-20T09:59:44.429035Z",
     "iopub.status.busy": "2022-01-20T09:59:44.428036Z",
     "iopub.status.idle": "2022-01-20T09:59:44.533476Z",
     "shell.execute_reply": "2022-01-20T09:59:44.533476Z"
    }
   },
   "outputs": [],
   "source": [
    "dj.list_schemas()"
   ]
  },
  {
   "cell_type": "markdown",
   "metadata": {},
   "source": [
    "\n",
    "### Major schemas include:   \n",
    "Meta data from **Alyx**: `ibl_reference`, `ibl_subject`, `ibl_action`, `ibl_acquisition`, and `ibl_data`  \n",
    "Imported data from **FlatIron**: `ibl_behavior` and `ibl_ephys`  \n",
    "Computed analzyed results: `ibl_analyses_behavior`\n"
   ]
  },
  {
   "cell_type": "markdown",
   "metadata": {},
   "source": [
    "## 2. Browsing tables in a schemas\n",
    "We can see what tables are defined in a schema using the `dj.Diagram` command. For example, to see the tables defined in the `subject` schema we can type,"
   ]
  },
  {
   "cell_type": "markdown",
   "metadata": {},
   "source": [
    "```\n",
    "dj.Diagram(subject)\n",
    "```"
   ]
  },
  {
   "cell_type": "markdown",
   "metadata": {},
   "source": [
    "<div class=\"alert alert-info\">\n",
    "\n",
    "Note\n",
    "\n",
    "For more information about the what the different colours and line types mean, please refer to this more comprehensive [tutorial](https://github.com/int-brain-lab/IBL-pipeline/blob/master/notebooks/notebooks_tutorial/201909_code_camp/1-Explore%20IBL%20data%20pipeline%20with%20DataJoint.ipynb)\n",
    "</div>"
   ]
  },
  {
   "cell_type": "markdown",
   "metadata": {},
   "source": [
    "We can also use the following code snippet to list the tables that are defined in a schema"
   ]
  },
  {
   "cell_type": "code",
   "execution_count": null,
   "metadata": {
    "execution": {
     "iopub.execute_input": "2022-01-20T09:59:44.540477Z",
     "iopub.status.busy": "2022-01-20T09:59:44.539476Z",
     "iopub.status.idle": "2022-01-20T09:59:44.547721Z",
     "shell.execute_reply": "2022-01-20T09:59:44.548720Z"
    }
   },
   "outputs": [],
   "source": [
    "from datajoint.user_tables import UserTable\n",
    "import inspect\n",
    "\n",
    "\n",
    "def list_tables(schema):\n",
    "    for k in dir(schema):\n",
    "        t = getattr(schema, k)\n",
    "        if inspect.isclass(t) and issubclass(t, UserTable):\n",
    "            print(k)"
   ]
  },
  {
   "cell_type": "code",
   "execution_count": null,
   "metadata": {
    "execution": {
     "iopub.execute_input": "2022-01-20T09:59:44.552760Z",
     "iopub.status.busy": "2022-01-20T09:59:44.551720Z",
     "iopub.status.idle": "2022-01-20T09:59:44.564759Z",
     "shell.execute_reply": "2022-01-20T09:59:44.564759Z"
    }
   },
   "outputs": [],
   "source": [
    "list_tables(subject)"
   ]
  },
  {
   "cell_type": "markdown",
   "metadata": {},
   "source": [
    "## 3. Getting the detailed definition of a table\n",
    "To find out details about a table, we can use the `describe` method"
   ]
  },
  {
   "cell_type": "code",
   "execution_count": null,
   "metadata": {
    "execution": {
     "iopub.execute_input": "2022-01-20T09:59:44.569720Z",
     "iopub.status.busy": "2022-01-20T09:59:44.568721Z",
     "iopub.status.idle": "2022-01-20T09:59:45.327038Z",
     "shell.execute_reply": "2022-01-20T09:59:45.328020Z"
    }
   },
   "outputs": [],
   "source": [
    "subject.Subject.describe()"
   ]
  },
  {
   "cell_type": "markdown",
   "metadata": {},
   "source": [
    "## 4. Browsing data in tables  - queries"
   ]
  },
  {
   "cell_type": "markdown",
   "metadata": {},
   "source": [
    "Query all subjects"
   ]
  },
  {
   "cell_type": "code",
   "execution_count": null,
   "metadata": {
    "execution": {
     "iopub.execute_input": "2022-01-20T09:59:45.333018Z",
     "iopub.status.busy": "2022-01-20T09:59:45.332018Z",
     "iopub.status.idle": "2022-01-20T09:59:45.722865Z",
     "shell.execute_reply": "2022-01-20T09:59:45.723866Z"
    }
   },
   "outputs": [],
   "source": [
    "subject.Subject()"
   ]
  },
  {
   "cell_type": "markdown",
   "metadata": {},
   "source": [
    "### Restriction  `&`: filtering data"
   ]
  },
  {
   "cell_type": "markdown",
   "metadata": {},
   "source": [
    "#### Restriction: Query one subject"
   ]
  },
  {
   "cell_type": "code",
   "execution_count": null,
   "metadata": {
    "execution": {
     "iopub.execute_input": "2022-01-20T09:59:45.729901Z",
     "iopub.status.busy": "2022-01-20T09:59:45.729901Z",
     "iopub.status.idle": "2022-01-20T09:59:46.112760Z",
     "shell.execute_reply": "2022-01-20T09:59:46.113784Z"
    }
   },
   "outputs": [],
   "source": [
    "# restrict by string\n",
    "subject.Subject & 'subject_nickname=\"ibl_witten_10\"'"
   ]
  },
  {
   "cell_type": "code",
   "execution_count": null,
   "metadata": {
    "execution": {
     "iopub.execute_input": "2022-01-20T09:59:46.118759Z",
     "iopub.status.busy": "2022-01-20T09:59:46.117763Z",
     "iopub.status.idle": "2022-01-20T09:59:46.508907Z",
     "shell.execute_reply": "2022-01-20T09:59:46.509902Z"
    }
   },
   "outputs": [],
   "source": [
    "# restrict by dictionary\n",
    "from uuid import UUID\n",
    "subject.Subject & {'subject_uuid': UUID('00c60db3-74c3-4ee2-9df9-2c84acf84e92')}"
   ]
  },
  {
   "cell_type": "markdown",
   "metadata": {},
   "source": [
    "#### Restriction: Query all male subjects"
   ]
  },
  {
   "cell_type": "code",
   "execution_count": null,
   "metadata": {
    "execution": {
     "iopub.execute_input": "2022-01-20T09:59:46.514899Z",
     "iopub.status.busy": "2022-01-20T09:59:46.514899Z",
     "iopub.status.idle": "2022-01-20T09:59:46.934523Z",
     "shell.execute_reply": "2022-01-20T09:59:46.931580Z"
    }
   },
   "outputs": [],
   "source": [
    "subject.Subject & {'sex': 'm'}"
   ]
  },
  {
   "cell_type": "markdown",
   "metadata": {},
   "source": [
    "#### Restriction: Query subjects born after a date"
   ]
  },
  {
   "cell_type": "code",
   "execution_count": null,
   "metadata": {
    "execution": {
     "iopub.execute_input": "2022-01-20T09:59:46.947507Z",
     "iopub.status.busy": "2022-01-20T09:59:46.945508Z",
     "iopub.status.idle": "2022-01-20T09:59:47.329571Z",
     "shell.execute_reply": "2022-01-20T09:59:47.330568Z"
    }
   },
   "outputs": [],
   "source": [
    "subject.Subject & 'subject_birth_date > \"2019-01-01\"'"
   ]
  },
  {
   "cell_type": "markdown",
   "metadata": {},
   "source": [
    "#### Restriction: Query subjects within a range of dates"
   ]
  },
  {
   "cell_type": "code",
   "execution_count": null,
   "metadata": {
    "execution": {
     "iopub.execute_input": "2022-01-20T09:59:47.334568Z",
     "iopub.status.busy": "2022-01-20T09:59:47.334568Z",
     "iopub.status.idle": "2022-01-20T09:59:47.735391Z",
     "shell.execute_reply": "2022-01-20T09:59:47.736419Z"
    }
   },
   "outputs": [],
   "source": [
    "subject.Subject & 'subject_birth_date between \"2019-01-01\" and \"2019-04-01\"'"
   ]
  },
  {
   "cell_type": "markdown",
   "metadata": {},
   "source": [
    "#### Restriction: Query subjects on multiple attributes"
   ]
  },
  {
   "cell_type": "code",
   "execution_count": null,
   "metadata": {
    "execution": {
     "iopub.execute_input": "2022-01-20T09:59:47.740390Z",
     "iopub.status.busy": "2022-01-20T09:59:47.740390Z",
     "iopub.status.idle": "2022-01-20T09:59:48.140293Z",
     "shell.execute_reply": "2022-01-20T09:59:48.140293Z"
    }
   },
   "outputs": [],
   "source": [
    "subject.Subject & 'subject_birth_date > \"2019-01-01\"' & 'sex=\"M\"'"
   ]
  },
  {
   "cell_type": "markdown",
   "metadata": {},
   "source": [
    "#### Restriction: Query subjects restricted by other tables"
   ]
  },
  {
   "cell_type": "code",
   "execution_count": null,
   "metadata": {
    "execution": {
     "iopub.execute_input": "2022-01-20T09:59:48.146329Z",
     "iopub.status.busy": "2022-01-20T09:59:48.145292Z",
     "iopub.status.idle": "2022-01-20T09:59:48.547572Z",
     "shell.execute_reply": "2022-01-20T09:59:48.547572Z"
    }
   },
   "outputs": [],
   "source": [
    "# subjects with Behavioural sessions\n",
    "subject.Subject & acquisition.Session"
   ]
  },
  {
   "cell_type": "code",
   "execution_count": null,
   "metadata": {
    "execution": {
     "iopub.execute_input": "2022-01-20T09:59:48.552572Z",
     "iopub.status.busy": "2022-01-20T09:59:48.552572Z",
     "iopub.status.idle": "2022-01-20T09:59:48.958312Z",
     "shell.execute_reply": "2022-01-20T09:59:48.957312Z"
    }
   },
   "outputs": [],
   "source": [
    "# subjects without Behavioural sessions\n",
    "subject.Subject - acquisition.Session"
   ]
  },
  {
   "cell_type": "markdown",
   "metadata": {},
   "source": [
    "### Join `*`:  gather information from different tables"
   ]
  },
  {
   "cell_type": "code",
   "execution_count": null,
   "metadata": {
    "execution": {
     "iopub.execute_input": "2022-01-20T09:59:48.965312Z",
     "iopub.status.busy": "2022-01-20T09:59:48.964313Z",
     "iopub.status.idle": "2022-01-20T09:59:49.434444Z",
     "shell.execute_reply": "2022-01-20T09:59:49.434444Z"
    }
   },
   "outputs": [],
   "source": [
    "subject.Subject * acquisition.Session"
   ]
  },
  {
   "cell_type": "markdown",
   "metadata": {},
   "source": [
    "### Projection `.proj()`: focus on attributes of interest"
   ]
  },
  {
   "cell_type": "code",
   "execution_count": null,
   "metadata": {
    "execution": {
     "iopub.execute_input": "2022-01-20T09:59:49.440471Z",
     "iopub.status.busy": "2022-01-20T09:59:49.439444Z",
     "iopub.status.idle": "2022-01-20T09:59:49.828763Z",
     "shell.execute_reply": "2022-01-20T09:59:49.829763Z"
    }
   },
   "outputs": [],
   "source": [
    "subject.Subject.proj()"
   ]
  },
  {
   "cell_type": "code",
   "execution_count": null,
   "metadata": {
    "execution": {
     "iopub.execute_input": "2022-01-20T09:59:49.833764Z",
     "iopub.status.busy": "2022-01-20T09:59:49.833764Z",
     "iopub.status.idle": "2022-01-20T09:59:50.225765Z",
     "shell.execute_reply": "2022-01-20T09:59:50.225765Z"
    }
   },
   "outputs": [],
   "source": [
    "subject.Subject.proj('subject_birth_date', 'sex')"
   ]
  },
  {
   "cell_type": "markdown",
   "metadata": {},
   "source": [
    "#### rename attribute with ***proj()***"
   ]
  },
  {
   "cell_type": "code",
   "execution_count": null,
   "metadata": {
    "execution": {
     "iopub.execute_input": "2022-01-20T09:59:50.230766Z",
     "iopub.status.busy": "2022-01-20T09:59:50.228766Z",
     "iopub.status.idle": "2022-01-20T09:59:50.637572Z",
     "shell.execute_reply": "2022-01-20T09:59:50.636572Z"
    }
   },
   "outputs": [],
   "source": [
    "subject.Subject.proj('sex', dob='subject_birth_date')"
   ]
  },
  {
   "cell_type": "markdown",
   "metadata": {},
   "source": [
    "#### perform simple computations with ***proj***"
   ]
  },
  {
   "cell_type": "markdown",
   "metadata": {},
   "source": [
    "**Example 1: Get the date of a session**"
   ]
  },
  {
   "cell_type": "code",
   "execution_count": null,
   "metadata": {
    "execution": {
     "iopub.execute_input": "2022-01-20T09:59:50.642579Z",
     "iopub.status.busy": "2022-01-20T09:59:50.641577Z",
     "iopub.status.idle": "2022-01-20T09:59:50.653579Z",
     "shell.execute_reply": "2022-01-20T09:59:50.652579Z"
    }
   },
   "outputs": [],
   "source": [
    "sessions_with_date = acquisition.Session.proj(session_date='date(session_start_time)')"
   ]
  },
  {
   "cell_type": "code",
   "execution_count": null,
   "metadata": {
    "execution": {
     "iopub.execute_input": "2022-01-20T09:59:50.657605Z",
     "iopub.status.busy": "2022-01-20T09:59:50.656622Z",
     "iopub.status.idle": "2022-01-20T09:59:51.247810Z",
     "shell.execute_reply": "2022-01-20T09:59:51.247810Z"
    }
   },
   "outputs": [],
   "source": [
    "sessions_with_date"
   ]
  },
  {
   "cell_type": "markdown",
   "metadata": {},
   "source": [
    "**Example 2: Get the age of the animal at each session**"
   ]
  },
  {
   "cell_type": "code",
   "execution_count": null,
   "metadata": {
    "execution": {
     "iopub.execute_input": "2022-01-20T09:59:51.251809Z",
     "iopub.status.busy": "2022-01-20T09:59:51.251809Z",
     "iopub.status.idle": "2022-01-20T09:59:51.263442Z",
     "shell.execute_reply": "2022-01-20T09:59:51.262442Z"
    }
   },
   "outputs": [],
   "source": [
    "# First get the date of birth and the session date into the same query\n",
    "q = subject.Subject * acquisition.Session"
   ]
  },
  {
   "cell_type": "code",
   "execution_count": null,
   "metadata": {
    "execution": {
     "iopub.execute_input": "2022-01-20T09:59:51.267441Z",
     "iopub.status.busy": "2022-01-20T09:59:51.266407Z",
     "iopub.status.idle": "2022-01-20T09:59:51.720657Z",
     "shell.execute_reply": "2022-01-20T09:59:51.720657Z"
    }
   },
   "outputs": [],
   "source": [
    "# Then compute the age\n",
    "q_with_age = q.proj(age='datediff(session_start_time, subject_birth_date)')\n",
    "q_with_age"
   ]
  },
  {
   "cell_type": "markdown",
   "metadata": {},
   "source": [
    "### Aggregation `.aggr()`: simple computation of one table against another table"
   ]
  },
  {
   "cell_type": "markdown",
   "metadata": {},
   "source": [
    "**Example: How many sessions has each subject done so far?**"
   ]
  },
  {
   "cell_type": "code",
   "execution_count": null,
   "metadata": {
    "execution": {
     "iopub.execute_input": "2022-01-20T09:59:51.725624Z",
     "iopub.status.busy": "2022-01-20T09:59:51.725624Z",
     "iopub.status.idle": "2022-01-20T09:59:52.140900Z",
     "shell.execute_reply": "2022-01-20T09:59:52.138859Z"
    }
   },
   "outputs": [],
   "source": [
    "subject.Subject.aggr(acquisition.Session, 'subject_nickname', n='count(*)')"
   ]
  },
  {
   "cell_type": "markdown",
   "metadata": {},
   "source": [
    "## 5. Fetching data"
   ]
  },
  {
   "cell_type": "markdown",
   "metadata": {},
   "source": [
    "### Fetch all fields: `fetch()`"
   ]
  },
  {
   "cell_type": "code",
   "execution_count": null,
   "metadata": {
    "execution": {
     "iopub.execute_input": "2022-01-20T09:59:52.147899Z",
     "iopub.status.busy": "2022-01-20T09:59:52.147899Z",
     "iopub.status.idle": "2022-01-20T09:59:52.388987Z",
     "shell.execute_reply": "2022-01-20T09:59:52.389965Z"
    }
   },
   "outputs": [],
   "source": [
    "# fetch all data from a table\n",
    "subjs = subject.Subject.fetch()\n",
    "subjs[:5]"
   ]
  },
  {
   "cell_type": "code",
   "execution_count": null,
   "metadata": {
    "execution": {
     "iopub.execute_input": "2022-01-20T09:59:52.393966Z",
     "iopub.status.busy": "2022-01-20T09:59:52.393966Z",
     "iopub.status.idle": "2022-01-20T09:59:52.405613Z",
     "shell.execute_reply": "2022-01-20T09:59:52.405613Z"
    }
   },
   "outputs": [],
   "source": [
    "subjs['subject_uuid'][:5]"
   ]
  },
  {
   "cell_type": "code",
   "execution_count": null,
   "metadata": {
    "execution": {
     "iopub.execute_input": "2022-01-20T09:59:52.409613Z",
     "iopub.status.busy": "2022-01-20T09:59:52.409613Z",
     "iopub.status.idle": "2022-01-20T09:59:52.420001Z",
     "shell.execute_reply": "2022-01-20T09:59:52.420828Z"
    }
   },
   "outputs": [],
   "source": [
    "subjs['subject_birth_date'][:5]"
   ]
  },
  {
   "cell_type": "code",
   "execution_count": null,
   "metadata": {
    "execution": {
     "iopub.execute_input": "2022-01-20T09:59:52.424079Z",
     "iopub.status.busy": "2022-01-20T09:59:52.424079Z",
     "iopub.status.idle": "2022-01-20T09:59:52.589458Z",
     "shell.execute_reply": "2022-01-20T09:59:52.589458Z"
    }
   },
   "outputs": [],
   "source": [
    "# fetch as a list of dictionaries\n",
    "subjs_dict = subject.Subject.fetch(as_dict=True)\n",
    "subjs_dict[:5]"
   ]
  },
  {
   "cell_type": "code",
   "execution_count": null,
   "metadata": {
    "execution": {
     "iopub.execute_input": "2022-01-20T09:59:52.593458Z",
     "iopub.status.busy": "2022-01-20T09:59:52.593458Z",
     "iopub.status.idle": "2022-01-20T09:59:52.778163Z",
     "shell.execute_reply": "2022-01-20T09:59:52.778163Z"
    }
   },
   "outputs": [],
   "source": [
    "# fetch as pandas dataframe\n",
    "subjs_df = subject.Subject.fetch(format='frame')\n",
    "subjs_df[:5]"
   ]
  },
  {
   "cell_type": "code",
   "execution_count": null,
   "metadata": {
    "execution": {
     "iopub.execute_input": "2022-01-20T09:59:52.782183Z",
     "iopub.status.busy": "2022-01-20T09:59:52.782183Z",
     "iopub.status.idle": "2022-01-20T09:59:52.919876Z",
     "shell.execute_reply": "2022-01-20T09:59:52.918875Z"
    }
   },
   "outputs": [],
   "source": [
    "# fetch the primary key\n",
    "pk = subject.Subject.fetch('KEY')\n",
    "pk[:5]"
   ]
  },
  {
   "cell_type": "code",
   "execution_count": null,
   "metadata": {
    "execution": {
     "iopub.execute_input": "2022-01-20T09:59:52.923911Z",
     "iopub.status.busy": "2022-01-20T09:59:52.923911Z",
     "iopub.status.idle": "2022-01-20T09:59:53.074599Z",
     "shell.execute_reply": "2022-01-20T09:59:53.074599Z"
    }
   },
   "outputs": [],
   "source": [
    "# fetch specific attributes\n",
    "dob, sex = subject.Subject.fetch('subject_birth_date', 'sex')\n",
    "dob[:5]"
   ]
  },
  {
   "cell_type": "code",
   "execution_count": null,
   "metadata": {
    "execution": {
     "iopub.execute_input": "2022-01-20T09:59:53.078621Z",
     "iopub.status.busy": "2022-01-20T09:59:53.078621Z",
     "iopub.status.idle": "2022-01-20T09:59:53.214525Z",
     "shell.execute_reply": "2022-01-20T09:59:53.215520Z"
    }
   },
   "outputs": [],
   "source": [
    "info = subject.Subject.fetch('subject_birth_date', 'sex', as_dict=True)\n",
    "info[:5]"
   ]
  },
  {
   "cell_type": "markdown",
   "metadata": {},
   "source": [
    "### Fetch data from only one entry: `fetch1`"
   ]
  },
  {
   "cell_type": "code",
   "execution_count": null,
   "metadata": {
    "execution": {
     "iopub.execute_input": "2022-01-20T09:59:53.221555Z",
     "iopub.status.busy": "2022-01-20T09:59:53.220532Z",
     "iopub.status.idle": "2022-01-20T09:59:53.323233Z",
     "shell.execute_reply": "2022-01-20T09:59:53.322233Z"
    }
   },
   "outputs": [],
   "source": [
    "ibl_witten_10 = (subject.Subject & {'subject_nickname': 'ibl_witten_10'}).fetch1('KEY')"
   ]
  },
  {
   "cell_type": "code",
   "execution_count": null,
   "metadata": {
    "execution": {
     "iopub.execute_input": "2022-01-20T09:59:53.327233Z",
     "iopub.status.busy": "2022-01-20T09:59:53.326232Z",
     "iopub.status.idle": "2022-01-20T09:59:53.338527Z",
     "shell.execute_reply": "2022-01-20T09:59:53.338527Z"
    }
   },
   "outputs": [],
   "source": [
    "ibl_witten_10"
   ]
  },
  {
   "cell_type": "code",
   "execution_count": null,
   "metadata": {
    "execution": {
     "iopub.execute_input": "2022-01-20T09:59:53.342528Z",
     "iopub.status.busy": "2022-01-20T09:59:53.340528Z",
     "iopub.status.idle": "2022-01-20T09:59:53.456093Z",
     "shell.execute_reply": "2022-01-20T09:59:53.459151Z"
    }
   },
   "outputs": [],
   "source": [
    "IBL_10 = (subject.Subject & {'subject_nickname': 'IBL_10'}).fetch1()"
   ]
  },
  {
   "cell_type": "code",
   "execution_count": null,
   "metadata": {
    "execution": {
     "iopub.execute_input": "2022-01-20T09:59:53.471080Z",
     "iopub.status.busy": "2022-01-20T09:59:53.470079Z",
     "iopub.status.idle": "2022-01-20T09:59:53.481964Z",
     "shell.execute_reply": "2022-01-20T09:59:53.480975Z"
    }
   },
   "outputs": [],
   "source": [
    "IBL_10"
   ]
  }
 ],
 "metadata": {
  "docs_executed": "executed",
  "kernelspec": {
   "display_name": "Python 3",
   "language": "python",
   "name": "python3"
  },
  "language_info": {
   "codemirror_mode": {
    "name": "ipython",
    "version": 3
   },
   "file_extension": ".py",
   "mimetype": "text/x-python",
   "name": "python",
   "nbconvert_exporter": "python",
   "pygments_lexer": "ipython3",
   "version": "3.9.7"
  }
 },
 "nbformat": 4,
 "nbformat_minor": 2
}
