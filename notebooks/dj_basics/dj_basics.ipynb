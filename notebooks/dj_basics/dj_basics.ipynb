{
 "cells": [
  {
   "cell_type": "markdown",
   "metadata": {},
   "source": [
    "# Exploring the IBL Data Pipeline\n",
    "\n",
    "Here we will introduce some useful DataJoint tools and concepts to help you explore the IBL data pipeline. Before proceeding make sure that you have installed the [IBL python environment](../../02_installation.md) and set up your [Datajoint credentials](../../dj_docs/dj_credentials.md)\n",
    "\n"
   ]
  },
  {
   "cell_type": "markdown",
   "metadata": {},
   "source": [
    "## A few definitions\n",
    "First of all, let's define a few basic definitions:\n",
    "\n",
    "- Table - collection of rows and columns that contain data\n",
    "- Schema - a collection of related tables \n",
    "- Module - script where schema and associated tables are defined\n",
    "- Pipeline - collection of schemas\n",
    "\n",
    "Example nomenclature would be to say that we want to get data from the `Subject table` stored in the `ibl_subjects schema` which are together defined in the `subject module` in the `IBL pipeline`. \n",
    "\n",
    "In practice, `modules` are often referred to as schemas and so we would refer to the `subject module` as the `subject schema`"
   ]
  },
  {
   "cell_type": "markdown",
   "metadata": {},
   "source": [
    "Let's now proceed by importing Datajoint and some schemas from the IBL pipeline"
   ]
  },
  {
   "cell_type": "code",
   "execution_count": null,
   "metadata": {
    "execution": {
     "iopub.execute_input": "2022-11-07T11:24:17.985769Z",
     "iopub.status.busy": "2022-11-07T11:24:17.985769Z",
     "iopub.status.idle": "2022-11-07T11:24:42.187777Z",
     "shell.execute_reply": "2022-11-07T11:24:42.187777Z"
    }
   },
   "outputs": [],
   "source": [
    "import datajoint as dj\n",
    "dj.config['display.limit'] = 5\n",
    "from ibl_pipeline import reference, subject, action, acquisition, data, behavior\n",
    "from ibl_pipeline.analyses import behavior as behavior_analyses"
   ]
  },
  {
   "cell_type": "markdown",
   "metadata": {},
   "source": [
    "## 1. Browsing schemas\n",
    "The IBL pipeline contains a number of different schemas. To browse which schemas are available, we can use the `dj.list_schemas()` command,"
   ]
  },
  {
   "cell_type": "code",
   "execution_count": null,
   "metadata": {
    "execution": {
     "iopub.execute_input": "2022-11-07T11:24:42.203268Z",
     "iopub.status.busy": "2022-11-07T11:24:42.203268Z",
     "iopub.status.idle": "2022-11-07T11:24:42.343839Z",
     "shell.execute_reply": "2022-11-07T11:24:42.343839Z"
    }
   },
   "outputs": [],
   "source": [
    "dj.list_schemas()"
   ]
  },
  {
   "cell_type": "markdown",
   "metadata": {},
   "source": [
    "\n",
    "### Major schemas include:   \n",
    "Meta data from **Alyx**: `ibl_reference`, `ibl_subject`, `ibl_action`, `ibl_acquisition`, and `ibl_data`  \n",
    "Imported data from **FlatIron**: `ibl_behavior` and `ibl_ephys`  \n",
    "Computed analzyed results: `ibl_analyses_behavior`\n"
   ]
  },
  {
   "cell_type": "markdown",
   "metadata": {},
   "source": [
    "## 2. Browsing tables in a schemas\n",
    "We can see what tables are defined in a schema using the `dj.Diagram` command. For example, to see the tables defined in the `subject` schema we can type,"
   ]
  },
  {
   "cell_type": "markdown",
   "metadata": {},
   "source": [
    "```\n",
    "dj.Diagram(subject)\n",
    "```"
   ]
  },
  {
   "cell_type": "markdown",
   "metadata": {},
   "source": [
    "<div class=\"alert alert-info\">\n",
    "\n",
    "Note\n",
    "\n",
    "For more information about the what the different colours and line types mean, please refer to this more comprehensive [tutorial](https://github.com/int-brain-lab/IBL-pipeline/blob/master/notebooks/notebooks_tutorial/201909_code_camp/1-Explore%20IBL%20data%20pipeline%20with%20DataJoint.ipynb)\n",
    "</div>"
   ]
  },
  {
   "cell_type": "markdown",
   "metadata": {},
   "source": [
    "We can also use the following code snippet to list the tables that are defined in a schema"
   ]
  },
  {
   "cell_type": "code",
   "execution_count": null,
   "metadata": {
    "execution": {
     "iopub.execute_input": "2022-11-07T11:24:42.343839Z",
     "iopub.status.busy": "2022-11-07T11:24:42.343839Z",
     "iopub.status.idle": "2022-11-07T11:24:42.359707Z",
     "shell.execute_reply": "2022-11-07T11:24:42.359707Z"
    }
   },
   "outputs": [],
   "source": [
    "from datajoint.user_tables import UserTable\n",
    "import inspect\n",
    "\n",
    "\n",
    "def list_tables(schema):\n",
    "    for k in dir(schema):\n",
    "        t = getattr(schema, k)\n",
    "        if inspect.isclass(t) and issubclass(t, UserTable):\n",
    "            print(k)"
   ]
  },
  {
   "cell_type": "code",
   "execution_count": null,
   "metadata": {
    "execution": {
     "iopub.execute_input": "2022-11-07T11:24:42.359707Z",
     "iopub.status.busy": "2022-11-07T11:24:42.359707Z",
     "iopub.status.idle": "2022-11-07T11:24:42.375255Z",
     "shell.execute_reply": "2022-11-07T11:24:42.375255Z"
    }
   },
   "outputs": [],
   "source": [
    "list_tables(subject)"
   ]
  },
  {
   "cell_type": "markdown",
   "metadata": {},
   "source": [
    "## 3. Getting the detailed definition of a table\n",
    "To find out details about a table, we can use the `describe` method"
   ]
  },
  {
   "cell_type": "code",
   "execution_count": null,
   "metadata": {
    "execution": {
     "iopub.execute_input": "2022-11-07T11:24:42.390713Z",
     "iopub.status.busy": "2022-11-07T11:24:42.390713Z",
     "iopub.status.idle": "2022-11-07T11:24:43.312880Z",
     "shell.execute_reply": "2022-11-07T11:24:43.312880Z"
    }
   },
   "outputs": [],
   "source": [
    "subject.Subject.describe()"
   ]
  },
  {
   "cell_type": "markdown",
   "metadata": {},
   "source": [
    "## 4. Browsing data in tables  - queries"
   ]
  },
  {
   "cell_type": "markdown",
   "metadata": {},
   "source": [
    "Query all subjects"
   ]
  },
  {
   "cell_type": "code",
   "execution_count": null,
   "metadata": {
    "execution": {
     "iopub.execute_input": "2022-11-07T11:24:43.312880Z",
     "iopub.status.busy": "2022-11-07T11:24:43.312880Z",
     "iopub.status.idle": "2022-11-07T11:24:43.812797Z",
     "shell.execute_reply": "2022-11-07T11:24:43.812797Z"
    }
   },
   "outputs": [],
   "source": [
    "subject.Subject()"
   ]
  },
  {
   "cell_type": "markdown",
   "metadata": {},
   "source": [
    "### Restriction  `&`: filtering data"
   ]
  },
  {
   "cell_type": "markdown",
   "metadata": {},
   "source": [
    "#### Restriction: Query one subject"
   ]
  },
  {
   "cell_type": "code",
   "execution_count": null,
   "metadata": {
    "execution": {
     "iopub.execute_input": "2022-11-07T11:24:43.828285Z",
     "iopub.status.busy": "2022-11-07T11:24:43.828285Z",
     "iopub.status.idle": "2022-11-07T11:24:44.344128Z",
     "shell.execute_reply": "2022-11-07T11:24:44.344128Z"
    }
   },
   "outputs": [],
   "source": [
    "# restrict by string\n",
    "subject.Subject & 'subject_nickname=\"ibl_witten_10\"'"
   ]
  },
  {
   "cell_type": "code",
   "execution_count": null,
   "metadata": {
    "execution": {
     "iopub.execute_input": "2022-11-07T11:24:44.344128Z",
     "iopub.status.busy": "2022-11-07T11:24:44.344128Z",
     "iopub.status.idle": "2022-11-07T11:24:44.844127Z",
     "shell.execute_reply": "2022-11-07T11:24:44.844127Z"
    }
   },
   "outputs": [],
   "source": [
    "# restrict by dictionary\n",
    "from uuid import UUID\n",
    "subject.Subject & {'subject_uuid': UUID('00c60db3-74c3-4ee2-9df9-2c84acf84e92')}"
   ]
  },
  {
   "cell_type": "markdown",
   "metadata": {},
   "source": [
    "#### Restriction: Query all male subjects"
   ]
  },
  {
   "cell_type": "code",
   "execution_count": null,
   "metadata": {
    "execution": {
     "iopub.execute_input": "2022-11-07T11:24:44.859474Z",
     "iopub.status.busy": "2022-11-07T11:24:44.859474Z",
     "iopub.status.idle": "2022-11-07T11:24:45.380107Z",
     "shell.execute_reply": "2022-11-07T11:24:45.380107Z"
    }
   },
   "outputs": [],
   "source": [
    "subject.Subject & {'sex': 'm'}"
   ]
  },
  {
   "cell_type": "markdown",
   "metadata": {},
   "source": [
    "#### Restriction: Query subjects born after a date"
   ]
  },
  {
   "cell_type": "code",
   "execution_count": null,
   "metadata": {
    "execution": {
     "iopub.execute_input": "2022-11-07T11:24:45.380107Z",
     "iopub.status.busy": "2022-11-07T11:24:45.380107Z",
     "iopub.status.idle": "2022-11-07T11:24:45.958386Z",
     "shell.execute_reply": "2022-11-07T11:24:45.958386Z"
    }
   },
   "outputs": [],
   "source": [
    "subject.Subject & 'subject_birth_date > \"2019-01-01\"'"
   ]
  },
  {
   "cell_type": "markdown",
   "metadata": {},
   "source": [
    "#### Restriction: Query subjects within a range of dates"
   ]
  },
  {
   "cell_type": "code",
   "execution_count": null,
   "metadata": {
    "execution": {
     "iopub.execute_input": "2022-11-07T11:24:45.958386Z",
     "iopub.status.busy": "2022-11-07T11:24:45.958386Z",
     "iopub.status.idle": "2022-11-07T11:24:46.473676Z",
     "shell.execute_reply": "2022-11-07T11:24:46.473676Z"
    }
   },
   "outputs": [],
   "source": [
    "subject.Subject & 'subject_birth_date between \"2019-01-01\" and \"2019-04-01\"'"
   ]
  },
  {
   "cell_type": "markdown",
   "metadata": {},
   "source": [
    "#### Restriction: Query subjects on multiple attributes"
   ]
  },
  {
   "cell_type": "code",
   "execution_count": null,
   "metadata": {
    "execution": {
     "iopub.execute_input": "2022-11-07T11:24:46.473676Z",
     "iopub.status.busy": "2022-11-07T11:24:46.473676Z",
     "iopub.status.idle": "2022-11-07T11:24:47.004907Z",
     "shell.execute_reply": "2022-11-07T11:24:47.004907Z"
    }
   },
   "outputs": [],
   "source": [
    "subject.Subject & 'subject_birth_date > \"2019-01-01\"' & 'sex=\"M\"'"
   ]
  },
  {
   "cell_type": "markdown",
   "metadata": {},
   "source": [
    "#### Restriction: Query subjects restricted by other tables"
   ]
  },
  {
   "cell_type": "code",
   "execution_count": null,
   "metadata": {
    "execution": {
     "iopub.execute_input": "2022-11-07T11:24:47.004907Z",
     "iopub.status.busy": "2022-11-07T11:24:47.004907Z",
     "iopub.status.idle": "2022-11-07T11:24:47.551795Z",
     "shell.execute_reply": "2022-11-07T11:24:47.551795Z"
    }
   },
   "outputs": [],
   "source": [
    "# subjects with Behavioural sessions\n",
    "subject.Subject & acquisition.Session"
   ]
  },
  {
   "cell_type": "code",
   "execution_count": null,
   "metadata": {
    "execution": {
     "iopub.execute_input": "2022-11-07T11:24:47.567348Z",
     "iopub.status.busy": "2022-11-07T11:24:47.567348Z",
     "iopub.status.idle": "2022-11-07T11:24:48.083355Z",
     "shell.execute_reply": "2022-11-07T11:24:48.083355Z"
    }
   },
   "outputs": [],
   "source": [
    "# subjects without Behavioural sessions\n",
    "subject.Subject - acquisition.Session"
   ]
  },
  {
   "cell_type": "markdown",
   "metadata": {},
   "source": [
    "### Join `*`:  gather information from different tables"
   ]
  },
  {
   "cell_type": "code",
   "execution_count": null,
   "metadata": {
    "execution": {
     "iopub.execute_input": "2022-11-07T11:24:48.083355Z",
     "iopub.status.busy": "2022-11-07T11:24:48.083355Z",
     "iopub.status.idle": "2022-11-07T11:24:48.692346Z",
     "shell.execute_reply": "2022-11-07T11:24:48.692346Z"
    }
   },
   "outputs": [],
   "source": [
    "subject.Subject * acquisition.Session"
   ]
  },
  {
   "cell_type": "markdown",
   "metadata": {},
   "source": [
    "### Projection `.proj()`: focus on attributes of interest"
   ]
  },
  {
   "cell_type": "code",
   "execution_count": null,
   "metadata": {
    "execution": {
     "iopub.execute_input": "2022-11-07T11:24:48.692346Z",
     "iopub.status.busy": "2022-11-07T11:24:48.692346Z",
     "iopub.status.idle": "2022-11-07T11:24:49.504923Z",
     "shell.execute_reply": "2022-11-07T11:24:49.504923Z"
    }
   },
   "outputs": [],
   "source": [
    "subject.Subject.proj()"
   ]
  },
  {
   "cell_type": "code",
   "execution_count": null,
   "metadata": {
    "execution": {
     "iopub.execute_input": "2022-11-07T11:24:49.504923Z",
     "iopub.status.busy": "2022-11-07T11:24:49.504923Z",
     "iopub.status.idle": "2022-11-07T11:24:50.036104Z",
     "shell.execute_reply": "2022-11-07T11:24:50.036104Z"
    }
   },
   "outputs": [],
   "source": [
    "subject.Subject.proj('subject_birth_date', 'sex')"
   ]
  },
  {
   "cell_type": "markdown",
   "metadata": {},
   "source": [
    "#### rename attribute with ***proj()***"
   ]
  },
  {
   "cell_type": "code",
   "execution_count": null,
   "metadata": {
    "execution": {
     "iopub.execute_input": "2022-11-07T11:24:50.051731Z",
     "iopub.status.busy": "2022-11-07T11:24:50.036104Z",
     "iopub.status.idle": "2022-11-07T11:24:50.551738Z",
     "shell.execute_reply": "2022-11-07T11:24:50.551738Z"
    }
   },
   "outputs": [],
   "source": [
    "subject.Subject.proj('sex', dob='subject_birth_date')"
   ]
  },
  {
   "cell_type": "markdown",
   "metadata": {},
   "source": [
    "#### perform simple computations with ***proj***"
   ]
  },
  {
   "cell_type": "markdown",
   "metadata": {},
   "source": [
    "**Example 1: Get the date of a session**"
   ]
  },
  {
   "cell_type": "code",
   "execution_count": null,
   "metadata": {
    "execution": {
     "iopub.execute_input": "2022-11-07T11:24:50.567353Z",
     "iopub.status.busy": "2022-11-07T11:24:50.567353Z",
     "iopub.status.idle": "2022-11-07T11:24:50.583250Z",
     "shell.execute_reply": "2022-11-07T11:24:50.583250Z"
    }
   },
   "outputs": [],
   "source": [
    "sessions_with_date = acquisition.Session.proj(session_date='date(session_start_time)')"
   ]
  },
  {
   "cell_type": "code",
   "execution_count": null,
   "metadata": {
    "execution": {
     "iopub.execute_input": "2022-11-07T11:24:50.583250Z",
     "iopub.status.busy": "2022-11-07T11:24:50.583250Z",
     "iopub.status.idle": "2022-11-07T11:24:51.161103Z",
     "shell.execute_reply": "2022-11-07T11:24:51.161103Z"
    }
   },
   "outputs": [],
   "source": [
    "sessions_with_date"
   ]
  },
  {
   "cell_type": "markdown",
   "metadata": {},
   "source": [
    "**Example 2: Get the age of the animal at each session**"
   ]
  },
  {
   "cell_type": "code",
   "execution_count": null,
   "metadata": {
    "execution": {
     "iopub.execute_input": "2022-11-07T11:24:51.161103Z",
     "iopub.status.busy": "2022-11-07T11:24:51.161103Z",
     "iopub.status.idle": "2022-11-07T11:24:51.176723Z",
     "shell.execute_reply": "2022-11-07T11:24:51.176723Z"
    }
   },
   "outputs": [],
   "source": [
    "# First get the date of birth and the session date into the same query\n",
    "q = subject.Subject * acquisition.Session"
   ]
  },
  {
   "cell_type": "code",
   "execution_count": null,
   "metadata": {
    "execution": {
     "iopub.execute_input": "2022-11-07T11:24:51.176723Z",
     "iopub.status.busy": "2022-11-07T11:24:51.176723Z",
     "iopub.status.idle": "2022-11-07T11:24:51.754845Z",
     "shell.execute_reply": "2022-11-07T11:24:51.754845Z"
    }
   },
   "outputs": [],
   "source": [
    "# Then compute the age\n",
    "q_with_age = q.proj(age='datediff(session_start_time, subject_birth_date)')\n",
    "q_with_age"
   ]
  },
  {
   "cell_type": "markdown",
   "metadata": {},
   "source": [
    "### Aggregation `.aggr()`: simple computation of one table against another table"
   ]
  },
  {
   "cell_type": "markdown",
   "metadata": {},
   "source": [
    "**Example: How many sessions has each subject done so far?**"
   ]
  },
  {
   "cell_type": "code",
   "execution_count": null,
   "metadata": {
    "execution": {
     "iopub.execute_input": "2022-11-07T11:24:51.754845Z",
     "iopub.status.busy": "2022-11-07T11:24:51.754845Z",
     "iopub.status.idle": "2022-11-07T11:24:52.317645Z",
     "shell.execute_reply": "2022-11-07T11:24:52.317645Z"
    }
   },
   "outputs": [],
   "source": [
    "subject.Subject.aggr(acquisition.Session, 'subject_nickname', n='count(*)')"
   ]
  },
  {
   "cell_type": "markdown",
   "metadata": {},
   "source": [
    "## 5. Fetching data"
   ]
  },
  {
   "cell_type": "markdown",
   "metadata": {},
   "source": [
    "### Fetch all fields: `fetch()`"
   ]
  },
  {
   "cell_type": "code",
   "execution_count": null,
   "metadata": {
    "execution": {
     "iopub.execute_input": "2022-11-07T11:24:52.333039Z",
     "iopub.status.busy": "2022-11-07T11:24:52.333039Z",
     "iopub.status.idle": "2022-11-07T11:24:52.723594Z",
     "shell.execute_reply": "2022-11-07T11:24:52.723594Z"
    }
   },
   "outputs": [],
   "source": [
    "# fetch all data from a table\n",
    "subjs = subject.Subject.fetch()\n",
    "subjs[:5]"
   ]
  },
  {
   "cell_type": "code",
   "execution_count": null,
   "metadata": {
    "execution": {
     "iopub.execute_input": "2022-11-07T11:24:52.723594Z",
     "iopub.status.busy": "2022-11-07T11:24:52.723594Z",
     "iopub.status.idle": "2022-11-07T11:24:52.739221Z",
     "shell.execute_reply": "2022-11-07T11:24:52.739221Z"
    }
   },
   "outputs": [],
   "source": [
    "subjs['subject_uuid'][:5]"
   ]
  },
  {
   "cell_type": "code",
   "execution_count": null,
   "metadata": {
    "execution": {
     "iopub.execute_input": "2022-11-07T11:24:52.739221Z",
     "iopub.status.busy": "2022-11-07T11:24:52.739221Z",
     "iopub.status.idle": "2022-11-07T11:24:52.755068Z",
     "shell.execute_reply": "2022-11-07T11:24:52.755068Z"
    }
   },
   "outputs": [],
   "source": [
    "subjs['subject_birth_date'][:5]"
   ]
  },
  {
   "cell_type": "code",
   "execution_count": null,
   "metadata": {
    "execution": {
     "iopub.execute_input": "2022-11-07T11:24:52.755068Z",
     "iopub.status.busy": "2022-11-07T11:24:52.755068Z",
     "iopub.status.idle": "2022-11-07T11:24:53.161305Z",
     "shell.execute_reply": "2022-11-07T11:24:53.161305Z"
    }
   },
   "outputs": [],
   "source": [
    "# fetch as a list of dictionaries\n",
    "subjs_dict = subject.Subject.fetch(as_dict=True)\n",
    "subjs_dict[:5]"
   ]
  },
  {
   "cell_type": "code",
   "execution_count": null,
   "metadata": {
    "execution": {
     "iopub.execute_input": "2022-11-07T11:24:53.161305Z",
     "iopub.status.busy": "2022-11-07T11:24:53.161305Z",
     "iopub.status.idle": "2022-11-07T11:24:53.583009Z",
     "shell.execute_reply": "2022-11-07T11:24:53.583009Z"
    }
   },
   "outputs": [],
   "source": [
    "# fetch as pandas dataframe\n",
    "subjs_df = subject.Subject.fetch(format='frame')\n",
    "subjs_df[:5]"
   ]
  },
  {
   "cell_type": "code",
   "execution_count": null,
   "metadata": {
    "execution": {
     "iopub.execute_input": "2022-11-07T11:24:53.583009Z",
     "iopub.status.busy": "2022-11-07T11:24:53.583009Z",
     "iopub.status.idle": "2022-11-07T11:24:53.723595Z",
     "shell.execute_reply": "2022-11-07T11:24:53.723595Z"
    }
   },
   "outputs": [],
   "source": [
    "# fetch the primary key\n",
    "pk = subject.Subject.fetch('KEY')\n",
    "pk[:5]"
   ]
  },
  {
   "cell_type": "code",
   "execution_count": null,
   "metadata": {
    "execution": {
     "iopub.execute_input": "2022-11-07T11:24:53.723595Z",
     "iopub.status.busy": "2022-11-07T11:24:53.723595Z",
     "iopub.status.idle": "2022-11-07T11:24:53.911412Z",
     "shell.execute_reply": "2022-11-07T11:24:53.911412Z"
    }
   },
   "outputs": [],
   "source": [
    "# fetch specific attributes\n",
    "dob, sex = subject.Subject.fetch('subject_birth_date', 'sex')\n",
    "dob[:5]"
   ]
  },
  {
   "cell_type": "code",
   "execution_count": null,
   "metadata": {
    "execution": {
     "iopub.execute_input": "2022-11-07T11:24:53.911412Z",
     "iopub.status.busy": "2022-11-07T11:24:53.911412Z",
     "iopub.status.idle": "2022-11-07T11:24:54.067668Z",
     "shell.execute_reply": "2022-11-07T11:24:54.067668Z"
    }
   },
   "outputs": [],
   "source": [
    "info = subject.Subject.fetch('subject_birth_date', 'sex', as_dict=True)\n",
    "info[:5]"
   ]
  },
  {
   "cell_type": "markdown",
   "metadata": {},
   "source": [
    "### Fetch data from only one entry: `fetch1`"
   ]
  },
  {
   "cell_type": "code",
   "execution_count": null,
   "metadata": {
    "execution": {
     "iopub.execute_input": "2022-11-07T11:24:54.067668Z",
     "iopub.status.busy": "2022-11-07T11:24:54.067668Z",
     "iopub.status.idle": "2022-11-07T11:24:54.192543Z",
     "shell.execute_reply": "2022-11-07T11:24:54.192543Z"
    }
   },
   "outputs": [],
   "source": [
    "ibl_witten_10 = (subject.Subject & {'subject_nickname': 'ibl_witten_10'}).fetch1('KEY')"
   ]
  },
  {
   "cell_type": "code",
   "execution_count": null,
   "metadata": {
    "execution": {
     "iopub.execute_input": "2022-11-07T11:24:54.207995Z",
     "iopub.status.busy": "2022-11-07T11:24:54.207995Z",
     "iopub.status.idle": "2022-11-07T11:24:54.223599Z",
     "shell.execute_reply": "2022-11-07T11:24:54.223599Z"
    }
   },
   "outputs": [],
   "source": [
    "ibl_witten_10"
   ]
  },
  {
   "cell_type": "code",
   "execution_count": null,
   "metadata": {
    "execution": {
     "iopub.execute_input": "2022-11-07T11:24:54.223599Z",
     "iopub.status.busy": "2022-11-07T11:24:54.223599Z",
     "iopub.status.idle": "2022-11-07T11:24:54.348842Z",
     "shell.execute_reply": "2022-11-07T11:24:54.348842Z"
    }
   },
   "outputs": [],
   "source": [
    "IBL_10 = (subject.Subject & {'subject_nickname': 'IBL_10'}).fetch1()"
   ]
  },
  {
   "cell_type": "code",
   "execution_count": null,
   "metadata": {
    "execution": {
     "iopub.execute_input": "2022-11-07T11:24:54.348842Z",
     "iopub.status.busy": "2022-11-07T11:24:54.348842Z",
     "iopub.status.idle": "2022-11-07T11:24:54.364365Z",
     "shell.execute_reply": "2022-11-07T11:24:54.364365Z"
    }
   },
   "outputs": [],
   "source": [
    "IBL_10"
   ]
  }
 ],
 "metadata": {
  "docs_executed": "executed",
  "kernelspec": {
   "display_name": "Python 3",
   "language": "python",
   "name": "python3"
  },
  "language_info": {
   "codemirror_mode": {
    "name": "ipython",
    "version": 3
   },
   "file_extension": ".py",
   "mimetype": "text/x-python",
   "name": "python",
   "nbconvert_exporter": "python",
   "pygments_lexer": "ipython3",
   "version": "3.9.7"
  }
 },
 "nbformat": 4,
 "nbformat_minor": 2
}
