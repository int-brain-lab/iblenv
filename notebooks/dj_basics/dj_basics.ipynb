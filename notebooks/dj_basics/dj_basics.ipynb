{
 "cells": [
  {
   "cell_type": "markdown",
   "metadata": {},
   "source": [
    "# Exploring the IBL Data Pipeline\n",
    "\n",
    "Here we will introduce some useful DataJoint tools and concepts to help you explore the IBL data pipeline. Before proceeding make sure that you have installed the [IBL python environment](../../02_installation.md) and set up your [Datajoint credentials](../../dj_docs/dj_credentials.md)\n",
    "\n"
   ]
  },
  {
   "cell_type": "markdown",
   "metadata": {},
   "source": [
    "## A few definitions\n",
    "First of all, let's define a few basic definitions:\n",
    "\n",
    "- Table - collection of rows and columns that contain data\n",
    "- Schema - a collection of related tables \n",
    "- Module - script where schema and associated tables are defined\n",
    "- Pipeline - collection of schemas\n",
    "\n",
    "Example nomenclature would be to say that we want to get data from the `Subject table` stored in the `ibl_subjects schema` which are together defined in the `subject module` in the `IBL pipeline`. \n",
    "\n",
    "In practice, `modules` are often referred to as schemas and so we would refer to the `subject module` as the `subject schema`"
   ]
  },
  {
   "cell_type": "markdown",
   "metadata": {},
   "source": [
    "Let's now proceed by importing Datajoint and some schemas from the IBL pipeline"
   ]
  },
  {
   "cell_type": "code",
   "execution_count": null,
   "metadata": {
    "execution": {
     "iopub.execute_input": "2022-11-07T09:29:41.157387Z",
     "iopub.status.busy": "2022-11-07T09:29:41.157387Z",
     "iopub.status.idle": "2022-11-07T09:30:09.760528Z",
     "shell.execute_reply": "2022-11-07T09:30:09.760528Z"
    }
   },
   "outputs": [],
   "source": [
    "import datajoint as dj\n",
    "dj.config['display.limit'] = 5\n",
    "from ibl_pipeline import reference, subject, action, acquisition, data, behavior\n",
    "from ibl_pipeline.analyses import behavior as behavior_analyses"
   ]
  },
  {
   "cell_type": "markdown",
   "metadata": {},
   "source": [
    "## 1. Browsing schemas\n",
    "The IBL pipeline contains a number of different schemas. To browse which schemas are available, we can use the `dj.list_schemas()` command,"
   ]
  },
  {
   "cell_type": "code",
   "execution_count": null,
   "metadata": {
    "execution": {
     "iopub.execute_input": "2022-11-07T09:30:09.764534Z",
     "iopub.status.busy": "2022-11-07T09:30:09.762554Z",
     "iopub.status.idle": "2022-11-07T09:30:09.893919Z",
     "shell.execute_reply": "2022-11-07T09:30:09.893919Z"
    }
   },
   "outputs": [],
   "source": [
    "dj.list_schemas()"
   ]
  },
  {
   "cell_type": "markdown",
   "metadata": {},
   "source": [
    "\n",
    "### Major schemas include:   \n",
    "Meta data from **Alyx**: `ibl_reference`, `ibl_subject`, `ibl_action`, `ibl_acquisition`, and `ibl_data`  \n",
    "Imported data from **FlatIron**: `ibl_behavior` and `ibl_ephys`  \n",
    "Computed analzyed results: `ibl_analyses_behavior`\n"
   ]
  },
  {
   "cell_type": "markdown",
   "metadata": {},
   "source": [
    "## 2. Browsing tables in a schemas\n",
    "We can see what tables are defined in a schema using the `dj.Diagram` command. For example, to see the tables defined in the `subject` schema we can type,"
   ]
  },
  {
   "cell_type": "markdown",
   "metadata": {},
   "source": [
    "```\n",
    "dj.Diagram(subject)\n",
    "```"
   ]
  },
  {
   "cell_type": "markdown",
   "metadata": {},
   "source": [
    "<div class=\"alert alert-info\">\n",
    "\n",
    "Note\n",
    "\n",
    "For more information about the what the different colours and line types mean, please refer to this more comprehensive [tutorial](https://github.com/int-brain-lab/IBL-pipeline/blob/master/notebooks/notebooks_tutorial/201909_code_camp/1-Explore%20IBL%20data%20pipeline%20with%20DataJoint.ipynb)\n",
    "</div>"
   ]
  },
  {
   "cell_type": "markdown",
   "metadata": {},
   "source": [
    "We can also use the following code snippet to list the tables that are defined in a schema"
   ]
  },
  {
   "cell_type": "code",
   "execution_count": null,
   "metadata": {
    "execution": {
     "iopub.execute_input": "2022-11-07T09:30:09.902329Z",
     "iopub.status.busy": "2022-11-07T09:30:09.901316Z",
     "iopub.status.idle": "2022-11-07T09:30:09.910318Z",
     "shell.execute_reply": "2022-11-07T09:30:09.909316Z"
    }
   },
   "outputs": [],
   "source": [
    "from datajoint.user_tables import UserTable\n",
    "import inspect\n",
    "\n",
    "\n",
    "def list_tables(schema):\n",
    "    for k in dir(schema):\n",
    "        t = getattr(schema, k)\n",
    "        if inspect.isclass(t) and issubclass(t, UserTable):\n",
    "            print(k)"
   ]
  },
  {
   "cell_type": "code",
   "execution_count": null,
   "metadata": {
    "execution": {
     "iopub.execute_input": "2022-11-07T09:30:09.915317Z",
     "iopub.status.busy": "2022-11-07T09:30:09.914316Z",
     "iopub.status.idle": "2022-11-07T09:30:09.924318Z",
     "shell.execute_reply": "2022-11-07T09:30:09.924318Z"
    }
   },
   "outputs": [],
   "source": [
    "list_tables(subject)"
   ]
  },
  {
   "cell_type": "markdown",
   "metadata": {},
   "source": [
    "## 3. Getting the detailed definition of a table\n",
    "To find out details about a table, we can use the `describe` method"
   ]
  },
  {
   "cell_type": "code",
   "execution_count": null,
   "metadata": {
    "execution": {
     "iopub.execute_input": "2022-11-07T09:30:09.929317Z",
     "iopub.status.busy": "2022-11-07T09:30:09.928318Z",
     "iopub.status.idle": "2022-11-07T09:30:10.830039Z",
     "shell.execute_reply": "2022-11-07T09:30:10.829074Z"
    }
   },
   "outputs": [],
   "source": [
    "subject.Subject.describe()"
   ]
  },
  {
   "cell_type": "markdown",
   "metadata": {},
   "source": [
    "## 4. Browsing data in tables  - queries"
   ]
  },
  {
   "cell_type": "markdown",
   "metadata": {},
   "source": [
    "Query all subjects"
   ]
  },
  {
   "cell_type": "code",
   "execution_count": null,
   "metadata": {
    "execution": {
     "iopub.execute_input": "2022-11-07T09:30:10.835034Z",
     "iopub.status.busy": "2022-11-07T09:30:10.834034Z",
     "iopub.status.idle": "2022-11-07T09:30:11.329037Z",
     "shell.execute_reply": "2022-11-07T09:30:11.330037Z"
    }
   },
   "outputs": [],
   "source": [
    "subject.Subject()"
   ]
  },
  {
   "cell_type": "markdown",
   "metadata": {},
   "source": [
    "### Restriction  `&`: filtering data"
   ]
  },
  {
   "cell_type": "markdown",
   "metadata": {},
   "source": [
    "#### Restriction: Query one subject"
   ]
  },
  {
   "cell_type": "code",
   "execution_count": null,
   "metadata": {
    "execution": {
     "iopub.execute_input": "2022-11-07T09:30:11.334039Z",
     "iopub.status.busy": "2022-11-07T09:30:11.332037Z",
     "iopub.status.idle": "2022-11-07T09:30:11.815183Z",
     "shell.execute_reply": "2022-11-07T09:30:11.815183Z"
    }
   },
   "outputs": [],
   "source": [
    "# restrict by string\n",
    "subject.Subject & 'subject_nickname=\"ibl_witten_10\"'"
   ]
  },
  {
   "cell_type": "code",
   "execution_count": null,
   "metadata": {
    "execution": {
     "iopub.execute_input": "2022-11-07T09:30:11.820185Z",
     "iopub.status.busy": "2022-11-07T09:30:11.818185Z",
     "iopub.status.idle": "2022-11-07T09:30:12.334553Z",
     "shell.execute_reply": "2022-11-07T09:30:12.335554Z"
    }
   },
   "outputs": [],
   "source": [
    "# restrict by dictionary\n",
    "from uuid import UUID\n",
    "subject.Subject & {'subject_uuid': UUID('00c60db3-74c3-4ee2-9df9-2c84acf84e92')}"
   ]
  },
  {
   "cell_type": "markdown",
   "metadata": {},
   "source": [
    "#### Restriction: Query all male subjects"
   ]
  },
  {
   "cell_type": "code",
   "execution_count": null,
   "metadata": {
    "execution": {
     "iopub.execute_input": "2022-11-07T09:30:12.339661Z",
     "iopub.status.busy": "2022-11-07T09:30:12.337550Z",
     "iopub.status.idle": "2022-11-07T09:30:13.165034Z",
     "shell.execute_reply": "2022-11-07T09:30:13.165356Z"
    }
   },
   "outputs": [],
   "source": [
    "subject.Subject & {'sex': 'm'}"
   ]
  },
  {
   "cell_type": "markdown",
   "metadata": {},
   "source": [
    "#### Restriction: Query subjects born after a date"
   ]
  },
  {
   "cell_type": "code",
   "execution_count": null,
   "metadata": {
    "execution": {
     "iopub.execute_input": "2022-11-07T09:30:13.170365Z",
     "iopub.status.busy": "2022-11-07T09:30:13.169366Z",
     "iopub.status.idle": "2022-11-07T09:30:13.670625Z",
     "shell.execute_reply": "2022-11-07T09:30:13.669589Z"
    }
   },
   "outputs": [],
   "source": [
    "subject.Subject & 'subject_birth_date > \"2019-01-01\"'"
   ]
  },
  {
   "cell_type": "markdown",
   "metadata": {},
   "source": [
    "#### Restriction: Query subjects within a range of dates"
   ]
  },
  {
   "cell_type": "code",
   "execution_count": null,
   "metadata": {
    "execution": {
     "iopub.execute_input": "2022-11-07T09:30:13.675587Z",
     "iopub.status.busy": "2022-11-07T09:30:13.674589Z",
     "iopub.status.idle": "2022-11-07T09:30:14.455086Z",
     "shell.execute_reply": "2022-11-07T09:30:14.455086Z"
    }
   },
   "outputs": [],
   "source": [
    "subject.Subject & 'subject_birth_date between \"2019-01-01\" and \"2019-04-01\"'"
   ]
  },
  {
   "cell_type": "markdown",
   "metadata": {},
   "source": [
    "#### Restriction: Query subjects on multiple attributes"
   ]
  },
  {
   "cell_type": "code",
   "execution_count": null,
   "metadata": {
    "execution": {
     "iopub.execute_input": "2022-11-07T09:30:14.460084Z",
     "iopub.status.busy": "2022-11-07T09:30:14.460084Z",
     "iopub.status.idle": "2022-11-07T09:30:14.932088Z",
     "shell.execute_reply": "2022-11-07T09:30:14.932088Z"
    }
   },
   "outputs": [],
   "source": [
    "subject.Subject & 'subject_birth_date > \"2019-01-01\"' & 'sex=\"M\"'"
   ]
  },
  {
   "cell_type": "markdown",
   "metadata": {},
   "source": [
    "#### Restriction: Query subjects restricted by other tables"
   ]
  },
  {
   "cell_type": "code",
   "execution_count": null,
   "metadata": {
    "execution": {
     "iopub.execute_input": "2022-11-07T09:30:14.937118Z",
     "iopub.status.busy": "2022-11-07T09:30:14.937118Z",
     "iopub.status.idle": "2022-11-07T09:30:15.423084Z",
     "shell.execute_reply": "2022-11-07T09:30:15.422082Z"
    }
   },
   "outputs": [],
   "source": [
    "# subjects with Behavioural sessions\n",
    "subject.Subject & acquisition.Session"
   ]
  },
  {
   "cell_type": "code",
   "execution_count": null,
   "metadata": {
    "execution": {
     "iopub.execute_input": "2022-11-07T09:30:15.429085Z",
     "iopub.status.busy": "2022-11-07T09:30:15.428086Z",
     "iopub.status.idle": "2022-11-07T09:30:15.929086Z",
     "shell.execute_reply": "2022-11-07T09:30:15.929086Z"
    }
   },
   "outputs": [],
   "source": [
    "# subjects without Behavioural sessions\n",
    "subject.Subject - acquisition.Session"
   ]
  },
  {
   "cell_type": "markdown",
   "metadata": {},
   "source": [
    "### Join `*`:  gather information from different tables"
   ]
  },
  {
   "cell_type": "code",
   "execution_count": null,
   "metadata": {
    "execution": {
     "iopub.execute_input": "2022-11-07T09:30:15.935086Z",
     "iopub.status.busy": "2022-11-07T09:30:15.934086Z",
     "iopub.status.idle": "2022-11-07T09:30:16.545086Z",
     "shell.execute_reply": "2022-11-07T09:30:16.546087Z"
    }
   },
   "outputs": [],
   "source": [
    "subject.Subject * acquisition.Session"
   ]
  },
  {
   "cell_type": "markdown",
   "metadata": {},
   "source": [
    "### Projection `.proj()`: focus on attributes of interest"
   ]
  },
  {
   "cell_type": "code",
   "execution_count": null,
   "metadata": {
    "execution": {
     "iopub.execute_input": "2022-11-07T09:30:16.553088Z",
     "iopub.status.busy": "2022-11-07T09:30:16.552086Z",
     "iopub.status.idle": "2022-11-07T09:30:17.065103Z",
     "shell.execute_reply": "2022-11-07T09:30:17.064084Z"
    }
   },
   "outputs": [],
   "source": [
    "subject.Subject.proj()"
   ]
  },
  {
   "cell_type": "code",
   "execution_count": null,
   "metadata": {
    "execution": {
     "iopub.execute_input": "2022-11-07T09:30:17.069102Z",
     "iopub.status.busy": "2022-11-07T09:30:17.067084Z",
     "iopub.status.idle": "2022-11-07T09:30:17.538145Z",
     "shell.execute_reply": "2022-11-07T09:30:17.538145Z"
    }
   },
   "outputs": [],
   "source": [
    "subject.Subject.proj('subject_birth_date', 'sex')"
   ]
  },
  {
   "cell_type": "markdown",
   "metadata": {},
   "source": [
    "#### rename attribute with ***proj()***"
   ]
  },
  {
   "cell_type": "code",
   "execution_count": null,
   "metadata": {
    "execution": {
     "iopub.execute_input": "2022-11-07T09:30:17.544145Z",
     "iopub.status.busy": "2022-11-07T09:30:17.543148Z",
     "iopub.status.idle": "2022-11-07T09:30:18.029144Z",
     "shell.execute_reply": "2022-11-07T09:30:18.029144Z"
    }
   },
   "outputs": [],
   "source": [
    "subject.Subject.proj('sex', dob='subject_birth_date')"
   ]
  },
  {
   "cell_type": "markdown",
   "metadata": {},
   "source": [
    "#### perform simple computations with ***proj***"
   ]
  },
  {
   "cell_type": "markdown",
   "metadata": {},
   "source": [
    "**Example 1: Get the date of a session**"
   ]
  },
  {
   "cell_type": "code",
   "execution_count": null,
   "metadata": {
    "execution": {
     "iopub.execute_input": "2022-11-07T09:30:18.033146Z",
     "iopub.status.busy": "2022-11-07T09:30:18.033146Z",
     "iopub.status.idle": "2022-11-07T09:30:18.045145Z",
     "shell.execute_reply": "2022-11-07T09:30:18.044146Z"
    }
   },
   "outputs": [],
   "source": [
    "sessions_with_date = acquisition.Session.proj(session_date='date(session_start_time)')"
   ]
  },
  {
   "cell_type": "code",
   "execution_count": null,
   "metadata": {
    "execution": {
     "iopub.execute_input": "2022-11-07T09:30:18.049144Z",
     "iopub.status.busy": "2022-11-07T09:30:18.048142Z",
     "iopub.status.idle": "2022-11-07T09:30:18.562147Z",
     "shell.execute_reply": "2022-11-07T09:30:18.563149Z"
    }
   },
   "outputs": [],
   "source": [
    "sessions_with_date"
   ]
  },
  {
   "cell_type": "markdown",
   "metadata": {},
   "source": [
    "**Example 2: Get the age of the animal at each session**"
   ]
  },
  {
   "cell_type": "code",
   "execution_count": null,
   "metadata": {
    "execution": {
     "iopub.execute_input": "2022-11-07T09:30:18.567144Z",
     "iopub.status.busy": "2022-11-07T09:30:18.566144Z",
     "iopub.status.idle": "2022-11-07T09:30:18.578144Z",
     "shell.execute_reply": "2022-11-07T09:30:18.579169Z"
    }
   },
   "outputs": [],
   "source": [
    "# First get the date of birth and the session date into the same query\n",
    "q = subject.Subject * acquisition.Session"
   ]
  },
  {
   "cell_type": "code",
   "execution_count": null,
   "metadata": {
    "execution": {
     "iopub.execute_input": "2022-11-07T09:30:18.583145Z",
     "iopub.status.busy": "2022-11-07T09:30:18.583145Z",
     "iopub.status.idle": "2022-11-07T09:30:19.146949Z",
     "shell.execute_reply": "2022-11-07T09:30:19.148945Z"
    }
   },
   "outputs": [],
   "source": [
    "# Then compute the age\n",
    "q_with_age = q.proj(age='datediff(session_start_time, subject_birth_date)')\n",
    "q_with_age"
   ]
  },
  {
   "cell_type": "markdown",
   "metadata": {},
   "source": [
    "### Aggregation `.aggr()`: simple computation of one table against another table"
   ]
  },
  {
   "cell_type": "markdown",
   "metadata": {},
   "source": [
    "**Example: How many sessions has each subject done so far?**"
   ]
  },
  {
   "cell_type": "code",
   "execution_count": null,
   "metadata": {
    "execution": {
     "iopub.execute_input": "2022-11-07T09:30:19.158941Z",
     "iopub.status.busy": "2022-11-07T09:30:19.157943Z",
     "iopub.status.idle": "2022-11-07T09:30:19.685215Z",
     "shell.execute_reply": "2022-11-07T09:30:19.685215Z"
    }
   },
   "outputs": [],
   "source": [
    "subject.Subject.aggr(acquisition.Session, 'subject_nickname', n='count(*)')"
   ]
  },
  {
   "cell_type": "markdown",
   "metadata": {},
   "source": [
    "## 5. Fetching data"
   ]
  },
  {
   "cell_type": "markdown",
   "metadata": {},
   "source": [
    "### Fetch all fields: `fetch()`"
   ]
  },
  {
   "cell_type": "code",
   "execution_count": null,
   "metadata": {
    "execution": {
     "iopub.execute_input": "2022-11-07T09:30:19.689215Z",
     "iopub.status.busy": "2022-11-07T09:30:19.689215Z",
     "iopub.status.idle": "2022-11-07T09:30:19.986359Z",
     "shell.execute_reply": "2022-11-07T09:30:19.985326Z"
    }
   },
   "outputs": [],
   "source": [
    "# fetch all data from a table\n",
    "subjs = subject.Subject.fetch()\n",
    "subjs[:5]"
   ]
  },
  {
   "cell_type": "code",
   "execution_count": null,
   "metadata": {
    "execution": {
     "iopub.execute_input": "2022-11-07T09:30:19.990323Z",
     "iopub.status.busy": "2022-11-07T09:30:19.989342Z",
     "iopub.status.idle": "2022-11-07T09:30:20.001502Z",
     "shell.execute_reply": "2022-11-07T09:30:20.000709Z"
    }
   },
   "outputs": [],
   "source": [
    "subjs['subject_uuid'][:5]"
   ]
  },
  {
   "cell_type": "code",
   "execution_count": null,
   "metadata": {
    "execution": {
     "iopub.execute_input": "2022-11-07T09:30:20.005512Z",
     "iopub.status.busy": "2022-11-07T09:30:20.004509Z",
     "iopub.status.idle": "2022-11-07T09:30:20.016571Z",
     "shell.execute_reply": "2022-11-07T09:30:20.015573Z"
    }
   },
   "outputs": [],
   "source": [
    "subjs['subject_birth_date'][:5]"
   ]
  },
  {
   "cell_type": "code",
   "execution_count": null,
   "metadata": {
    "execution": {
     "iopub.execute_input": "2022-11-07T09:30:20.020571Z",
     "iopub.status.busy": "2022-11-07T09:30:20.018573Z",
     "iopub.status.idle": "2022-11-07T09:30:20.217375Z",
     "shell.execute_reply": "2022-11-07T09:30:20.216376Z"
    }
   },
   "outputs": [],
   "source": [
    "# fetch as a list of dictionaries\n",
    "subjs_dict = subject.Subject.fetch(as_dict=True)\n",
    "subjs_dict[:5]"
   ]
  },
  {
   "cell_type": "code",
   "execution_count": null,
   "metadata": {
    "execution": {
     "iopub.execute_input": "2022-11-07T09:30:20.221382Z",
     "iopub.status.busy": "2022-11-07T09:30:20.221382Z",
     "iopub.status.idle": "2022-11-07T09:30:20.420717Z",
     "shell.execute_reply": "2022-11-07T09:30:20.421715Z"
    }
   },
   "outputs": [],
   "source": [
    "# fetch as pandas dataframe\n",
    "subjs_df = subject.Subject.fetch(format='frame')\n",
    "subjs_df[:5]"
   ]
  },
  {
   "cell_type": "code",
   "execution_count": null,
   "metadata": {
    "execution": {
     "iopub.execute_input": "2022-11-07T09:30:20.426716Z",
     "iopub.status.busy": "2022-11-07T09:30:20.425718Z",
     "iopub.status.idle": "2022-11-07T09:30:20.579291Z",
     "shell.execute_reply": "2022-11-07T09:30:20.578249Z"
    }
   },
   "outputs": [],
   "source": [
    "# fetch the primary key\n",
    "pk = subject.Subject.fetch('KEY')\n",
    "pk[:5]"
   ]
  },
  {
   "cell_type": "code",
   "execution_count": null,
   "metadata": {
    "execution": {
     "iopub.execute_input": "2022-11-07T09:30:20.583253Z",
     "iopub.status.busy": "2022-11-07T09:30:20.583253Z",
     "iopub.status.idle": "2022-11-07T09:30:20.751251Z",
     "shell.execute_reply": "2022-11-07T09:30:20.753252Z"
    }
   },
   "outputs": [],
   "source": [
    "# fetch specific attributes\n",
    "dob, sex = subject.Subject.fetch('subject_birth_date', 'sex')\n",
    "dob[:5]"
   ]
  },
  {
   "cell_type": "code",
   "execution_count": null,
   "metadata": {
    "execution": {
     "iopub.execute_input": "2022-11-07T09:30:20.757255Z",
     "iopub.status.busy": "2022-11-07T09:30:20.757255Z",
     "iopub.status.idle": "2022-11-07T09:30:20.910251Z",
     "shell.execute_reply": "2022-11-07T09:30:20.909249Z"
    }
   },
   "outputs": [],
   "source": [
    "info = subject.Subject.fetch('subject_birth_date', 'sex', as_dict=True)\n",
    "info[:5]"
   ]
  },
  {
   "cell_type": "markdown",
   "metadata": {},
   "source": [
    "### Fetch data from only one entry: `fetch1`"
   ]
  },
  {
   "cell_type": "code",
   "execution_count": null,
   "metadata": {
    "execution": {
     "iopub.execute_input": "2022-11-07T09:30:20.915293Z",
     "iopub.status.busy": "2022-11-07T09:30:20.914253Z",
     "iopub.status.idle": "2022-11-07T09:30:21.056913Z",
     "shell.execute_reply": "2022-11-07T09:30:21.053913Z"
    }
   },
   "outputs": [],
   "source": [
    "ibl_witten_10 = (subject.Subject & {'subject_nickname': 'ibl_witten_10'}).fetch1('KEY')"
   ]
  },
  {
   "cell_type": "code",
   "execution_count": null,
   "metadata": {
    "execution": {
     "iopub.execute_input": "2022-11-07T09:30:21.066844Z",
     "iopub.status.busy": "2022-11-07T09:30:21.065846Z",
     "iopub.status.idle": "2022-11-07T09:30:21.081545Z",
     "shell.execute_reply": "2022-11-07T09:30:21.082506Z"
    }
   },
   "outputs": [],
   "source": [
    "ibl_witten_10"
   ]
  },
  {
   "cell_type": "code",
   "execution_count": null,
   "metadata": {
    "execution": {
     "iopub.execute_input": "2022-11-07T09:30:21.086564Z",
     "iopub.status.busy": "2022-11-07T09:30:21.085508Z",
     "iopub.status.idle": "2022-11-07T09:30:21.209898Z",
     "shell.execute_reply": "2022-11-07T09:30:21.208857Z"
    }
   },
   "outputs": [],
   "source": [
    "IBL_10 = (subject.Subject & {'subject_nickname': 'IBL_10'}).fetch1()"
   ]
  },
  {
   "cell_type": "code",
   "execution_count": null,
   "metadata": {
    "execution": {
     "iopub.execute_input": "2022-11-07T09:30:21.214857Z",
     "iopub.status.busy": "2022-11-07T09:30:21.213856Z",
     "iopub.status.idle": "2022-11-07T09:30:21.224856Z",
     "shell.execute_reply": "2022-11-07T09:30:21.224856Z"
    }
   },
   "outputs": [],
   "source": [
    "IBL_10"
   ]
  }
 ],
 "metadata": {
  "docs_executed": "executed",
  "kernelspec": {
   "display_name": "Python 3",
   "language": "python",
   "name": "python3"
  },
  "language_info": {
   "codemirror_mode": {
    "name": "ipython",
    "version": 3
   },
   "file_extension": ".py",
   "mimetype": "text/x-python",
   "name": "python",
   "nbconvert_exporter": "python",
   "pygments_lexer": "ipython3",
   "version": "3.9.7"
  }
 },
 "nbformat": 4,
 "nbformat_minor": 2
}
