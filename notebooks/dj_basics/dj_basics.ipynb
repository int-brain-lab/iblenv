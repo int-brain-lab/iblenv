{
 "cells": [
  {
   "cell_type": "markdown",
   "metadata": {},
   "source": [
    "# Exploring the IBL Data Pipeline\n",
    "\n",
    "Here we will introduce some useful DataJoint tools and concepts to help you explore the IBL data pipeline. Before proceeding make sure that you have installed the [IBL python environment](../../02_installation.md) and set up your [Datajoint credentials](../../dj_docs/dj_credentials.md)\n",
    "\n"
   ]
  },
  {
   "cell_type": "markdown",
   "metadata": {},
   "source": [
    "## A few definitions\n",
    "First of all, let's define a few basic definitions:\n",
    "\n",
    "- Table - collection of rows and columns that contain data\n",
    "- Schema - a collection of related tables \n",
    "- Module - script where schema and associated tables are defined\n",
    "- Pipeline - collection of schemas\n",
    "\n",
    "Example nomenclature would be to say that we want to get data from the `Subject table` stored in the `ibl_subjects schema` which are together defined in the `subject module` in the `IBL pipeline`. \n",
    "\n",
    "In practice, `modules` are often referred to as schemas and so we would refer to the `subject module` as the `subject schema`"
   ]
  },
  {
   "cell_type": "markdown",
   "metadata": {},
   "source": [
    "Let's now proceed by importing Datajoint and some schemas from the IBL pipeline"
   ]
  },
  {
   "cell_type": "code",
   "execution_count": null,
   "metadata": {
    "execution": {
     "iopub.execute_input": "2022-05-07T00:13:54.386501Z",
     "iopub.status.busy": "2022-05-07T00:13:54.378497Z",
     "iopub.status.idle": "2022-05-07T00:14:15.011715Z",
     "shell.execute_reply": "2022-05-07T00:14:15.008710Z"
    }
   },
   "outputs": [],
   "source": [
    "import datajoint as dj\n",
    "dj.config['display.limit'] = 5\n",
    "from ibl_pipeline import reference, subject, action, acquisition, data, behavior\n",
    "from ibl_pipeline.analyses import behavior as behavior_analyses"
   ]
  },
  {
   "cell_type": "markdown",
   "metadata": {},
   "source": [
    "## 1. Browsing schemas\n",
    "The IBL pipeline contains a number of different schemas. To browse which schemas are available, we can use the `dj.list_schemas()` command,"
   ]
  },
  {
   "cell_type": "code",
   "execution_count": null,
   "metadata": {
    "execution": {
     "iopub.execute_input": "2022-05-07T00:14:15.030666Z",
     "iopub.status.busy": "2022-05-07T00:14:15.027666Z",
     "iopub.status.idle": "2022-05-07T00:14:15.163620Z",
     "shell.execute_reply": "2022-05-07T00:14:15.165611Z"
    }
   },
   "outputs": [],
   "source": [
    "dj.list_schemas()"
   ]
  },
  {
   "cell_type": "markdown",
   "metadata": {},
   "source": [
    "\n",
    "### Major schemas include:   \n",
    "Meta data from **Alyx**: `ibl_reference`, `ibl_subject`, `ibl_action`, `ibl_acquisition`, and `ibl_data`  \n",
    "Imported data from **FlatIron**: `ibl_behavior` and `ibl_ephys`  \n",
    "Computed analzyed results: `ibl_analyses_behavior`\n"
   ]
  },
  {
   "cell_type": "markdown",
   "metadata": {},
   "source": [
    "## 2. Browsing tables in a schemas\n",
    "We can see what tables are defined in a schema using the `dj.Diagram` command. For example, to see the tables defined in the `subject` schema we can type,"
   ]
  },
  {
   "cell_type": "markdown",
   "metadata": {},
   "source": [
    "```\n",
    "dj.Diagram(subject)\n",
    "```"
   ]
  },
  {
   "cell_type": "markdown",
   "metadata": {},
   "source": [
    "<div class=\"alert alert-info\">\n",
    "\n",
    "Note\n",
    "\n",
    "For more information about the what the different colours and line types mean, please refer to this more comprehensive [tutorial](https://github.com/int-brain-lab/IBL-pipeline/blob/master/notebooks/notebooks_tutorial/201909_code_camp/1-Explore%20IBL%20data%20pipeline%20with%20DataJoint.ipynb)\n",
    "</div>"
   ]
  },
  {
   "cell_type": "markdown",
   "metadata": {},
   "source": [
    "We can also use the following code snippet to list the tables that are defined in a schema"
   ]
  },
  {
   "cell_type": "code",
   "execution_count": null,
   "metadata": {
    "execution": {
     "iopub.execute_input": "2022-05-07T00:14:15.188556Z",
     "iopub.status.busy": "2022-05-07T00:14:15.186390Z",
     "iopub.status.idle": "2022-05-07T00:14:15.210980Z",
     "shell.execute_reply": "2022-05-07T00:14:15.211978Z"
    }
   },
   "outputs": [],
   "source": [
    "from datajoint.user_tables import UserTable\n",
    "import inspect\n",
    "\n",
    "\n",
    "def list_tables(schema):\n",
    "    for k in dir(schema):\n",
    "        t = getattr(schema, k)\n",
    "        if inspect.isclass(t) and issubclass(t, UserTable):\n",
    "            print(k)"
   ]
  },
  {
   "cell_type": "code",
   "execution_count": null,
   "metadata": {
    "execution": {
     "iopub.execute_input": "2022-05-07T00:14:15.234977Z",
     "iopub.status.busy": "2022-05-07T00:14:15.232995Z",
     "iopub.status.idle": "2022-05-07T00:14:15.275131Z",
     "shell.execute_reply": "2022-05-07T00:14:15.272129Z"
    }
   },
   "outputs": [],
   "source": [
    "list_tables(subject)"
   ]
  },
  {
   "cell_type": "markdown",
   "metadata": {},
   "source": [
    "## 3. Getting the detailed definition of a table\n",
    "To find out details about a table, we can use the `describe` method"
   ]
  },
  {
   "cell_type": "code",
   "execution_count": null,
   "metadata": {
    "execution": {
     "iopub.execute_input": "2022-05-07T00:14:15.293073Z",
     "iopub.status.busy": "2022-05-07T00:14:15.291071Z",
     "iopub.status.idle": "2022-05-07T00:14:16.532967Z",
     "shell.execute_reply": "2022-05-07T00:14:16.533966Z"
    }
   },
   "outputs": [],
   "source": [
    "subject.Subject.describe()"
   ]
  },
  {
   "cell_type": "markdown",
   "metadata": {},
   "source": [
    "## 4. Browsing data in tables  - queries"
   ]
  },
  {
   "cell_type": "markdown",
   "metadata": {},
   "source": [
    "Query all subjects"
   ]
  },
  {
   "cell_type": "code",
   "execution_count": null,
   "metadata": {
    "execution": {
     "iopub.execute_input": "2022-05-07T00:14:16.549119Z",
     "iopub.status.busy": "2022-05-07T00:14:16.547086Z",
     "iopub.status.idle": "2022-05-07T00:14:16.966223Z",
     "shell.execute_reply": "2022-05-07T00:14:16.971164Z"
    }
   },
   "outputs": [],
   "source": [
    "subject.Subject()"
   ]
  },
  {
   "cell_type": "markdown",
   "metadata": {},
   "source": [
    "### Restriction  `&`: filtering data"
   ]
  },
  {
   "cell_type": "markdown",
   "metadata": {},
   "source": [
    "#### Restriction: Query one subject"
   ]
  },
  {
   "cell_type": "code",
   "execution_count": null,
   "metadata": {
    "execution": {
     "iopub.execute_input": "2022-05-07T00:14:16.995166Z",
     "iopub.status.busy": "2022-05-07T00:14:16.985167Z",
     "iopub.status.idle": "2022-05-07T00:14:17.422313Z",
     "shell.execute_reply": "2022-05-07T00:14:17.424307Z"
    }
   },
   "outputs": [],
   "source": [
    "# restrict by string\n",
    "subject.Subject & 'subject_nickname=\"ibl_witten_10\"'"
   ]
  },
  {
   "cell_type": "code",
   "execution_count": null,
   "metadata": {
    "execution": {
     "iopub.execute_input": "2022-05-07T00:14:17.441820Z",
     "iopub.status.busy": "2022-05-07T00:14:17.439820Z",
     "iopub.status.idle": "2022-05-07T00:14:17.874300Z",
     "shell.execute_reply": "2022-05-07T00:14:17.875297Z"
    }
   },
   "outputs": [],
   "source": [
    "# restrict by dictionary\n",
    "from uuid import UUID\n",
    "subject.Subject & {'subject_uuid': UUID('00c60db3-74c3-4ee2-9df9-2c84acf84e92')}"
   ]
  },
  {
   "cell_type": "markdown",
   "metadata": {},
   "source": [
    "#### Restriction: Query all male subjects"
   ]
  },
  {
   "cell_type": "code",
   "execution_count": null,
   "metadata": {
    "execution": {
     "iopub.execute_input": "2022-05-07T00:14:17.884255Z",
     "iopub.status.busy": "2022-05-07T00:14:17.883258Z",
     "iopub.status.idle": "2022-05-07T00:14:18.301088Z",
     "shell.execute_reply": "2022-05-07T00:14:18.305087Z"
    }
   },
   "outputs": [],
   "source": [
    "subject.Subject & {'sex': 'm'}"
   ]
  },
  {
   "cell_type": "markdown",
   "metadata": {},
   "source": [
    "#### Restriction: Query subjects born after a date"
   ]
  },
  {
   "cell_type": "code",
   "execution_count": null,
   "metadata": {
    "execution": {
     "iopub.execute_input": "2022-05-07T00:14:18.328097Z",
     "iopub.status.busy": "2022-05-07T00:14:18.325110Z",
     "iopub.status.idle": "2022-05-07T00:14:18.751262Z",
     "shell.execute_reply": "2022-05-07T00:14:18.750769Z"
    }
   },
   "outputs": [],
   "source": [
    "subject.Subject & 'subject_birth_date > \"2019-01-01\"'"
   ]
  },
  {
   "cell_type": "markdown",
   "metadata": {},
   "source": [
    "#### Restriction: Query subjects within a range of dates"
   ]
  },
  {
   "cell_type": "code",
   "execution_count": null,
   "metadata": {
    "execution": {
     "iopub.execute_input": "2022-05-07T00:14:18.761260Z",
     "iopub.status.busy": "2022-05-07T00:14:18.759259Z",
     "iopub.status.idle": "2022-05-07T00:14:19.198842Z",
     "shell.execute_reply": "2022-05-07T00:14:19.196847Z"
    }
   },
   "outputs": [],
   "source": [
    "subject.Subject & 'subject_birth_date between \"2019-01-01\" and \"2019-04-01\"'"
   ]
  },
  {
   "cell_type": "markdown",
   "metadata": {},
   "source": [
    "#### Restriction: Query subjects on multiple attributes"
   ]
  },
  {
   "cell_type": "code",
   "execution_count": null,
   "metadata": {
    "execution": {
     "iopub.execute_input": "2022-05-07T00:14:19.218781Z",
     "iopub.status.busy": "2022-05-07T00:14:19.216782Z",
     "iopub.status.idle": "2022-05-07T00:14:19.650220Z",
     "shell.execute_reply": "2022-05-07T00:14:19.648218Z"
    }
   },
   "outputs": [],
   "source": [
    "subject.Subject & 'subject_birth_date > \"2019-01-01\"' & 'sex=\"M\"'"
   ]
  },
  {
   "cell_type": "markdown",
   "metadata": {},
   "source": [
    "#### Restriction: Query subjects restricted by other tables"
   ]
  },
  {
   "cell_type": "code",
   "execution_count": null,
   "metadata": {
    "execution": {
     "iopub.execute_input": "2022-05-07T00:14:19.675238Z",
     "iopub.status.busy": "2022-05-07T00:14:19.672238Z",
     "iopub.status.idle": "2022-05-07T00:14:20.136278Z",
     "shell.execute_reply": "2022-05-07T00:14:20.138228Z"
    }
   },
   "outputs": [],
   "source": [
    "# subjects with Behavioural sessions\n",
    "subject.Subject & acquisition.Session"
   ]
  },
  {
   "cell_type": "code",
   "execution_count": null,
   "metadata": {
    "execution": {
     "iopub.execute_input": "2022-05-07T00:14:20.151280Z",
     "iopub.status.busy": "2022-05-07T00:14:20.150270Z",
     "iopub.status.idle": "2022-05-07T00:14:20.623295Z",
     "shell.execute_reply": "2022-05-07T00:14:20.620299Z"
    }
   },
   "outputs": [],
   "source": [
    "# subjects without Behavioural sessions\n",
    "subject.Subject - acquisition.Session"
   ]
  },
  {
   "cell_type": "markdown",
   "metadata": {},
   "source": [
    "### Join `*`:  gather information from different tables"
   ]
  },
  {
   "cell_type": "code",
   "execution_count": null,
   "metadata": {
    "execution": {
     "iopub.execute_input": "2022-05-07T00:14:20.652296Z",
     "iopub.status.busy": "2022-05-07T00:14:20.649294Z",
     "iopub.status.idle": "2022-05-07T00:14:21.409304Z",
     "shell.execute_reply": "2022-05-07T00:14:21.405247Z"
    }
   },
   "outputs": [],
   "source": [
    "subject.Subject * acquisition.Session"
   ]
  },
  {
   "cell_type": "markdown",
   "metadata": {},
   "source": [
    "### Projection `.proj()`: focus on attributes of interest"
   ]
  },
  {
   "cell_type": "code",
   "execution_count": null,
   "metadata": {
    "execution": {
     "iopub.execute_input": "2022-05-07T00:14:21.429243Z",
     "iopub.status.busy": "2022-05-07T00:14:21.421303Z",
     "iopub.status.idle": "2022-05-07T00:14:21.859651Z",
     "shell.execute_reply": "2022-05-07T00:14:21.858651Z"
    }
   },
   "outputs": [],
   "source": [
    "subject.Subject.proj()"
   ]
  },
  {
   "cell_type": "code",
   "execution_count": null,
   "metadata": {
    "execution": {
     "iopub.execute_input": "2022-05-07T00:14:21.879655Z",
     "iopub.status.busy": "2022-05-07T00:14:21.871595Z",
     "iopub.status.idle": "2022-05-07T00:14:22.277924Z",
     "shell.execute_reply": "2022-05-07T00:14:22.280924Z"
    }
   },
   "outputs": [],
   "source": [
    "subject.Subject.proj('subject_birth_date', 'sex')"
   ]
  },
  {
   "cell_type": "markdown",
   "metadata": {},
   "source": [
    "#### rename attribute with ***proj()***"
   ]
  },
  {
   "cell_type": "code",
   "execution_count": null,
   "metadata": {
    "execution": {
     "iopub.execute_input": "2022-05-07T00:14:22.299924Z",
     "iopub.status.busy": "2022-05-07T00:14:22.297922Z",
     "iopub.status.idle": "2022-05-07T00:14:22.694357Z",
     "shell.execute_reply": "2022-05-07T00:14:22.695356Z"
    }
   },
   "outputs": [],
   "source": [
    "subject.Subject.proj('sex', dob='subject_birth_date')"
   ]
  },
  {
   "cell_type": "markdown",
   "metadata": {},
   "source": [
    "#### perform simple computations with ***proj***"
   ]
  },
  {
   "cell_type": "markdown",
   "metadata": {},
   "source": [
    "**Example 1: Get the date of a session**"
   ]
  },
  {
   "cell_type": "code",
   "execution_count": null,
   "metadata": {
    "execution": {
     "iopub.execute_input": "2022-05-07T00:14:22.701360Z",
     "iopub.status.busy": "2022-05-07T00:14:22.700355Z",
     "iopub.status.idle": "2022-05-07T00:14:22.710398Z",
     "shell.execute_reply": "2022-05-07T00:14:22.710398Z"
    }
   },
   "outputs": [],
   "source": [
    "sessions_with_date = acquisition.Session.proj(session_date='date(session_start_time)')"
   ]
  },
  {
   "cell_type": "code",
   "execution_count": null,
   "metadata": {
    "execution": {
     "iopub.execute_input": "2022-05-07T00:14:22.716359Z",
     "iopub.status.busy": "2022-05-07T00:14:22.714356Z",
     "iopub.status.idle": "2022-05-07T00:14:23.374620Z",
     "shell.execute_reply": "2022-05-07T00:14:23.377624Z"
    }
   },
   "outputs": [],
   "source": [
    "sessions_with_date"
   ]
  },
  {
   "cell_type": "markdown",
   "metadata": {},
   "source": [
    "**Example 2: Get the age of the animal at each session**"
   ]
  },
  {
   "cell_type": "code",
   "execution_count": null,
   "metadata": {
    "execution": {
     "iopub.execute_input": "2022-05-07T00:14:23.398573Z",
     "iopub.status.busy": "2022-05-07T00:14:23.395630Z",
     "iopub.status.idle": "2022-05-07T00:14:23.410621Z",
     "shell.execute_reply": "2022-05-07T00:14:23.408627Z"
    }
   },
   "outputs": [],
   "source": [
    "# First get the date of birth and the session date into the same query\n",
    "q = subject.Subject * acquisition.Session"
   ]
  },
  {
   "cell_type": "code",
   "execution_count": null,
   "metadata": {
    "execution": {
     "iopub.execute_input": "2022-05-07T00:14:23.430626Z",
     "iopub.status.busy": "2022-05-07T00:14:23.428571Z",
     "iopub.status.idle": "2022-05-07T00:14:24.131893Z",
     "shell.execute_reply": "2022-05-07T00:14:24.133888Z"
    }
   },
   "outputs": [],
   "source": [
    "# Then compute the age\n",
    "q_with_age = q.proj(age='datediff(session_start_time, subject_birth_date)')\n",
    "q_with_age"
   ]
  },
  {
   "cell_type": "markdown",
   "metadata": {},
   "source": [
    "### Aggregation `.aggr()`: simple computation of one table against another table"
   ]
  },
  {
   "cell_type": "markdown",
   "metadata": {},
   "source": [
    "**Example: How many sessions has each subject done so far?**"
   ]
  },
  {
   "cell_type": "code",
   "execution_count": null,
   "metadata": {
    "execution": {
     "iopub.execute_input": "2022-05-07T00:14:24.157170Z",
     "iopub.status.busy": "2022-05-07T00:14:24.146822Z",
     "iopub.status.idle": "2022-05-07T00:14:24.781480Z",
     "shell.execute_reply": "2022-05-07T00:14:24.782442Z"
    }
   },
   "outputs": [],
   "source": [
    "subject.Subject.aggr(acquisition.Session, 'subject_nickname', n='count(*)')"
   ]
  },
  {
   "cell_type": "markdown",
   "metadata": {},
   "source": [
    "## 5. Fetching data"
   ]
  },
  {
   "cell_type": "markdown",
   "metadata": {},
   "source": [
    "### Fetch all fields: `fetch()`"
   ]
  },
  {
   "cell_type": "code",
   "execution_count": null,
   "metadata": {
    "execution": {
     "iopub.execute_input": "2022-05-07T00:14:24.789437Z",
     "iopub.status.busy": "2022-05-07T00:14:24.788444Z",
     "iopub.status.idle": "2022-05-07T00:14:25.750513Z",
     "shell.execute_reply": "2022-05-07T00:14:25.748520Z"
    }
   },
   "outputs": [],
   "source": [
    "# fetch all data from a table\n",
    "subjs = subject.Subject.fetch()\n",
    "subjs[:5]"
   ]
  },
  {
   "cell_type": "code",
   "execution_count": null,
   "metadata": {
    "execution": {
     "iopub.execute_input": "2022-05-07T00:14:25.757514Z",
     "iopub.status.busy": "2022-05-07T00:14:25.756514Z",
     "iopub.status.idle": "2022-05-07T00:14:25.767520Z",
     "shell.execute_reply": "2022-05-07T00:14:25.766560Z"
    }
   },
   "outputs": [],
   "source": [
    "subjs['subject_uuid'][:5]"
   ]
  },
  {
   "cell_type": "code",
   "execution_count": null,
   "metadata": {
    "execution": {
     "iopub.execute_input": "2022-05-07T00:14:25.779519Z",
     "iopub.status.busy": "2022-05-07T00:14:25.778513Z",
     "iopub.status.idle": "2022-05-07T00:14:25.797522Z",
     "shell.execute_reply": "2022-05-07T00:14:25.796518Z"
    }
   },
   "outputs": [],
   "source": [
    "subjs['subject_birth_date'][:5]"
   ]
  },
  {
   "cell_type": "code",
   "execution_count": null,
   "metadata": {
    "execution": {
     "iopub.execute_input": "2022-05-07T00:14:25.803518Z",
     "iopub.status.busy": "2022-05-07T00:14:25.801514Z",
     "iopub.status.idle": "2022-05-07T00:14:26.613262Z",
     "shell.execute_reply": "2022-05-07T00:14:26.612262Z"
    }
   },
   "outputs": [],
   "source": [
    "# fetch as a list of dictionaries\n",
    "subjs_dict = subject.Subject.fetch(as_dict=True)\n",
    "subjs_dict[:5]"
   ]
  },
  {
   "cell_type": "code",
   "execution_count": null,
   "metadata": {
    "execution": {
     "iopub.execute_input": "2022-05-07T00:14:26.633268Z",
     "iopub.status.busy": "2022-05-07T00:14:26.629265Z",
     "iopub.status.idle": "2022-05-07T00:14:27.351889Z",
     "shell.execute_reply": "2022-05-07T00:14:27.352884Z"
    }
   },
   "outputs": [],
   "source": [
    "# fetch as pandas dataframe\n",
    "subjs_df = subject.Subject.fetch(format='frame')\n",
    "subjs_df[:5]"
   ]
  },
  {
   "cell_type": "code",
   "execution_count": null,
   "metadata": {
    "execution": {
     "iopub.execute_input": "2022-05-07T00:14:27.361884Z",
     "iopub.status.busy": "2022-05-07T00:14:27.360882Z",
     "iopub.status.idle": "2022-05-07T00:14:27.644693Z",
     "shell.execute_reply": "2022-05-07T00:14:27.640639Z"
    }
   },
   "outputs": [],
   "source": [
    "# fetch the primary key\n",
    "pk = subject.Subject.fetch('KEY')\n",
    "pk[:5]"
   ]
  },
  {
   "cell_type": "code",
   "execution_count": null,
   "metadata": {
    "execution": {
     "iopub.execute_input": "2022-05-07T00:14:27.664705Z",
     "iopub.status.busy": "2022-05-07T00:14:27.662650Z",
     "iopub.status.idle": "2022-05-07T00:14:27.952265Z",
     "shell.execute_reply": "2022-05-07T00:14:27.956261Z"
    }
   },
   "outputs": [],
   "source": [
    "# fetch specific attributes\n",
    "dob, sex = subject.Subject.fetch('subject_birth_date', 'sex')\n",
    "dob[:5]"
   ]
  },
  {
   "cell_type": "code",
   "execution_count": null,
   "metadata": {
    "execution": {
     "iopub.execute_input": "2022-05-07T00:14:27.978056Z",
     "iopub.status.busy": "2022-05-07T00:14:27.975060Z",
     "iopub.status.idle": "2022-05-07T00:14:28.273147Z",
     "shell.execute_reply": "2022-05-07T00:14:28.275147Z"
    }
   },
   "outputs": [],
   "source": [
    "info = subject.Subject.fetch('subject_birth_date', 'sex', as_dict=True)\n",
    "info[:5]"
   ]
  },
  {
   "cell_type": "markdown",
   "metadata": {},
   "source": [
    "### Fetch data from only one entry: `fetch1`"
   ]
  },
  {
   "cell_type": "code",
   "execution_count": null,
   "metadata": {
    "execution": {
     "iopub.execute_input": "2022-05-07T00:14:28.286177Z",
     "iopub.status.busy": "2022-05-07T00:14:28.285530Z",
     "iopub.status.idle": "2022-05-07T00:14:28.397366Z",
     "shell.execute_reply": "2022-05-07T00:14:28.396187Z"
    }
   },
   "outputs": [],
   "source": [
    "ibl_witten_10 = (subject.Subject & {'subject_nickname': 'ibl_witten_10'}).fetch1('KEY')"
   ]
  },
  {
   "cell_type": "code",
   "execution_count": null,
   "metadata": {
    "execution": {
     "iopub.execute_input": "2022-05-07T00:14:28.404145Z",
     "iopub.status.busy": "2022-05-07T00:14:28.402142Z",
     "iopub.status.idle": "2022-05-07T00:14:28.412148Z",
     "shell.execute_reply": "2022-05-07T00:14:28.413148Z"
    }
   },
   "outputs": [],
   "source": [
    "ibl_witten_10"
   ]
  },
  {
   "cell_type": "code",
   "execution_count": null,
   "metadata": {
    "execution": {
     "iopub.execute_input": "2022-05-07T00:14:28.418143Z",
     "iopub.status.busy": "2022-05-07T00:14:28.418143Z",
     "iopub.status.idle": "2022-05-07T00:14:28.526084Z",
     "shell.execute_reply": "2022-05-07T00:14:28.525093Z"
    }
   },
   "outputs": [],
   "source": [
    "IBL_10 = (subject.Subject & {'subject_nickname': 'IBL_10'}).fetch1()"
   ]
  },
  {
   "cell_type": "code",
   "execution_count": null,
   "metadata": {
    "execution": {
     "iopub.execute_input": "2022-05-07T00:14:28.538041Z",
     "iopub.status.busy": "2022-05-07T00:14:28.536050Z",
     "iopub.status.idle": "2022-05-07T00:14:28.558041Z",
     "shell.execute_reply": "2022-05-07T00:14:28.557048Z"
    }
   },
   "outputs": [],
   "source": [
    "IBL_10"
   ]
  }
 ],
 "metadata": {
  "docs_executed": "executed",
  "kernelspec": {
   "display_name": "Python 3",
   "language": "python",
   "name": "python3"
  },
  "language_info": {
   "codemirror_mode": {
    "name": "ipython",
    "version": 3
   },
   "file_extension": ".py",
   "mimetype": "text/x-python",
   "name": "python",
   "nbconvert_exporter": "python",
   "pygments_lexer": "ipython3",
   "version": "3.9.7"
  }
 },
 "nbformat": 4,
 "nbformat_minor": 2
}
