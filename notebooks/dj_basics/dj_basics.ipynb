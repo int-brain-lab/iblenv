{
 "cells": [
  {
   "cell_type": "markdown",
   "metadata": {},
   "source": [
    "# Exploring the IBL Data Pipeline\n",
    "\n",
    "Here we will introduce some useful DataJoint tools and concepts to help you explore the IBL data pipeline. Before proceeding make sure that you have installed the [IBL python environment](../../02_installation.md) and set up your [Datajoint credentials](../../dj_docs/dj_credentials.md)\n",
    "\n"
   ]
  },
  {
   "cell_type": "markdown",
   "metadata": {},
   "source": [
    "## A few definitions\n",
    "First of all, let's define a few basic definitions:\n",
    "\n",
    "- Table - collection of rows and columns that contain data\n",
    "- Schema - a collection of related tables \n",
    "- Module - script where schema and associated tables are defined\n",
    "- Pipeline - collection of schemas\n",
    "\n",
    "Example nomenclature would be to say that we want to get data from the `Subject table` stored in the `ibl_subjects schema` which are together defined in the `subject module` in the `IBL pipeline`. \n",
    "\n",
    "In practice, `modules` are often referred to as schemas and so we would refer to the `subject module` as the `subject schema`"
   ]
  },
  {
   "cell_type": "markdown",
   "metadata": {},
   "source": [
    "Let's now proceed by importing Datajoint and some schemas from the IBL pipeline"
   ]
  },
  {
   "cell_type": "code",
   "execution_count": null,
   "metadata": {
    "execution": {
     "iopub.execute_input": "2022-05-05T06:58:40.453863Z",
     "iopub.status.busy": "2022-05-05T06:58:40.452867Z",
     "iopub.status.idle": "2022-05-05T06:59:09.020487Z",
     "shell.execute_reply": "2022-05-05T06:59:09.021488Z"
    }
   },
   "outputs": [],
   "source": [
    "import datajoint as dj\n",
    "dj.config['display.limit'] = 5\n",
    "from ibl_pipeline import reference, subject, action, acquisition, data, behavior\n",
    "from ibl_pipeline.analyses import behavior as behavior_analyses"
   ]
  },
  {
   "cell_type": "markdown",
   "metadata": {},
   "source": [
    "## 1. Browsing schemas\n",
    "The IBL pipeline contains a number of different schemas. To browse which schemas are available, we can use the `dj.list_schemas()` command,"
   ]
  },
  {
   "cell_type": "code",
   "execution_count": null,
   "metadata": {
    "execution": {
     "iopub.execute_input": "2022-05-05T06:59:09.044487Z",
     "iopub.status.busy": "2022-05-05T06:59:09.043487Z",
     "iopub.status.idle": "2022-05-05T06:59:09.242488Z",
     "shell.execute_reply": "2022-05-05T06:59:09.241488Z"
    }
   },
   "outputs": [],
   "source": [
    "dj.list_schemas()"
   ]
  },
  {
   "cell_type": "markdown",
   "metadata": {},
   "source": [
    "\n",
    "### Major schemas include:   \n",
    "Meta data from **Alyx**: `ibl_reference`, `ibl_subject`, `ibl_action`, `ibl_acquisition`, and `ibl_data`  \n",
    "Imported data from **FlatIron**: `ibl_behavior` and `ibl_ephys`  \n",
    "Computed analzyed results: `ibl_analyses_behavior`\n"
   ]
  },
  {
   "cell_type": "markdown",
   "metadata": {},
   "source": [
    "## 2. Browsing tables in a schemas\n",
    "We can see what tables are defined in a schema using the `dj.Diagram` command. For example, to see the tables defined in the `subject` schema we can type,"
   ]
  },
  {
   "cell_type": "markdown",
   "metadata": {},
   "source": [
    "```\n",
    "dj.Diagram(subject)\n",
    "```"
   ]
  },
  {
   "cell_type": "markdown",
   "metadata": {},
   "source": [
    "<div class=\"alert alert-info\">\n",
    "\n",
    "Note\n",
    "\n",
    "For more information about the what the different colours and line types mean, please refer to this more comprehensive [tutorial](https://github.com/int-brain-lab/IBL-pipeline/blob/master/notebooks/notebooks_tutorial/201909_code_camp/1-Explore%20IBL%20data%20pipeline%20with%20DataJoint.ipynb)\n",
    "</div>"
   ]
  },
  {
   "cell_type": "markdown",
   "metadata": {},
   "source": [
    "We can also use the following code snippet to list the tables that are defined in a schema"
   ]
  },
  {
   "cell_type": "code",
   "execution_count": null,
   "metadata": {
    "execution": {
     "iopub.execute_input": "2022-05-05T06:59:09.256488Z",
     "iopub.status.busy": "2022-05-05T06:59:09.255487Z",
     "iopub.status.idle": "2022-05-05T06:59:09.274487Z",
     "shell.execute_reply": "2022-05-05T06:59:09.273487Z"
    }
   },
   "outputs": [],
   "source": [
    "from datajoint.user_tables import UserTable\n",
    "import inspect\n",
    "\n",
    "\n",
    "def list_tables(schema):\n",
    "    for k in dir(schema):\n",
    "        t = getattr(schema, k)\n",
    "        if inspect.isclass(t) and issubclass(t, UserTable):\n",
    "            print(k)"
   ]
  },
  {
   "cell_type": "code",
   "execution_count": null,
   "metadata": {
    "execution": {
     "iopub.execute_input": "2022-05-05T06:59:09.287488Z",
     "iopub.status.busy": "2022-05-05T06:59:09.286488Z",
     "iopub.status.idle": "2022-05-05T06:59:09.303491Z",
     "shell.execute_reply": "2022-05-05T06:59:09.305490Z"
    }
   },
   "outputs": [],
   "source": [
    "list_tables(subject)"
   ]
  },
  {
   "cell_type": "markdown",
   "metadata": {},
   "source": [
    "## 3. Getting the detailed definition of a table\n",
    "To find out details about a table, we can use the `describe` method"
   ]
  },
  {
   "cell_type": "code",
   "execution_count": null,
   "metadata": {
    "execution": {
     "iopub.execute_input": "2022-05-05T06:59:09.312488Z",
     "iopub.status.busy": "2022-05-05T06:59:09.311488Z",
     "iopub.status.idle": "2022-05-05T06:59:11.190526Z",
     "shell.execute_reply": "2022-05-05T06:59:11.188486Z"
    }
   },
   "outputs": [],
   "source": [
    "subject.Subject.describe()"
   ]
  },
  {
   "cell_type": "markdown",
   "metadata": {},
   "source": [
    "## 4. Browsing data in tables  - queries"
   ]
  },
  {
   "cell_type": "markdown",
   "metadata": {},
   "source": [
    "Query all subjects"
   ]
  },
  {
   "cell_type": "code",
   "execution_count": null,
   "metadata": {
    "execution": {
     "iopub.execute_input": "2022-05-05T06:59:11.197487Z",
     "iopub.status.busy": "2022-05-05T06:59:11.196487Z",
     "iopub.status.idle": "2022-05-05T06:59:11.745489Z",
     "shell.execute_reply": "2022-05-05T06:59:11.744489Z"
    }
   },
   "outputs": [],
   "source": [
    "subject.Subject()"
   ]
  },
  {
   "cell_type": "markdown",
   "metadata": {},
   "source": [
    "### Restriction  `&`: filtering data"
   ]
  },
  {
   "cell_type": "markdown",
   "metadata": {},
   "source": [
    "#### Restriction: Query one subject"
   ]
  },
  {
   "cell_type": "code",
   "execution_count": null,
   "metadata": {
    "execution": {
     "iopub.execute_input": "2022-05-05T06:59:11.751527Z",
     "iopub.status.busy": "2022-05-05T06:59:11.748488Z",
     "iopub.status.idle": "2022-05-05T06:59:12.280488Z",
     "shell.execute_reply": "2022-05-05T06:59:12.280488Z"
    }
   },
   "outputs": [],
   "source": [
    "# restrict by string\n",
    "subject.Subject & 'subject_nickname=\"ibl_witten_10\"'"
   ]
  },
  {
   "cell_type": "code",
   "execution_count": null,
   "metadata": {
    "execution": {
     "iopub.execute_input": "2022-05-05T06:59:12.287491Z",
     "iopub.status.busy": "2022-05-05T06:59:12.285489Z",
     "iopub.status.idle": "2022-05-05T06:59:12.800199Z",
     "shell.execute_reply": "2022-05-05T06:59:12.799196Z"
    }
   },
   "outputs": [],
   "source": [
    "# restrict by dictionary\n",
    "from uuid import UUID\n",
    "subject.Subject & {'subject_uuid': UUID('00c60db3-74c3-4ee2-9df9-2c84acf84e92')}"
   ]
  },
  {
   "cell_type": "markdown",
   "metadata": {},
   "source": [
    "#### Restriction: Query all male subjects"
   ]
  },
  {
   "cell_type": "code",
   "execution_count": null,
   "metadata": {
    "execution": {
     "iopub.execute_input": "2022-05-05T06:59:12.806197Z",
     "iopub.status.busy": "2022-05-05T06:59:12.806197Z",
     "iopub.status.idle": "2022-05-05T06:59:13.322196Z",
     "shell.execute_reply": "2022-05-05T06:59:13.323195Z"
    }
   },
   "outputs": [],
   "source": [
    "subject.Subject & {'sex': 'm'}"
   ]
  },
  {
   "cell_type": "markdown",
   "metadata": {},
   "source": [
    "#### Restriction: Query subjects born after a date"
   ]
  },
  {
   "cell_type": "code",
   "execution_count": null,
   "metadata": {
    "execution": {
     "iopub.execute_input": "2022-05-05T06:59:13.332196Z",
     "iopub.status.busy": "2022-05-05T06:59:13.331196Z",
     "iopub.status.idle": "2022-05-05T06:59:13.852193Z",
     "shell.execute_reply": "2022-05-05T06:59:13.853194Z"
    }
   },
   "outputs": [],
   "source": [
    "subject.Subject & 'subject_birth_date > \"2019-01-01\"'"
   ]
  },
  {
   "cell_type": "markdown",
   "metadata": {},
   "source": [
    "#### Restriction: Query subjects within a range of dates"
   ]
  },
  {
   "cell_type": "code",
   "execution_count": null,
   "metadata": {
    "execution": {
     "iopub.execute_input": "2022-05-05T06:59:13.859195Z",
     "iopub.status.busy": "2022-05-05T06:59:13.858232Z",
     "iopub.status.idle": "2022-05-05T06:59:14.389198Z",
     "shell.execute_reply": "2022-05-05T06:59:14.389198Z"
    }
   },
   "outputs": [],
   "source": [
    "subject.Subject & 'subject_birth_date between \"2019-01-01\" and \"2019-04-01\"'"
   ]
  },
  {
   "cell_type": "markdown",
   "metadata": {},
   "source": [
    "#### Restriction: Query subjects on multiple attributes"
   ]
  },
  {
   "cell_type": "code",
   "execution_count": null,
   "metadata": {
    "execution": {
     "iopub.execute_input": "2022-05-05T06:59:14.394267Z",
     "iopub.status.busy": "2022-05-05T06:59:14.392198Z",
     "iopub.status.idle": "2022-05-05T06:59:14.936440Z",
     "shell.execute_reply": "2022-05-05T06:59:14.935443Z"
    }
   },
   "outputs": [],
   "source": [
    "subject.Subject & 'subject_birth_date > \"2019-01-01\"' & 'sex=\"M\"'"
   ]
  },
  {
   "cell_type": "markdown",
   "metadata": {},
   "source": [
    "#### Restriction: Query subjects restricted by other tables"
   ]
  },
  {
   "cell_type": "code",
   "execution_count": null,
   "metadata": {
    "execution": {
     "iopub.execute_input": "2022-05-05T06:59:14.942485Z",
     "iopub.status.busy": "2022-05-05T06:59:14.941445Z",
     "iopub.status.idle": "2022-05-05T06:59:15.547016Z",
     "shell.execute_reply": "2022-05-05T06:59:15.545982Z"
    }
   },
   "outputs": [],
   "source": [
    "# subjects with Behavioural sessions\n",
    "subject.Subject & acquisition.Session"
   ]
  },
  {
   "cell_type": "code",
   "execution_count": null,
   "metadata": {
    "execution": {
     "iopub.execute_input": "2022-05-05T06:59:15.549981Z",
     "iopub.status.busy": "2022-05-05T06:59:15.549981Z",
     "iopub.status.idle": "2022-05-05T06:59:16.142282Z",
     "shell.execute_reply": "2022-05-05T06:59:16.140146Z"
    }
   },
   "outputs": [],
   "source": [
    "# subjects without Behavioural sessions\n",
    "subject.Subject - acquisition.Session"
   ]
  },
  {
   "cell_type": "markdown",
   "metadata": {},
   "source": [
    "### Join `*`:  gather information from different tables"
   ]
  },
  {
   "cell_type": "code",
   "execution_count": null,
   "metadata": {
    "execution": {
     "iopub.execute_input": "2022-05-05T06:59:16.152128Z",
     "iopub.status.busy": "2022-05-05T06:59:16.151116Z",
     "iopub.status.idle": "2022-05-05T06:59:16.953485Z",
     "shell.execute_reply": "2022-05-05T06:59:16.954485Z"
    }
   },
   "outputs": [],
   "source": [
    "subject.Subject * acquisition.Session"
   ]
  },
  {
   "cell_type": "markdown",
   "metadata": {},
   "source": [
    "### Projection `.proj()`: focus on attributes of interest"
   ]
  },
  {
   "cell_type": "code",
   "execution_count": null,
   "metadata": {
    "execution": {
     "iopub.execute_input": "2022-05-05T06:59:16.962484Z",
     "iopub.status.busy": "2022-05-05T06:59:16.961484Z",
     "iopub.status.idle": "2022-05-05T06:59:17.491539Z",
     "shell.execute_reply": "2022-05-05T06:59:17.488471Z"
    }
   },
   "outputs": [],
   "source": [
    "subject.Subject.proj()"
   ]
  },
  {
   "cell_type": "code",
   "execution_count": null,
   "metadata": {
    "execution": {
     "iopub.execute_input": "2022-05-05T06:59:17.503471Z",
     "iopub.status.busy": "2022-05-05T06:59:17.502526Z",
     "iopub.status.idle": "2022-05-05T06:59:18.036379Z",
     "shell.execute_reply": "2022-05-05T06:59:18.036379Z"
    }
   },
   "outputs": [],
   "source": [
    "subject.Subject.proj('subject_birth_date', 'sex')"
   ]
  },
  {
   "cell_type": "markdown",
   "metadata": {},
   "source": [
    "#### rename attribute with ***proj()***"
   ]
  },
  {
   "cell_type": "code",
   "execution_count": null,
   "metadata": {
    "execution": {
     "iopub.execute_input": "2022-05-05T06:59:18.044418Z",
     "iopub.status.busy": "2022-05-05T06:59:18.043423Z",
     "iopub.status.idle": "2022-05-05T06:59:18.570692Z",
     "shell.execute_reply": "2022-05-05T06:59:18.569690Z"
    }
   },
   "outputs": [],
   "source": [
    "subject.Subject.proj('sex', dob='subject_birth_date')"
   ]
  },
  {
   "cell_type": "markdown",
   "metadata": {},
   "source": [
    "#### perform simple computations with ***proj***"
   ]
  },
  {
   "cell_type": "markdown",
   "metadata": {},
   "source": [
    "**Example 1: Get the date of a session**"
   ]
  },
  {
   "cell_type": "code",
   "execution_count": null,
   "metadata": {
    "execution": {
     "iopub.execute_input": "2022-05-05T06:59:18.576693Z",
     "iopub.status.busy": "2022-05-05T06:59:18.575692Z",
     "iopub.status.idle": "2022-05-05T06:59:18.586691Z",
     "shell.execute_reply": "2022-05-05T06:59:18.585690Z"
    }
   },
   "outputs": [],
   "source": [
    "sessions_with_date = acquisition.Session.proj(session_date='date(session_start_time)')"
   ]
  },
  {
   "cell_type": "code",
   "execution_count": null,
   "metadata": {
    "execution": {
     "iopub.execute_input": "2022-05-05T06:59:18.590718Z",
     "iopub.status.busy": "2022-05-05T06:59:18.590718Z",
     "iopub.status.idle": "2022-05-05T06:59:20.318053Z",
     "shell.execute_reply": "2022-05-05T06:59:20.317836Z"
    }
   },
   "outputs": [],
   "source": [
    "sessions_with_date"
   ]
  },
  {
   "cell_type": "markdown",
   "metadata": {},
   "source": [
    "**Example 2: Get the age of the animal at each session**"
   ]
  },
  {
   "cell_type": "code",
   "execution_count": null,
   "metadata": {
    "execution": {
     "iopub.execute_input": "2022-05-05T06:59:20.322062Z",
     "iopub.status.busy": "2022-05-05T06:59:20.322062Z",
     "iopub.status.idle": "2022-05-05T06:59:20.334531Z",
     "shell.execute_reply": "2022-05-05T06:59:20.333531Z"
    }
   },
   "outputs": [],
   "source": [
    "# First get the date of birth and the session date into the same query\n",
    "q = subject.Subject * acquisition.Session"
   ]
  },
  {
   "cell_type": "code",
   "execution_count": null,
   "metadata": {
    "execution": {
     "iopub.execute_input": "2022-05-05T06:59:20.338531Z",
     "iopub.status.busy": "2022-05-05T06:59:20.338531Z",
     "iopub.status.idle": "2022-05-05T06:59:21.166507Z",
     "shell.execute_reply": "2022-05-05T06:59:21.165515Z"
    }
   },
   "outputs": [],
   "source": [
    "# Then compute the age\n",
    "q_with_age = q.proj(age='datediff(session_start_time, subject_birth_date)')\n",
    "q_with_age"
   ]
  },
  {
   "cell_type": "markdown",
   "metadata": {},
   "source": [
    "### Aggregation `.aggr()`: simple computation of one table against another table"
   ]
  },
  {
   "cell_type": "markdown",
   "metadata": {},
   "source": [
    "**Example: How many sessions has each subject done so far?**"
   ]
  },
  {
   "cell_type": "code",
   "execution_count": null,
   "metadata": {
    "execution": {
     "iopub.execute_input": "2022-05-05T06:59:21.178621Z",
     "iopub.status.busy": "2022-05-05T06:59:21.177605Z",
     "iopub.status.idle": "2022-05-05T06:59:21.846748Z",
     "shell.execute_reply": "2022-05-05T06:59:21.845751Z"
    }
   },
   "outputs": [],
   "source": [
    "subject.Subject.aggr(acquisition.Session, 'subject_nickname', n='count(*)')"
   ]
  },
  {
   "cell_type": "markdown",
   "metadata": {},
   "source": [
    "## 5. Fetching data"
   ]
  },
  {
   "cell_type": "markdown",
   "metadata": {},
   "source": [
    "### Fetch all fields: `fetch()`"
   ]
  },
  {
   "cell_type": "code",
   "execution_count": null,
   "metadata": {
    "execution": {
     "iopub.execute_input": "2022-05-05T06:59:21.853745Z",
     "iopub.status.busy": "2022-05-05T06:59:21.852744Z",
     "iopub.status.idle": "2022-05-05T06:59:23.277933Z",
     "shell.execute_reply": "2022-05-05T06:59:23.277933Z"
    }
   },
   "outputs": [],
   "source": [
    "# fetch all data from a table\n",
    "subjs = subject.Subject.fetch()\n",
    "subjs[:5]"
   ]
  },
  {
   "cell_type": "code",
   "execution_count": null,
   "metadata": {
    "execution": {
     "iopub.execute_input": "2022-05-05T06:59:23.282932Z",
     "iopub.status.busy": "2022-05-05T06:59:23.281932Z",
     "iopub.status.idle": "2022-05-05T06:59:23.293932Z",
     "shell.execute_reply": "2022-05-05T06:59:23.293932Z"
    }
   },
   "outputs": [],
   "source": [
    "subjs['subject_uuid'][:5]"
   ]
  },
  {
   "cell_type": "code",
   "execution_count": null,
   "metadata": {
    "execution": {
     "iopub.execute_input": "2022-05-05T06:59:23.299932Z",
     "iopub.status.busy": "2022-05-05T06:59:23.296933Z",
     "iopub.status.idle": "2022-05-05T06:59:23.309932Z",
     "shell.execute_reply": "2022-05-05T06:59:23.309932Z"
    }
   },
   "outputs": [],
   "source": [
    "subjs['subject_birth_date'][:5]"
   ]
  },
  {
   "cell_type": "code",
   "execution_count": null,
   "metadata": {
    "execution": {
     "iopub.execute_input": "2022-05-05T06:59:23.313933Z",
     "iopub.status.busy": "2022-05-05T06:59:23.313933Z",
     "iopub.status.idle": "2022-05-05T06:59:24.334960Z",
     "shell.execute_reply": "2022-05-05T06:59:24.335955Z"
    }
   },
   "outputs": [],
   "source": [
    "# fetch as a list of dictionaries\n",
    "subjs_dict = subject.Subject.fetch(as_dict=True)\n",
    "subjs_dict[:5]"
   ]
  },
  {
   "cell_type": "code",
   "execution_count": null,
   "metadata": {
    "execution": {
     "iopub.execute_input": "2022-05-05T06:59:24.341961Z",
     "iopub.status.busy": "2022-05-05T06:59:24.341961Z",
     "iopub.status.idle": "2022-05-05T06:59:25.311956Z",
     "shell.execute_reply": "2022-05-05T06:59:25.312956Z"
    }
   },
   "outputs": [],
   "source": [
    "# fetch as pandas dataframe\n",
    "subjs_df = subject.Subject.fetch(format='frame')\n",
    "subjs_df[:5]"
   ]
  },
  {
   "cell_type": "code",
   "execution_count": null,
   "metadata": {
    "execution": {
     "iopub.execute_input": "2022-05-05T06:59:25.363956Z",
     "iopub.status.busy": "2022-05-05T06:59:25.362956Z",
     "iopub.status.idle": "2022-05-05T06:59:25.573956Z",
     "shell.execute_reply": "2022-05-05T06:59:25.574957Z"
    }
   },
   "outputs": [],
   "source": [
    "# fetch the primary key\n",
    "pk = subject.Subject.fetch('KEY')\n",
    "pk[:5]"
   ]
  },
  {
   "cell_type": "code",
   "execution_count": null,
   "metadata": {
    "execution": {
     "iopub.execute_input": "2022-05-05T06:59:25.585956Z",
     "iopub.status.busy": "2022-05-05T06:59:25.580958Z",
     "iopub.status.idle": "2022-05-05T06:59:25.927956Z",
     "shell.execute_reply": "2022-05-05T06:59:25.929956Z"
    }
   },
   "outputs": [],
   "source": [
    "# fetch specific attributes\n",
    "dob, sex = subject.Subject.fetch('subject_birth_date', 'sex')\n",
    "dob[:5]"
   ]
  },
  {
   "cell_type": "code",
   "execution_count": null,
   "metadata": {
    "execution": {
     "iopub.execute_input": "2022-05-05T06:59:25.937956Z",
     "iopub.status.busy": "2022-05-05T06:59:25.936957Z",
     "iopub.status.idle": "2022-05-05T06:59:26.259957Z",
     "shell.execute_reply": "2022-05-05T06:59:26.261956Z"
    }
   },
   "outputs": [],
   "source": [
    "info = subject.Subject.fetch('subject_birth_date', 'sex', as_dict=True)\n",
    "info[:5]"
   ]
  },
  {
   "cell_type": "markdown",
   "metadata": {},
   "source": [
    "### Fetch data from only one entry: `fetch1`"
   ]
  },
  {
   "cell_type": "code",
   "execution_count": null,
   "metadata": {
    "execution": {
     "iopub.execute_input": "2022-05-05T06:59:26.269957Z",
     "iopub.status.busy": "2022-05-05T06:59:26.268957Z",
     "iopub.status.idle": "2022-05-05T06:59:26.449957Z",
     "shell.execute_reply": "2022-05-05T06:59:26.448956Z"
    }
   },
   "outputs": [],
   "source": [
    "ibl_witten_10 = (subject.Subject & {'subject_nickname': 'ibl_witten_10'}).fetch1('KEY')"
   ]
  },
  {
   "cell_type": "code",
   "execution_count": null,
   "metadata": {
    "execution": {
     "iopub.execute_input": "2022-05-05T06:59:26.458956Z",
     "iopub.status.busy": "2022-05-05T06:59:26.457957Z",
     "iopub.status.idle": "2022-05-05T06:59:26.465956Z",
     "shell.execute_reply": "2022-05-05T06:59:26.466956Z"
    }
   },
   "outputs": [],
   "source": [
    "ibl_witten_10"
   ]
  },
  {
   "cell_type": "code",
   "execution_count": null,
   "metadata": {
    "execution": {
     "iopub.execute_input": "2022-05-05T06:59:26.474956Z",
     "iopub.status.busy": "2022-05-05T06:59:26.473956Z",
     "iopub.status.idle": "2022-05-05T06:59:26.610956Z",
     "shell.execute_reply": "2022-05-05T06:59:26.611956Z"
    }
   },
   "outputs": [],
   "source": [
    "IBL_10 = (subject.Subject & {'subject_nickname': 'IBL_10'}).fetch1()"
   ]
  },
  {
   "cell_type": "code",
   "execution_count": null,
   "metadata": {
    "execution": {
     "iopub.execute_input": "2022-05-05T06:59:26.620959Z",
     "iopub.status.busy": "2022-05-05T06:59:26.617957Z",
     "iopub.status.idle": "2022-05-05T06:59:26.626957Z",
     "shell.execute_reply": "2022-05-05T06:59:26.626957Z"
    }
   },
   "outputs": [],
   "source": [
    "IBL_10"
   ]
  }
 ],
 "metadata": {
  "docs_executed": "executed",
  "kernelspec": {
   "display_name": "Python 3",
   "language": "python",
   "name": "python3"
  },
  "language_info": {
   "codemirror_mode": {
    "name": "ipython",
    "version": 3
   },
   "file_extension": ".py",
   "mimetype": "text/x-python",
   "name": "python",
   "nbconvert_exporter": "python",
   "pygments_lexer": "ipython3",
   "version": "3.9.7"
  }
 },
 "nbformat": 4,
 "nbformat_minor": 2
}
